{
 "cells": [
  {
   "cell_type": "markdown",
   "metadata": {},
   "source": [
    "# Read Data"
   ]
  },
  {
   "cell_type": "code",
   "execution_count": 1,
   "metadata": {},
   "outputs": [],
   "source": [
    "#!pip install plotly_express\n",
    "#!pip install pandas \n",
    "#!pip instal imblearn\n",
    "#!pip install xgboost\n",
    "#!pip install lightgbm"
   ]
  },
  {
   "cell_type": "code",
   "execution_count": 110,
   "metadata": {},
   "outputs": [],
   "source": [
    "# import libraries\n",
    "import pandas as pd \n",
    "import plotly_express as px \n",
    "import json\n",
    "import joblib\n",
    "from imblearn.over_sampling import SMOTE\n",
    "from imblearn.pipeline import Pipeline, make_pipeline\n",
    "from sklearn.linear_model import LogisticRegression\n",
    "from sklearn.ensemble import RandomForestClassifier\n",
    "from sklearn.tree import DecisionTreeClassifier\n",
    "from sklearn import svm\n",
    "from sklearn.naive_bayes import GaussianNB\n",
    "from sklearn.neighbors import KNeighborsClassifier\n",
    "from sklearn.model_selection import cross_val_score, train_test_split\n",
    "from sklearn.preprocessing import StandardScaler, OrdinalEncoder, LabelEncoder\n",
    "from sklearn.metrics import f1_score, confusion_matrix, classification_report\n",
    "from sklearn.model_selection import GridSearchCV\n",
    "from xgboost import XGBClassifier\n",
    "import lightgbm\n"
   ]
  },
  {
   "cell_type": "code",
   "execution_count": 3,
   "metadata": {},
   "outputs": [
    {
     "name": "stdout",
     "output_type": "stream",
     "text": [
      "local\n"
     ]
    }
   ],
   "source": [
    "# first dataset\n",
    "try:\n",
    "    url1 = 'datasets/tinder.csv'\n",
    "    tinder = pd.read_csv(url1, on_bad_lines='skip')\n",
    "    print('local')\n",
    "except:\n",
    "    print('remote')\n",
    "    url1 = 'https://raw.githubusercontent.com/dataPracticum/code_pudding_v2/main/Tinder.csv'\n",
    "    tinder = pd.read_csv(url1, on_bad_lines='skip', names=['id', 'usage', 'university', 'answer', 'matches', 'percentage', 'relationship'])"
   ]
  },
  {
   "cell_type": "code",
   "execution_count": 4,
   "metadata": {},
   "outputs": [
    {
     "data": {
      "text/html": [
       "<div>\n",
       "<style scoped>\n",
       "    .dataframe tbody tr th:only-of-type {\n",
       "        vertical-align: middle;\n",
       "    }\n",
       "\n",
       "    .dataframe tbody tr th {\n",
       "        vertical-align: top;\n",
       "    }\n",
       "\n",
       "    .dataframe thead th {\n",
       "        text-align: right;\n",
       "    }\n",
       "</style>\n",
       "<table border=\"1\" class=\"dataframe\">\n",
       "  <thead>\n",
       "    <tr style=\"text-align: right;\">\n",
       "      <th></th>\n",
       "      <th>id</th>\n",
       "      <th>usage</th>\n",
       "      <th>university</th>\n",
       "      <th>answer</th>\n",
       "      <th>matches</th>\n",
       "      <th>percentage</th>\n",
       "      <th>relationship</th>\n",
       "    </tr>\n",
       "  </thead>\n",
       "  <tbody>\n",
       "    <tr>\n",
       "      <th>0</th>\n",
       "      <td>292890.8970</td>\n",
       "      <td>web</td>\n",
       "      <td>Meridian, Idaho</td>\n",
       "      <td>No</td>\n",
       "      <td>0.000000</td>\n",
       "      <td>0.000000</td>\n",
       "      <td>0</td>\n",
       "    </tr>\n",
       "    <tr>\n",
       "      <th>1</th>\n",
       "      <td>292887.9870</td>\n",
       "      <td>web</td>\n",
       "      <td>Meridian, Idaho</td>\n",
       "      <td>No</td>\n",
       "      <td>0.000000</td>\n",
       "      <td>0.000000</td>\n",
       "      <td>0</td>\n",
       "    </tr>\n",
       "    <tr>\n",
       "      <th>2</th>\n",
       "      <td>292894.0656</td>\n",
       "      <td>gender</td>\n",
       "      <td>Meridian, Idaho</td>\n",
       "      <td>No</td>\n",
       "      <td>499.173606</td>\n",
       "      <td>0.225255</td>\n",
       "      <td>0</td>\n",
       "    </tr>\n",
       "    <tr>\n",
       "      <th>3</th>\n",
       "      <td>292887.1180</td>\n",
       "      <td>web</td>\n",
       "      <td>Meridian, Idaho</td>\n",
       "      <td>No</td>\n",
       "      <td>0.000000</td>\n",
       "      <td>0.000000</td>\n",
       "      <td>0</td>\n",
       "    </tr>\n",
       "    <tr>\n",
       "      <th>4</th>\n",
       "      <td>292893.6561</td>\n",
       "      <td>gender</td>\n",
       "      <td>Meridian, Idaho</td>\n",
       "      <td>No</td>\n",
       "      <td>455.925963</td>\n",
       "      <td>0.211360</td>\n",
       "      <td>0</td>\n",
       "    </tr>\n",
       "  </tbody>\n",
       "</table>\n",
       "</div>"
      ],
      "text/plain": [
       "            id   usage       university answer     matches  percentage  \\\n",
       "0  292890.8970     web  Meridian, Idaho     No    0.000000    0.000000   \n",
       "1  292887.9870     web  Meridian, Idaho     No    0.000000    0.000000   \n",
       "2  292894.0656  gender  Meridian, Idaho     No  499.173606    0.225255   \n",
       "3  292887.1180     web  Meridian, Idaho     No    0.000000    0.000000   \n",
       "4  292893.6561  gender  Meridian, Idaho     No  455.925963    0.211360   \n",
       "\n",
       "   relationship  \n",
       "0             0  \n",
       "1             0  \n",
       "2             0  \n",
       "3             0  \n",
       "4             0  "
      ]
     },
     "execution_count": 4,
     "metadata": {},
     "output_type": "execute_result"
    }
   ],
   "source": [
    "tinder.head()"
   ]
  },
  {
   "cell_type": "code",
   "execution_count": 5,
   "metadata": {},
   "outputs": [],
   "source": [
    "# function to convert to json\n",
    "def convert_json(df):\n",
    "    df_json = df.to_json()\n",
    "    data = json.loads(df_json)\n",
    "    new_df = json.dumps(data, indent=2)\n",
    "    return print(new_df)"
   ]
  },
  {
   "cell_type": "code",
   "execution_count": 6,
   "metadata": {},
   "outputs": [],
   "source": [
    "# convert_json(tinder)"
   ]
  },
  {
   "cell_type": "markdown",
   "metadata": {},
   "source": [
    "# Introduction"
   ]
  },
  {
   "cell_type": "markdown",
   "metadata": {},
   "source": [
    "##### Data"
   ]
  },
  {
   "cell_type": "markdown",
   "metadata": {},
   "source": [
    "This mini dataset consists of questions answered by millennials from various universities based on their usage of Tinder app"
   ]
  },
  {
   "cell_type": "markdown",
   "metadata": {},
   "source": [
    "##### Background"
   ]
  },
  {
   "attachments": {},
   "cell_type": "markdown",
   "metadata": {},
   "source": [
    "Tinder is a popular dating app that allows users to create a profile and swipe through potential matches based on their location and personal preferences. Users can indicate their interest in a match by swiping right, or they can swipe left to pass. If two users both swipe right on each other, they are considered a match and can communicate with each other through the app's messaging system. Tinder's algorithm also takes into account factors such as mutual friends and common interests to suggest potential matches. The app is known for its simple and user-friendly interface, and it is available on both iOS and Android devices."
   ]
  },
  {
   "cell_type": "markdown",
   "metadata": {},
   "source": [
    "Tinder users are typically individuals who are looking for romantic or sexual connections with others. The app is used by a wide range of people, including singles of various ages, sexual orientations, and backgrounds. While the app has been criticized in the past for promoting superficiality and \"hookup culture,\" many users also report finding meaningful relationships through the platform. Tinder has a global user base, and the app is available in multiple languages. The demographics of Tinder users vary by location, but in general, the app tends to be popular among young adults aged 18 to 34."
   ]
  },
  {
   "attachments": {},
   "cell_type": "markdown",
   "metadata": {},
   "source": [
    "Men use dating apps like Tinder more frequently than women, with 75.8% of the US Tinder user base being male, according to Statista as of March 2021. Men tend to like a large proportion of the women they view but receive only a small fraction of matches in return. Women are more selective about swiping, match at a higher rate than men, and write longer messages. "
   ]
  },
  {
   "cell_type": "markdown",
   "metadata": {},
   "source": [
    "##### Tinder U"
   ]
  },
  {
   "attachments": {},
   "cell_type": "markdown",
   "metadata": {},
   "source": [
    "Tinder has seen significant success on college campuses, particularly in the United States, with a large proportion of its user base consisting of college students. The app's emphasis on swiping through potential matches based on appearance and proximity, as well as its ease of use and social integration, have made it popular among college students looking for casual relationships, hookups, or friendships. Tinder has also partnered with a number of universities to promote the app on campus and to provide special features and events for students, further cementing its popularity among this demographic. However, while Tinder has been successful at connecting college students, some studies suggest that its emphasis on physical appearance and casual dating may contribute to a culture of hookups and promiscuity on college campuses."
   ]
  },
  {
   "cell_type": "markdown",
   "metadata": {},
   "source": [
    "##### Criticism"
   ]
  },
  {
   "cell_type": "markdown",
   "metadata": {},
   "source": [
    "Apps like Tinder can give people the impression that there are an abundance of potential mates out there, leading to short-term dating and less satisfaction with partner choices. Prior to Tinder, most online dating services matched people based on autobiographical information, but Tinder places a higher weight on first impressions. "
   ]
  },
  {
   "cell_type": "markdown",
   "metadata": {},
   "source": [
    "On Tinder, the emphasis is often on casual dating and hookups, which may make it more difficult to find a long-term relationship. While there are certainly people who have met their partners on Tinder and formed meaningful relationships, the app's design and culture tend to prioritize superficial attraction and quick matches over getting to know someone on a deeper level.\n",
    "\n",
    "Non-Tinder methods of meeting people, such as through mutual friends, social events, or online dating sites that focus on long-term relationships, may offer a better chance of finding a compatible partner. These methods often provide more opportunities for getting to know someone's personality, values, and interests before deciding to pursue a relationship."
   ]
  },
  {
   "attachments": {},
   "cell_type": "markdown",
   "metadata": {},
   "source": [
    "In a study of Tinder users in New York City and London, men liked a large proportion of profiles but received returning likes only 0.6% of the time, while women were much more selective but received matches 10% of the time. By sending out questionnaires to frequent Tinder users, researchers discovered that men tend to like a large proportion of profiles they see to increase their chances of getting a match, leading to a feedback loop."
   ]
  },
  {
   "cell_type": "markdown",
   "metadata": {},
   "source": [
    "##### Comparisons"
   ]
  },
  {
   "cell_type": "markdown",
   "metadata": {},
   "source": [
    "Compared to other dating apps, Tinder has a larger user base and is more widely known. Other dating apps, such as Bumble and Hinge, have different features and target different audiences. Bumble requires women to make the first move and is marketed towards more serious relationships, while Hinge emphasizes users' interests and connections through mutual friends."
   ]
  },
  {
   "cell_type": "markdown",
   "metadata": {},
   "source": [
    "## Tinder"
   ]
  },
  {
   "cell_type": "code",
   "execution_count": 7,
   "metadata": {},
   "outputs": [
    {
     "data": {
      "text/html": [
       "<div>\n",
       "<style scoped>\n",
       "    .dataframe tbody tr th:only-of-type {\n",
       "        vertical-align: middle;\n",
       "    }\n",
       "\n",
       "    .dataframe tbody tr th {\n",
       "        vertical-align: top;\n",
       "    }\n",
       "\n",
       "    .dataframe thead th {\n",
       "        text-align: right;\n",
       "    }\n",
       "</style>\n",
       "<table border=\"1\" class=\"dataframe\">\n",
       "  <thead>\n",
       "    <tr style=\"text-align: right;\">\n",
       "      <th></th>\n",
       "      <th>id</th>\n",
       "      <th>usage</th>\n",
       "      <th>university</th>\n",
       "      <th>answer</th>\n",
       "      <th>matches</th>\n",
       "      <th>percentage</th>\n",
       "      <th>relationship</th>\n",
       "    </tr>\n",
       "  </thead>\n",
       "  <tbody>\n",
       "    <tr>\n",
       "      <th>0</th>\n",
       "      <td>292890.8970</td>\n",
       "      <td>web</td>\n",
       "      <td>Meridian, Idaho</td>\n",
       "      <td>No</td>\n",
       "      <td>0.000000</td>\n",
       "      <td>0.000000</td>\n",
       "      <td>0</td>\n",
       "    </tr>\n",
       "    <tr>\n",
       "      <th>1</th>\n",
       "      <td>292887.9870</td>\n",
       "      <td>web</td>\n",
       "      <td>Meridian, Idaho</td>\n",
       "      <td>No</td>\n",
       "      <td>0.000000</td>\n",
       "      <td>0.000000</td>\n",
       "      <td>0</td>\n",
       "    </tr>\n",
       "    <tr>\n",
       "      <th>2</th>\n",
       "      <td>292894.0656</td>\n",
       "      <td>gender</td>\n",
       "      <td>Meridian, Idaho</td>\n",
       "      <td>No</td>\n",
       "      <td>499.173606</td>\n",
       "      <td>0.225255</td>\n",
       "      <td>0</td>\n",
       "    </tr>\n",
       "    <tr>\n",
       "      <th>3</th>\n",
       "      <td>292887.1180</td>\n",
       "      <td>web</td>\n",
       "      <td>Meridian, Idaho</td>\n",
       "      <td>No</td>\n",
       "      <td>0.000000</td>\n",
       "      <td>0.000000</td>\n",
       "      <td>0</td>\n",
       "    </tr>\n",
       "    <tr>\n",
       "      <th>4</th>\n",
       "      <td>292893.6561</td>\n",
       "      <td>gender</td>\n",
       "      <td>Meridian, Idaho</td>\n",
       "      <td>No</td>\n",
       "      <td>455.925963</td>\n",
       "      <td>0.211360</td>\n",
       "      <td>0</td>\n",
       "    </tr>\n",
       "  </tbody>\n",
       "</table>\n",
       "</div>"
      ],
      "text/plain": [
       "            id   usage       university answer     matches  percentage  \\\n",
       "0  292890.8970     web  Meridian, Idaho     No    0.000000    0.000000   \n",
       "1  292887.9870     web  Meridian, Idaho     No    0.000000    0.000000   \n",
       "2  292894.0656  gender  Meridian, Idaho     No  499.173606    0.225255   \n",
       "3  292887.1180     web  Meridian, Idaho     No    0.000000    0.000000   \n",
       "4  292893.6561  gender  Meridian, Idaho     No  455.925963    0.211360   \n",
       "\n",
       "   relationship  \n",
       "0             0  \n",
       "1             0  \n",
       "2             0  \n",
       "3             0  \n",
       "4             0  "
      ]
     },
     "execution_count": 7,
     "metadata": {},
     "output_type": "execute_result"
    }
   ],
   "source": [
    "# look at data\n",
    "tinder.head()"
   ]
  },
  {
   "cell_type": "code",
   "execution_count": 8,
   "metadata": {},
   "outputs": [
    {
     "data": {
      "text/plain": [
       "id              0\n",
       "usage           0\n",
       "university      0\n",
       "answer          0\n",
       "matches         0\n",
       "percentage      0\n",
       "relationship    0\n",
       "dtype: int64"
      ]
     },
     "execution_count": 8,
     "metadata": {},
     "output_type": "execute_result"
    }
   ],
   "source": [
    "# missing values\n",
    "tinder.isna().sum()"
   ]
  },
  {
   "cell_type": "code",
   "execution_count": 9,
   "metadata": {},
   "outputs": [
    {
     "data": {
      "text/html": [
       "<div>\n",
       "<style scoped>\n",
       "    .dataframe tbody tr th:only-of-type {\n",
       "        vertical-align: middle;\n",
       "    }\n",
       "\n",
       "    .dataframe tbody tr th {\n",
       "        vertical-align: top;\n",
       "    }\n",
       "\n",
       "    .dataframe thead th {\n",
       "        text-align: right;\n",
       "    }\n",
       "</style>\n",
       "<table border=\"1\" class=\"dataframe\">\n",
       "  <thead>\n",
       "    <tr style=\"text-align: right;\">\n",
       "      <th></th>\n",
       "      <th>id</th>\n",
       "      <th>usage</th>\n",
       "      <th>university</th>\n",
       "      <th>answer</th>\n",
       "      <th>matches</th>\n",
       "      <th>percentage</th>\n",
       "      <th>relationship</th>\n",
       "    </tr>\n",
       "  </thead>\n",
       "  <tbody>\n",
       "    <tr>\n",
       "      <th>1295</th>\n",
       "      <td>292889.9062</td>\n",
       "      <td>web</td>\n",
       "      <td>Meridian, Idaho</td>\n",
       "      <td>No</td>\n",
       "      <td>0.0</td>\n",
       "      <td>0.0</td>\n",
       "      <td>0</td>\n",
       "    </tr>\n",
       "    <tr>\n",
       "      <th>1636</th>\n",
       "      <td>292887.7623</td>\n",
       "      <td>web</td>\n",
       "      <td>Meridian, Idaho</td>\n",
       "      <td>No</td>\n",
       "      <td>0.0</td>\n",
       "      <td>0.0</td>\n",
       "      <td>0</td>\n",
       "    </tr>\n",
       "  </tbody>\n",
       "</table>\n",
       "</div>"
      ],
      "text/plain": [
       "               id usage       university answer  matches  percentage  \\\n",
       "1295  292889.9062   web  Meridian, Idaho     No      0.0         0.0   \n",
       "1636  292887.7623   web  Meridian, Idaho     No      0.0         0.0   \n",
       "\n",
       "      relationship  \n",
       "1295             0  \n",
       "1636             0  "
      ]
     },
     "execution_count": 9,
     "metadata": {},
     "output_type": "execute_result"
    }
   ],
   "source": [
    "# looking for duplicates\n",
    "tinder[tinder.duplicated()]"
   ]
  },
  {
   "cell_type": "markdown",
   "metadata": {},
   "source": [
    "Different id's so they are not actually duplicates"
   ]
  },
  {
   "cell_type": "code",
   "execution_count": 10,
   "metadata": {},
   "outputs": [
    {
     "data": {
      "text/plain": [
       "No                    1571\n",
       "Yes                    164\n",
       "I don't use Tinder     161\n",
       "Name: answer, dtype: int64"
      ]
     },
     "execution_count": 10,
     "metadata": {},
     "output_type": "execute_result"
    }
   ],
   "source": [
    "# values of answer\n",
    "tinder.answer.value_counts()"
   ]
  },
  {
   "cell_type": "code",
   "execution_count": 11,
   "metadata": {},
   "outputs": [
    {
     "name": "stdout",
     "output_type": "stream",
     "text": [
      "<class 'pandas.core.frame.DataFrame'>\n",
      "RangeIndex: 1896 entries, 0 to 1895\n",
      "Data columns (total 7 columns):\n",
      " #   Column        Non-Null Count  Dtype  \n",
      "---  ------        --------------  -----  \n",
      " 0   id            1896 non-null   float64\n",
      " 1   usage         1896 non-null   object \n",
      " 2   university    1896 non-null   object \n",
      " 3   answer        1896 non-null   object \n",
      " 4   matches       1896 non-null   float64\n",
      " 5   percentage    1896 non-null   float64\n",
      " 6   relationship  1896 non-null   int64  \n",
      "dtypes: float64(3), int64(1), object(3)\n",
      "memory usage: 103.8+ KB\n"
     ]
    }
   ],
   "source": [
    "# tinder columns\n",
    "tinder.info()"
   ]
  },
  {
   "cell_type": "markdown",
   "metadata": {},
   "source": [
    "Tinder is a relatively small dataset with 1,896 values. Target value is relationship, where it determines whether the individual found a relationship using the app. We can use this data to run a ML model to predict wether an individual will get a relationship from Tinder. "
   ]
  },
  {
   "attachments": {},
   "cell_type": "markdown",
   "metadata": {},
   "source": [
    "Usage indicates the medium of usage, and Tinder has a mobile-based, web-based app as well as a separate feature called Tinder U. Not sure what Gender represents."
   ]
  },
  {
   "cell_type": "markdown",
   "metadata": {},
   "source": [
    "### EDA"
   ]
  },
  {
   "cell_type": "code",
   "execution_count": 12,
   "metadata": {},
   "outputs": [
    {
     "data": {
      "text/html": [
       "<div>\n",
       "<style scoped>\n",
       "    .dataframe tbody tr th:only-of-type {\n",
       "        vertical-align: middle;\n",
       "    }\n",
       "\n",
       "    .dataframe tbody tr th {\n",
       "        vertical-align: top;\n",
       "    }\n",
       "\n",
       "    .dataframe thead th {\n",
       "        text-align: right;\n",
       "    }\n",
       "</style>\n",
       "<table border=\"1\" class=\"dataframe\">\n",
       "  <thead>\n",
       "    <tr style=\"text-align: right;\">\n",
       "      <th></th>\n",
       "      <th>id</th>\n",
       "      <th>matches</th>\n",
       "      <th>percentage</th>\n",
       "      <th>relationship</th>\n",
       "    </tr>\n",
       "  </thead>\n",
       "  <tbody>\n",
       "    <tr>\n",
       "      <th>id</th>\n",
       "      <td>1.000000</td>\n",
       "      <td>-0.429790</td>\n",
       "      <td>0.164302</td>\n",
       "      <td>0.167766</td>\n",
       "    </tr>\n",
       "    <tr>\n",
       "      <th>matches</th>\n",
       "      <td>-0.429790</td>\n",
       "      <td>1.000000</td>\n",
       "      <td>0.412200</td>\n",
       "      <td>0.186139</td>\n",
       "    </tr>\n",
       "    <tr>\n",
       "      <th>percentage</th>\n",
       "      <td>0.164302</td>\n",
       "      <td>0.412200</td>\n",
       "      <td>1.000000</td>\n",
       "      <td>0.311429</td>\n",
       "    </tr>\n",
       "    <tr>\n",
       "      <th>relationship</th>\n",
       "      <td>0.167766</td>\n",
       "      <td>0.186139</td>\n",
       "      <td>0.311429</td>\n",
       "      <td>1.000000</td>\n",
       "    </tr>\n",
       "  </tbody>\n",
       "</table>\n",
       "</div>"
      ],
      "text/plain": [
       "                    id   matches  percentage  relationship\n",
       "id            1.000000 -0.429790    0.164302      0.167766\n",
       "matches      -0.429790  1.000000    0.412200      0.186139\n",
       "percentage    0.164302  0.412200    1.000000      0.311429\n",
       "relationship  0.167766  0.186139    0.311429      1.000000"
      ]
     },
     "execution_count": 12,
     "metadata": {},
     "output_type": "execute_result"
    }
   ],
   "source": [
    "# correlation\n",
    "tinder.corr()"
   ]
  },
  {
   "cell_type": "code",
   "execution_count": 13,
   "metadata": {},
   "outputs": [
    {
     "data": {
      "text/html": [
       "<div>\n",
       "<style scoped>\n",
       "    .dataframe tbody tr th:only-of-type {\n",
       "        vertical-align: middle;\n",
       "    }\n",
       "\n",
       "    .dataframe tbody tr th {\n",
       "        vertical-align: top;\n",
       "    }\n",
       "\n",
       "    .dataframe thead th {\n",
       "        text-align: right;\n",
       "    }\n",
       "</style>\n",
       "<table border=\"1\" class=\"dataframe\">\n",
       "  <thead>\n",
       "    <tr style=\"text-align: right;\">\n",
       "      <th></th>\n",
       "      <th>id</th>\n",
       "      <th>matches</th>\n",
       "      <th>percentage</th>\n",
       "      <th>relationship</th>\n",
       "    </tr>\n",
       "  </thead>\n",
       "  <tbody>\n",
       "    <tr>\n",
       "      <th>count</th>\n",
       "      <td>1896.000000</td>\n",
       "      <td>1896.000000</td>\n",
       "      <td>1896.000000</td>\n",
       "      <td>1896.000000</td>\n",
       "    </tr>\n",
       "    <tr>\n",
       "      <th>mean</th>\n",
       "      <td>292999.394750</td>\n",
       "      <td>446.881267</td>\n",
       "      <td>0.254098</td>\n",
       "      <td>0.350738</td>\n",
       "    </tr>\n",
       "    <tr>\n",
       "      <th>std</th>\n",
       "      <td>227.809806</td>\n",
       "      <td>494.110578</td>\n",
       "      <td>0.220809</td>\n",
       "      <td>0.477327</td>\n",
       "    </tr>\n",
       "    <tr>\n",
       "      <th>min</th>\n",
       "      <td>292881.000000</td>\n",
       "      <td>0.000000</td>\n",
       "      <td>0.000000</td>\n",
       "      <td>0.000000</td>\n",
       "    </tr>\n",
       "    <tr>\n",
       "      <th>25%</th>\n",
       "      <td>292888.196925</td>\n",
       "      <td>0.000000</td>\n",
       "      <td>0.000000</td>\n",
       "      <td>0.000000</td>\n",
       "    </tr>\n",
       "    <tr>\n",
       "      <th>50%</th>\n",
       "      <td>292893.904400</td>\n",
       "      <td>400.439633</td>\n",
       "      <td>0.257873</td>\n",
       "      <td>0.000000</td>\n",
       "    </tr>\n",
       "    <tr>\n",
       "      <th>75%</th>\n",
       "      <td>292902.568750</td>\n",
       "      <td>845.560798</td>\n",
       "      <td>0.396787</td>\n",
       "      <td>1.000000</td>\n",
       "    </tr>\n",
       "    <tr>\n",
       "      <th>max</th>\n",
       "      <td>293785.000000</td>\n",
       "      <td>1969.000000</td>\n",
       "      <td>1.000000</td>\n",
       "      <td>1.000000</td>\n",
       "    </tr>\n",
       "  </tbody>\n",
       "</table>\n",
       "</div>"
      ],
      "text/plain": [
       "                  id      matches   percentage  relationship\n",
       "count    1896.000000  1896.000000  1896.000000   1896.000000\n",
       "mean   292999.394750   446.881267     0.254098      0.350738\n",
       "std       227.809806   494.110578     0.220809      0.477327\n",
       "min    292881.000000     0.000000     0.000000      0.000000\n",
       "25%    292888.196925     0.000000     0.000000      0.000000\n",
       "50%    292893.904400   400.439633     0.257873      0.000000\n",
       "75%    292902.568750   845.560798     0.396787      1.000000\n",
       "max    293785.000000  1969.000000     1.000000      1.000000"
      ]
     },
     "execution_count": 13,
     "metadata": {},
     "output_type": "execute_result"
    }
   ],
   "source": [
    "# summary statistics\n",
    "tinder.describe()"
   ]
  },
  {
   "cell_type": "code",
   "execution_count": 14,
   "metadata": {},
   "outputs": [
    {
     "name": "stderr",
     "output_type": "stream",
     "text": [
      "C:\\Users\\XIX\\AppData\\Local\\Temp\\ipykernel_1864\\3200751176.py:2: FutureWarning: Dropping of nuisance columns in DataFrame reductions (with 'numeric_only=None') is deprecated; in a future version this will raise TypeError.  Select only valid columns before calling the reduction.\n",
      "  tinder.skew()\n"
     ]
    },
    {
     "data": {
      "text/plain": [
       "id              2.044382\n",
       "matches         0.716367\n",
       "percentage      0.816940\n",
       "relationship    0.626066\n",
       "dtype: float64"
      ]
     },
     "execution_count": 14,
     "metadata": {},
     "output_type": "execute_result"
    }
   ],
   "source": [
    "# Skew\n",
    "tinder.skew()"
   ]
  },
  {
   "cell_type": "code",
   "execution_count": 15,
   "metadata": {},
   "outputs": [
    {
     "data": {
      "text/plain": [
       "No                    1571\n",
       "Yes                    164\n",
       "I don't use Tinder     161\n",
       "Name: answer, dtype: int64"
      ]
     },
     "execution_count": 15,
     "metadata": {},
     "output_type": "execute_result"
    }
   ],
   "source": [
    "# answers to question: do you use tinder?\n",
    "tinder.answer.value_counts()"
   ]
  },
  {
   "cell_type": "code",
   "execution_count": 16,
   "metadata": {},
   "outputs": [],
   "source": [
    "# compile no answers\n",
    "tinder.answer.replace('I don\\'t use Tinder', 'No', inplace=True)"
   ]
  },
  {
   "cell_type": "code",
   "execution_count": 17,
   "metadata": {},
   "outputs": [
    {
     "data": {
      "text/plain": [
       "No     1732\n",
       "Yes     164\n",
       "Name: answer, dtype: int64"
      ]
     },
     "execution_count": 17,
     "metadata": {},
     "output_type": "execute_result"
    }
   ],
   "source": [
    "# answers to question: do you use tinder?\n",
    "tinder.answer.value_counts()"
   ]
  },
  {
   "cell_type": "code",
   "execution_count": 18,
   "metadata": {},
   "outputs": [
    {
     "data": {
      "text/plain": [
       "1    86\n",
       "0    78\n",
       "Name: relationship, dtype: int64"
      ]
     },
     "execution_count": 18,
     "metadata": {},
     "output_type": "execute_result"
    }
   ],
   "source": [
    "# use tinder and found relationship\n",
    "tinder[tinder.answer=='Yes'].relationship.value_counts()"
   ]
  },
  {
   "cell_type": "code",
   "execution_count": 19,
   "metadata": {},
   "outputs": [
    {
     "name": "stdout",
     "output_type": "stream",
     "text": [
      "52.4390243902439 %\n"
     ]
    }
   ],
   "source": [
    "# relationship found using tinder \n",
    "print(86/(86+78) * 100, '%')"
   ]
  },
  {
   "cell_type": "code",
   "execution_count": 20,
   "metadata": {},
   "outputs": [
    {
     "data": {
      "text/plain": [
       "0    1153\n",
       "1     579\n",
       "Name: relationship, dtype: int64"
      ]
     },
     "execution_count": 20,
     "metadata": {},
     "output_type": "execute_result"
    }
   ],
   "source": [
    "# dont use tinder\n",
    "tinder[tinder.answer=='No'].relationship.value_counts()"
   ]
  },
  {
   "cell_type": "code",
   "execution_count": 21,
   "metadata": {},
   "outputs": [
    {
     "name": "stdout",
     "output_type": "stream",
     "text": [
      "33.429561200923786 %\n"
     ]
    }
   ],
   "source": [
    "# relationship found not using tinder\n",
    "print(579/(1153+579) * 100, '%')"
   ]
  },
  {
   "cell_type": "code",
   "execution_count": 22,
   "metadata": {},
   "outputs": [],
   "source": [
    "# dataframe comparing relationship success\n",
    "data = {'category': ['Tinder', 'Not Tinder'], 'percentage':[52.44, 33.43]}\n",
    "comparison = pd.DataFrame(data)"
   ]
  },
  {
   "cell_type": "code",
   "execution_count": 23,
   "metadata": {},
   "outputs": [],
   "source": [
    "# convert_json(comparison)"
   ]
  },
  {
   "attachments": {},
   "cell_type": "markdown",
   "metadata": {},
   "source": [
    "##### Fig 1"
   ]
  },
  {
   "cell_type": "code",
   "execution_count": 24,
   "metadata": {},
   "outputs": [
    {
     "data": {
      "application/vnd.plotly.v1+json": {
       "config": {
        "plotlyServerURL": "https://plot.ly"
       },
       "data": [
        {
         "alignmentgroup": "True",
         "hovertemplate": "category=%{x}<br>percentage=%{y}<extra></extra>",
         "legendgroup": "Tinder",
         "marker": {
          "color": "#636efa",
          "pattern": {
           "shape": ""
          }
         },
         "name": "Tinder",
         "offsetgroup": "Tinder",
         "orientation": "v",
         "showlegend": true,
         "textposition": "auto",
         "type": "bar",
         "x": [
          "Tinder"
         ],
         "xaxis": "x",
         "y": [
          52.44
         ],
         "yaxis": "y"
        },
        {
         "alignmentgroup": "True",
         "hovertemplate": "category=%{x}<br>percentage=%{y}<extra></extra>",
         "legendgroup": "Not Tinder",
         "marker": {
          "color": "#EF553B",
          "pattern": {
           "shape": ""
          }
         },
         "name": "Not Tinder",
         "offsetgroup": "Not Tinder",
         "orientation": "v",
         "showlegend": true,
         "textposition": "auto",
         "type": "bar",
         "x": [
          "Not Tinder"
         ],
         "xaxis": "x",
         "y": [
          33.43
         ],
         "yaxis": "y"
        }
       ],
       "layout": {
        "barmode": "relative",
        "legend": {
         "title": {
          "text": "category"
         },
         "tracegroupgap": 0
        },
        "template": {
         "data": {
          "bar": [
           {
            "error_x": {
             "color": "#2a3f5f"
            },
            "error_y": {
             "color": "#2a3f5f"
            },
            "marker": {
             "line": {
              "color": "#E5ECF6",
              "width": 0.5
             },
             "pattern": {
              "fillmode": "overlay",
              "size": 10,
              "solidity": 0.2
             }
            },
            "type": "bar"
           }
          ],
          "barpolar": [
           {
            "marker": {
             "line": {
              "color": "#E5ECF6",
              "width": 0.5
             },
             "pattern": {
              "fillmode": "overlay",
              "size": 10,
              "solidity": 0.2
             }
            },
            "type": "barpolar"
           }
          ],
          "carpet": [
           {
            "aaxis": {
             "endlinecolor": "#2a3f5f",
             "gridcolor": "white",
             "linecolor": "white",
             "minorgridcolor": "white",
             "startlinecolor": "#2a3f5f"
            },
            "baxis": {
             "endlinecolor": "#2a3f5f",
             "gridcolor": "white",
             "linecolor": "white",
             "minorgridcolor": "white",
             "startlinecolor": "#2a3f5f"
            },
            "type": "carpet"
           }
          ],
          "choropleth": [
           {
            "colorbar": {
             "outlinewidth": 0,
             "ticks": ""
            },
            "type": "choropleth"
           }
          ],
          "contour": [
           {
            "colorbar": {
             "outlinewidth": 0,
             "ticks": ""
            },
            "colorscale": [
             [
              0,
              "#0d0887"
             ],
             [
              0.1111111111111111,
              "#46039f"
             ],
             [
              0.2222222222222222,
              "#7201a8"
             ],
             [
              0.3333333333333333,
              "#9c179e"
             ],
             [
              0.4444444444444444,
              "#bd3786"
             ],
             [
              0.5555555555555556,
              "#d8576b"
             ],
             [
              0.6666666666666666,
              "#ed7953"
             ],
             [
              0.7777777777777778,
              "#fb9f3a"
             ],
             [
              0.8888888888888888,
              "#fdca26"
             ],
             [
              1,
              "#f0f921"
             ]
            ],
            "type": "contour"
           }
          ],
          "contourcarpet": [
           {
            "colorbar": {
             "outlinewidth": 0,
             "ticks": ""
            },
            "type": "contourcarpet"
           }
          ],
          "heatmap": [
           {
            "colorbar": {
             "outlinewidth": 0,
             "ticks": ""
            },
            "colorscale": [
             [
              0,
              "#0d0887"
             ],
             [
              0.1111111111111111,
              "#46039f"
             ],
             [
              0.2222222222222222,
              "#7201a8"
             ],
             [
              0.3333333333333333,
              "#9c179e"
             ],
             [
              0.4444444444444444,
              "#bd3786"
             ],
             [
              0.5555555555555556,
              "#d8576b"
             ],
             [
              0.6666666666666666,
              "#ed7953"
             ],
             [
              0.7777777777777778,
              "#fb9f3a"
             ],
             [
              0.8888888888888888,
              "#fdca26"
             ],
             [
              1,
              "#f0f921"
             ]
            ],
            "type": "heatmap"
           }
          ],
          "heatmapgl": [
           {
            "colorbar": {
             "outlinewidth": 0,
             "ticks": ""
            },
            "colorscale": [
             [
              0,
              "#0d0887"
             ],
             [
              0.1111111111111111,
              "#46039f"
             ],
             [
              0.2222222222222222,
              "#7201a8"
             ],
             [
              0.3333333333333333,
              "#9c179e"
             ],
             [
              0.4444444444444444,
              "#bd3786"
             ],
             [
              0.5555555555555556,
              "#d8576b"
             ],
             [
              0.6666666666666666,
              "#ed7953"
             ],
             [
              0.7777777777777778,
              "#fb9f3a"
             ],
             [
              0.8888888888888888,
              "#fdca26"
             ],
             [
              1,
              "#f0f921"
             ]
            ],
            "type": "heatmapgl"
           }
          ],
          "histogram": [
           {
            "marker": {
             "pattern": {
              "fillmode": "overlay",
              "size": 10,
              "solidity": 0.2
             }
            },
            "type": "histogram"
           }
          ],
          "histogram2d": [
           {
            "colorbar": {
             "outlinewidth": 0,
             "ticks": ""
            },
            "colorscale": [
             [
              0,
              "#0d0887"
             ],
             [
              0.1111111111111111,
              "#46039f"
             ],
             [
              0.2222222222222222,
              "#7201a8"
             ],
             [
              0.3333333333333333,
              "#9c179e"
             ],
             [
              0.4444444444444444,
              "#bd3786"
             ],
             [
              0.5555555555555556,
              "#d8576b"
             ],
             [
              0.6666666666666666,
              "#ed7953"
             ],
             [
              0.7777777777777778,
              "#fb9f3a"
             ],
             [
              0.8888888888888888,
              "#fdca26"
             ],
             [
              1,
              "#f0f921"
             ]
            ],
            "type": "histogram2d"
           }
          ],
          "histogram2dcontour": [
           {
            "colorbar": {
             "outlinewidth": 0,
             "ticks": ""
            },
            "colorscale": [
             [
              0,
              "#0d0887"
             ],
             [
              0.1111111111111111,
              "#46039f"
             ],
             [
              0.2222222222222222,
              "#7201a8"
             ],
             [
              0.3333333333333333,
              "#9c179e"
             ],
             [
              0.4444444444444444,
              "#bd3786"
             ],
             [
              0.5555555555555556,
              "#d8576b"
             ],
             [
              0.6666666666666666,
              "#ed7953"
             ],
             [
              0.7777777777777778,
              "#fb9f3a"
             ],
             [
              0.8888888888888888,
              "#fdca26"
             ],
             [
              1,
              "#f0f921"
             ]
            ],
            "type": "histogram2dcontour"
           }
          ],
          "mesh3d": [
           {
            "colorbar": {
             "outlinewidth": 0,
             "ticks": ""
            },
            "type": "mesh3d"
           }
          ],
          "parcoords": [
           {
            "line": {
             "colorbar": {
              "outlinewidth": 0,
              "ticks": ""
             }
            },
            "type": "parcoords"
           }
          ],
          "pie": [
           {
            "automargin": true,
            "type": "pie"
           }
          ],
          "scatter": [
           {
            "marker": {
             "colorbar": {
              "outlinewidth": 0,
              "ticks": ""
             }
            },
            "type": "scatter"
           }
          ],
          "scatter3d": [
           {
            "line": {
             "colorbar": {
              "outlinewidth": 0,
              "ticks": ""
             }
            },
            "marker": {
             "colorbar": {
              "outlinewidth": 0,
              "ticks": ""
             }
            },
            "type": "scatter3d"
           }
          ],
          "scattercarpet": [
           {
            "marker": {
             "colorbar": {
              "outlinewidth": 0,
              "ticks": ""
             }
            },
            "type": "scattercarpet"
           }
          ],
          "scattergeo": [
           {
            "marker": {
             "colorbar": {
              "outlinewidth": 0,
              "ticks": ""
             }
            },
            "type": "scattergeo"
           }
          ],
          "scattergl": [
           {
            "marker": {
             "colorbar": {
              "outlinewidth": 0,
              "ticks": ""
             }
            },
            "type": "scattergl"
           }
          ],
          "scattermapbox": [
           {
            "marker": {
             "colorbar": {
              "outlinewidth": 0,
              "ticks": ""
             }
            },
            "type": "scattermapbox"
           }
          ],
          "scatterpolar": [
           {
            "marker": {
             "colorbar": {
              "outlinewidth": 0,
              "ticks": ""
             }
            },
            "type": "scatterpolar"
           }
          ],
          "scatterpolargl": [
           {
            "marker": {
             "colorbar": {
              "outlinewidth": 0,
              "ticks": ""
             }
            },
            "type": "scatterpolargl"
           }
          ],
          "scatterternary": [
           {
            "marker": {
             "colorbar": {
              "outlinewidth": 0,
              "ticks": ""
             }
            },
            "type": "scatterternary"
           }
          ],
          "surface": [
           {
            "colorbar": {
             "outlinewidth": 0,
             "ticks": ""
            },
            "colorscale": [
             [
              0,
              "#0d0887"
             ],
             [
              0.1111111111111111,
              "#46039f"
             ],
             [
              0.2222222222222222,
              "#7201a8"
             ],
             [
              0.3333333333333333,
              "#9c179e"
             ],
             [
              0.4444444444444444,
              "#bd3786"
             ],
             [
              0.5555555555555556,
              "#d8576b"
             ],
             [
              0.6666666666666666,
              "#ed7953"
             ],
             [
              0.7777777777777778,
              "#fb9f3a"
             ],
             [
              0.8888888888888888,
              "#fdca26"
             ],
             [
              1,
              "#f0f921"
             ]
            ],
            "type": "surface"
           }
          ],
          "table": [
           {
            "cells": {
             "fill": {
              "color": "#EBF0F8"
             },
             "line": {
              "color": "white"
             }
            },
            "header": {
             "fill": {
              "color": "#C8D4E3"
             },
             "line": {
              "color": "white"
             }
            },
            "type": "table"
           }
          ]
         },
         "layout": {
          "annotationdefaults": {
           "arrowcolor": "#2a3f5f",
           "arrowhead": 0,
           "arrowwidth": 1
          },
          "autotypenumbers": "strict",
          "coloraxis": {
           "colorbar": {
            "outlinewidth": 0,
            "ticks": ""
           }
          },
          "colorscale": {
           "diverging": [
            [
             0,
             "#8e0152"
            ],
            [
             0.1,
             "#c51b7d"
            ],
            [
             0.2,
             "#de77ae"
            ],
            [
             0.3,
             "#f1b6da"
            ],
            [
             0.4,
             "#fde0ef"
            ],
            [
             0.5,
             "#f7f7f7"
            ],
            [
             0.6,
             "#e6f5d0"
            ],
            [
             0.7,
             "#b8e186"
            ],
            [
             0.8,
             "#7fbc41"
            ],
            [
             0.9,
             "#4d9221"
            ],
            [
             1,
             "#276419"
            ]
           ],
           "sequential": [
            [
             0,
             "#0d0887"
            ],
            [
             0.1111111111111111,
             "#46039f"
            ],
            [
             0.2222222222222222,
             "#7201a8"
            ],
            [
             0.3333333333333333,
             "#9c179e"
            ],
            [
             0.4444444444444444,
             "#bd3786"
            ],
            [
             0.5555555555555556,
             "#d8576b"
            ],
            [
             0.6666666666666666,
             "#ed7953"
            ],
            [
             0.7777777777777778,
             "#fb9f3a"
            ],
            [
             0.8888888888888888,
             "#fdca26"
            ],
            [
             1,
             "#f0f921"
            ]
           ],
           "sequentialminus": [
            [
             0,
             "#0d0887"
            ],
            [
             0.1111111111111111,
             "#46039f"
            ],
            [
             0.2222222222222222,
             "#7201a8"
            ],
            [
             0.3333333333333333,
             "#9c179e"
            ],
            [
             0.4444444444444444,
             "#bd3786"
            ],
            [
             0.5555555555555556,
             "#d8576b"
            ],
            [
             0.6666666666666666,
             "#ed7953"
            ],
            [
             0.7777777777777778,
             "#fb9f3a"
            ],
            [
             0.8888888888888888,
             "#fdca26"
            ],
            [
             1,
             "#f0f921"
            ]
           ]
          },
          "colorway": [
           "#636efa",
           "#EF553B",
           "#00cc96",
           "#ab63fa",
           "#FFA15A",
           "#19d3f3",
           "#FF6692",
           "#B6E880",
           "#FF97FF",
           "#FECB52"
          ],
          "font": {
           "color": "#2a3f5f"
          },
          "geo": {
           "bgcolor": "white",
           "lakecolor": "white",
           "landcolor": "#E5ECF6",
           "showlakes": true,
           "showland": true,
           "subunitcolor": "white"
          },
          "hoverlabel": {
           "align": "left"
          },
          "hovermode": "closest",
          "mapbox": {
           "style": "light"
          },
          "paper_bgcolor": "white",
          "plot_bgcolor": "#E5ECF6",
          "polar": {
           "angularaxis": {
            "gridcolor": "white",
            "linecolor": "white",
            "ticks": ""
           },
           "bgcolor": "#E5ECF6",
           "radialaxis": {
            "gridcolor": "white",
            "linecolor": "white",
            "ticks": ""
           }
          },
          "scene": {
           "xaxis": {
            "backgroundcolor": "#E5ECF6",
            "gridcolor": "white",
            "gridwidth": 2,
            "linecolor": "white",
            "showbackground": true,
            "ticks": "",
            "zerolinecolor": "white"
           },
           "yaxis": {
            "backgroundcolor": "#E5ECF6",
            "gridcolor": "white",
            "gridwidth": 2,
            "linecolor": "white",
            "showbackground": true,
            "ticks": "",
            "zerolinecolor": "white"
           },
           "zaxis": {
            "backgroundcolor": "#E5ECF6",
            "gridcolor": "white",
            "gridwidth": 2,
            "linecolor": "white",
            "showbackground": true,
            "ticks": "",
            "zerolinecolor": "white"
           }
          },
          "shapedefaults": {
           "line": {
            "color": "#2a3f5f"
           }
          },
          "ternary": {
           "aaxis": {
            "gridcolor": "white",
            "linecolor": "white",
            "ticks": ""
           },
           "baxis": {
            "gridcolor": "white",
            "linecolor": "white",
            "ticks": ""
           },
           "bgcolor": "#E5ECF6",
           "caxis": {
            "gridcolor": "white",
            "linecolor": "white",
            "ticks": ""
           }
          },
          "title": {
           "x": 0.05
          },
          "xaxis": {
           "automargin": true,
           "gridcolor": "white",
           "linecolor": "white",
           "ticks": "",
           "title": {
            "standoff": 15
           },
           "zerolinecolor": "white",
           "zerolinewidth": 2
          },
          "yaxis": {
           "automargin": true,
           "gridcolor": "white",
           "linecolor": "white",
           "ticks": "",
           "title": {
            "standoff": 15
           },
           "zerolinecolor": "white",
           "zerolinewidth": 2
          }
         }
        },
        "title": {
         "text": "Relationship Success Rates"
        },
        "xaxis": {
         "anchor": "y",
         "categoryarray": [
          "Tinder",
          "Not Tinder"
         ],
         "categoryorder": "array",
         "domain": [
          0,
          1
         ],
         "title": {
          "text": "category"
         }
        },
        "yaxis": {
         "anchor": "x",
         "domain": [
          0,
          1
         ],
         "title": {
          "text": "percentage"
         }
        }
       }
      }
     },
     "metadata": {},
     "output_type": "display_data"
    }
   ],
   "source": [
    "fig1 = px.bar(comparison, x='category', y='percentage', color='category', title='Relationship Success Rates')\n",
    "fig1"
   ]
  },
  {
   "cell_type": "markdown",
   "metadata": {},
   "source": [
    "##### Fig 1 Description"
   ]
  },
  {
   "attachments": {},
   "cell_type": "markdown",
   "metadata": {},
   "source": [
    "According to the data, Tinder has a higher success rate, compared to non tinder users. Tinder users find a relationship in 52% of cases, while those that do not use tinder find a relationship in only 33% of cases. "
   ]
  },
  {
   "cell_type": "code",
   "execution_count": 25,
   "metadata": {},
   "outputs": [],
   "source": [
    "# fig1.write_html('HTML/fig1.html')"
   ]
  },
  {
   "cell_type": "code",
   "execution_count": 26,
   "metadata": {},
   "outputs": [],
   "source": [
    "# convert_json(px.bar(comparison, x='category', y='percentage', color='category', title='Relationship Success Rates'))"
   ]
  },
  {
   "cell_type": "code",
   "execution_count": 27,
   "metadata": {},
   "outputs": [
    {
     "data": {
      "text/plain": [
       "Meridian, Idaho                       1421\n",
       "Westport, CT                            14\n",
       "University of Pennsylvania              12\n",
       "University of Mississippi               10\n",
       "University of Washington                10\n",
       "                                      ... \n",
       "Boston College                           1\n",
       "Southern Methodist University            1\n",
       "Mississippi State University             1\n",
       "Washington University in St. Louis       1\n",
       "North Carolina State                     1\n",
       "Name: university, Length: 148, dtype: int64"
      ]
     },
     "execution_count": 27,
     "metadata": {},
     "output_type": "execute_result"
    }
   ],
   "source": [
    "# university names\n",
    "tinder.university.value_counts()"
   ]
  },
  {
   "cell_type": "code",
   "execution_count": 28,
   "metadata": {},
   "outputs": [
    {
     "data": {
      "text/plain": [
       "gender        488\n",
       "mobile        483\n",
       "university    464\n",
       "web           461\n",
       "Name: usage, dtype: int64"
      ]
     },
     "execution_count": 28,
     "metadata": {},
     "output_type": "execute_result"
    }
   ],
   "source": [
    "# medium of usage\n",
    "tinder.usage.value_counts()"
   ]
  },
  {
   "cell_type": "code",
   "execution_count": 29,
   "metadata": {},
   "outputs": [
    {
     "data": {
      "text/plain": [
       "0    1231\n",
       "1     665\n",
       "Name: relationship, dtype: int64"
      ]
     },
     "execution_count": 29,
     "metadata": {},
     "output_type": "execute_result"
    }
   ],
   "source": [
    "# target values\n",
    "tinder.relationship.value_counts()"
   ]
  },
  {
   "cell_type": "markdown",
   "metadata": {},
   "source": [
    "##### Fig 2"
   ]
  },
  {
   "cell_type": "code",
   "execution_count": 30,
   "metadata": {},
   "outputs": [],
   "source": [
    "# convert_json(tinder.answer.value_counts())"
   ]
  },
  {
   "cell_type": "code",
   "execution_count": 31,
   "metadata": {},
   "outputs": [
    {
     "data": {
      "application/vnd.plotly.v1+json": {
       "config": {
        "plotlyServerURL": "https://plot.ly"
       },
       "data": [
        {
         "domain": {
          "x": [
           0,
           1
          ],
          "y": [
           0,
           1
          ]
         },
         "hovertemplate": "answer=%{label}<extra></extra>",
         "labels": [
          "No",
          "No",
          "No",
          "No",
          "No",
          "No",
          "No",
          "Yes",
          "No",
          "No",
          "No",
          "No",
          "No",
          "No",
          "No",
          "No",
          "No",
          "No",
          "No",
          "Yes",
          "No",
          "No",
          "No",
          "No",
          "No",
          "No",
          "No",
          "No",
          "No",
          "No",
          "Yes",
          "No",
          "No",
          "No",
          "No",
          "No",
          "No",
          "Yes",
          "No",
          "No",
          "No",
          "No",
          "No",
          "No",
          "No",
          "Yes",
          "No",
          "Yes",
          "No",
          "No",
          "No",
          "No",
          "No",
          "No",
          "No",
          "No",
          "No",
          "Yes",
          "No",
          "No",
          "No",
          "No",
          "No",
          "No",
          "No",
          "No",
          "No",
          "No",
          "No",
          "No",
          "No",
          "No",
          "Yes",
          "No",
          "No",
          "No",
          "No",
          "No",
          "No",
          "No",
          "No",
          "No",
          "No",
          "No",
          "No",
          "No",
          "No",
          "Yes",
          "No",
          "No",
          "No",
          "No",
          "No",
          "No",
          "No",
          "No",
          "No",
          "Yes",
          "No",
          "No",
          "No",
          "No",
          "No",
          "No",
          "No",
          "No",
          "No",
          "No",
          "No",
          "No",
          "No",
          "No",
          "No",
          "No",
          "No",
          "No",
          "No",
          "No",
          "No",
          "No",
          "No",
          "No",
          "No",
          "No",
          "No",
          "No",
          "No",
          "Yes",
          "No",
          "No",
          "No",
          "No",
          "No",
          "No",
          "No",
          "No",
          "No",
          "No",
          "Yes",
          "No",
          "No",
          "No",
          "No",
          "No",
          "No",
          "No",
          "No",
          "No",
          "Yes",
          "No",
          "No",
          "No",
          "No",
          "Yes",
          "No",
          "No",
          "No",
          "No",
          "No",
          "No",
          "Yes",
          "Yes",
          "No",
          "No",
          "No",
          "No",
          "No",
          "No",
          "No",
          "No",
          "No",
          "No",
          "No",
          "No",
          "No",
          "No",
          "No",
          "No",
          "Yes",
          "No",
          "No",
          "No",
          "No",
          "No",
          "No",
          "No",
          "Yes",
          "No",
          "Yes",
          "No",
          "No",
          "No",
          "No",
          "No",
          "No",
          "No",
          "No",
          "No",
          "No",
          "No",
          "No",
          "No",
          "No",
          "No",
          "No",
          "No",
          "No",
          "No",
          "No",
          "No",
          "No",
          "No",
          "No",
          "No",
          "No",
          "No",
          "No",
          "No",
          "No",
          "No",
          "No",
          "No",
          "No",
          "No",
          "No",
          "No",
          "No",
          "No",
          "No",
          "No",
          "No",
          "No",
          "No",
          "Yes",
          "No",
          "No",
          "No",
          "No",
          "No",
          "No",
          "No",
          "No",
          "No",
          "No",
          "No",
          "No",
          "No",
          "Yes",
          "No",
          "No",
          "No",
          "No",
          "No",
          "No",
          "No",
          "No",
          "No",
          "No",
          "No",
          "No",
          "No",
          "No",
          "No",
          "No",
          "No",
          "No",
          "No",
          "No",
          "No",
          "No",
          "No",
          "No",
          "No",
          "No",
          "No",
          "No",
          "No",
          "No",
          "No",
          "No",
          "No",
          "No",
          "No",
          "No",
          "No",
          "No",
          "Yes",
          "No",
          "No",
          "No",
          "No",
          "No",
          "No",
          "No",
          "No",
          "No",
          "No",
          "No",
          "No",
          "No",
          "No",
          "No",
          "No",
          "No",
          "No",
          "No",
          "No",
          "Yes",
          "No",
          "No",
          "No",
          "No",
          "No",
          "No",
          "No",
          "No",
          "No",
          "No",
          "No",
          "Yes",
          "No",
          "No",
          "No",
          "No",
          "No",
          "No",
          "No",
          "No",
          "No",
          "No",
          "No",
          "No",
          "No",
          "No",
          "No",
          "No",
          "Yes",
          "No",
          "No",
          "No",
          "No",
          "No",
          "No",
          "No",
          "No",
          "No",
          "No",
          "No",
          "No",
          "No",
          "No",
          "Yes",
          "No",
          "No",
          "No",
          "No",
          "No",
          "No",
          "No",
          "Yes",
          "Yes",
          "No",
          "No",
          "Yes",
          "No",
          "No",
          "No",
          "No",
          "Yes",
          "No",
          "No",
          "No",
          "No",
          "No",
          "No",
          "No",
          "No",
          "No",
          "No",
          "No",
          "No",
          "No",
          "No",
          "No",
          "No",
          "No",
          "No",
          "No",
          "No",
          "No",
          "Yes",
          "No",
          "No",
          "No",
          "Yes",
          "No",
          "No",
          "No",
          "No",
          "No",
          "No",
          "No",
          "No",
          "No",
          "No",
          "No",
          "No",
          "No",
          "No",
          "No",
          "No",
          "No",
          "No",
          "Yes",
          "No",
          "No",
          "No",
          "No",
          "Yes",
          "No",
          "Yes",
          "No",
          "No",
          "No",
          "No",
          "No",
          "No",
          "No",
          "No",
          "No",
          "Yes",
          "No",
          "No",
          "No",
          "No",
          "No",
          "No",
          "No",
          "No",
          "No",
          "No",
          "No",
          "No",
          "No",
          "No",
          "Yes",
          "No",
          "Yes",
          "Yes",
          "No",
          "No",
          "No",
          "Yes",
          "No",
          "Yes",
          "No",
          "No",
          "No",
          "No",
          "No",
          "No",
          "No",
          "No",
          "No",
          "No",
          "No",
          "No",
          "No",
          "No",
          "No",
          "No",
          "No",
          "No",
          "No",
          "No",
          "Yes",
          "No",
          "No",
          "No",
          "No",
          "No",
          "No",
          "No",
          "Yes",
          "No",
          "No",
          "No",
          "No",
          "No",
          "No",
          "No",
          "No",
          "No",
          "No",
          "No",
          "Yes",
          "No",
          "No",
          "No",
          "No",
          "No",
          "No",
          "No",
          "No",
          "No",
          "No",
          "No",
          "No",
          "No",
          "Yes",
          "No",
          "No",
          "No",
          "No",
          "No",
          "No",
          "No",
          "No",
          "No",
          "No",
          "No",
          "No",
          "No",
          "No",
          "Yes",
          "No",
          "No",
          "No",
          "No",
          "Yes",
          "No",
          "No",
          "No",
          "No",
          "No",
          "No",
          "No",
          "No",
          "No",
          "Yes",
          "No",
          "No",
          "No",
          "No",
          "No",
          "No",
          "No",
          "No",
          "No",
          "No",
          "No",
          "No",
          "No",
          "No",
          "No",
          "No",
          "No",
          "No",
          "No",
          "No",
          "No",
          "No",
          "No",
          "No",
          "No",
          "No",
          "No",
          "No",
          "No",
          "No",
          "No",
          "No",
          "No",
          "No",
          "No",
          "No",
          "No",
          "No",
          "No",
          "No",
          "No",
          "No",
          "No",
          "No",
          "No",
          "No",
          "Yes",
          "No",
          "No",
          "No",
          "No",
          "Yes",
          "No",
          "No",
          "No",
          "No",
          "No",
          "No",
          "No",
          "Yes",
          "No",
          "No",
          "No",
          "Yes",
          "No",
          "No",
          "No",
          "No",
          "No",
          "No",
          "No",
          "Yes",
          "No",
          "No",
          "No",
          "No",
          "No",
          "No",
          "No",
          "No",
          "No",
          "No",
          "No",
          "No",
          "No",
          "No",
          "No",
          "No",
          "Yes",
          "No",
          "No",
          "No",
          "No",
          "No",
          "Yes",
          "No",
          "No",
          "No",
          "No",
          "No",
          "No",
          "No",
          "No",
          "No",
          "No",
          "No",
          "No",
          "No",
          "No",
          "No",
          "No",
          "No",
          "Yes",
          "No",
          "No",
          "No",
          "No",
          "No",
          "No",
          "No",
          "No",
          "No",
          "No",
          "No",
          "No",
          "No",
          "No",
          "No",
          "No",
          "No",
          "No",
          "No",
          "No",
          "No",
          "No",
          "No",
          "No",
          "No",
          "No",
          "No",
          "No",
          "Yes",
          "Yes",
          "No",
          "No",
          "No",
          "No",
          "No",
          "No",
          "No",
          "No",
          "No",
          "No",
          "No",
          "No",
          "No",
          "No",
          "No",
          "Yes",
          "Yes",
          "No",
          "No",
          "No",
          "No",
          "No",
          "No",
          "No",
          "No",
          "No",
          "No",
          "Yes",
          "No",
          "No",
          "No",
          "No",
          "Yes",
          "No",
          "No",
          "No",
          "No",
          "No",
          "No",
          "No",
          "No",
          "No",
          "No",
          "No",
          "No",
          "No",
          "No",
          "Yes",
          "No",
          "No",
          "No",
          "No",
          "Yes",
          "No",
          "No",
          "No",
          "No",
          "No",
          "No",
          "No",
          "No",
          "No",
          "No",
          "No",
          "Yes",
          "No",
          "No",
          "No",
          "No",
          "No",
          "No",
          "No",
          "No",
          "No",
          "No",
          "No",
          "No",
          "No",
          "No",
          "No",
          "No",
          "No",
          "No",
          "No",
          "No",
          "No",
          "No",
          "No",
          "No",
          "No",
          "No",
          "No",
          "No",
          "No",
          "No",
          "No",
          "No",
          "No",
          "No",
          "No",
          "No",
          "No",
          "No",
          "No",
          "No",
          "No",
          "No",
          "No",
          "No",
          "No",
          "No",
          "No",
          "No",
          "No",
          "Yes",
          "No",
          "No",
          "No",
          "No",
          "Yes",
          "No",
          "No",
          "No",
          "No",
          "No",
          "No",
          "No",
          "No",
          "No",
          "No",
          "Yes",
          "No",
          "No",
          "No",
          "No",
          "No",
          "No",
          "No",
          "No",
          "No",
          "No",
          "No",
          "No",
          "No",
          "Yes",
          "No",
          "No",
          "No",
          "No",
          "No",
          "No",
          "No",
          "No",
          "Yes",
          "No",
          "No",
          "No",
          "No",
          "No",
          "No",
          "No",
          "No",
          "No",
          "No",
          "No",
          "No",
          "No",
          "No",
          "No",
          "No",
          "Yes",
          "No",
          "No",
          "Yes",
          "No",
          "Yes",
          "No",
          "No",
          "No",
          "No",
          "No",
          "No",
          "No",
          "Yes",
          "No",
          "No",
          "Yes",
          "No",
          "No",
          "Yes",
          "No",
          "Yes",
          "No",
          "No",
          "No",
          "No",
          "No",
          "No",
          "No",
          "No",
          "No",
          "No",
          "No",
          "No",
          "No",
          "No",
          "No",
          "No",
          "No",
          "No",
          "Yes",
          "No",
          "No",
          "No",
          "No",
          "No",
          "No",
          "No",
          "No",
          "No",
          "No",
          "No",
          "No",
          "No",
          "No",
          "No",
          "No",
          "No",
          "Yes",
          "No",
          "No",
          "No",
          "No",
          "No",
          "No",
          "No",
          "No",
          "No",
          "No",
          "No",
          "No",
          "No",
          "No",
          "No",
          "No",
          "No",
          "No",
          "No",
          "No",
          "No",
          "No",
          "No",
          "No",
          "No",
          "No",
          "No",
          "Yes",
          "No",
          "No",
          "No",
          "No",
          "No",
          "No",
          "No",
          "No",
          "No",
          "Yes",
          "No",
          "No",
          "No",
          "No",
          "No",
          "No",
          "Yes",
          "No",
          "No",
          "No",
          "No",
          "No",
          "No",
          "No",
          "No",
          "No",
          "No",
          "No",
          "No",
          "No",
          "No",
          "No",
          "No",
          "No",
          "No",
          "No",
          "Yes",
          "No",
          "No",
          "No",
          "No",
          "No",
          "No",
          "No",
          "No",
          "Yes",
          "No",
          "No",
          "No",
          "No",
          "No",
          "No",
          "No",
          "No",
          "No",
          "No",
          "No",
          "No",
          "No",
          "No",
          "No",
          "No",
          "No",
          "No",
          "No",
          "No",
          "No",
          "No",
          "No",
          "Yes",
          "No",
          "No",
          "No",
          "No",
          "No",
          "Yes",
          "No",
          "No",
          "Yes",
          "No",
          "No",
          "No",
          "No",
          "No",
          "No",
          "No",
          "No",
          "Yes",
          "No",
          "No",
          "No",
          "No",
          "Yes",
          "No",
          "No",
          "Yes",
          "No",
          "No",
          "No",
          "No",
          "Yes",
          "No",
          "No",
          "No",
          "No",
          "No",
          "No",
          "No",
          "No",
          "No",
          "No",
          "No",
          "No",
          "No",
          "No",
          "Yes",
          "No",
          "No",
          "No",
          "No",
          "No",
          "No",
          "No",
          "No",
          "Yes",
          "Yes",
          "No",
          "No",
          "No",
          "No",
          "No",
          "No",
          "No",
          "No",
          "No",
          "No",
          "No",
          "No",
          "No",
          "No",
          "No",
          "No",
          "No",
          "No",
          "No",
          "Yes",
          "No",
          "Yes",
          "No",
          "No",
          "No",
          "No",
          "Yes",
          "No",
          "No",
          "No",
          "No",
          "No",
          "No",
          "No",
          "No",
          "No",
          "No",
          "Yes",
          "No",
          "Yes",
          "No",
          "No",
          "No",
          "No",
          "Yes",
          "No",
          "No",
          "No",
          "No",
          "No",
          "No",
          "No",
          "No",
          "No",
          "No",
          "No",
          "No",
          "No",
          "No",
          "No",
          "No",
          "No",
          "No",
          "No",
          "No",
          "No",
          "No",
          "No",
          "No",
          "No",
          "Yes",
          "No",
          "No",
          "No",
          "No",
          "No",
          "No",
          "No",
          "Yes",
          "No",
          "No",
          "No",
          "No",
          "No",
          "No",
          "No",
          "No",
          "No",
          "No",
          "No",
          "No",
          "No",
          "No",
          "No",
          "No",
          "No",
          "No",
          "No",
          "No",
          "No",
          "No",
          "Yes",
          "No",
          "No",
          "No",
          "No",
          "No",
          "No",
          "No",
          "No",
          "No",
          "No",
          "No",
          "No",
          "No",
          "No",
          "Yes",
          "No",
          "No",
          "No",
          "No",
          "No",
          "No",
          "Yes",
          "No",
          "No",
          "No",
          "No",
          "No",
          "No",
          "Yes",
          "No",
          "No",
          "No",
          "No",
          "No",
          "No",
          "No",
          "No",
          "No",
          "No",
          "No",
          "No",
          "No",
          "No",
          "No",
          "Yes",
          "No",
          "No",
          "No",
          "No",
          "No",
          "Yes",
          "No",
          "No",
          "No",
          "No",
          "No",
          "Yes",
          "Yes",
          "No",
          "No",
          "No",
          "No",
          "No",
          "No",
          "No",
          "No",
          "No",
          "No",
          "No",
          "No",
          "No",
          "No",
          "No",
          "No",
          "No",
          "No",
          "No",
          "No",
          "No",
          "Yes",
          "No",
          "No",
          "Yes",
          "Yes",
          "No",
          "No",
          "No",
          "No",
          "No",
          "No",
          "Yes",
          "No",
          "No",
          "No",
          "No",
          "No",
          "No",
          "No",
          "No",
          "No",
          "Yes",
          "No",
          "No",
          "No",
          "No",
          "No",
          "No",
          "No",
          "No",
          "Yes",
          "No",
          "No",
          "No",
          "No",
          "No",
          "No",
          "No",
          "No",
          "No",
          "No",
          "No",
          "No",
          "No",
          "No",
          "No",
          "No",
          "No",
          "No",
          "No",
          "No",
          "No",
          "Yes",
          "No",
          "No",
          "No",
          "No",
          "No",
          "No",
          "No",
          "No",
          "No",
          "No",
          "No",
          "No",
          "No",
          "No",
          "Yes",
          "Yes",
          "No",
          "No",
          "No",
          "No",
          "No",
          "No",
          "No",
          "No",
          "No",
          "No",
          "No",
          "No",
          "No",
          "Yes",
          "No",
          "No",
          "No",
          "Yes",
          "No",
          "No",
          "No",
          "No",
          "No",
          "No",
          "No",
          "No",
          "Yes",
          "No",
          "No",
          "No",
          "No",
          "No",
          "No",
          "No",
          "No",
          "No",
          "No",
          "No",
          "Yes",
          "No",
          "No",
          "Yes",
          "No",
          "No",
          "No",
          "No",
          "No",
          "No",
          "No",
          "Yes",
          "No",
          "No",
          "No",
          "No",
          "No",
          "No",
          "No",
          "No",
          "No",
          "No",
          "No",
          "No",
          "Yes",
          "No",
          "No",
          "No",
          "No",
          "No",
          "Yes",
          "No",
          "No",
          "No",
          "No",
          "No",
          "No",
          "No",
          "No",
          "No",
          "No",
          "No",
          "No",
          "No",
          "No",
          "No",
          "No",
          "No",
          "No",
          "No",
          "No",
          "No",
          "No",
          "No",
          "No",
          "Yes",
          "No",
          "No",
          "No",
          "No",
          "No",
          "No",
          "No",
          "No",
          "No",
          "No",
          "No",
          "No",
          "No",
          "No",
          "No",
          "No",
          "No",
          "No",
          "Yes",
          "No",
          "No",
          "No",
          "No",
          "No",
          "No",
          "No",
          "No",
          "No",
          "No",
          "No",
          "No",
          "No",
          "Yes",
          "No",
          "No",
          "No",
          "No",
          "No",
          "No",
          "No",
          "No",
          "No",
          "No",
          "No",
          "No",
          "No",
          "No",
          "No",
          "No",
          "No",
          "No",
          "No",
          "No",
          "No",
          "No",
          "No",
          "No",
          "No",
          "No",
          "No",
          "No",
          "No",
          "No",
          "No",
          "No",
          "Yes",
          "No",
          "No",
          "No",
          "No",
          "No",
          "No",
          "No",
          "Yes",
          "No",
          "No",
          "No",
          "No",
          "No",
          "No",
          "No",
          "Yes",
          "No",
          "No",
          "No",
          "No",
          "No",
          "No",
          "Yes",
          "No",
          "No",
          "No",
          "No",
          "No",
          "No",
          "No",
          "No",
          "No",
          "No",
          "No",
          "No",
          "No",
          "Yes",
          "No",
          "No",
          "No",
          "Yes",
          "No",
          "No",
          "No",
          "No",
          "No",
          "No",
          "No",
          "Yes",
          "No",
          "No",
          "No",
          "No",
          "No",
          "No",
          "No",
          "No",
          "No",
          "No",
          "No",
          "Yes",
          "No",
          "No",
          "No",
          "No",
          "No",
          "No",
          "No",
          "No",
          "No",
          "No",
          "No",
          "No",
          "No",
          "No",
          "No",
          "No",
          "No",
          "No",
          "No",
          "Yes",
          "No",
          "No",
          "No",
          "No",
          "No",
          "No",
          "No",
          "No",
          "No",
          "No",
          "No",
          "No",
          "No",
          "No",
          "No",
          "No",
          "No",
          "No",
          "No",
          "No",
          "No",
          "No",
          "No",
          "No",
          "Yes",
          "No",
          "No",
          "No",
          "No",
          "No",
          "No",
          "No",
          "No",
          "No",
          "No",
          "No",
          "Yes",
          "No",
          "Yes",
          "No",
          "No",
          "No",
          "No",
          "No",
          "No",
          "No",
          "No",
          "No",
          "No",
          "No",
          "No",
          "No",
          "No",
          "No",
          "No",
          "No",
          "No",
          "No",
          "No",
          "No",
          "No",
          "No",
          "No",
          "No",
          "No",
          "No",
          "No",
          "No",
          "No",
          "No",
          "No",
          "No",
          "No",
          "No",
          "No",
          "No",
          "No",
          "No",
          "No",
          "No",
          "No",
          "No",
          "No",
          "No",
          "No",
          "No",
          "No",
          "No",
          "No",
          "No",
          "No",
          "No",
          "No",
          "No",
          "No",
          "Yes",
          "No",
          "Yes",
          "Yes",
          "No",
          "No",
          "No",
          "No",
          "No",
          "No",
          "Yes",
          "No",
          "No",
          "No",
          "No",
          "No",
          "No",
          "No",
          "No",
          "No",
          "No",
          "No",
          "No",
          "No",
          "Yes",
          "No",
          "Yes",
          "No",
          "No",
          "No",
          "No",
          "No",
          "No",
          "Yes",
          "No",
          "No",
          "No",
          "No",
          "No",
          "No",
          "No",
          "No",
          "No",
          "No",
          "Yes",
          "No",
          "No",
          "No",
          "No",
          "Yes",
          "No",
          "No",
          "No",
          "No",
          "No",
          "No",
          "Yes",
          "No",
          "Yes",
          "Yes",
          "No",
          "No",
          "No",
          "No",
          "No",
          "No",
          "No",
          "No",
          "No",
          "No",
          "No",
          "No",
          "No",
          "No",
          "No",
          "No",
          "No",
          "No",
          "No",
          "No",
          "No",
          "No",
          "Yes",
          "No",
          "No",
          "Yes",
          "Yes",
          "No",
          "No",
          "No",
          "No",
          "No",
          "No",
          "No",
          "No",
          "No",
          "No",
          "No",
          "No",
          "No",
          "No",
          "No",
          "No",
          "No",
          "Yes",
          "No",
          "No",
          "No",
          "No",
          "No",
          "No",
          "No",
          "No",
          "No",
          "No",
          "No",
          "No",
          "No",
          "No",
          "No",
          "No",
          "No",
          "No",
          "No",
          "No",
          "No",
          "No",
          "No",
          "No",
          "No",
          "No",
          "No",
          "No",
          "No",
          "No",
          "No",
          "No",
          "No",
          "No",
          "No",
          "No",
          "No",
          "No",
          "No",
          "No",
          "No",
          "No",
          "No",
          "No",
          "No",
          "No",
          "No",
          "Yes",
          "No",
          "No",
          "No",
          "No",
          "No",
          "No",
          "No",
          "No",
          "No",
          "No",
          "No",
          "No",
          "No",
          "No",
          "No",
          "No",
          "No",
          "No",
          "No",
          "No",
          "No",
          "No",
          "No",
          "No",
          "No",
          "No",
          "No",
          "No",
          "Yes",
          "No",
          "No",
          "No",
          "No",
          "No",
          "No",
          "No",
          "Yes",
          "No",
          "No",
          "No",
          "No",
          "No",
          "No",
          "No",
          "No",
          "No",
          "No",
          "No",
          "No",
          "No",
          "No",
          "No",
          "No",
          "No",
          "No",
          "No",
          "No",
          "Yes",
          "No",
          "No",
          "No",
          "No",
          "No",
          "No",
          "No",
          "No",
          "No",
          "No",
          "No",
          "No",
          "No",
          "No",
          "No",
          "No",
          "No",
          "No",
          "Yes",
          "No",
          "No",
          "No",
          "No",
          "No",
          "No",
          "No",
          "No",
          "Yes",
          "No",
          "No",
          "No",
          "No",
          "No"
         ],
         "legendgroup": "",
         "name": "",
         "showlegend": true,
         "type": "pie"
        }
       ],
       "layout": {
        "height": 600,
        "legend": {
         "tracegroupgap": 0
        },
        "template": {
         "data": {
          "bar": [
           {
            "error_x": {
             "color": "#2a3f5f"
            },
            "error_y": {
             "color": "#2a3f5f"
            },
            "marker": {
             "line": {
              "color": "white",
              "width": 0.5
             },
             "pattern": {
              "fillmode": "overlay",
              "size": 10,
              "solidity": 0.2
             }
            },
            "type": "bar"
           }
          ],
          "barpolar": [
           {
            "marker": {
             "line": {
              "color": "white",
              "width": 0.5
             },
             "pattern": {
              "fillmode": "overlay",
              "size": 10,
              "solidity": 0.2
             }
            },
            "type": "barpolar"
           }
          ],
          "carpet": [
           {
            "aaxis": {
             "endlinecolor": "#2a3f5f",
             "gridcolor": "#C8D4E3",
             "linecolor": "#C8D4E3",
             "minorgridcolor": "#C8D4E3",
             "startlinecolor": "#2a3f5f"
            },
            "baxis": {
             "endlinecolor": "#2a3f5f",
             "gridcolor": "#C8D4E3",
             "linecolor": "#C8D4E3",
             "minorgridcolor": "#C8D4E3",
             "startlinecolor": "#2a3f5f"
            },
            "type": "carpet"
           }
          ],
          "choropleth": [
           {
            "colorbar": {
             "outlinewidth": 0,
             "ticks": ""
            },
            "type": "choropleth"
           }
          ],
          "contour": [
           {
            "colorbar": {
             "outlinewidth": 0,
             "ticks": ""
            },
            "colorscale": [
             [
              0,
              "#0d0887"
             ],
             [
              0.1111111111111111,
              "#46039f"
             ],
             [
              0.2222222222222222,
              "#7201a8"
             ],
             [
              0.3333333333333333,
              "#9c179e"
             ],
             [
              0.4444444444444444,
              "#bd3786"
             ],
             [
              0.5555555555555556,
              "#d8576b"
             ],
             [
              0.6666666666666666,
              "#ed7953"
             ],
             [
              0.7777777777777778,
              "#fb9f3a"
             ],
             [
              0.8888888888888888,
              "#fdca26"
             ],
             [
              1,
              "#f0f921"
             ]
            ],
            "type": "contour"
           }
          ],
          "contourcarpet": [
           {
            "colorbar": {
             "outlinewidth": 0,
             "ticks": ""
            },
            "type": "contourcarpet"
           }
          ],
          "heatmap": [
           {
            "colorbar": {
             "outlinewidth": 0,
             "ticks": ""
            },
            "colorscale": [
             [
              0,
              "#0d0887"
             ],
             [
              0.1111111111111111,
              "#46039f"
             ],
             [
              0.2222222222222222,
              "#7201a8"
             ],
             [
              0.3333333333333333,
              "#9c179e"
             ],
             [
              0.4444444444444444,
              "#bd3786"
             ],
             [
              0.5555555555555556,
              "#d8576b"
             ],
             [
              0.6666666666666666,
              "#ed7953"
             ],
             [
              0.7777777777777778,
              "#fb9f3a"
             ],
             [
              0.8888888888888888,
              "#fdca26"
             ],
             [
              1,
              "#f0f921"
             ]
            ],
            "type": "heatmap"
           }
          ],
          "heatmapgl": [
           {
            "colorbar": {
             "outlinewidth": 0,
             "ticks": ""
            },
            "colorscale": [
             [
              0,
              "#0d0887"
             ],
             [
              0.1111111111111111,
              "#46039f"
             ],
             [
              0.2222222222222222,
              "#7201a8"
             ],
             [
              0.3333333333333333,
              "#9c179e"
             ],
             [
              0.4444444444444444,
              "#bd3786"
             ],
             [
              0.5555555555555556,
              "#d8576b"
             ],
             [
              0.6666666666666666,
              "#ed7953"
             ],
             [
              0.7777777777777778,
              "#fb9f3a"
             ],
             [
              0.8888888888888888,
              "#fdca26"
             ],
             [
              1,
              "#f0f921"
             ]
            ],
            "type": "heatmapgl"
           }
          ],
          "histogram": [
           {
            "marker": {
             "pattern": {
              "fillmode": "overlay",
              "size": 10,
              "solidity": 0.2
             }
            },
            "type": "histogram"
           }
          ],
          "histogram2d": [
           {
            "colorbar": {
             "outlinewidth": 0,
             "ticks": ""
            },
            "colorscale": [
             [
              0,
              "#0d0887"
             ],
             [
              0.1111111111111111,
              "#46039f"
             ],
             [
              0.2222222222222222,
              "#7201a8"
             ],
             [
              0.3333333333333333,
              "#9c179e"
             ],
             [
              0.4444444444444444,
              "#bd3786"
             ],
             [
              0.5555555555555556,
              "#d8576b"
             ],
             [
              0.6666666666666666,
              "#ed7953"
             ],
             [
              0.7777777777777778,
              "#fb9f3a"
             ],
             [
              0.8888888888888888,
              "#fdca26"
             ],
             [
              1,
              "#f0f921"
             ]
            ],
            "type": "histogram2d"
           }
          ],
          "histogram2dcontour": [
           {
            "colorbar": {
             "outlinewidth": 0,
             "ticks": ""
            },
            "colorscale": [
             [
              0,
              "#0d0887"
             ],
             [
              0.1111111111111111,
              "#46039f"
             ],
             [
              0.2222222222222222,
              "#7201a8"
             ],
             [
              0.3333333333333333,
              "#9c179e"
             ],
             [
              0.4444444444444444,
              "#bd3786"
             ],
             [
              0.5555555555555556,
              "#d8576b"
             ],
             [
              0.6666666666666666,
              "#ed7953"
             ],
             [
              0.7777777777777778,
              "#fb9f3a"
             ],
             [
              0.8888888888888888,
              "#fdca26"
             ],
             [
              1,
              "#f0f921"
             ]
            ],
            "type": "histogram2dcontour"
           }
          ],
          "mesh3d": [
           {
            "colorbar": {
             "outlinewidth": 0,
             "ticks": ""
            },
            "type": "mesh3d"
           }
          ],
          "parcoords": [
           {
            "line": {
             "colorbar": {
              "outlinewidth": 0,
              "ticks": ""
             }
            },
            "type": "parcoords"
           }
          ],
          "pie": [
           {
            "automargin": true,
            "type": "pie"
           }
          ],
          "scatter": [
           {
            "marker": {
             "colorbar": {
              "outlinewidth": 0,
              "ticks": ""
             }
            },
            "type": "scatter"
           }
          ],
          "scatter3d": [
           {
            "line": {
             "colorbar": {
              "outlinewidth": 0,
              "ticks": ""
             }
            },
            "marker": {
             "colorbar": {
              "outlinewidth": 0,
              "ticks": ""
             }
            },
            "type": "scatter3d"
           }
          ],
          "scattercarpet": [
           {
            "marker": {
             "colorbar": {
              "outlinewidth": 0,
              "ticks": ""
             }
            },
            "type": "scattercarpet"
           }
          ],
          "scattergeo": [
           {
            "marker": {
             "colorbar": {
              "outlinewidth": 0,
              "ticks": ""
             }
            },
            "type": "scattergeo"
           }
          ],
          "scattergl": [
           {
            "marker": {
             "colorbar": {
              "outlinewidth": 0,
              "ticks": ""
             }
            },
            "type": "scattergl"
           }
          ],
          "scattermapbox": [
           {
            "marker": {
             "colorbar": {
              "outlinewidth": 0,
              "ticks": ""
             }
            },
            "type": "scattermapbox"
           }
          ],
          "scatterpolar": [
           {
            "marker": {
             "colorbar": {
              "outlinewidth": 0,
              "ticks": ""
             }
            },
            "type": "scatterpolar"
           }
          ],
          "scatterpolargl": [
           {
            "marker": {
             "colorbar": {
              "outlinewidth": 0,
              "ticks": ""
             }
            },
            "type": "scatterpolargl"
           }
          ],
          "scatterternary": [
           {
            "marker": {
             "colorbar": {
              "outlinewidth": 0,
              "ticks": ""
             }
            },
            "type": "scatterternary"
           }
          ],
          "surface": [
           {
            "colorbar": {
             "outlinewidth": 0,
             "ticks": ""
            },
            "colorscale": [
             [
              0,
              "#0d0887"
             ],
             [
              0.1111111111111111,
              "#46039f"
             ],
             [
              0.2222222222222222,
              "#7201a8"
             ],
             [
              0.3333333333333333,
              "#9c179e"
             ],
             [
              0.4444444444444444,
              "#bd3786"
             ],
             [
              0.5555555555555556,
              "#d8576b"
             ],
             [
              0.6666666666666666,
              "#ed7953"
             ],
             [
              0.7777777777777778,
              "#fb9f3a"
             ],
             [
              0.8888888888888888,
              "#fdca26"
             ],
             [
              1,
              "#f0f921"
             ]
            ],
            "type": "surface"
           }
          ],
          "table": [
           {
            "cells": {
             "fill": {
              "color": "#EBF0F8"
             },
             "line": {
              "color": "white"
             }
            },
            "header": {
             "fill": {
              "color": "#C8D4E3"
             },
             "line": {
              "color": "white"
             }
            },
            "type": "table"
           }
          ]
         },
         "layout": {
          "annotationdefaults": {
           "arrowcolor": "#2a3f5f",
           "arrowhead": 0,
           "arrowwidth": 1
          },
          "autotypenumbers": "strict",
          "coloraxis": {
           "colorbar": {
            "outlinewidth": 0,
            "ticks": ""
           }
          },
          "colorscale": {
           "diverging": [
            [
             0,
             "#8e0152"
            ],
            [
             0.1,
             "#c51b7d"
            ],
            [
             0.2,
             "#de77ae"
            ],
            [
             0.3,
             "#f1b6da"
            ],
            [
             0.4,
             "#fde0ef"
            ],
            [
             0.5,
             "#f7f7f7"
            ],
            [
             0.6,
             "#e6f5d0"
            ],
            [
             0.7,
             "#b8e186"
            ],
            [
             0.8,
             "#7fbc41"
            ],
            [
             0.9,
             "#4d9221"
            ],
            [
             1,
             "#276419"
            ]
           ],
           "sequential": [
            [
             0,
             "#0d0887"
            ],
            [
             0.1111111111111111,
             "#46039f"
            ],
            [
             0.2222222222222222,
             "#7201a8"
            ],
            [
             0.3333333333333333,
             "#9c179e"
            ],
            [
             0.4444444444444444,
             "#bd3786"
            ],
            [
             0.5555555555555556,
             "#d8576b"
            ],
            [
             0.6666666666666666,
             "#ed7953"
            ],
            [
             0.7777777777777778,
             "#fb9f3a"
            ],
            [
             0.8888888888888888,
             "#fdca26"
            ],
            [
             1,
             "#f0f921"
            ]
           ],
           "sequentialminus": [
            [
             0,
             "#0d0887"
            ],
            [
             0.1111111111111111,
             "#46039f"
            ],
            [
             0.2222222222222222,
             "#7201a8"
            ],
            [
             0.3333333333333333,
             "#9c179e"
            ],
            [
             0.4444444444444444,
             "#bd3786"
            ],
            [
             0.5555555555555556,
             "#d8576b"
            ],
            [
             0.6666666666666666,
             "#ed7953"
            ],
            [
             0.7777777777777778,
             "#fb9f3a"
            ],
            [
             0.8888888888888888,
             "#fdca26"
            ],
            [
             1,
             "#f0f921"
            ]
           ]
          },
          "colorway": [
           "#636efa",
           "#EF553B",
           "#00cc96",
           "#ab63fa",
           "#FFA15A",
           "#19d3f3",
           "#FF6692",
           "#B6E880",
           "#FF97FF",
           "#FECB52"
          ],
          "font": {
           "color": "#2a3f5f"
          },
          "geo": {
           "bgcolor": "white",
           "lakecolor": "white",
           "landcolor": "white",
           "showlakes": true,
           "showland": true,
           "subunitcolor": "#C8D4E3"
          },
          "hoverlabel": {
           "align": "left"
          },
          "hovermode": "closest",
          "mapbox": {
           "style": "light"
          },
          "paper_bgcolor": "white",
          "plot_bgcolor": "white",
          "polar": {
           "angularaxis": {
            "gridcolor": "#EBF0F8",
            "linecolor": "#EBF0F8",
            "ticks": ""
           },
           "bgcolor": "white",
           "radialaxis": {
            "gridcolor": "#EBF0F8",
            "linecolor": "#EBF0F8",
            "ticks": ""
           }
          },
          "scene": {
           "xaxis": {
            "backgroundcolor": "white",
            "gridcolor": "#DFE8F3",
            "gridwidth": 2,
            "linecolor": "#EBF0F8",
            "showbackground": true,
            "ticks": "",
            "zerolinecolor": "#EBF0F8"
           },
           "yaxis": {
            "backgroundcolor": "white",
            "gridcolor": "#DFE8F3",
            "gridwidth": 2,
            "linecolor": "#EBF0F8",
            "showbackground": true,
            "ticks": "",
            "zerolinecolor": "#EBF0F8"
           },
           "zaxis": {
            "backgroundcolor": "white",
            "gridcolor": "#DFE8F3",
            "gridwidth": 2,
            "linecolor": "#EBF0F8",
            "showbackground": true,
            "ticks": "",
            "zerolinecolor": "#EBF0F8"
           }
          },
          "shapedefaults": {
           "line": {
            "color": "#2a3f5f"
           }
          },
          "ternary": {
           "aaxis": {
            "gridcolor": "#DFE8F3",
            "linecolor": "#A2B1C6",
            "ticks": ""
           },
           "baxis": {
            "gridcolor": "#DFE8F3",
            "linecolor": "#A2B1C6",
            "ticks": ""
           },
           "bgcolor": "white",
           "caxis": {
            "gridcolor": "#DFE8F3",
            "linecolor": "#A2B1C6",
            "ticks": ""
           }
          },
          "title": {
           "x": 0.05
          },
          "xaxis": {
           "automargin": true,
           "gridcolor": "#EBF0F8",
           "linecolor": "#EBF0F8",
           "ticks": "",
           "title": {
            "standoff": 15
           },
           "zerolinecolor": "#EBF0F8",
           "zerolinewidth": 2
          },
          "yaxis": {
           "automargin": true,
           "gridcolor": "#EBF0F8",
           "linecolor": "#EBF0F8",
           "ticks": "",
           "title": {
            "standoff": 15
           },
           "zerolinecolor": "#EBF0F8",
           "zerolinewidth": 2
          }
         }
        },
        "title": {
         "text": "Total Percentage of Tinder Users"
        }
       }
      }
     },
     "metadata": {},
     "output_type": "display_data"
    }
   ],
   "source": [
    "fig2 = px.pie(tinder.answer, names='answer', title='Total Percentage of Tinder Users', template='plotly_white', height=600)\n",
    "fig2"
   ]
  },
  {
   "attachments": {},
   "cell_type": "markdown",
   "metadata": {},
   "source": [
    "##### Fig 2 Description"
   ]
  },
  {
   "attachments": {},
   "cell_type": "markdown",
   "metadata": {},
   "source": [
    "Roughly 91% of the data represents individuals that do not use tinder, while the remaining individuals use Tinder. This illustrates that the data is skewed towards individuals that do not use tinder. "
   ]
  },
  {
   "cell_type": "code",
   "execution_count": 32,
   "metadata": {},
   "outputs": [],
   "source": [
    "# fig2.write_html('HTML/fig2.html')"
   ]
  },
  {
   "cell_type": "code",
   "execution_count": 33,
   "metadata": {},
   "outputs": [],
   "source": [
    "# convert_json(px.pie(tinder.answer, names='answer', title='Total Percentage of Tinder Users', template='plotly_white', height=600))"
   ]
  },
  {
   "cell_type": "markdown",
   "metadata": {},
   "source": [
    "More people do not use Tinder"
   ]
  },
  {
   "cell_type": "markdown",
   "metadata": {},
   "source": [
    "##### Fig 3"
   ]
  },
  {
   "cell_type": "code",
   "execution_count": 34,
   "metadata": {},
   "outputs": [],
   "source": [
    "# convert_json(tinder.relationship.value_counts())"
   ]
  },
  {
   "cell_type": "code",
   "execution_count": 35,
   "metadata": {},
   "outputs": [
    {
     "data": {
      "application/vnd.plotly.v1+json": {
       "config": {
        "plotlyServerURL": "https://plot.ly"
       },
       "data": [
        {
         "domain": {
          "x": [
           0,
           1
          ],
          "y": [
           0,
           1
          ]
         },
         "hovertemplate": "relationship=%{label}<extra></extra>",
         "labels": [
          0,
          0,
          0,
          0,
          0,
          0,
          0,
          0,
          0,
          0,
          0,
          0,
          0,
          0,
          0,
          0,
          0,
          0,
          0,
          1,
          0,
          0,
          1,
          0,
          0,
          0,
          0,
          0,
          0,
          1,
          0,
          1,
          0,
          1,
          0,
          0,
          0,
          1,
          0,
          1,
          0,
          0,
          0,
          1,
          1,
          0,
          0,
          0,
          0,
          1,
          0,
          1,
          0,
          1,
          0,
          1,
          0,
          0,
          0,
          0,
          1,
          0,
          1,
          0,
          0,
          0,
          0,
          0,
          1,
          0,
          0,
          1,
          1,
          1,
          0,
          0,
          0,
          1,
          1,
          0,
          0,
          0,
          0,
          0,
          0,
          1,
          0,
          0,
          0,
          1,
          0,
          1,
          0,
          0,
          0,
          0,
          0,
          1,
          0,
          1,
          1,
          1,
          0,
          0,
          1,
          1,
          0,
          1,
          0,
          1,
          1,
          1,
          0,
          1,
          1,
          1,
          1,
          0,
          1,
          0,
          1,
          0,
          0,
          0,
          0,
          0,
          1,
          1,
          0,
          1,
          0,
          1,
          0,
          0,
          0,
          0,
          1,
          0,
          0,
          0,
          1,
          0,
          1,
          0,
          0,
          1,
          0,
          0,
          0,
          0,
          1,
          0,
          0,
          0,
          0,
          1,
          1,
          0,
          1,
          0,
          1,
          1,
          1,
          1,
          0,
          0,
          0,
          0,
          0,
          1,
          0,
          1,
          0,
          0,
          1,
          1,
          1,
          1,
          1,
          0,
          0,
          0,
          0,
          0,
          1,
          0,
          1,
          0,
          0,
          1,
          0,
          0,
          1,
          1,
          1,
          1,
          0,
          1,
          0,
          0,
          1,
          0,
          0,
          1,
          1,
          0,
          0,
          0,
          0,
          0,
          1,
          1,
          1,
          1,
          0,
          0,
          1,
          0,
          0,
          0,
          0,
          0,
          0,
          1,
          0,
          0,
          1,
          0,
          0,
          0,
          0,
          0,
          0,
          1,
          1,
          0,
          1,
          0,
          1,
          0,
          0,
          0,
          1,
          0,
          0,
          1,
          0,
          1,
          1,
          0,
          1,
          0,
          0,
          0,
          0,
          0,
          1,
          1,
          1,
          1,
          1,
          0,
          1,
          1,
          0,
          1,
          0,
          0,
          1,
          0,
          0,
          0,
          0,
          0,
          0,
          1,
          1,
          0,
          0,
          0,
          1,
          0,
          0,
          0,
          0,
          1,
          0,
          0,
          0,
          0,
          0,
          0,
          0,
          0,
          1,
          0,
          0,
          0,
          0,
          1,
          0,
          0,
          0,
          0,
          1,
          1,
          1,
          0,
          0,
          0,
          1,
          0,
          0,
          1,
          1,
          0,
          1,
          1,
          0,
          0,
          0,
          0,
          1,
          0,
          0,
          0,
          0,
          0,
          1,
          0,
          0,
          0,
          1,
          0,
          0,
          0,
          0,
          1,
          1,
          0,
          0,
          1,
          0,
          0,
          0,
          0,
          0,
          1,
          1,
          0,
          0,
          0,
          1,
          0,
          0,
          1,
          0,
          0,
          1,
          1,
          1,
          1,
          1,
          0,
          0,
          0,
          0,
          1,
          0,
          1,
          1,
          1,
          1,
          0,
          1,
          0,
          0,
          0,
          1,
          0,
          1,
          1,
          1,
          1,
          0,
          1,
          0,
          0,
          1,
          1,
          1,
          1,
          1,
          0,
          0,
          0,
          0,
          0,
          0,
          1,
          0,
          1,
          1,
          1,
          1,
          1,
          0,
          1,
          0,
          1,
          0,
          0,
          0,
          0,
          1,
          1,
          1,
          0,
          1,
          1,
          1,
          0,
          0,
          0,
          0,
          1,
          1,
          1,
          1,
          1,
          1,
          0,
          0,
          0,
          0,
          0,
          0,
          0,
          0,
          0,
          1,
          1,
          0,
          1,
          0,
          0,
          0,
          1,
          1,
          1,
          0,
          0,
          0,
          0,
          0,
          0,
          0,
          0,
          1,
          0,
          0,
          1,
          0,
          0,
          0,
          1,
          1,
          0,
          1,
          0,
          1,
          0,
          1,
          0,
          0,
          0,
          0,
          1,
          0,
          0,
          0,
          0,
          0,
          0,
          0,
          0,
          0,
          0,
          0,
          0,
          0,
          0,
          0,
          1,
          0,
          1,
          0,
          0,
          0,
          0,
          0,
          0,
          0,
          1,
          0,
          0,
          1,
          0,
          1,
          1,
          0,
          0,
          0,
          0,
          0,
          0,
          0,
          0,
          0,
          0,
          0,
          1,
          0,
          0,
          1,
          1,
          0,
          0,
          0,
          1,
          0,
          0,
          0,
          0,
          1,
          0,
          0,
          0,
          1,
          1,
          1,
          1,
          1,
          1,
          1,
          0,
          1,
          0,
          0,
          1,
          0,
          0,
          0,
          0,
          0,
          0,
          0,
          0,
          0,
          0,
          0,
          0,
          0,
          0,
          0,
          1,
          0,
          0,
          0,
          1,
          0,
          1,
          0,
          0,
          1,
          0,
          1,
          0,
          0,
          1,
          1,
          1,
          0,
          1,
          1,
          0,
          1,
          0,
          1,
          1,
          1,
          1,
          0,
          0,
          1,
          0,
          0,
          1,
          0,
          1,
          0,
          0,
          1,
          1,
          0,
          0,
          0,
          0,
          0,
          0,
          1,
          1,
          0,
          0,
          0,
          0,
          0,
          0,
          0,
          1,
          0,
          1,
          0,
          0,
          0,
          0,
          0,
          0,
          1,
          0,
          0,
          0,
          0,
          0,
          0,
          1,
          1,
          0,
          0,
          1,
          0,
          0,
          0,
          0,
          0,
          1,
          1,
          1,
          1,
          0,
          0,
          1,
          0,
          0,
          0,
          0,
          1,
          0,
          0,
          1,
          0,
          0,
          0,
          1,
          0,
          1,
          0,
          0,
          0,
          0,
          1,
          1,
          0,
          0,
          1,
          1,
          1,
          0,
          0,
          1,
          0,
          1,
          0,
          1,
          0,
          0,
          1,
          0,
          0,
          0,
          0,
          0,
          1,
          0,
          0,
          1,
          0,
          1,
          1,
          0,
          0,
          0,
          1,
          0,
          0,
          1,
          1,
          0,
          0,
          1,
          0,
          0,
          0,
          1,
          0,
          1,
          0,
          0,
          0,
          0,
          0,
          0,
          0,
          1,
          0,
          1,
          1,
          1,
          0,
          0,
          1,
          0,
          1,
          0,
          0,
          1,
          1,
          0,
          0,
          0,
          0,
          1,
          0,
          0,
          1,
          0,
          0,
          1,
          0,
          1,
          0,
          1,
          0,
          0,
          0,
          0,
          0,
          1,
          0,
          0,
          0,
          0,
          0,
          0,
          0,
          0,
          1,
          0,
          1,
          1,
          0,
          1,
          1,
          1,
          0,
          0,
          0,
          0,
          1,
          1,
          1,
          0,
          0,
          0,
          0,
          0,
          1,
          1,
          1,
          1,
          0,
          0,
          1,
          1,
          0,
          0,
          0,
          1,
          0,
          1,
          0,
          1,
          0,
          1,
          0,
          0,
          0,
          0,
          0,
          0,
          1,
          0,
          0,
          1,
          0,
          0,
          0,
          0,
          0,
          0,
          0,
          1,
          0,
          0,
          1,
          0,
          0,
          0,
          0,
          0,
          1,
          0,
          0,
          0,
          0,
          0,
          0,
          0,
          0,
          1,
          0,
          0,
          0,
          0,
          0,
          0,
          1,
          1,
          0,
          0,
          1,
          1,
          0,
          1,
          0,
          1,
          1,
          1,
          0,
          0,
          0,
          1,
          0,
          1,
          0,
          0,
          0,
          0,
          0,
          0,
          1,
          0,
          1,
          0,
          1,
          0,
          1,
          1,
          0,
          1,
          1,
          1,
          0,
          0,
          0,
          0,
          1,
          0,
          1,
          0,
          1,
          0,
          0,
          0,
          1,
          1,
          0,
          0,
          0,
          0,
          1,
          0,
          0,
          0,
          0,
          0,
          1,
          1,
          1,
          1,
          1,
          1,
          0,
          1,
          0,
          1,
          0,
          1,
          0,
          0,
          0,
          1,
          1,
          0,
          1,
          1,
          0,
          1,
          0,
          0,
          1,
          1,
          0,
          1,
          1,
          0,
          0,
          1,
          0,
          0,
          1,
          1,
          0,
          0,
          0,
          1,
          0,
          0,
          0,
          0,
          1,
          0,
          1,
          0,
          0,
          1,
          0,
          0,
          0,
          1,
          1,
          1,
          0,
          1,
          1,
          0,
          1,
          1,
          0,
          0,
          0,
          0,
          0,
          1,
          0,
          0,
          0,
          1,
          0,
          0,
          0,
          0,
          0,
          1,
          0,
          1,
          0,
          0,
          1,
          1,
          1,
          1,
          1,
          0,
          1,
          0,
          0,
          0,
          0,
          0,
          1,
          0,
          0,
          0,
          0,
          1,
          0,
          0,
          0,
          1,
          0,
          0,
          0,
          1,
          0,
          1,
          1,
          0,
          1,
          0,
          1,
          0,
          0,
          1,
          1,
          0,
          1,
          1,
          0,
          0,
          0,
          1,
          1,
          1,
          1,
          1,
          1,
          0,
          0,
          0,
          1,
          0,
          1,
          0,
          1,
          0,
          1,
          1,
          1,
          0,
          0,
          0,
          0,
          0,
          1,
          0,
          0,
          0,
          1,
          0,
          1,
          0,
          0,
          0,
          1,
          1,
          0,
          0,
          0,
          0,
          0,
          0,
          1,
          1,
          0,
          0,
          1,
          0,
          0,
          0,
          1,
          0,
          1,
          1,
          0,
          1,
          0,
          0,
          0,
          1,
          1,
          1,
          1,
          0,
          0,
          0,
          1,
          0,
          1,
          0,
          0,
          0,
          0,
          1,
          0,
          1,
          0,
          0,
          1,
          1,
          0,
          0,
          1,
          0,
          0,
          0,
          0,
          0,
          1,
          0,
          0,
          0,
          1,
          1,
          1,
          0,
          0,
          0,
          1,
          1,
          0,
          1,
          0,
          0,
          0,
          1,
          0,
          0,
          1,
          0,
          0,
          0,
          0,
          1,
          0,
          0,
          0,
          0,
          1,
          0,
          0,
          0,
          0,
          0,
          1,
          1,
          0,
          0,
          1,
          0,
          1,
          0,
          1,
          0,
          1,
          0,
          0,
          0,
          0,
          0,
          0,
          0,
          0,
          0,
          0,
          1,
          0,
          1,
          0,
          1,
          0,
          1,
          0,
          0,
          1,
          1,
          0,
          0,
          0,
          0,
          0,
          0,
          1,
          1,
          1,
          0,
          0,
          0,
          1,
          0,
          1,
          0,
          0,
          0,
          1,
          0,
          1,
          0,
          0,
          0,
          0,
          0,
          1,
          1,
          1,
          1,
          1,
          1,
          1,
          0,
          0,
          1,
          1,
          0,
          1,
          1,
          0,
          0,
          1,
          0,
          0,
          0,
          0,
          0,
          0,
          0,
          0,
          0,
          1,
          0,
          0,
          0,
          0,
          0,
          0,
          0,
          0,
          1,
          0,
          0,
          0,
          0,
          0,
          0,
          0,
          0,
          0,
          1,
          0,
          0,
          0,
          1,
          0,
          0,
          0,
          1,
          1,
          0,
          1,
          1,
          0,
          1,
          0,
          1,
          0,
          0,
          1,
          0,
          0,
          0,
          0,
          1,
          0,
          1,
          0,
          1,
          0,
          0,
          1,
          0,
          0,
          0,
          0,
          0,
          0,
          0,
          0,
          0,
          1,
          1,
          1,
          1,
          0,
          1,
          1,
          1,
          0,
          0,
          0,
          1,
          0,
          0,
          0,
          1,
          0,
          0,
          0,
          0,
          0,
          0,
          1,
          0,
          0,
          1,
          0,
          0,
          1,
          0,
          0,
          0,
          0,
          0,
          1,
          1,
          0,
          1,
          0,
          0,
          0,
          1,
          0,
          1,
          1,
          0,
          0,
          0,
          0,
          1,
          0,
          0,
          1,
          0,
          1,
          0,
          1,
          0,
          0,
          1,
          0,
          0,
          0,
          0,
          0,
          0,
          0,
          0,
          0,
          0,
          0,
          0,
          0,
          0,
          0,
          0,
          1,
          0,
          1,
          0,
          1,
          1,
          0,
          0,
          1,
          1,
          1,
          1,
          0,
          0,
          0,
          0,
          1,
          0,
          1,
          1,
          1,
          0,
          0,
          0,
          1,
          0,
          0,
          0,
          1,
          1,
          0,
          0,
          0,
          0,
          1,
          1,
          1,
          0,
          0,
          0,
          0,
          0,
          1,
          0,
          0,
          1,
          0,
          0,
          0,
          1,
          0,
          0,
          0,
          0,
          0,
          0,
          0,
          1,
          0,
          0,
          0,
          1,
          0,
          0,
          0,
          0,
          0,
          1,
          0,
          0,
          1,
          0,
          1,
          0,
          0,
          0,
          0,
          0,
          0,
          0,
          1,
          0,
          0,
          0,
          1,
          1,
          0,
          1,
          1,
          0,
          0,
          0,
          0,
          0,
          0,
          0,
          0,
          0,
          1,
          0,
          1,
          1,
          1,
          0,
          1,
          0,
          1,
          0,
          0,
          0,
          0,
          1,
          1,
          0,
          1,
          0,
          1,
          1,
          0,
          0,
          0,
          0,
          0,
          1,
          0,
          0,
          0,
          0,
          1,
          0,
          0,
          0,
          1,
          1,
          0,
          0,
          0,
          0,
          0,
          0,
          0,
          1,
          1,
          1,
          0,
          1,
          0,
          1,
          1,
          0,
          1,
          0,
          1,
          0,
          0,
          0,
          1,
          0,
          0,
          0,
          0,
          0,
          1,
          1,
          1,
          0,
          0,
          0,
          0,
          0,
          1,
          0,
          1,
          1,
          0,
          1,
          1,
          0,
          1,
          0,
          0,
          0,
          0,
          0,
          0,
          0,
          1,
          1,
          0,
          0,
          0,
          0,
          0,
          0,
          0,
          0,
          1,
          1,
          0,
          1,
          0,
          0,
          1,
          1,
          0,
          0,
          0,
          0,
          0,
          1,
          0,
          0,
          0,
          0,
          1,
          1,
          0,
          0,
          0,
          0,
          0,
          1,
          0,
          0,
          1,
          0,
          1,
          0,
          0,
          0,
          0,
          0,
          0,
          1,
          0,
          0,
          1,
          1,
          1,
          1,
          1,
          0,
          0,
          0,
          0,
          0,
          0,
          0,
          0,
          0,
          0,
          0,
          0,
          1,
          0,
          1,
          1,
          1,
          1,
          0,
          0,
          0,
          0,
          1,
          1,
          1,
          0,
          0,
          0,
          0,
          1,
          1,
          1,
          1,
          1,
          0,
          0,
          1,
          0,
          0,
          0,
          0,
          0,
          0,
          1,
          0,
          0,
          0,
          0,
          0,
          0,
          0,
          0,
          0,
          0,
          0,
          0,
          1,
          0,
          0,
          0,
          0,
          1,
          0,
          1,
          0,
          0,
          0,
          0,
          1,
          0,
          1,
          1,
          0,
          0,
          0,
          0,
          1,
          0,
          0,
          0,
          1,
          1,
          1,
          0,
          0,
          0,
          0,
          0,
          0,
          0,
          0,
          0,
          0,
          0,
          0,
          1,
          1,
          1,
          0,
          0,
          1,
          1,
          0,
          1,
          0,
          0,
          0,
          0,
          0,
          0,
          1,
          0,
          1,
          1,
          1,
          0,
          1,
          1,
          0,
          0,
          1,
          1,
          1,
          0,
          1,
          0,
          0,
          0,
          0,
          1,
          1,
          0,
          1,
          0,
          0,
          0,
          0,
          0,
          0,
          0,
          0,
          1,
          0,
          0,
          1,
          0,
          0,
          0,
          0,
          0,
          0,
          1,
          0,
          1,
          0,
          0,
          0,
          0,
          0,
          0,
          0,
          1,
          0,
          1,
          0,
          1,
          0,
          0,
          0,
          1,
          0,
          0,
          0,
          1,
          1,
          1,
          0,
          0,
          0,
          0,
          0,
          1,
          1,
          0,
          0,
          0,
          0,
          0,
          1,
          1,
          0,
          1,
          1,
          1,
          1,
          1,
          1,
          0,
          1,
          0,
          1,
          0,
          0,
          0,
          0,
          0,
          0,
          0,
          0,
          0,
          1,
          1,
          0,
          1,
          1,
          0,
          0,
          0,
          0,
          0,
          1,
          0,
          1,
          0,
          0,
          0,
          0,
          1,
          1,
          0,
          0,
          1,
          1,
          0,
          0,
          1,
          0,
          0,
          1,
          0,
          0,
          1,
          1,
          0,
          0,
          0,
          1,
          0,
          1,
          0,
          0,
          1,
          0,
          1,
          0,
          0,
          0,
          1,
          0,
          0,
          1,
          0,
          0,
          1,
          1,
          0,
          0,
          1,
          1,
          1,
          1,
          1,
          0,
          1,
          0,
          0,
          0,
          0,
          0,
          0,
          0
         ],
         "legendgroup": "",
         "name": "",
         "showlegend": true,
         "type": "pie"
        }
       ],
       "layout": {
        "height": 600,
        "legend": {
         "tracegroupgap": 0
        },
        "template": {
         "data": {
          "bar": [
           {
            "error_x": {
             "color": "#2a3f5f"
            },
            "error_y": {
             "color": "#2a3f5f"
            },
            "marker": {
             "line": {
              "color": "white",
              "width": 0.5
             },
             "pattern": {
              "fillmode": "overlay",
              "size": 10,
              "solidity": 0.2
             }
            },
            "type": "bar"
           }
          ],
          "barpolar": [
           {
            "marker": {
             "line": {
              "color": "white",
              "width": 0.5
             },
             "pattern": {
              "fillmode": "overlay",
              "size": 10,
              "solidity": 0.2
             }
            },
            "type": "barpolar"
           }
          ],
          "carpet": [
           {
            "aaxis": {
             "endlinecolor": "#2a3f5f",
             "gridcolor": "#C8D4E3",
             "linecolor": "#C8D4E3",
             "minorgridcolor": "#C8D4E3",
             "startlinecolor": "#2a3f5f"
            },
            "baxis": {
             "endlinecolor": "#2a3f5f",
             "gridcolor": "#C8D4E3",
             "linecolor": "#C8D4E3",
             "minorgridcolor": "#C8D4E3",
             "startlinecolor": "#2a3f5f"
            },
            "type": "carpet"
           }
          ],
          "choropleth": [
           {
            "colorbar": {
             "outlinewidth": 0,
             "ticks": ""
            },
            "type": "choropleth"
           }
          ],
          "contour": [
           {
            "colorbar": {
             "outlinewidth": 0,
             "ticks": ""
            },
            "colorscale": [
             [
              0,
              "#0d0887"
             ],
             [
              0.1111111111111111,
              "#46039f"
             ],
             [
              0.2222222222222222,
              "#7201a8"
             ],
             [
              0.3333333333333333,
              "#9c179e"
             ],
             [
              0.4444444444444444,
              "#bd3786"
             ],
             [
              0.5555555555555556,
              "#d8576b"
             ],
             [
              0.6666666666666666,
              "#ed7953"
             ],
             [
              0.7777777777777778,
              "#fb9f3a"
             ],
             [
              0.8888888888888888,
              "#fdca26"
             ],
             [
              1,
              "#f0f921"
             ]
            ],
            "type": "contour"
           }
          ],
          "contourcarpet": [
           {
            "colorbar": {
             "outlinewidth": 0,
             "ticks": ""
            },
            "type": "contourcarpet"
           }
          ],
          "heatmap": [
           {
            "colorbar": {
             "outlinewidth": 0,
             "ticks": ""
            },
            "colorscale": [
             [
              0,
              "#0d0887"
             ],
             [
              0.1111111111111111,
              "#46039f"
             ],
             [
              0.2222222222222222,
              "#7201a8"
             ],
             [
              0.3333333333333333,
              "#9c179e"
             ],
             [
              0.4444444444444444,
              "#bd3786"
             ],
             [
              0.5555555555555556,
              "#d8576b"
             ],
             [
              0.6666666666666666,
              "#ed7953"
             ],
             [
              0.7777777777777778,
              "#fb9f3a"
             ],
             [
              0.8888888888888888,
              "#fdca26"
             ],
             [
              1,
              "#f0f921"
             ]
            ],
            "type": "heatmap"
           }
          ],
          "heatmapgl": [
           {
            "colorbar": {
             "outlinewidth": 0,
             "ticks": ""
            },
            "colorscale": [
             [
              0,
              "#0d0887"
             ],
             [
              0.1111111111111111,
              "#46039f"
             ],
             [
              0.2222222222222222,
              "#7201a8"
             ],
             [
              0.3333333333333333,
              "#9c179e"
             ],
             [
              0.4444444444444444,
              "#bd3786"
             ],
             [
              0.5555555555555556,
              "#d8576b"
             ],
             [
              0.6666666666666666,
              "#ed7953"
             ],
             [
              0.7777777777777778,
              "#fb9f3a"
             ],
             [
              0.8888888888888888,
              "#fdca26"
             ],
             [
              1,
              "#f0f921"
             ]
            ],
            "type": "heatmapgl"
           }
          ],
          "histogram": [
           {
            "marker": {
             "pattern": {
              "fillmode": "overlay",
              "size": 10,
              "solidity": 0.2
             }
            },
            "type": "histogram"
           }
          ],
          "histogram2d": [
           {
            "colorbar": {
             "outlinewidth": 0,
             "ticks": ""
            },
            "colorscale": [
             [
              0,
              "#0d0887"
             ],
             [
              0.1111111111111111,
              "#46039f"
             ],
             [
              0.2222222222222222,
              "#7201a8"
             ],
             [
              0.3333333333333333,
              "#9c179e"
             ],
             [
              0.4444444444444444,
              "#bd3786"
             ],
             [
              0.5555555555555556,
              "#d8576b"
             ],
             [
              0.6666666666666666,
              "#ed7953"
             ],
             [
              0.7777777777777778,
              "#fb9f3a"
             ],
             [
              0.8888888888888888,
              "#fdca26"
             ],
             [
              1,
              "#f0f921"
             ]
            ],
            "type": "histogram2d"
           }
          ],
          "histogram2dcontour": [
           {
            "colorbar": {
             "outlinewidth": 0,
             "ticks": ""
            },
            "colorscale": [
             [
              0,
              "#0d0887"
             ],
             [
              0.1111111111111111,
              "#46039f"
             ],
             [
              0.2222222222222222,
              "#7201a8"
             ],
             [
              0.3333333333333333,
              "#9c179e"
             ],
             [
              0.4444444444444444,
              "#bd3786"
             ],
             [
              0.5555555555555556,
              "#d8576b"
             ],
             [
              0.6666666666666666,
              "#ed7953"
             ],
             [
              0.7777777777777778,
              "#fb9f3a"
             ],
             [
              0.8888888888888888,
              "#fdca26"
             ],
             [
              1,
              "#f0f921"
             ]
            ],
            "type": "histogram2dcontour"
           }
          ],
          "mesh3d": [
           {
            "colorbar": {
             "outlinewidth": 0,
             "ticks": ""
            },
            "type": "mesh3d"
           }
          ],
          "parcoords": [
           {
            "line": {
             "colorbar": {
              "outlinewidth": 0,
              "ticks": ""
             }
            },
            "type": "parcoords"
           }
          ],
          "pie": [
           {
            "automargin": true,
            "type": "pie"
           }
          ],
          "scatter": [
           {
            "marker": {
             "colorbar": {
              "outlinewidth": 0,
              "ticks": ""
             }
            },
            "type": "scatter"
           }
          ],
          "scatter3d": [
           {
            "line": {
             "colorbar": {
              "outlinewidth": 0,
              "ticks": ""
             }
            },
            "marker": {
             "colorbar": {
              "outlinewidth": 0,
              "ticks": ""
             }
            },
            "type": "scatter3d"
           }
          ],
          "scattercarpet": [
           {
            "marker": {
             "colorbar": {
              "outlinewidth": 0,
              "ticks": ""
             }
            },
            "type": "scattercarpet"
           }
          ],
          "scattergeo": [
           {
            "marker": {
             "colorbar": {
              "outlinewidth": 0,
              "ticks": ""
             }
            },
            "type": "scattergeo"
           }
          ],
          "scattergl": [
           {
            "marker": {
             "colorbar": {
              "outlinewidth": 0,
              "ticks": ""
             }
            },
            "type": "scattergl"
           }
          ],
          "scattermapbox": [
           {
            "marker": {
             "colorbar": {
              "outlinewidth": 0,
              "ticks": ""
             }
            },
            "type": "scattermapbox"
           }
          ],
          "scatterpolar": [
           {
            "marker": {
             "colorbar": {
              "outlinewidth": 0,
              "ticks": ""
             }
            },
            "type": "scatterpolar"
           }
          ],
          "scatterpolargl": [
           {
            "marker": {
             "colorbar": {
              "outlinewidth": 0,
              "ticks": ""
             }
            },
            "type": "scatterpolargl"
           }
          ],
          "scatterternary": [
           {
            "marker": {
             "colorbar": {
              "outlinewidth": 0,
              "ticks": ""
             }
            },
            "type": "scatterternary"
           }
          ],
          "surface": [
           {
            "colorbar": {
             "outlinewidth": 0,
             "ticks": ""
            },
            "colorscale": [
             [
              0,
              "#0d0887"
             ],
             [
              0.1111111111111111,
              "#46039f"
             ],
             [
              0.2222222222222222,
              "#7201a8"
             ],
             [
              0.3333333333333333,
              "#9c179e"
             ],
             [
              0.4444444444444444,
              "#bd3786"
             ],
             [
              0.5555555555555556,
              "#d8576b"
             ],
             [
              0.6666666666666666,
              "#ed7953"
             ],
             [
              0.7777777777777778,
              "#fb9f3a"
             ],
             [
              0.8888888888888888,
              "#fdca26"
             ],
             [
              1,
              "#f0f921"
             ]
            ],
            "type": "surface"
           }
          ],
          "table": [
           {
            "cells": {
             "fill": {
              "color": "#EBF0F8"
             },
             "line": {
              "color": "white"
             }
            },
            "header": {
             "fill": {
              "color": "#C8D4E3"
             },
             "line": {
              "color": "white"
             }
            },
            "type": "table"
           }
          ]
         },
         "layout": {
          "annotationdefaults": {
           "arrowcolor": "#2a3f5f",
           "arrowhead": 0,
           "arrowwidth": 1
          },
          "autotypenumbers": "strict",
          "coloraxis": {
           "colorbar": {
            "outlinewidth": 0,
            "ticks": ""
           }
          },
          "colorscale": {
           "diverging": [
            [
             0,
             "#8e0152"
            ],
            [
             0.1,
             "#c51b7d"
            ],
            [
             0.2,
             "#de77ae"
            ],
            [
             0.3,
             "#f1b6da"
            ],
            [
             0.4,
             "#fde0ef"
            ],
            [
             0.5,
             "#f7f7f7"
            ],
            [
             0.6,
             "#e6f5d0"
            ],
            [
             0.7,
             "#b8e186"
            ],
            [
             0.8,
             "#7fbc41"
            ],
            [
             0.9,
             "#4d9221"
            ],
            [
             1,
             "#276419"
            ]
           ],
           "sequential": [
            [
             0,
             "#0d0887"
            ],
            [
             0.1111111111111111,
             "#46039f"
            ],
            [
             0.2222222222222222,
             "#7201a8"
            ],
            [
             0.3333333333333333,
             "#9c179e"
            ],
            [
             0.4444444444444444,
             "#bd3786"
            ],
            [
             0.5555555555555556,
             "#d8576b"
            ],
            [
             0.6666666666666666,
             "#ed7953"
            ],
            [
             0.7777777777777778,
             "#fb9f3a"
            ],
            [
             0.8888888888888888,
             "#fdca26"
            ],
            [
             1,
             "#f0f921"
            ]
           ],
           "sequentialminus": [
            [
             0,
             "#0d0887"
            ],
            [
             0.1111111111111111,
             "#46039f"
            ],
            [
             0.2222222222222222,
             "#7201a8"
            ],
            [
             0.3333333333333333,
             "#9c179e"
            ],
            [
             0.4444444444444444,
             "#bd3786"
            ],
            [
             0.5555555555555556,
             "#d8576b"
            ],
            [
             0.6666666666666666,
             "#ed7953"
            ],
            [
             0.7777777777777778,
             "#fb9f3a"
            ],
            [
             0.8888888888888888,
             "#fdca26"
            ],
            [
             1,
             "#f0f921"
            ]
           ]
          },
          "colorway": [
           "#636efa",
           "#EF553B",
           "#00cc96",
           "#ab63fa",
           "#FFA15A",
           "#19d3f3",
           "#FF6692",
           "#B6E880",
           "#FF97FF",
           "#FECB52"
          ],
          "font": {
           "color": "#2a3f5f"
          },
          "geo": {
           "bgcolor": "white",
           "lakecolor": "white",
           "landcolor": "white",
           "showlakes": true,
           "showland": true,
           "subunitcolor": "#C8D4E3"
          },
          "hoverlabel": {
           "align": "left"
          },
          "hovermode": "closest",
          "mapbox": {
           "style": "light"
          },
          "paper_bgcolor": "white",
          "plot_bgcolor": "white",
          "polar": {
           "angularaxis": {
            "gridcolor": "#EBF0F8",
            "linecolor": "#EBF0F8",
            "ticks": ""
           },
           "bgcolor": "white",
           "radialaxis": {
            "gridcolor": "#EBF0F8",
            "linecolor": "#EBF0F8",
            "ticks": ""
           }
          },
          "scene": {
           "xaxis": {
            "backgroundcolor": "white",
            "gridcolor": "#DFE8F3",
            "gridwidth": 2,
            "linecolor": "#EBF0F8",
            "showbackground": true,
            "ticks": "",
            "zerolinecolor": "#EBF0F8"
           },
           "yaxis": {
            "backgroundcolor": "white",
            "gridcolor": "#DFE8F3",
            "gridwidth": 2,
            "linecolor": "#EBF0F8",
            "showbackground": true,
            "ticks": "",
            "zerolinecolor": "#EBF0F8"
           },
           "zaxis": {
            "backgroundcolor": "white",
            "gridcolor": "#DFE8F3",
            "gridwidth": 2,
            "linecolor": "#EBF0F8",
            "showbackground": true,
            "ticks": "",
            "zerolinecolor": "#EBF0F8"
           }
          },
          "shapedefaults": {
           "line": {
            "color": "#2a3f5f"
           }
          },
          "ternary": {
           "aaxis": {
            "gridcolor": "#DFE8F3",
            "linecolor": "#A2B1C6",
            "ticks": ""
           },
           "baxis": {
            "gridcolor": "#DFE8F3",
            "linecolor": "#A2B1C6",
            "ticks": ""
           },
           "bgcolor": "white",
           "caxis": {
            "gridcolor": "#DFE8F3",
            "linecolor": "#A2B1C6",
            "ticks": ""
           }
          },
          "title": {
           "x": 0.05
          },
          "xaxis": {
           "automargin": true,
           "gridcolor": "#EBF0F8",
           "linecolor": "#EBF0F8",
           "ticks": "",
           "title": {
            "standoff": 15
           },
           "zerolinecolor": "#EBF0F8",
           "zerolinewidth": 2
          },
          "yaxis": {
           "automargin": true,
           "gridcolor": "#EBF0F8",
           "linecolor": "#EBF0F8",
           "ticks": "",
           "title": {
            "standoff": 15
           },
           "zerolinecolor": "#EBF0F8",
           "zerolinewidth": 2
          }
         }
        },
        "title": {
         "text": "Total Percentage of Relationships"
        }
       }
      }
     },
     "metadata": {},
     "output_type": "display_data"
    }
   ],
   "source": [
    "fig3 = px.pie(tinder.relationship, names='relationship', title='Total Percentage of Relationships', template='plotly_white', height=600)\n",
    "fig3"
   ]
  },
  {
   "cell_type": "markdown",
   "metadata": {},
   "source": [
    "##### Fig 3 Description"
   ]
  },
  {
   "cell_type": "markdown",
   "metadata": {},
   "source": [
    "Within the dataset, 64.9% of respondents are in a relationship, while the remaining 35.1% are not in a relationship. This shows a class imbalance within the dataset. "
   ]
  },
  {
   "cell_type": "code",
   "execution_count": 36,
   "metadata": {},
   "outputs": [],
   "source": [
    "# fig3.write_html('HTML/fig3.html')"
   ]
  },
  {
   "cell_type": "code",
   "execution_count": 37,
   "metadata": {},
   "outputs": [],
   "source": [
    "# convert_json(px.pie(tinder.relationship, names='relationship', title='Total Percentage of Relationships', template='plotly_white', height=600))"
   ]
  },
  {
   "cell_type": "markdown",
   "metadata": {},
   "source": [
    "More people are not ina relationship"
   ]
  },
  {
   "cell_type": "markdown",
   "metadata": {},
   "source": [
    "##### Fig 4"
   ]
  },
  {
   "cell_type": "code",
   "execution_count": 38,
   "metadata": {},
   "outputs": [],
   "source": [
    "# convert_json(tinder[tinder.answer=='Yes'].relationship.value_counts())"
   ]
  },
  {
   "cell_type": "code",
   "execution_count": 39,
   "metadata": {},
   "outputs": [
    {
     "data": {
      "application/vnd.plotly.v1+json": {
       "config": {
        "plotlyServerURL": "https://plot.ly"
       },
       "data": [
        {
         "domain": {
          "x": [
           0,
           1
          ],
          "y": [
           0,
           1
          ]
         },
         "hovertemplate": "relationship=%{label}<extra></extra>",
         "labels": [
          0,
          1,
          0,
          1,
          0,
          0,
          0,
          1,
          0,
          1,
          1,
          0,
          0,
          0,
          1,
          1,
          1,
          1,
          0,
          1,
          1,
          0,
          0,
          0,
          0,
          0,
          1,
          1,
          0,
          0,
          1,
          0,
          0,
          1,
          1,
          1,
          0,
          1,
          1,
          0,
          0,
          0,
          0,
          1,
          1,
          1,
          1,
          1,
          1,
          1,
          1,
          1,
          1,
          1,
          0,
          0,
          1,
          0,
          1,
          0,
          0,
          1,
          1,
          1,
          1,
          1,
          0,
          1,
          0,
          0,
          1,
          1,
          0,
          0,
          0,
          1,
          1,
          0,
          1,
          0,
          0,
          0,
          0,
          1,
          1,
          1,
          1,
          1,
          1,
          1,
          1,
          0,
          1,
          1,
          1,
          0,
          1,
          1,
          1,
          0,
          0,
          0,
          0,
          0,
          0,
          0,
          1,
          1,
          1,
          1,
          1,
          0,
          0,
          0,
          1,
          0,
          1,
          0,
          0,
          0,
          1,
          1,
          1,
          1,
          0,
          1,
          1,
          1,
          0,
          0,
          1,
          0,
          1,
          0,
          0,
          1,
          1,
          1,
          0,
          0,
          0,
          1,
          0,
          0,
          0,
          0,
          1,
          1,
          1,
          1,
          0,
          0,
          1,
          1,
          0,
          1,
          0,
          1,
          1,
          0,
          0,
          0,
          0,
          0
         ],
         "legendgroup": "",
         "name": "",
         "showlegend": true,
         "type": "pie"
        }
       ],
       "layout": {
        "height": 600,
        "legend": {
         "tracegroupgap": 0
        },
        "template": {
         "data": {
          "bar": [
           {
            "error_x": {
             "color": "#2a3f5f"
            },
            "error_y": {
             "color": "#2a3f5f"
            },
            "marker": {
             "line": {
              "color": "white",
              "width": 0.5
             },
             "pattern": {
              "fillmode": "overlay",
              "size": 10,
              "solidity": 0.2
             }
            },
            "type": "bar"
           }
          ],
          "barpolar": [
           {
            "marker": {
             "line": {
              "color": "white",
              "width": 0.5
             },
             "pattern": {
              "fillmode": "overlay",
              "size": 10,
              "solidity": 0.2
             }
            },
            "type": "barpolar"
           }
          ],
          "carpet": [
           {
            "aaxis": {
             "endlinecolor": "#2a3f5f",
             "gridcolor": "#C8D4E3",
             "linecolor": "#C8D4E3",
             "minorgridcolor": "#C8D4E3",
             "startlinecolor": "#2a3f5f"
            },
            "baxis": {
             "endlinecolor": "#2a3f5f",
             "gridcolor": "#C8D4E3",
             "linecolor": "#C8D4E3",
             "minorgridcolor": "#C8D4E3",
             "startlinecolor": "#2a3f5f"
            },
            "type": "carpet"
           }
          ],
          "choropleth": [
           {
            "colorbar": {
             "outlinewidth": 0,
             "ticks": ""
            },
            "type": "choropleth"
           }
          ],
          "contour": [
           {
            "colorbar": {
             "outlinewidth": 0,
             "ticks": ""
            },
            "colorscale": [
             [
              0,
              "#0d0887"
             ],
             [
              0.1111111111111111,
              "#46039f"
             ],
             [
              0.2222222222222222,
              "#7201a8"
             ],
             [
              0.3333333333333333,
              "#9c179e"
             ],
             [
              0.4444444444444444,
              "#bd3786"
             ],
             [
              0.5555555555555556,
              "#d8576b"
             ],
             [
              0.6666666666666666,
              "#ed7953"
             ],
             [
              0.7777777777777778,
              "#fb9f3a"
             ],
             [
              0.8888888888888888,
              "#fdca26"
             ],
             [
              1,
              "#f0f921"
             ]
            ],
            "type": "contour"
           }
          ],
          "contourcarpet": [
           {
            "colorbar": {
             "outlinewidth": 0,
             "ticks": ""
            },
            "type": "contourcarpet"
           }
          ],
          "heatmap": [
           {
            "colorbar": {
             "outlinewidth": 0,
             "ticks": ""
            },
            "colorscale": [
             [
              0,
              "#0d0887"
             ],
             [
              0.1111111111111111,
              "#46039f"
             ],
             [
              0.2222222222222222,
              "#7201a8"
             ],
             [
              0.3333333333333333,
              "#9c179e"
             ],
             [
              0.4444444444444444,
              "#bd3786"
             ],
             [
              0.5555555555555556,
              "#d8576b"
             ],
             [
              0.6666666666666666,
              "#ed7953"
             ],
             [
              0.7777777777777778,
              "#fb9f3a"
             ],
             [
              0.8888888888888888,
              "#fdca26"
             ],
             [
              1,
              "#f0f921"
             ]
            ],
            "type": "heatmap"
           }
          ],
          "heatmapgl": [
           {
            "colorbar": {
             "outlinewidth": 0,
             "ticks": ""
            },
            "colorscale": [
             [
              0,
              "#0d0887"
             ],
             [
              0.1111111111111111,
              "#46039f"
             ],
             [
              0.2222222222222222,
              "#7201a8"
             ],
             [
              0.3333333333333333,
              "#9c179e"
             ],
             [
              0.4444444444444444,
              "#bd3786"
             ],
             [
              0.5555555555555556,
              "#d8576b"
             ],
             [
              0.6666666666666666,
              "#ed7953"
             ],
             [
              0.7777777777777778,
              "#fb9f3a"
             ],
             [
              0.8888888888888888,
              "#fdca26"
             ],
             [
              1,
              "#f0f921"
             ]
            ],
            "type": "heatmapgl"
           }
          ],
          "histogram": [
           {
            "marker": {
             "pattern": {
              "fillmode": "overlay",
              "size": 10,
              "solidity": 0.2
             }
            },
            "type": "histogram"
           }
          ],
          "histogram2d": [
           {
            "colorbar": {
             "outlinewidth": 0,
             "ticks": ""
            },
            "colorscale": [
             [
              0,
              "#0d0887"
             ],
             [
              0.1111111111111111,
              "#46039f"
             ],
             [
              0.2222222222222222,
              "#7201a8"
             ],
             [
              0.3333333333333333,
              "#9c179e"
             ],
             [
              0.4444444444444444,
              "#bd3786"
             ],
             [
              0.5555555555555556,
              "#d8576b"
             ],
             [
              0.6666666666666666,
              "#ed7953"
             ],
             [
              0.7777777777777778,
              "#fb9f3a"
             ],
             [
              0.8888888888888888,
              "#fdca26"
             ],
             [
              1,
              "#f0f921"
             ]
            ],
            "type": "histogram2d"
           }
          ],
          "histogram2dcontour": [
           {
            "colorbar": {
             "outlinewidth": 0,
             "ticks": ""
            },
            "colorscale": [
             [
              0,
              "#0d0887"
             ],
             [
              0.1111111111111111,
              "#46039f"
             ],
             [
              0.2222222222222222,
              "#7201a8"
             ],
             [
              0.3333333333333333,
              "#9c179e"
             ],
             [
              0.4444444444444444,
              "#bd3786"
             ],
             [
              0.5555555555555556,
              "#d8576b"
             ],
             [
              0.6666666666666666,
              "#ed7953"
             ],
             [
              0.7777777777777778,
              "#fb9f3a"
             ],
             [
              0.8888888888888888,
              "#fdca26"
             ],
             [
              1,
              "#f0f921"
             ]
            ],
            "type": "histogram2dcontour"
           }
          ],
          "mesh3d": [
           {
            "colorbar": {
             "outlinewidth": 0,
             "ticks": ""
            },
            "type": "mesh3d"
           }
          ],
          "parcoords": [
           {
            "line": {
             "colorbar": {
              "outlinewidth": 0,
              "ticks": ""
             }
            },
            "type": "parcoords"
           }
          ],
          "pie": [
           {
            "automargin": true,
            "type": "pie"
           }
          ],
          "scatter": [
           {
            "marker": {
             "colorbar": {
              "outlinewidth": 0,
              "ticks": ""
             }
            },
            "type": "scatter"
           }
          ],
          "scatter3d": [
           {
            "line": {
             "colorbar": {
              "outlinewidth": 0,
              "ticks": ""
             }
            },
            "marker": {
             "colorbar": {
              "outlinewidth": 0,
              "ticks": ""
             }
            },
            "type": "scatter3d"
           }
          ],
          "scattercarpet": [
           {
            "marker": {
             "colorbar": {
              "outlinewidth": 0,
              "ticks": ""
             }
            },
            "type": "scattercarpet"
           }
          ],
          "scattergeo": [
           {
            "marker": {
             "colorbar": {
              "outlinewidth": 0,
              "ticks": ""
             }
            },
            "type": "scattergeo"
           }
          ],
          "scattergl": [
           {
            "marker": {
             "colorbar": {
              "outlinewidth": 0,
              "ticks": ""
             }
            },
            "type": "scattergl"
           }
          ],
          "scattermapbox": [
           {
            "marker": {
             "colorbar": {
              "outlinewidth": 0,
              "ticks": ""
             }
            },
            "type": "scattermapbox"
           }
          ],
          "scatterpolar": [
           {
            "marker": {
             "colorbar": {
              "outlinewidth": 0,
              "ticks": ""
             }
            },
            "type": "scatterpolar"
           }
          ],
          "scatterpolargl": [
           {
            "marker": {
             "colorbar": {
              "outlinewidth": 0,
              "ticks": ""
             }
            },
            "type": "scatterpolargl"
           }
          ],
          "scatterternary": [
           {
            "marker": {
             "colorbar": {
              "outlinewidth": 0,
              "ticks": ""
             }
            },
            "type": "scatterternary"
           }
          ],
          "surface": [
           {
            "colorbar": {
             "outlinewidth": 0,
             "ticks": ""
            },
            "colorscale": [
             [
              0,
              "#0d0887"
             ],
             [
              0.1111111111111111,
              "#46039f"
             ],
             [
              0.2222222222222222,
              "#7201a8"
             ],
             [
              0.3333333333333333,
              "#9c179e"
             ],
             [
              0.4444444444444444,
              "#bd3786"
             ],
             [
              0.5555555555555556,
              "#d8576b"
             ],
             [
              0.6666666666666666,
              "#ed7953"
             ],
             [
              0.7777777777777778,
              "#fb9f3a"
             ],
             [
              0.8888888888888888,
              "#fdca26"
             ],
             [
              1,
              "#f0f921"
             ]
            ],
            "type": "surface"
           }
          ],
          "table": [
           {
            "cells": {
             "fill": {
              "color": "#EBF0F8"
             },
             "line": {
              "color": "white"
             }
            },
            "header": {
             "fill": {
              "color": "#C8D4E3"
             },
             "line": {
              "color": "white"
             }
            },
            "type": "table"
           }
          ]
         },
         "layout": {
          "annotationdefaults": {
           "arrowcolor": "#2a3f5f",
           "arrowhead": 0,
           "arrowwidth": 1
          },
          "autotypenumbers": "strict",
          "coloraxis": {
           "colorbar": {
            "outlinewidth": 0,
            "ticks": ""
           }
          },
          "colorscale": {
           "diverging": [
            [
             0,
             "#8e0152"
            ],
            [
             0.1,
             "#c51b7d"
            ],
            [
             0.2,
             "#de77ae"
            ],
            [
             0.3,
             "#f1b6da"
            ],
            [
             0.4,
             "#fde0ef"
            ],
            [
             0.5,
             "#f7f7f7"
            ],
            [
             0.6,
             "#e6f5d0"
            ],
            [
             0.7,
             "#b8e186"
            ],
            [
             0.8,
             "#7fbc41"
            ],
            [
             0.9,
             "#4d9221"
            ],
            [
             1,
             "#276419"
            ]
           ],
           "sequential": [
            [
             0,
             "#0d0887"
            ],
            [
             0.1111111111111111,
             "#46039f"
            ],
            [
             0.2222222222222222,
             "#7201a8"
            ],
            [
             0.3333333333333333,
             "#9c179e"
            ],
            [
             0.4444444444444444,
             "#bd3786"
            ],
            [
             0.5555555555555556,
             "#d8576b"
            ],
            [
             0.6666666666666666,
             "#ed7953"
            ],
            [
             0.7777777777777778,
             "#fb9f3a"
            ],
            [
             0.8888888888888888,
             "#fdca26"
            ],
            [
             1,
             "#f0f921"
            ]
           ],
           "sequentialminus": [
            [
             0,
             "#0d0887"
            ],
            [
             0.1111111111111111,
             "#46039f"
            ],
            [
             0.2222222222222222,
             "#7201a8"
            ],
            [
             0.3333333333333333,
             "#9c179e"
            ],
            [
             0.4444444444444444,
             "#bd3786"
            ],
            [
             0.5555555555555556,
             "#d8576b"
            ],
            [
             0.6666666666666666,
             "#ed7953"
            ],
            [
             0.7777777777777778,
             "#fb9f3a"
            ],
            [
             0.8888888888888888,
             "#fdca26"
            ],
            [
             1,
             "#f0f921"
            ]
           ]
          },
          "colorway": [
           "#636efa",
           "#EF553B",
           "#00cc96",
           "#ab63fa",
           "#FFA15A",
           "#19d3f3",
           "#FF6692",
           "#B6E880",
           "#FF97FF",
           "#FECB52"
          ],
          "font": {
           "color": "#2a3f5f"
          },
          "geo": {
           "bgcolor": "white",
           "lakecolor": "white",
           "landcolor": "white",
           "showlakes": true,
           "showland": true,
           "subunitcolor": "#C8D4E3"
          },
          "hoverlabel": {
           "align": "left"
          },
          "hovermode": "closest",
          "mapbox": {
           "style": "light"
          },
          "paper_bgcolor": "white",
          "plot_bgcolor": "white",
          "polar": {
           "angularaxis": {
            "gridcolor": "#EBF0F8",
            "linecolor": "#EBF0F8",
            "ticks": ""
           },
           "bgcolor": "white",
           "radialaxis": {
            "gridcolor": "#EBF0F8",
            "linecolor": "#EBF0F8",
            "ticks": ""
           }
          },
          "scene": {
           "xaxis": {
            "backgroundcolor": "white",
            "gridcolor": "#DFE8F3",
            "gridwidth": 2,
            "linecolor": "#EBF0F8",
            "showbackground": true,
            "ticks": "",
            "zerolinecolor": "#EBF0F8"
           },
           "yaxis": {
            "backgroundcolor": "white",
            "gridcolor": "#DFE8F3",
            "gridwidth": 2,
            "linecolor": "#EBF0F8",
            "showbackground": true,
            "ticks": "",
            "zerolinecolor": "#EBF0F8"
           },
           "zaxis": {
            "backgroundcolor": "white",
            "gridcolor": "#DFE8F3",
            "gridwidth": 2,
            "linecolor": "#EBF0F8",
            "showbackground": true,
            "ticks": "",
            "zerolinecolor": "#EBF0F8"
           }
          },
          "shapedefaults": {
           "line": {
            "color": "#2a3f5f"
           }
          },
          "ternary": {
           "aaxis": {
            "gridcolor": "#DFE8F3",
            "linecolor": "#A2B1C6",
            "ticks": ""
           },
           "baxis": {
            "gridcolor": "#DFE8F3",
            "linecolor": "#A2B1C6",
            "ticks": ""
           },
           "bgcolor": "white",
           "caxis": {
            "gridcolor": "#DFE8F3",
            "linecolor": "#A2B1C6",
            "ticks": ""
           }
          },
          "title": {
           "x": 0.05
          },
          "xaxis": {
           "automargin": true,
           "gridcolor": "#EBF0F8",
           "linecolor": "#EBF0F8",
           "ticks": "",
           "title": {
            "standoff": 15
           },
           "zerolinecolor": "#EBF0F8",
           "zerolinewidth": 2
          },
          "yaxis": {
           "automargin": true,
           "gridcolor": "#EBF0F8",
           "linecolor": "#EBF0F8",
           "ticks": "",
           "title": {
            "standoff": 15
           },
           "zerolinecolor": "#EBF0F8",
           "zerolinewidth": 2
          }
         }
        },
        "title": {
         "text": "Relationships Found Using Tinder"
        }
       }
      }
     },
     "metadata": {},
     "output_type": "display_data"
    }
   ],
   "source": [
    "fig4 = px.pie(tinder[tinder.answer=='Yes'].relationship, names='relationship', title='Relationships Found Using Tinder', template='plotly_white', height=600)\n",
    "fig4"
   ]
  },
  {
   "cell_type": "code",
   "execution_count": 40,
   "metadata": {},
   "outputs": [],
   "source": [
    "# fig4.write_html('HTML/fig4.html')"
   ]
  },
  {
   "cell_type": "code",
   "execution_count": 41,
   "metadata": {},
   "outputs": [],
   "source": [
    "# convert_json(px.pie(tinder[tinder.answer=='Yes'].relationship, names='relationship', title='Relationships Found Using Tinder', template='plotly_white', height=600))"
   ]
  },
  {
   "cell_type": "markdown",
   "metadata": {},
   "source": [
    "A little more than half of the people that use tinder have found a relationship using the app"
   ]
  },
  {
   "cell_type": "markdown",
   "metadata": {},
   "source": [
    "##### Fig 5"
   ]
  },
  {
   "cell_type": "code",
   "execution_count": 42,
   "metadata": {},
   "outputs": [],
   "source": [
    "# convert_json(tinder[tinder.answer=='No'].relationship.value_counts())"
   ]
  },
  {
   "cell_type": "code",
   "execution_count": 43,
   "metadata": {},
   "outputs": [
    {
     "data": {
      "application/vnd.plotly.v1+json": {
       "config": {
        "plotlyServerURL": "https://plot.ly"
       },
       "data": [
        {
         "domain": {
          "x": [
           0,
           1
          ],
          "y": [
           0,
           1
          ]
         },
         "hovertemplate": "relationship=%{label}<extra></extra>",
         "labels": [
          0,
          0,
          0,
          0,
          0,
          0,
          0,
          0,
          0,
          0,
          0,
          0,
          0,
          0,
          0,
          0,
          0,
          0,
          0,
          0,
          1,
          0,
          0,
          0,
          0,
          0,
          0,
          1,
          1,
          0,
          1,
          0,
          0,
          0,
          0,
          1,
          0,
          0,
          0,
          1,
          1,
          0,
          0,
          1,
          0,
          1,
          0,
          1,
          0,
          1,
          0,
          0,
          0,
          1,
          0,
          1,
          0,
          0,
          0,
          0,
          0,
          1,
          0,
          0,
          1,
          1,
          0,
          0,
          0,
          1,
          1,
          0,
          0,
          0,
          0,
          0,
          0,
          1,
          0,
          0,
          1,
          0,
          1,
          0,
          0,
          0,
          0,
          0,
          0,
          1,
          1,
          1,
          0,
          0,
          1,
          1,
          0,
          1,
          0,
          1,
          1,
          1,
          0,
          1,
          1,
          1,
          1,
          0,
          1,
          0,
          1,
          0,
          0,
          0,
          0,
          0,
          1,
          0,
          1,
          0,
          1,
          0,
          0,
          0,
          0,
          1,
          0,
          0,
          1,
          0,
          1,
          0,
          0,
          1,
          0,
          0,
          0,
          1,
          0,
          0,
          0,
          1,
          1,
          0,
          1,
          0,
          1,
          1,
          0,
          0,
          0,
          0,
          0,
          1,
          0,
          1,
          0,
          0,
          1,
          1,
          1,
          1,
          0,
          0,
          0,
          0,
          0,
          1,
          0,
          0,
          1,
          0,
          0,
          1,
          1,
          1,
          1,
          0,
          1,
          0,
          0,
          1,
          0,
          0,
          1,
          1,
          0,
          0,
          0,
          0,
          0,
          1,
          1,
          1,
          1,
          0,
          0,
          1,
          0,
          0,
          0,
          0,
          0,
          0,
          1,
          0,
          0,
          1,
          0,
          0,
          0,
          0,
          0,
          0,
          1,
          0,
          1,
          0,
          1,
          0,
          0,
          0,
          1,
          0,
          0,
          1,
          0,
          1,
          0,
          1,
          0,
          0,
          0,
          0,
          0,
          1,
          1,
          1,
          1,
          1,
          0,
          1,
          1,
          0,
          1,
          0,
          0,
          1,
          0,
          0,
          0,
          0,
          0,
          0,
          1,
          1,
          0,
          0,
          0,
          1,
          0,
          0,
          0,
          0,
          1,
          0,
          0,
          0,
          0,
          0,
          0,
          0,
          1,
          0,
          0,
          0,
          0,
          1,
          0,
          0,
          0,
          0,
          1,
          1,
          1,
          0,
          0,
          1,
          0,
          0,
          1,
          1,
          0,
          1,
          1,
          0,
          0,
          0,
          1,
          0,
          0,
          0,
          0,
          0,
          1,
          0,
          0,
          0,
          1,
          0,
          0,
          0,
          1,
          1,
          0,
          0,
          1,
          0,
          0,
          0,
          0,
          0,
          1,
          1,
          0,
          0,
          1,
          0,
          0,
          1,
          0,
          0,
          1,
          1,
          1,
          0,
          0,
          0,
          1,
          1,
          1,
          1,
          1,
          0,
          1,
          0,
          0,
          0,
          1,
          0,
          1,
          1,
          1,
          1,
          0,
          1,
          0,
          0,
          1,
          1,
          1,
          1,
          0,
          0,
          0,
          0,
          0,
          1,
          0,
          1,
          1,
          1,
          1,
          1,
          0,
          1,
          0,
          1,
          0,
          0,
          0,
          1,
          1,
          1,
          0,
          1,
          0,
          0,
          0,
          0,
          1,
          1,
          1,
          1,
          1,
          0,
          0,
          0,
          0,
          0,
          0,
          0,
          0,
          0,
          1,
          1,
          0,
          1,
          0,
          0,
          1,
          0,
          0,
          0,
          0,
          0,
          0,
          1,
          0,
          0,
          1,
          0,
          0,
          0,
          1,
          1,
          0,
          1,
          0,
          1,
          0,
          1,
          0,
          0,
          0,
          1,
          0,
          0,
          0,
          0,
          0,
          0,
          0,
          0,
          0,
          0,
          0,
          0,
          0,
          0,
          1,
          0,
          0,
          0,
          0,
          0,
          0,
          0,
          0,
          1,
          0,
          0,
          1,
          0,
          1,
          0,
          0,
          0,
          0,
          0,
          0,
          0,
          0,
          0,
          0,
          0,
          1,
          0,
          0,
          1,
          0,
          0,
          0,
          0,
          0,
          0,
          0,
          1,
          0,
          0,
          0,
          1,
          1,
          1,
          1,
          1,
          1,
          0,
          1,
          0,
          0,
          1,
          0,
          0,
          0,
          0,
          0,
          0,
          0,
          0,
          0,
          0,
          0,
          0,
          0,
          0,
          0,
          1,
          0,
          0,
          0,
          1,
          0,
          1,
          0,
          0,
          1,
          0,
          1,
          0,
          0,
          1,
          1,
          1,
          0,
          1,
          1,
          0,
          0,
          1,
          1,
          1,
          0,
          0,
          1,
          0,
          0,
          1,
          0,
          0,
          0,
          1,
          0,
          0,
          0,
          0,
          0,
          0,
          1,
          0,
          0,
          0,
          0,
          0,
          0,
          0,
          1,
          0,
          1,
          0,
          0,
          0,
          0,
          0,
          0,
          0,
          0,
          0,
          0,
          0,
          1,
          1,
          0,
          0,
          1,
          0,
          0,
          0,
          0,
          0,
          1,
          1,
          1,
          1,
          0,
          0,
          1,
          0,
          0,
          0,
          1,
          0,
          0,
          1,
          0,
          0,
          0,
          1,
          0,
          1,
          0,
          0,
          0,
          0,
          1,
          1,
          0,
          0,
          1,
          1,
          1,
          0,
          0,
          1,
          0,
          1,
          0,
          0,
          1,
          0,
          0,
          0,
          0,
          0,
          1,
          0,
          0,
          1,
          0,
          1,
          0,
          0,
          1,
          0,
          0,
          1,
          1,
          0,
          0,
          1,
          0,
          0,
          1,
          0,
          0,
          0,
          0,
          0,
          0,
          0,
          0,
          1,
          0,
          1,
          1,
          1,
          0,
          0,
          0,
          1,
          0,
          0,
          1,
          0,
          0,
          0,
          0,
          1,
          0,
          0,
          1,
          0,
          0,
          0,
          1,
          0,
          1,
          0,
          0,
          0,
          0,
          0,
          1,
          0,
          0,
          0,
          0,
          0,
          0,
          0,
          0,
          1,
          0,
          1,
          1,
          0,
          1,
          1,
          1,
          0,
          0,
          0,
          0,
          1,
          1,
          1,
          0,
          0,
          0,
          0,
          0,
          1,
          1,
          1,
          1,
          0,
          0,
          1,
          1,
          0,
          0,
          0,
          0,
          1,
          0,
          1,
          1,
          0,
          0,
          0,
          0,
          0,
          0,
          1,
          0,
          0,
          0,
          0,
          0,
          0,
          0,
          0,
          0,
          1,
          0,
          0,
          1,
          0,
          0,
          0,
          0,
          1,
          0,
          0,
          0,
          0,
          0,
          0,
          0,
          1,
          0,
          0,
          0,
          0,
          0,
          0,
          1,
          1,
          0,
          0,
          1,
          1,
          0,
          0,
          1,
          1,
          0,
          0,
          1,
          0,
          1,
          0,
          0,
          0,
          0,
          1,
          0,
          0,
          0,
          1,
          1,
          0,
          1,
          1,
          1,
          0,
          0,
          0,
          0,
          1,
          0,
          1,
          0,
          1,
          0,
          0,
          1,
          1,
          0,
          0,
          0,
          0,
          1,
          0,
          0,
          0,
          0,
          0,
          1,
          1,
          1,
          1,
          1,
          0,
          1,
          0,
          1,
          0,
          1,
          0,
          0,
          0,
          1,
          1,
          0,
          1,
          1,
          0,
          1,
          0,
          0,
          1,
          1,
          0,
          1,
          1,
          0,
          0,
          1,
          0,
          1,
          1,
          0,
          0,
          0,
          1,
          0,
          0,
          0,
          1,
          0,
          1,
          0,
          0,
          1,
          0,
          0,
          1,
          1,
          1,
          0,
          1,
          1,
          0,
          1,
          1,
          0,
          0,
          0,
          0,
          0,
          1,
          0,
          0,
          1,
          0,
          0,
          0,
          0,
          0,
          1,
          0,
          0,
          0,
          1,
          1,
          1,
          1,
          1,
          0,
          1,
          0,
          0,
          0,
          0,
          0,
          1,
          0,
          0,
          0,
          0,
          1,
          0,
          0,
          0,
          0,
          0,
          0,
          1,
          0,
          1,
          0,
          0,
          1,
          0,
          0,
          1,
          1,
          0,
          1,
          0,
          0,
          0,
          1,
          1,
          1,
          1,
          0,
          0,
          0,
          0,
          1,
          0,
          1,
          0,
          1,
          1,
          1,
          0,
          0,
          0,
          0,
          0,
          1,
          0,
          0,
          1,
          0,
          1,
          0,
          0,
          0,
          0,
          0,
          0,
          0,
          0,
          0,
          1,
          1,
          0,
          0,
          1,
          0,
          0,
          0,
          1,
          0,
          1,
          1,
          0,
          0,
          0,
          1,
          1,
          1,
          0,
          0,
          0,
          1,
          0,
          1,
          0,
          0,
          0,
          0,
          0,
          0,
          0,
          1,
          1,
          0,
          1,
          0,
          0,
          0,
          0,
          0,
          1,
          0,
          0,
          0,
          1,
          1,
          1,
          0,
          0,
          0,
          1,
          1,
          0,
          1,
          0,
          0,
          0,
          1,
          0,
          1,
          0,
          0,
          0,
          0,
          1,
          0,
          0,
          0,
          1,
          0,
          0,
          0,
          0,
          0,
          1,
          1,
          0,
          0,
          1,
          0,
          1,
          0,
          1,
          0,
          1,
          0,
          0,
          0,
          0,
          0,
          0,
          0,
          0,
          0,
          1,
          0,
          1,
          0,
          1,
          0,
          1,
          0,
          1,
          1,
          0,
          0,
          0,
          0,
          0,
          1,
          1,
          1,
          0,
          0,
          1,
          0,
          1,
          0,
          0,
          0,
          1,
          0,
          1,
          0,
          0,
          0,
          0,
          0,
          1,
          1,
          1,
          1,
          1,
          0,
          0,
          1,
          1,
          0,
          0,
          0,
          1,
          0,
          0,
          0,
          0,
          0,
          0,
          0,
          0,
          0,
          1,
          0,
          0,
          0,
          0,
          0,
          0,
          0,
          0,
          0,
          0,
          0,
          0,
          0,
          0,
          0,
          1,
          0,
          0,
          1,
          0,
          0,
          0,
          1,
          1,
          0,
          1,
          0,
          1,
          0,
          1,
          0,
          0,
          1,
          0,
          0,
          0,
          1,
          0,
          1,
          0,
          1,
          0,
          0,
          1,
          0,
          0,
          0,
          0,
          0,
          0,
          0,
          0,
          0,
          1,
          1,
          1,
          0,
          1,
          1,
          1,
          0,
          0,
          0,
          1,
          0,
          0,
          0,
          1,
          0,
          0,
          0,
          0,
          1,
          0,
          0,
          1,
          0,
          0,
          1,
          0,
          0,
          0,
          0,
          1,
          0,
          1,
          0,
          0,
          0,
          1,
          0,
          1,
          0,
          0,
          0,
          0,
          1,
          0,
          0,
          1,
          0,
          1,
          0,
          0,
          0,
          0,
          0,
          0,
          0,
          0,
          0,
          0,
          0,
          0,
          0,
          0,
          0,
          0,
          0,
          0,
          1,
          0,
          1,
          0,
          1,
          0,
          0,
          1,
          1,
          1,
          0,
          0,
          0,
          0,
          1,
          0,
          1,
          1,
          1,
          0,
          0,
          0,
          1,
          0,
          0,
          0,
          1,
          1,
          0,
          0,
          0,
          0,
          1,
          1,
          0,
          0,
          0,
          0,
          0,
          1,
          0,
          0,
          1,
          0,
          0,
          0,
          1,
          0,
          0,
          0,
          0,
          0,
          0,
          1,
          0,
          0,
          0,
          1,
          0,
          0,
          0,
          0,
          0,
          1,
          0,
          1,
          0,
          1,
          0,
          0,
          0,
          0,
          0,
          0,
          0,
          1,
          0,
          0,
          0,
          1,
          1,
          0,
          1,
          1,
          0,
          0,
          0,
          0,
          0,
          0,
          0,
          0,
          0,
          1,
          0,
          1,
          1,
          0,
          1,
          0,
          1,
          0,
          0,
          0,
          1,
          1,
          0,
          1,
          0,
          1,
          0,
          0,
          0,
          0,
          0,
          1,
          0,
          0,
          0,
          1,
          0,
          0,
          0,
          1,
          1,
          0,
          0,
          0,
          0,
          0,
          0,
          1,
          1,
          0,
          1,
          0,
          1,
          1,
          0,
          0,
          1,
          0,
          0,
          0,
          1,
          0,
          0,
          0,
          0,
          0,
          1,
          1,
          0,
          0,
          0,
          0,
          0,
          1,
          0,
          1,
          1,
          0,
          1,
          1,
          0,
          1,
          0,
          0,
          0,
          0,
          0,
          0,
          1,
          1,
          0,
          0,
          0,
          0,
          0,
          0,
          0,
          0,
          1,
          1,
          0,
          1,
          0,
          0,
          1,
          1,
          0,
          0,
          0,
          0,
          1,
          0,
          0,
          0,
          0,
          1,
          1,
          0,
          0,
          0,
          0,
          0,
          0,
          1,
          0,
          1,
          0,
          0,
          0,
          0,
          0,
          0,
          1,
          0,
          0,
          1,
          1,
          1,
          1,
          1,
          0,
          0,
          0,
          0,
          0,
          0,
          0,
          0,
          0,
          0,
          0,
          0,
          1,
          0,
          1,
          1,
          1,
          1,
          0,
          0,
          0,
          0,
          1,
          1,
          1,
          0,
          0,
          0,
          0,
          1,
          1,
          1,
          1,
          1,
          0,
          0,
          1,
          0,
          0,
          0,
          1,
          0,
          0,
          0,
          0,
          0,
          0,
          0,
          0,
          0,
          0,
          0,
          1,
          0,
          0,
          0,
          0,
          0,
          0,
          0,
          0,
          0,
          1,
          0,
          1,
          0,
          0,
          0,
          0,
          1,
          0,
          0,
          0,
          1,
          1,
          0,
          0,
          0,
          0,
          0,
          0,
          0,
          0,
          0,
          0,
          1,
          0,
          0,
          1,
          1,
          0,
          1,
          0,
          0,
          0,
          0,
          0,
          0,
          1,
          0,
          1,
          1,
          1,
          0,
          1,
          1,
          0,
          1,
          1,
          1,
          0,
          0,
          0,
          0,
          1,
          1,
          0,
          1,
          0,
          0,
          0,
          0,
          0,
          0,
          0,
          0,
          0,
          0,
          1,
          0,
          0,
          0,
          0,
          0,
          0,
          1,
          0,
          1,
          0,
          0,
          0,
          0,
          0,
          0,
          0,
          1,
          0,
          1,
          0,
          1,
          0,
          0,
          0,
          1,
          0,
          0,
          0,
          1,
          1,
          1,
          0,
          0,
          0,
          0,
          0,
          1,
          1,
          0,
          0,
          0,
          0,
          0,
          1,
          0,
          1,
          1,
          1,
          1,
          1,
          1,
          0,
          1,
          0,
          1,
          0,
          0,
          0,
          0,
          0,
          0,
          0,
          0,
          0,
          1,
          1,
          0,
          1,
          1,
          0,
          0,
          0,
          0,
          1,
          0,
          1,
          0,
          0,
          0,
          1,
          1,
          0,
          0,
          1,
          1,
          0,
          0,
          1,
          0,
          0,
          1,
          0,
          0,
          1,
          1,
          0,
          0,
          0,
          1,
          1,
          0,
          0,
          1,
          0,
          1,
          0,
          0,
          0,
          1,
          0,
          0,
          1,
          0,
          0,
          1,
          1,
          0,
          1,
          1,
          1,
          1,
          1,
          0,
          1,
          0,
          0,
          0,
          0,
          0,
          0
         ],
         "legendgroup": "",
         "name": "",
         "showlegend": true,
         "type": "pie"
        }
       ],
       "layout": {
        "height": 600,
        "legend": {
         "tracegroupgap": 0
        },
        "template": {
         "data": {
          "bar": [
           {
            "error_x": {
             "color": "#2a3f5f"
            },
            "error_y": {
             "color": "#2a3f5f"
            },
            "marker": {
             "line": {
              "color": "white",
              "width": 0.5
             },
             "pattern": {
              "fillmode": "overlay",
              "size": 10,
              "solidity": 0.2
             }
            },
            "type": "bar"
           }
          ],
          "barpolar": [
           {
            "marker": {
             "line": {
              "color": "white",
              "width": 0.5
             },
             "pattern": {
              "fillmode": "overlay",
              "size": 10,
              "solidity": 0.2
             }
            },
            "type": "barpolar"
           }
          ],
          "carpet": [
           {
            "aaxis": {
             "endlinecolor": "#2a3f5f",
             "gridcolor": "#C8D4E3",
             "linecolor": "#C8D4E3",
             "minorgridcolor": "#C8D4E3",
             "startlinecolor": "#2a3f5f"
            },
            "baxis": {
             "endlinecolor": "#2a3f5f",
             "gridcolor": "#C8D4E3",
             "linecolor": "#C8D4E3",
             "minorgridcolor": "#C8D4E3",
             "startlinecolor": "#2a3f5f"
            },
            "type": "carpet"
           }
          ],
          "choropleth": [
           {
            "colorbar": {
             "outlinewidth": 0,
             "ticks": ""
            },
            "type": "choropleth"
           }
          ],
          "contour": [
           {
            "colorbar": {
             "outlinewidth": 0,
             "ticks": ""
            },
            "colorscale": [
             [
              0,
              "#0d0887"
             ],
             [
              0.1111111111111111,
              "#46039f"
             ],
             [
              0.2222222222222222,
              "#7201a8"
             ],
             [
              0.3333333333333333,
              "#9c179e"
             ],
             [
              0.4444444444444444,
              "#bd3786"
             ],
             [
              0.5555555555555556,
              "#d8576b"
             ],
             [
              0.6666666666666666,
              "#ed7953"
             ],
             [
              0.7777777777777778,
              "#fb9f3a"
             ],
             [
              0.8888888888888888,
              "#fdca26"
             ],
             [
              1,
              "#f0f921"
             ]
            ],
            "type": "contour"
           }
          ],
          "contourcarpet": [
           {
            "colorbar": {
             "outlinewidth": 0,
             "ticks": ""
            },
            "type": "contourcarpet"
           }
          ],
          "heatmap": [
           {
            "colorbar": {
             "outlinewidth": 0,
             "ticks": ""
            },
            "colorscale": [
             [
              0,
              "#0d0887"
             ],
             [
              0.1111111111111111,
              "#46039f"
             ],
             [
              0.2222222222222222,
              "#7201a8"
             ],
             [
              0.3333333333333333,
              "#9c179e"
             ],
             [
              0.4444444444444444,
              "#bd3786"
             ],
             [
              0.5555555555555556,
              "#d8576b"
             ],
             [
              0.6666666666666666,
              "#ed7953"
             ],
             [
              0.7777777777777778,
              "#fb9f3a"
             ],
             [
              0.8888888888888888,
              "#fdca26"
             ],
             [
              1,
              "#f0f921"
             ]
            ],
            "type": "heatmap"
           }
          ],
          "heatmapgl": [
           {
            "colorbar": {
             "outlinewidth": 0,
             "ticks": ""
            },
            "colorscale": [
             [
              0,
              "#0d0887"
             ],
             [
              0.1111111111111111,
              "#46039f"
             ],
             [
              0.2222222222222222,
              "#7201a8"
             ],
             [
              0.3333333333333333,
              "#9c179e"
             ],
             [
              0.4444444444444444,
              "#bd3786"
             ],
             [
              0.5555555555555556,
              "#d8576b"
             ],
             [
              0.6666666666666666,
              "#ed7953"
             ],
             [
              0.7777777777777778,
              "#fb9f3a"
             ],
             [
              0.8888888888888888,
              "#fdca26"
             ],
             [
              1,
              "#f0f921"
             ]
            ],
            "type": "heatmapgl"
           }
          ],
          "histogram": [
           {
            "marker": {
             "pattern": {
              "fillmode": "overlay",
              "size": 10,
              "solidity": 0.2
             }
            },
            "type": "histogram"
           }
          ],
          "histogram2d": [
           {
            "colorbar": {
             "outlinewidth": 0,
             "ticks": ""
            },
            "colorscale": [
             [
              0,
              "#0d0887"
             ],
             [
              0.1111111111111111,
              "#46039f"
             ],
             [
              0.2222222222222222,
              "#7201a8"
             ],
             [
              0.3333333333333333,
              "#9c179e"
             ],
             [
              0.4444444444444444,
              "#bd3786"
             ],
             [
              0.5555555555555556,
              "#d8576b"
             ],
             [
              0.6666666666666666,
              "#ed7953"
             ],
             [
              0.7777777777777778,
              "#fb9f3a"
             ],
             [
              0.8888888888888888,
              "#fdca26"
             ],
             [
              1,
              "#f0f921"
             ]
            ],
            "type": "histogram2d"
           }
          ],
          "histogram2dcontour": [
           {
            "colorbar": {
             "outlinewidth": 0,
             "ticks": ""
            },
            "colorscale": [
             [
              0,
              "#0d0887"
             ],
             [
              0.1111111111111111,
              "#46039f"
             ],
             [
              0.2222222222222222,
              "#7201a8"
             ],
             [
              0.3333333333333333,
              "#9c179e"
             ],
             [
              0.4444444444444444,
              "#bd3786"
             ],
             [
              0.5555555555555556,
              "#d8576b"
             ],
             [
              0.6666666666666666,
              "#ed7953"
             ],
             [
              0.7777777777777778,
              "#fb9f3a"
             ],
             [
              0.8888888888888888,
              "#fdca26"
             ],
             [
              1,
              "#f0f921"
             ]
            ],
            "type": "histogram2dcontour"
           }
          ],
          "mesh3d": [
           {
            "colorbar": {
             "outlinewidth": 0,
             "ticks": ""
            },
            "type": "mesh3d"
           }
          ],
          "parcoords": [
           {
            "line": {
             "colorbar": {
              "outlinewidth": 0,
              "ticks": ""
             }
            },
            "type": "parcoords"
           }
          ],
          "pie": [
           {
            "automargin": true,
            "type": "pie"
           }
          ],
          "scatter": [
           {
            "marker": {
             "colorbar": {
              "outlinewidth": 0,
              "ticks": ""
             }
            },
            "type": "scatter"
           }
          ],
          "scatter3d": [
           {
            "line": {
             "colorbar": {
              "outlinewidth": 0,
              "ticks": ""
             }
            },
            "marker": {
             "colorbar": {
              "outlinewidth": 0,
              "ticks": ""
             }
            },
            "type": "scatter3d"
           }
          ],
          "scattercarpet": [
           {
            "marker": {
             "colorbar": {
              "outlinewidth": 0,
              "ticks": ""
             }
            },
            "type": "scattercarpet"
           }
          ],
          "scattergeo": [
           {
            "marker": {
             "colorbar": {
              "outlinewidth": 0,
              "ticks": ""
             }
            },
            "type": "scattergeo"
           }
          ],
          "scattergl": [
           {
            "marker": {
             "colorbar": {
              "outlinewidth": 0,
              "ticks": ""
             }
            },
            "type": "scattergl"
           }
          ],
          "scattermapbox": [
           {
            "marker": {
             "colorbar": {
              "outlinewidth": 0,
              "ticks": ""
             }
            },
            "type": "scattermapbox"
           }
          ],
          "scatterpolar": [
           {
            "marker": {
             "colorbar": {
              "outlinewidth": 0,
              "ticks": ""
             }
            },
            "type": "scatterpolar"
           }
          ],
          "scatterpolargl": [
           {
            "marker": {
             "colorbar": {
              "outlinewidth": 0,
              "ticks": ""
             }
            },
            "type": "scatterpolargl"
           }
          ],
          "scatterternary": [
           {
            "marker": {
             "colorbar": {
              "outlinewidth": 0,
              "ticks": ""
             }
            },
            "type": "scatterternary"
           }
          ],
          "surface": [
           {
            "colorbar": {
             "outlinewidth": 0,
             "ticks": ""
            },
            "colorscale": [
             [
              0,
              "#0d0887"
             ],
             [
              0.1111111111111111,
              "#46039f"
             ],
             [
              0.2222222222222222,
              "#7201a8"
             ],
             [
              0.3333333333333333,
              "#9c179e"
             ],
             [
              0.4444444444444444,
              "#bd3786"
             ],
             [
              0.5555555555555556,
              "#d8576b"
             ],
             [
              0.6666666666666666,
              "#ed7953"
             ],
             [
              0.7777777777777778,
              "#fb9f3a"
             ],
             [
              0.8888888888888888,
              "#fdca26"
             ],
             [
              1,
              "#f0f921"
             ]
            ],
            "type": "surface"
           }
          ],
          "table": [
           {
            "cells": {
             "fill": {
              "color": "#EBF0F8"
             },
             "line": {
              "color": "white"
             }
            },
            "header": {
             "fill": {
              "color": "#C8D4E3"
             },
             "line": {
              "color": "white"
             }
            },
            "type": "table"
           }
          ]
         },
         "layout": {
          "annotationdefaults": {
           "arrowcolor": "#2a3f5f",
           "arrowhead": 0,
           "arrowwidth": 1
          },
          "autotypenumbers": "strict",
          "coloraxis": {
           "colorbar": {
            "outlinewidth": 0,
            "ticks": ""
           }
          },
          "colorscale": {
           "diverging": [
            [
             0,
             "#8e0152"
            ],
            [
             0.1,
             "#c51b7d"
            ],
            [
             0.2,
             "#de77ae"
            ],
            [
             0.3,
             "#f1b6da"
            ],
            [
             0.4,
             "#fde0ef"
            ],
            [
             0.5,
             "#f7f7f7"
            ],
            [
             0.6,
             "#e6f5d0"
            ],
            [
             0.7,
             "#b8e186"
            ],
            [
             0.8,
             "#7fbc41"
            ],
            [
             0.9,
             "#4d9221"
            ],
            [
             1,
             "#276419"
            ]
           ],
           "sequential": [
            [
             0,
             "#0d0887"
            ],
            [
             0.1111111111111111,
             "#46039f"
            ],
            [
             0.2222222222222222,
             "#7201a8"
            ],
            [
             0.3333333333333333,
             "#9c179e"
            ],
            [
             0.4444444444444444,
             "#bd3786"
            ],
            [
             0.5555555555555556,
             "#d8576b"
            ],
            [
             0.6666666666666666,
             "#ed7953"
            ],
            [
             0.7777777777777778,
             "#fb9f3a"
            ],
            [
             0.8888888888888888,
             "#fdca26"
            ],
            [
             1,
             "#f0f921"
            ]
           ],
           "sequentialminus": [
            [
             0,
             "#0d0887"
            ],
            [
             0.1111111111111111,
             "#46039f"
            ],
            [
             0.2222222222222222,
             "#7201a8"
            ],
            [
             0.3333333333333333,
             "#9c179e"
            ],
            [
             0.4444444444444444,
             "#bd3786"
            ],
            [
             0.5555555555555556,
             "#d8576b"
            ],
            [
             0.6666666666666666,
             "#ed7953"
            ],
            [
             0.7777777777777778,
             "#fb9f3a"
            ],
            [
             0.8888888888888888,
             "#fdca26"
            ],
            [
             1,
             "#f0f921"
            ]
           ]
          },
          "colorway": [
           "#636efa",
           "#EF553B",
           "#00cc96",
           "#ab63fa",
           "#FFA15A",
           "#19d3f3",
           "#FF6692",
           "#B6E880",
           "#FF97FF",
           "#FECB52"
          ],
          "font": {
           "color": "#2a3f5f"
          },
          "geo": {
           "bgcolor": "white",
           "lakecolor": "white",
           "landcolor": "white",
           "showlakes": true,
           "showland": true,
           "subunitcolor": "#C8D4E3"
          },
          "hoverlabel": {
           "align": "left"
          },
          "hovermode": "closest",
          "mapbox": {
           "style": "light"
          },
          "paper_bgcolor": "white",
          "plot_bgcolor": "white",
          "polar": {
           "angularaxis": {
            "gridcolor": "#EBF0F8",
            "linecolor": "#EBF0F8",
            "ticks": ""
           },
           "bgcolor": "white",
           "radialaxis": {
            "gridcolor": "#EBF0F8",
            "linecolor": "#EBF0F8",
            "ticks": ""
           }
          },
          "scene": {
           "xaxis": {
            "backgroundcolor": "white",
            "gridcolor": "#DFE8F3",
            "gridwidth": 2,
            "linecolor": "#EBF0F8",
            "showbackground": true,
            "ticks": "",
            "zerolinecolor": "#EBF0F8"
           },
           "yaxis": {
            "backgroundcolor": "white",
            "gridcolor": "#DFE8F3",
            "gridwidth": 2,
            "linecolor": "#EBF0F8",
            "showbackground": true,
            "ticks": "",
            "zerolinecolor": "#EBF0F8"
           },
           "zaxis": {
            "backgroundcolor": "white",
            "gridcolor": "#DFE8F3",
            "gridwidth": 2,
            "linecolor": "#EBF0F8",
            "showbackground": true,
            "ticks": "",
            "zerolinecolor": "#EBF0F8"
           }
          },
          "shapedefaults": {
           "line": {
            "color": "#2a3f5f"
           }
          },
          "ternary": {
           "aaxis": {
            "gridcolor": "#DFE8F3",
            "linecolor": "#A2B1C6",
            "ticks": ""
           },
           "baxis": {
            "gridcolor": "#DFE8F3",
            "linecolor": "#A2B1C6",
            "ticks": ""
           },
           "bgcolor": "white",
           "caxis": {
            "gridcolor": "#DFE8F3",
            "linecolor": "#A2B1C6",
            "ticks": ""
           }
          },
          "title": {
           "x": 0.05
          },
          "xaxis": {
           "automargin": true,
           "gridcolor": "#EBF0F8",
           "linecolor": "#EBF0F8",
           "ticks": "",
           "title": {
            "standoff": 15
           },
           "zerolinecolor": "#EBF0F8",
           "zerolinewidth": 2
          },
          "yaxis": {
           "automargin": true,
           "gridcolor": "#EBF0F8",
           "linecolor": "#EBF0F8",
           "ticks": "",
           "title": {
            "standoff": 15
           },
           "zerolinecolor": "#EBF0F8",
           "zerolinewidth": 2
          }
         }
        },
        "title": {
         "text": "Found a Relationship Without Tinder"
        }
       }
      }
     },
     "metadata": {},
     "output_type": "display_data"
    }
   ],
   "source": [
    "fig5 = px.pie(tinder[tinder.answer=='No'].relationship, names='relationship', title='Found a Relationship Without Tinder', template='plotly_white', height=600,)\n",
    "fig5"
   ]
  },
  {
   "cell_type": "code",
   "execution_count": 44,
   "metadata": {},
   "outputs": [],
   "source": [
    "# fig5.write_html('HTML/fig5.html')"
   ]
  },
  {
   "cell_type": "code",
   "execution_count": 45,
   "metadata": {},
   "outputs": [],
   "source": [
    "# convert_json(px.pie(tinder[tinder.answer=='No'].relationship, names='relationship', title='Found a Relationship Without Tinder', template='plotly_white', height=600,))"
   ]
  },
  {
   "cell_type": "markdown",
   "metadata": {},
   "source": [
    "A third of People not using Tinder have found a relationship"
   ]
  },
  {
   "cell_type": "markdown",
   "metadata": {},
   "source": [
    "##### FIG 6, 7, 8, 9, 10"
   ]
  },
  {
   "cell_type": "code",
   "execution_count": 46,
   "metadata": {},
   "outputs": [
    {
     "data": {
      "application/vnd.plotly.v1+json": {
       "config": {
        "plotlyServerURL": "https://plot.ly"
       },
       "data": [
        {
         "alignmentgroup": "True",
         "bingroup": "x",
         "hovertemplate": "variable=usage<br>USAGE=%{x}<br>count=%{y}<extra></extra>",
         "legendgroup": "usage",
         "marker": {
          "color": "red",
          "pattern": {
           "shape": ""
          }
         },
         "name": "usage",
         "offsetgroup": "usage",
         "orientation": "v",
         "showlegend": true,
         "type": "histogram",
         "x": [
          "web",
          "web",
          "gender",
          "web",
          "gender",
          "gender",
          "web",
          "university",
          "mobile",
          "web",
          "web",
          "gender",
          "gender",
          "web",
          "gender",
          "mobile",
          "gender",
          "web",
          "university",
          "university",
          "web",
          "university",
          "mobile",
          "mobile",
          "gender",
          "gender",
          "web",
          "gender",
          "web",
          "mobile",
          "university",
          "university",
          "gender",
          "university",
          "web",
          "university",
          "gender",
          "university",
          "gender",
          "mobile",
          "university",
          "gender",
          "web",
          "university",
          "mobile",
          "university",
          "gender",
          "university",
          "gender",
          "mobile",
          "web",
          "university",
          "web",
          "university",
          "web",
          "mobile",
          "gender",
          "university",
          "gender",
          "gender",
          "mobile",
          "gender",
          "university",
          "web",
          "university",
          "web",
          "gender",
          "gender",
          "university",
          "mobile",
          "gender",
          "university",
          "university",
          "gender",
          "web",
          "gender",
          "gender",
          "mobile",
          "university",
          "web",
          "web",
          "mobile",
          "web",
          "gender",
          "web",
          "mobile",
          "web",
          "university",
          "university",
          "mobile",
          "gender",
          "mobile",
          "web",
          "gender",
          "university",
          "web",
          "university",
          "university",
          "web",
          "mobile",
          "gender",
          "mobile",
          "web",
          "gender",
          "university",
          "university",
          "university",
          "mobile",
          "gender",
          "mobile",
          "gender",
          "university",
          "mobile",
          "mobile",
          "mobile",
          "mobile",
          "university",
          "web",
          "mobile",
          "web",
          "university",
          "gender",
          "web",
          "gender",
          "web",
          "mobile",
          "university",
          "university",
          "university",
          "mobile",
          "mobile",
          "mobile",
          "university",
          "web",
          "web",
          "web",
          "mobile",
          "gender",
          "university",
          "gender",
          "mobile",
          "web",
          "mobile",
          "gender",
          "web",
          "university",
          "gender",
          "gender",
          "university",
          "gender",
          "mobile",
          "web",
          "gender",
          "university",
          "web",
          "mobile",
          "mobile",
          "web",
          "mobile",
          "web",
          "university",
          "university",
          "mobile",
          "mobile",
          "mobile",
          "web",
          "gender",
          "university",
          "gender",
          "mobile",
          "web",
          "gender",
          "gender",
          "mobile",
          "mobile",
          "mobile",
          "mobile",
          "university",
          "mobile",
          "gender",
          "gender",
          "web",
          "university",
          "gender",
          "mobile",
          "gender",
          "university",
          "web",
          "university",
          "mobile",
          "web",
          "gender",
          "university",
          "university",
          "mobile",
          "mobile",
          "web",
          "mobile",
          "gender",
          "web",
          "mobile",
          "gender",
          "gender",
          "mobile",
          "gender",
          "mobile",
          "gender",
          "gender",
          "web",
          "web",
          "mobile",
          "mobile",
          "gender",
          "mobile",
          "mobile",
          "gender",
          "mobile",
          "gender",
          "web",
          "web",
          "gender",
          "gender",
          "gender",
          "mobile",
          "university",
          "web",
          "university",
          "web",
          "mobile",
          "gender",
          "university",
          "gender",
          "web",
          "university",
          "mobile",
          "gender",
          "university",
          "web",
          "mobile",
          "university",
          "web",
          "web",
          "university",
          "university",
          "mobile",
          "mobile",
          "web",
          "university",
          "university",
          "gender",
          "mobile",
          "mobile",
          "university",
          "web",
          "web",
          "web",
          "gender",
          "mobile",
          "mobile",
          "mobile",
          "mobile",
          "gender",
          "gender",
          "gender",
          "web",
          "university",
          "university",
          "gender",
          "gender",
          "university",
          "web",
          "web",
          "web",
          "mobile",
          "web",
          "mobile",
          "university",
          "gender",
          "web",
          "web",
          "mobile",
          "gender",
          "web",
          "web",
          "web",
          "mobile",
          "university",
          "gender",
          "web",
          "gender",
          "web",
          "web",
          "mobile",
          "gender",
          "university",
          "web",
          "gender",
          "gender",
          "web",
          "mobile",
          "gender",
          "web",
          "web",
          "gender",
          "gender",
          "mobile",
          "mobile",
          "university",
          "web",
          "web",
          "mobile",
          "university",
          "web",
          "mobile",
          "mobile",
          "university",
          "university",
          "mobile",
          "gender",
          "university",
          "university",
          "web",
          "mobile",
          "university",
          "web",
          "web",
          "web",
          "gender",
          "university",
          "gender",
          "mobile",
          "gender",
          "mobile",
          "gender",
          "university",
          "web",
          "university",
          "gender",
          "mobile",
          "web",
          "gender",
          "university",
          "mobile",
          "university",
          "web",
          "web",
          "gender",
          "gender",
          "university",
          "gender",
          "web",
          "university",
          "university",
          "gender",
          "gender",
          "mobile",
          "university",
          "web",
          "mobile",
          "university",
          "university",
          "university",
          "gender",
          "university",
          "web",
          "gender",
          "university",
          "gender",
          "university",
          "mobile",
          "mobile",
          "university",
          "mobile",
          "mobile",
          "mobile",
          "gender",
          "gender",
          "gender",
          "mobile",
          "web",
          "mobile",
          "mobile",
          "university",
          "mobile",
          "gender",
          "university",
          "mobile",
          "web",
          "gender",
          "university",
          "university",
          "mobile",
          "mobile",
          "web",
          "university",
          "web",
          "gender",
          "web",
          "gender",
          "mobile",
          "mobile",
          "mobile",
          "mobile",
          "mobile",
          "gender",
          "gender",
          "university",
          "gender",
          "gender",
          "mobile",
          "mobile",
          "gender",
          "gender",
          "university",
          "mobile",
          "mobile",
          "mobile",
          "university",
          "university",
          "mobile",
          "university",
          "gender",
          "mobile",
          "mobile",
          "web",
          "gender",
          "mobile",
          "gender",
          "mobile",
          "mobile",
          "university",
          "gender",
          "university",
          "gender",
          "university",
          "university",
          "gender",
          "gender",
          "web",
          "web",
          "gender",
          "mobile",
          "web",
          "mobile",
          "gender",
          "university",
          "web",
          "university",
          "university",
          "mobile",
          "gender",
          "gender",
          "university",
          "gender",
          "university",
          "web",
          "gender",
          "web",
          "university",
          "mobile",
          "gender",
          "mobile",
          "gender",
          "gender",
          "gender",
          "mobile",
          "mobile",
          "gender",
          "university",
          "gender",
          "mobile",
          "gender",
          "mobile",
          "gender",
          "web",
          "university",
          "web",
          "university",
          "web",
          "web",
          "mobile",
          "gender",
          "web",
          "university",
          "web",
          "web",
          "gender",
          "web",
          "web",
          "web",
          "web",
          "web",
          "web",
          "mobile",
          "gender",
          "university",
          "gender",
          "university",
          "web",
          "gender",
          "university",
          "web",
          "gender",
          "mobile",
          "gender",
          "web",
          "university",
          "gender",
          "mobile",
          "university",
          "gender",
          "gender",
          "gender",
          "gender",
          "gender",
          "gender",
          "web",
          "gender",
          "gender",
          "web",
          "web",
          "mobile",
          "gender",
          "gender",
          "university",
          "mobile",
          "gender",
          "mobile",
          "mobile",
          "university",
          "gender",
          "gender",
          "university",
          "web",
          "university",
          "university",
          "gender",
          "gender",
          "gender",
          "university",
          "mobile",
          "mobile",
          "university",
          "gender",
          "university",
          "gender",
          "gender",
          "web",
          "gender",
          "mobile",
          "mobile",
          "gender",
          "gender",
          "university",
          "mobile",
          "gender",
          "university",
          "gender",
          "university",
          "university",
          "web",
          "gender",
          "university",
          "gender",
          "mobile",
          "gender",
          "web",
          "mobile",
          "web",
          "mobile",
          "web",
          "mobile",
          "mobile",
          "gender",
          "mobile",
          "web",
          "mobile",
          "gender",
          "mobile",
          "mobile",
          "mobile",
          "university",
          "web",
          "mobile",
          "mobile",
          "web",
          "university",
          "gender",
          "university",
          "mobile",
          "mobile",
          "university",
          "web",
          "gender",
          "mobile",
          "web",
          "web",
          "mobile",
          "university",
          "university",
          "web",
          "mobile",
          "university",
          "university",
          "gender",
          "university",
          "mobile",
          "web",
          "web",
          "web",
          "mobile",
          "university",
          "mobile",
          "mobile",
          "gender",
          "gender",
          "web",
          "web",
          "mobile",
          "mobile",
          "web",
          "mobile",
          "gender",
          "gender",
          "gender",
          "mobile",
          "university",
          "web",
          "university",
          "web",
          "gender",
          "web",
          "university",
          "gender",
          "university",
          "mobile",
          "university",
          "gender",
          "university",
          "mobile",
          "gender",
          "web",
          "web",
          "web",
          "gender",
          "mobile",
          "mobile",
          "mobile",
          "university",
          "gender",
          "web",
          "gender",
          "university",
          "mobile",
          "web",
          "web",
          "mobile",
          "web",
          "web",
          "gender",
          "web",
          "web",
          "mobile",
          "university",
          "university",
          "university",
          "web",
          "gender",
          "gender",
          "mobile",
          "mobile",
          "mobile",
          "gender",
          "web",
          "gender",
          "university",
          "mobile",
          "mobile",
          "web",
          "mobile",
          "web",
          "university",
          "university",
          "university",
          "gender",
          "university",
          "mobile",
          "web",
          "gender",
          "mobile",
          "web",
          "web",
          "university",
          "web",
          "web",
          "university",
          "gender",
          "university",
          "university",
          "university",
          "web",
          "web",
          "university",
          "gender",
          "web",
          "mobile",
          "university",
          "web",
          "web",
          "mobile",
          "university",
          "gender",
          "web",
          "mobile",
          "gender",
          "university",
          "gender",
          "gender",
          "web",
          "gender",
          "web",
          "gender",
          "gender",
          "mobile",
          "web",
          "mobile",
          "university",
          "gender",
          "gender",
          "gender",
          "university",
          "web",
          "mobile",
          "gender",
          "mobile",
          "university",
          "mobile",
          "web",
          "university",
          "mobile",
          "mobile",
          "mobile",
          "gender",
          "web",
          "university",
          "gender",
          "gender",
          "university",
          "web",
          "mobile",
          "web",
          "mobile",
          "gender",
          "web",
          "gender",
          "web",
          "gender",
          "mobile",
          "web",
          "gender",
          "gender",
          "web",
          "gender",
          "gender",
          "web",
          "web",
          "gender",
          "gender",
          "university",
          "mobile",
          "web",
          "mobile",
          "university",
          "gender",
          "university",
          "web",
          "web",
          "gender",
          "mobile",
          "mobile",
          "mobile",
          "web",
          "web",
          "university",
          "mobile",
          "mobile",
          "university",
          "mobile",
          "university",
          "mobile",
          "web",
          "gender",
          "mobile",
          "university",
          "mobile",
          "web",
          "mobile",
          "university",
          "web",
          "gender",
          "gender",
          "gender",
          "university",
          "mobile",
          "gender",
          "gender",
          "web",
          "web",
          "web",
          "mobile",
          "mobile",
          "gender",
          "gender",
          "university",
          "web",
          "university",
          "mobile",
          "web",
          "university",
          "mobile",
          "university",
          "mobile",
          "university",
          "web",
          "gender",
          "web",
          "web",
          "university",
          "gender",
          "gender",
          "gender",
          "web",
          "web",
          "web",
          "gender",
          "web",
          "university",
          "gender",
          "gender",
          "university",
          "gender",
          "gender",
          "mobile",
          "web",
          "web",
          "gender",
          "mobile",
          "university",
          "gender",
          "gender",
          "gender",
          "mobile",
          "mobile",
          "university",
          "university",
          "mobile",
          "university",
          "university",
          "university",
          "gender",
          "web",
          "mobile",
          "gender",
          "university",
          "university",
          "web",
          "university",
          "gender",
          "gender",
          "university",
          "mobile",
          "web",
          "university",
          "gender",
          "university",
          "gender",
          "mobile",
          "mobile",
          "gender",
          "mobile",
          "mobile",
          "mobile",
          "web",
          "web",
          "web",
          "gender",
          "mobile",
          "university",
          "mobile",
          "mobile",
          "university",
          "web",
          "gender",
          "university",
          "mobile",
          "gender",
          "gender",
          "gender",
          "gender",
          "mobile",
          "gender",
          "web",
          "university",
          "web",
          "web",
          "mobile",
          "gender",
          "university",
          "mobile",
          "university",
          "mobile",
          "university",
          "web",
          "mobile",
          "web",
          "mobile",
          "mobile",
          "mobile",
          "web",
          "mobile",
          "gender",
          "mobile",
          "mobile",
          "gender",
          "university",
          "gender",
          "web",
          "mobile",
          "gender",
          "web",
          "university",
          "mobile",
          "web",
          "mobile",
          "mobile",
          "gender",
          "university",
          "mobile",
          "web",
          "university",
          "mobile",
          "mobile",
          "mobile",
          "gender",
          "web",
          "mobile",
          "university",
          "university",
          "university",
          "university",
          "university",
          "gender",
          "university",
          "gender",
          "university",
          "university",
          "university",
          "mobile",
          "web",
          "mobile",
          "university",
          "gender",
          "gender",
          "mobile",
          "mobile",
          "web",
          "mobile",
          "university",
          "gender",
          "gender",
          "web",
          "web",
          "web",
          "mobile",
          "gender",
          "gender",
          "university",
          "university",
          "gender",
          "gender",
          "web",
          "mobile",
          "gender",
          "mobile",
          "gender",
          "university",
          "web",
          "web",
          "university",
          "gender",
          "mobile",
          "mobile",
          "mobile",
          "mobile",
          "gender",
          "web",
          "web",
          "web",
          "gender",
          "university",
          "university",
          "web",
          "gender",
          "web",
          "gender",
          "mobile",
          "web",
          "web",
          "university",
          "university",
          "mobile",
          "mobile",
          "gender",
          "university",
          "gender",
          "university",
          "mobile",
          "web",
          "university",
          "web",
          "mobile",
          "mobile",
          "gender",
          "mobile",
          "university",
          "web",
          "university",
          "university",
          "gender",
          "gender",
          "web",
          "mobile",
          "university",
          "mobile",
          "mobile",
          "gender",
          "university",
          "university",
          "web",
          "university",
          "university",
          "university",
          "mobile",
          "mobile",
          "mobile",
          "gender",
          "university",
          "mobile",
          "mobile",
          "web",
          "gender",
          "gender",
          "web",
          "gender",
          "university",
          "university",
          "gender",
          "web",
          "mobile",
          "web",
          "mobile",
          "gender",
          "gender",
          "web",
          "university",
          "university",
          "web",
          "web",
          "web",
          "mobile",
          "gender",
          "gender",
          "gender",
          "university",
          "web",
          "mobile",
          "mobile",
          "web",
          "web",
          "web",
          "mobile",
          "web",
          "university",
          "university",
          "web",
          "university",
          "gender",
          "university",
          "gender",
          "mobile",
          "gender",
          "mobile",
          "university",
          "web",
          "web",
          "web",
          "mobile",
          "gender",
          "mobile",
          "gender",
          "gender",
          "mobile",
          "mobile",
          "university",
          "web",
          "university",
          "web",
          "university",
          "mobile",
          "mobile",
          "university",
          "gender",
          "university",
          "gender",
          "mobile",
          "web",
          "gender",
          "gender",
          "gender",
          "gender",
          "university",
          "web",
          "university",
          "mobile",
          "mobile",
          "gender",
          "gender",
          "web",
          "mobile",
          "university",
          "gender",
          "university",
          "web",
          "university",
          "web",
          "mobile",
          "university",
          "web",
          "university",
          "university",
          "gender",
          "web",
          "mobile",
          "mobile",
          "university",
          "gender",
          "mobile",
          "web",
          "mobile",
          "gender",
          "mobile",
          "web",
          "mobile",
          "university",
          "mobile",
          "university",
          "gender",
          "web",
          "mobile",
          "web",
          "university",
          "web",
          "gender",
          "gender",
          "university",
          "web",
          "university",
          "university",
          "gender",
          "gender",
          "gender",
          "university",
          "university",
          "web",
          "web",
          "mobile",
          "university",
          "university",
          "web",
          "mobile",
          "web",
          "mobile",
          "university",
          "web",
          "mobile",
          "university",
          "gender",
          "gender",
          "gender",
          "university",
          "gender",
          "mobile",
          "mobile",
          "mobile",
          "university",
          "gender",
          "university",
          "mobile",
          "mobile",
          "web",
          "mobile",
          "gender",
          "gender",
          "gender",
          "gender",
          "gender",
          "university",
          "mobile",
          "web",
          "gender",
          "gender",
          "university",
          "university",
          "university",
          "university",
          "university",
          "mobile",
          "university",
          "university",
          "university",
          "gender",
          "mobile",
          "mobile",
          "gender",
          "university",
          "university",
          "web",
          "web",
          "mobile",
          "web",
          "web",
          "gender",
          "web",
          "web",
          "gender",
          "gender",
          "gender",
          "web",
          "university",
          "web",
          "gender",
          "web",
          "mobile",
          "web",
          "web",
          "gender",
          "web",
          "university",
          "gender",
          "gender",
          "university",
          "university",
          "web",
          "mobile",
          "mobile",
          "gender",
          "gender",
          "university",
          "university",
          "gender",
          "gender",
          "mobile",
          "web",
          "web",
          "gender",
          "mobile",
          "mobile",
          "university",
          "university",
          "mobile",
          "web",
          "mobile",
          "web",
          "mobile",
          "web",
          "web",
          "university",
          "gender",
          "gender",
          "web",
          "university",
          "university",
          "web",
          "gender",
          "web",
          "mobile",
          "gender",
          "university",
          "gender",
          "gender",
          "mobile",
          "gender",
          "gender",
          "web",
          "gender",
          "web",
          "gender",
          "university",
          "university",
          "university",
          "university",
          "mobile",
          "gender",
          "mobile",
          "gender",
          "university",
          "gender",
          "web",
          "gender",
          "university",
          "gender",
          "gender",
          "university",
          "mobile",
          "university",
          "university",
          "gender",
          "web",
          "gender",
          "web",
          "mobile",
          "gender",
          "university",
          "university",
          "university",
          "web",
          "mobile",
          "gender",
          "web",
          "university",
          "gender",
          "gender",
          "university",
          "university",
          "university",
          "university",
          "gender",
          "gender",
          "web",
          "mobile",
          "web",
          "mobile",
          "university",
          "web",
          "mobile",
          "web",
          "web",
          "mobile",
          "university",
          "gender",
          "mobile",
          "mobile",
          "gender",
          "university",
          "university",
          "gender",
          "web",
          "university",
          "web",
          "university",
          "web",
          "gender",
          "gender",
          "web",
          "mobile",
          "university",
          "gender",
          "web",
          "university",
          "mobile",
          "gender",
          "gender",
          "university",
          "gender",
          "university",
          "mobile",
          "mobile",
          "web",
          "university",
          "university",
          "web",
          "university",
          "mobile",
          "university",
          "university",
          "mobile",
          "web",
          "university",
          "gender",
          "gender",
          "mobile",
          "web",
          "university",
          "mobile",
          "university",
          "web",
          "web",
          "university",
          "university",
          "gender",
          "mobile",
          "gender",
          "university",
          "university",
          "gender",
          "university",
          "gender",
          "web",
          "mobile",
          "university",
          "mobile",
          "web",
          "web",
          "web",
          "gender",
          "mobile",
          "university",
          "gender",
          "web",
          "mobile",
          "web",
          "mobile",
          "university",
          "mobile",
          "web",
          "web",
          "web",
          "mobile",
          "university",
          "gender",
          "web",
          "mobile",
          "web",
          "gender",
          "web",
          "university",
          "gender",
          "web",
          "gender",
          "gender",
          "gender",
          "gender",
          "university",
          "gender",
          "mobile",
          "gender",
          "mobile",
          "gender",
          "web",
          "gender",
          "gender",
          "mobile",
          "university",
          "web",
          "mobile",
          "web",
          "web",
          "gender",
          "mobile",
          "mobile",
          "web",
          "mobile",
          "mobile",
          "university",
          "mobile",
          "web",
          "web",
          "gender",
          "mobile",
          "web",
          "gender",
          "mobile",
          "gender",
          "mobile",
          "mobile",
          "university",
          "mobile",
          "web",
          "mobile",
          "gender",
          "university",
          "web",
          "gender",
          "university",
          "web",
          "mobile",
          "gender",
          "gender",
          "mobile",
          "web",
          "mobile",
          "university",
          "gender",
          "web",
          "gender",
          "mobile",
          "university",
          "mobile",
          "university",
          "gender",
          "web",
          "web",
          "mobile",
          "mobile",
          "web",
          "university",
          "mobile",
          "university",
          "gender",
          "web",
          "university",
          "university",
          "university",
          "university",
          "gender",
          "mobile",
          "university",
          "gender",
          "web",
          "mobile",
          "web",
          "mobile",
          "mobile",
          "gender",
          "university",
          "mobile",
          "mobile",
          "web",
          "web",
          "web",
          "mobile",
          "web",
          "web",
          "gender",
          "gender",
          "gender",
          "university",
          "gender",
          "mobile",
          "web",
          "web",
          "gender",
          "university",
          "web",
          "gender",
          "web",
          "gender",
          "mobile",
          "university",
          "university",
          "mobile",
          "web",
          "mobile",
          "university",
          "gender",
          "web",
          "university",
          "gender",
          "mobile",
          "mobile",
          "mobile",
          "mobile",
          "gender",
          "gender",
          "web",
          "web",
          "university",
          "web",
          "university",
          "gender",
          "university",
          "mobile",
          "web",
          "mobile",
          "web",
          "web",
          "university",
          "mobile",
          "gender",
          "web",
          "gender",
          "university",
          "gender",
          "mobile",
          "web",
          "web",
          "web",
          "gender",
          "mobile",
          "gender",
          "web",
          "web",
          "gender",
          "university",
          "gender",
          "university",
          "gender",
          "university",
          "mobile",
          "university",
          "mobile",
          "gender",
          "web",
          "web",
          "university",
          "gender",
          "gender",
          "mobile",
          "gender",
          "web",
          "mobile",
          "mobile",
          "mobile",
          "mobile",
          "university",
          "university",
          "university",
          "gender",
          "web",
          "web",
          "web",
          "mobile",
          "university",
          "university",
          "gender",
          "university",
          "web",
          "university",
          "web",
          "mobile",
          "university",
          "mobile",
          "university",
          "university",
          "university",
          "web",
          "web",
          "gender",
          "mobile",
          "mobile",
          "web",
          "gender",
          "web",
          "web",
          "university",
          "mobile",
          "mobile",
          "university",
          "mobile",
          "web",
          "gender",
          "mobile",
          "university",
          "gender",
          "university",
          "university",
          "gender",
          "university",
          "mobile",
          "web",
          "mobile",
          "web",
          "university",
          "web",
          "university",
          "web",
          "gender",
          "web",
          "gender",
          "gender",
          "web",
          "university",
          "web",
          "web",
          "mobile",
          "web",
          "university",
          "web",
          "university",
          "web",
          "mobile",
          "web",
          "university",
          "mobile",
          "web",
          "university",
          "mobile",
          "university",
          "web",
          "gender",
          "web",
          "university",
          "web",
          "mobile",
          "gender",
          "gender",
          "university",
          "mobile",
          "gender",
          "web",
          "mobile",
          "university",
          "mobile",
          "mobile",
          "web",
          "web",
          "gender",
          "gender",
          "university",
          "mobile",
          "university",
          "university",
          "mobile",
          "university",
          "web",
          "gender",
          "university",
          "web",
          "mobile",
          "university",
          "university",
          "gender",
          "web",
          "gender",
          "mobile",
          "mobile",
          "web",
          "university",
          "mobile",
          "university",
          "university",
          "university",
          "mobile",
          "web",
          "university",
          "mobile",
          "mobile",
          "university",
          "university",
          "mobile",
          "university",
          "web",
          "mobile",
          "gender",
          "university",
          "university",
          "university",
          "mobile",
          "web",
          "gender",
          "gender",
          "web",
          "gender",
          "web",
          "web",
          "gender",
          "university",
          "gender",
          "university",
          "university",
          "mobile",
          "web",
          "web",
          "web",
          "gender",
          "web",
          "mobile",
          "gender",
          "university",
          "university",
          "web",
          "gender",
          "gender",
          "web",
          "web",
          "web",
          "mobile",
          "gender",
          "mobile",
          "gender",
          "mobile",
          "web",
          "gender",
          "web",
          "mobile",
          "university",
          "gender",
          "gender",
          "mobile",
          "mobile",
          "mobile",
          "university",
          "web",
          "web",
          "university",
          "university",
          "university",
          "university",
          "mobile",
          "web",
          "web",
          "web",
          "gender",
          "mobile",
          "university",
          "mobile",
          "mobile",
          "mobile",
          "mobile",
          "gender",
          "mobile",
          "university",
          "mobile",
          "mobile",
          "web",
          "mobile",
          "web",
          "gender",
          "university",
          "gender",
          "web",
          "university",
          "gender",
          "gender",
          "web",
          "mobile",
          "mobile",
          "mobile",
          "gender",
          "mobile",
          "university",
          "gender",
          "university",
          "university",
          "gender",
          "mobile",
          "web",
          "mobile",
          "web",
          "university",
          "university",
          "university",
          "mobile",
          "university",
          "gender",
          "web",
          "mobile",
          "mobile",
          "university",
          "web",
          "mobile",
          "university",
          "mobile",
          "mobile",
          "university",
          "web",
          "gender",
          "university",
          "gender",
          "mobile",
          "gender",
          "mobile",
          "university",
          "mobile",
          "gender",
          "web",
          "mobile",
          "web",
          "university",
          "gender",
          "web",
          "gender",
          "mobile",
          "web",
          "mobile",
          "mobile",
          "mobile",
          "web",
          "university",
          "mobile",
          "mobile",
          "university",
          "mobile",
          "university",
          "mobile",
          "university",
          "mobile",
          "web",
          "university",
          "web",
          "web",
          "web",
          "mobile",
          "gender",
          "gender",
          "web"
         ],
         "xaxis": "x",
         "yaxis": "y"
        }
       ],
       "layout": {
        "barmode": "relative",
        "legend": {
         "title": {
          "text": "variable"
         },
         "tracegroupgap": 0
        },
        "template": {
         "data": {
          "bar": [
           {
            "error_x": {
             "color": "#2a3f5f"
            },
            "error_y": {
             "color": "#2a3f5f"
            },
            "marker": {
             "line": {
              "color": "white",
              "width": 0.5
             },
             "pattern": {
              "fillmode": "overlay",
              "size": 10,
              "solidity": 0.2
             }
            },
            "type": "bar"
           }
          ],
          "barpolar": [
           {
            "marker": {
             "line": {
              "color": "white",
              "width": 0.5
             },
             "pattern": {
              "fillmode": "overlay",
              "size": 10,
              "solidity": 0.2
             }
            },
            "type": "barpolar"
           }
          ],
          "carpet": [
           {
            "aaxis": {
             "endlinecolor": "#2a3f5f",
             "gridcolor": "#C8D4E3",
             "linecolor": "#C8D4E3",
             "minorgridcolor": "#C8D4E3",
             "startlinecolor": "#2a3f5f"
            },
            "baxis": {
             "endlinecolor": "#2a3f5f",
             "gridcolor": "#C8D4E3",
             "linecolor": "#C8D4E3",
             "minorgridcolor": "#C8D4E3",
             "startlinecolor": "#2a3f5f"
            },
            "type": "carpet"
           }
          ],
          "choropleth": [
           {
            "colorbar": {
             "outlinewidth": 0,
             "ticks": ""
            },
            "type": "choropleth"
           }
          ],
          "contour": [
           {
            "colorbar": {
             "outlinewidth": 0,
             "ticks": ""
            },
            "colorscale": [
             [
              0,
              "#0d0887"
             ],
             [
              0.1111111111111111,
              "#46039f"
             ],
             [
              0.2222222222222222,
              "#7201a8"
             ],
             [
              0.3333333333333333,
              "#9c179e"
             ],
             [
              0.4444444444444444,
              "#bd3786"
             ],
             [
              0.5555555555555556,
              "#d8576b"
             ],
             [
              0.6666666666666666,
              "#ed7953"
             ],
             [
              0.7777777777777778,
              "#fb9f3a"
             ],
             [
              0.8888888888888888,
              "#fdca26"
             ],
             [
              1,
              "#f0f921"
             ]
            ],
            "type": "contour"
           }
          ],
          "contourcarpet": [
           {
            "colorbar": {
             "outlinewidth": 0,
             "ticks": ""
            },
            "type": "contourcarpet"
           }
          ],
          "heatmap": [
           {
            "colorbar": {
             "outlinewidth": 0,
             "ticks": ""
            },
            "colorscale": [
             [
              0,
              "#0d0887"
             ],
             [
              0.1111111111111111,
              "#46039f"
             ],
             [
              0.2222222222222222,
              "#7201a8"
             ],
             [
              0.3333333333333333,
              "#9c179e"
             ],
             [
              0.4444444444444444,
              "#bd3786"
             ],
             [
              0.5555555555555556,
              "#d8576b"
             ],
             [
              0.6666666666666666,
              "#ed7953"
             ],
             [
              0.7777777777777778,
              "#fb9f3a"
             ],
             [
              0.8888888888888888,
              "#fdca26"
             ],
             [
              1,
              "#f0f921"
             ]
            ],
            "type": "heatmap"
           }
          ],
          "heatmapgl": [
           {
            "colorbar": {
             "outlinewidth": 0,
             "ticks": ""
            },
            "colorscale": [
             [
              0,
              "#0d0887"
             ],
             [
              0.1111111111111111,
              "#46039f"
             ],
             [
              0.2222222222222222,
              "#7201a8"
             ],
             [
              0.3333333333333333,
              "#9c179e"
             ],
             [
              0.4444444444444444,
              "#bd3786"
             ],
             [
              0.5555555555555556,
              "#d8576b"
             ],
             [
              0.6666666666666666,
              "#ed7953"
             ],
             [
              0.7777777777777778,
              "#fb9f3a"
             ],
             [
              0.8888888888888888,
              "#fdca26"
             ],
             [
              1,
              "#f0f921"
             ]
            ],
            "type": "heatmapgl"
           }
          ],
          "histogram": [
           {
            "marker": {
             "pattern": {
              "fillmode": "overlay",
              "size": 10,
              "solidity": 0.2
             }
            },
            "type": "histogram"
           }
          ],
          "histogram2d": [
           {
            "colorbar": {
             "outlinewidth": 0,
             "ticks": ""
            },
            "colorscale": [
             [
              0,
              "#0d0887"
             ],
             [
              0.1111111111111111,
              "#46039f"
             ],
             [
              0.2222222222222222,
              "#7201a8"
             ],
             [
              0.3333333333333333,
              "#9c179e"
             ],
             [
              0.4444444444444444,
              "#bd3786"
             ],
             [
              0.5555555555555556,
              "#d8576b"
             ],
             [
              0.6666666666666666,
              "#ed7953"
             ],
             [
              0.7777777777777778,
              "#fb9f3a"
             ],
             [
              0.8888888888888888,
              "#fdca26"
             ],
             [
              1,
              "#f0f921"
             ]
            ],
            "type": "histogram2d"
           }
          ],
          "histogram2dcontour": [
           {
            "colorbar": {
             "outlinewidth": 0,
             "ticks": ""
            },
            "colorscale": [
             [
              0,
              "#0d0887"
             ],
             [
              0.1111111111111111,
              "#46039f"
             ],
             [
              0.2222222222222222,
              "#7201a8"
             ],
             [
              0.3333333333333333,
              "#9c179e"
             ],
             [
              0.4444444444444444,
              "#bd3786"
             ],
             [
              0.5555555555555556,
              "#d8576b"
             ],
             [
              0.6666666666666666,
              "#ed7953"
             ],
             [
              0.7777777777777778,
              "#fb9f3a"
             ],
             [
              0.8888888888888888,
              "#fdca26"
             ],
             [
              1,
              "#f0f921"
             ]
            ],
            "type": "histogram2dcontour"
           }
          ],
          "mesh3d": [
           {
            "colorbar": {
             "outlinewidth": 0,
             "ticks": ""
            },
            "type": "mesh3d"
           }
          ],
          "parcoords": [
           {
            "line": {
             "colorbar": {
              "outlinewidth": 0,
              "ticks": ""
             }
            },
            "type": "parcoords"
           }
          ],
          "pie": [
           {
            "automargin": true,
            "type": "pie"
           }
          ],
          "scatter": [
           {
            "marker": {
             "colorbar": {
              "outlinewidth": 0,
              "ticks": ""
             }
            },
            "type": "scatter"
           }
          ],
          "scatter3d": [
           {
            "line": {
             "colorbar": {
              "outlinewidth": 0,
              "ticks": ""
             }
            },
            "marker": {
             "colorbar": {
              "outlinewidth": 0,
              "ticks": ""
             }
            },
            "type": "scatter3d"
           }
          ],
          "scattercarpet": [
           {
            "marker": {
             "colorbar": {
              "outlinewidth": 0,
              "ticks": ""
             }
            },
            "type": "scattercarpet"
           }
          ],
          "scattergeo": [
           {
            "marker": {
             "colorbar": {
              "outlinewidth": 0,
              "ticks": ""
             }
            },
            "type": "scattergeo"
           }
          ],
          "scattergl": [
           {
            "marker": {
             "colorbar": {
              "outlinewidth": 0,
              "ticks": ""
             }
            },
            "type": "scattergl"
           }
          ],
          "scattermapbox": [
           {
            "marker": {
             "colorbar": {
              "outlinewidth": 0,
              "ticks": ""
             }
            },
            "type": "scattermapbox"
           }
          ],
          "scatterpolar": [
           {
            "marker": {
             "colorbar": {
              "outlinewidth": 0,
              "ticks": ""
             }
            },
            "type": "scatterpolar"
           }
          ],
          "scatterpolargl": [
           {
            "marker": {
             "colorbar": {
              "outlinewidth": 0,
              "ticks": ""
             }
            },
            "type": "scatterpolargl"
           }
          ],
          "scatterternary": [
           {
            "marker": {
             "colorbar": {
              "outlinewidth": 0,
              "ticks": ""
             }
            },
            "type": "scatterternary"
           }
          ],
          "surface": [
           {
            "colorbar": {
             "outlinewidth": 0,
             "ticks": ""
            },
            "colorscale": [
             [
              0,
              "#0d0887"
             ],
             [
              0.1111111111111111,
              "#46039f"
             ],
             [
              0.2222222222222222,
              "#7201a8"
             ],
             [
              0.3333333333333333,
              "#9c179e"
             ],
             [
              0.4444444444444444,
              "#bd3786"
             ],
             [
              0.5555555555555556,
              "#d8576b"
             ],
             [
              0.6666666666666666,
              "#ed7953"
             ],
             [
              0.7777777777777778,
              "#fb9f3a"
             ],
             [
              0.8888888888888888,
              "#fdca26"
             ],
             [
              1,
              "#f0f921"
             ]
            ],
            "type": "surface"
           }
          ],
          "table": [
           {
            "cells": {
             "fill": {
              "color": "#EBF0F8"
             },
             "line": {
              "color": "white"
             }
            },
            "header": {
             "fill": {
              "color": "#C8D4E3"
             },
             "line": {
              "color": "white"
             }
            },
            "type": "table"
           }
          ]
         },
         "layout": {
          "annotationdefaults": {
           "arrowcolor": "#2a3f5f",
           "arrowhead": 0,
           "arrowwidth": 1
          },
          "autotypenumbers": "strict",
          "coloraxis": {
           "colorbar": {
            "outlinewidth": 0,
            "ticks": ""
           }
          },
          "colorscale": {
           "diverging": [
            [
             0,
             "#8e0152"
            ],
            [
             0.1,
             "#c51b7d"
            ],
            [
             0.2,
             "#de77ae"
            ],
            [
             0.3,
             "#f1b6da"
            ],
            [
             0.4,
             "#fde0ef"
            ],
            [
             0.5,
             "#f7f7f7"
            ],
            [
             0.6,
             "#e6f5d0"
            ],
            [
             0.7,
             "#b8e186"
            ],
            [
             0.8,
             "#7fbc41"
            ],
            [
             0.9,
             "#4d9221"
            ],
            [
             1,
             "#276419"
            ]
           ],
           "sequential": [
            [
             0,
             "#0d0887"
            ],
            [
             0.1111111111111111,
             "#46039f"
            ],
            [
             0.2222222222222222,
             "#7201a8"
            ],
            [
             0.3333333333333333,
             "#9c179e"
            ],
            [
             0.4444444444444444,
             "#bd3786"
            ],
            [
             0.5555555555555556,
             "#d8576b"
            ],
            [
             0.6666666666666666,
             "#ed7953"
            ],
            [
             0.7777777777777778,
             "#fb9f3a"
            ],
            [
             0.8888888888888888,
             "#fdca26"
            ],
            [
             1,
             "#f0f921"
            ]
           ],
           "sequentialminus": [
            [
             0,
             "#0d0887"
            ],
            [
             0.1111111111111111,
             "#46039f"
            ],
            [
             0.2222222222222222,
             "#7201a8"
            ],
            [
             0.3333333333333333,
             "#9c179e"
            ],
            [
             0.4444444444444444,
             "#bd3786"
            ],
            [
             0.5555555555555556,
             "#d8576b"
            ],
            [
             0.6666666666666666,
             "#ed7953"
            ],
            [
             0.7777777777777778,
             "#fb9f3a"
            ],
            [
             0.8888888888888888,
             "#fdca26"
            ],
            [
             1,
             "#f0f921"
            ]
           ]
          },
          "colorway": [
           "#636efa",
           "#EF553B",
           "#00cc96",
           "#ab63fa",
           "#FFA15A",
           "#19d3f3",
           "#FF6692",
           "#B6E880",
           "#FF97FF",
           "#FECB52"
          ],
          "font": {
           "color": "#2a3f5f"
          },
          "geo": {
           "bgcolor": "white",
           "lakecolor": "white",
           "landcolor": "white",
           "showlakes": true,
           "showland": true,
           "subunitcolor": "#C8D4E3"
          },
          "hoverlabel": {
           "align": "left"
          },
          "hovermode": "closest",
          "mapbox": {
           "style": "light"
          },
          "paper_bgcolor": "white",
          "plot_bgcolor": "white",
          "polar": {
           "angularaxis": {
            "gridcolor": "#EBF0F8",
            "linecolor": "#EBF0F8",
            "ticks": ""
           },
           "bgcolor": "white",
           "radialaxis": {
            "gridcolor": "#EBF0F8",
            "linecolor": "#EBF0F8",
            "ticks": ""
           }
          },
          "scene": {
           "xaxis": {
            "backgroundcolor": "white",
            "gridcolor": "#DFE8F3",
            "gridwidth": 2,
            "linecolor": "#EBF0F8",
            "showbackground": true,
            "ticks": "",
            "zerolinecolor": "#EBF0F8"
           },
           "yaxis": {
            "backgroundcolor": "white",
            "gridcolor": "#DFE8F3",
            "gridwidth": 2,
            "linecolor": "#EBF0F8",
            "showbackground": true,
            "ticks": "",
            "zerolinecolor": "#EBF0F8"
           },
           "zaxis": {
            "backgroundcolor": "white",
            "gridcolor": "#DFE8F3",
            "gridwidth": 2,
            "linecolor": "#EBF0F8",
            "showbackground": true,
            "ticks": "",
            "zerolinecolor": "#EBF0F8"
           }
          },
          "shapedefaults": {
           "line": {
            "color": "#2a3f5f"
           }
          },
          "ternary": {
           "aaxis": {
            "gridcolor": "#DFE8F3",
            "linecolor": "#A2B1C6",
            "ticks": ""
           },
           "baxis": {
            "gridcolor": "#DFE8F3",
            "linecolor": "#A2B1C6",
            "ticks": ""
           },
           "bgcolor": "white",
           "caxis": {
            "gridcolor": "#DFE8F3",
            "linecolor": "#A2B1C6",
            "ticks": ""
           }
          },
          "title": {
           "x": 0.05
          },
          "xaxis": {
           "automargin": true,
           "gridcolor": "#EBF0F8",
           "linecolor": "#EBF0F8",
           "ticks": "",
           "title": {
            "standoff": 15
           },
           "zerolinecolor": "#EBF0F8",
           "zerolinewidth": 2
          },
          "yaxis": {
           "automargin": true,
           "gridcolor": "#EBF0F8",
           "linecolor": "#EBF0F8",
           "ticks": "",
           "title": {
            "standoff": 15
           },
           "zerolinecolor": "#EBF0F8",
           "zerolinewidth": 2
          }
         }
        },
        "title": {
         "text": "Distribution of USAGE"
        },
        "xaxis": {
         "anchor": "y",
         "domain": [
          0,
          1
         ],
         "title": {
          "text": "USAGE"
         }
        },
        "yaxis": {
         "anchor": "x",
         "domain": [
          0,
          1
         ],
         "title": {
          "text": "count"
         }
        }
       }
      }
     },
     "metadata": {},
     "output_type": "display_data"
    },
    {
     "data": {
      "application/vnd.plotly.v1+json": {
       "config": {
        "plotlyServerURL": "https://plot.ly"
       },
       "data": [
        {
         "alignmentgroup": "True",
         "bingroup": "x",
         "hovertemplate": "variable=answer<br>ANSWER=%{x}<br>count=%{y}<extra></extra>",
         "legendgroup": "answer",
         "marker": {
          "color": "red",
          "pattern": {
           "shape": ""
          }
         },
         "name": "answer",
         "offsetgroup": "answer",
         "orientation": "v",
         "showlegend": true,
         "type": "histogram",
         "x": [
          "No",
          "No",
          "No",
          "No",
          "No",
          "No",
          "No",
          "Yes",
          "No",
          "No",
          "No",
          "No",
          "No",
          "No",
          "No",
          "No",
          "No",
          "No",
          "No",
          "Yes",
          "No",
          "No",
          "No",
          "No",
          "No",
          "No",
          "No",
          "No",
          "No",
          "No",
          "Yes",
          "No",
          "No",
          "No",
          "No",
          "No",
          "No",
          "Yes",
          "No",
          "No",
          "No",
          "No",
          "No",
          "No",
          "No",
          "Yes",
          "No",
          "Yes",
          "No",
          "No",
          "No",
          "No",
          "No",
          "No",
          "No",
          "No",
          "No",
          "Yes",
          "No",
          "No",
          "No",
          "No",
          "No",
          "No",
          "No",
          "No",
          "No",
          "No",
          "No",
          "No",
          "No",
          "No",
          "Yes",
          "No",
          "No",
          "No",
          "No",
          "No",
          "No",
          "No",
          "No",
          "No",
          "No",
          "No",
          "No",
          "No",
          "No",
          "Yes",
          "No",
          "No",
          "No",
          "No",
          "No",
          "No",
          "No",
          "No",
          "No",
          "Yes",
          "No",
          "No",
          "No",
          "No",
          "No",
          "No",
          "No",
          "No",
          "No",
          "No",
          "No",
          "No",
          "No",
          "No",
          "No",
          "No",
          "No",
          "No",
          "No",
          "No",
          "No",
          "No",
          "No",
          "No",
          "No",
          "No",
          "No",
          "No",
          "No",
          "Yes",
          "No",
          "No",
          "No",
          "No",
          "No",
          "No",
          "No",
          "No",
          "No",
          "No",
          "Yes",
          "No",
          "No",
          "No",
          "No",
          "No",
          "No",
          "No",
          "No",
          "No",
          "Yes",
          "No",
          "No",
          "No",
          "No",
          "Yes",
          "No",
          "No",
          "No",
          "No",
          "No",
          "No",
          "Yes",
          "Yes",
          "No",
          "No",
          "No",
          "No",
          "No",
          "No",
          "No",
          "No",
          "No",
          "No",
          "No",
          "No",
          "No",
          "No",
          "No",
          "No",
          "Yes",
          "No",
          "No",
          "No",
          "No",
          "No",
          "No",
          "No",
          "Yes",
          "No",
          "Yes",
          "No",
          "No",
          "No",
          "No",
          "No",
          "No",
          "No",
          "No",
          "No",
          "No",
          "No",
          "No",
          "No",
          "No",
          "No",
          "No",
          "No",
          "No",
          "No",
          "No",
          "No",
          "No",
          "No",
          "No",
          "No",
          "No",
          "No",
          "No",
          "No",
          "No",
          "No",
          "No",
          "No",
          "No",
          "No",
          "No",
          "No",
          "No",
          "No",
          "No",
          "No",
          "No",
          "No",
          "No",
          "Yes",
          "No",
          "No",
          "No",
          "No",
          "No",
          "No",
          "No",
          "No",
          "No",
          "No",
          "No",
          "No",
          "No",
          "Yes",
          "No",
          "No",
          "No",
          "No",
          "No",
          "No",
          "No",
          "No",
          "No",
          "No",
          "No",
          "No",
          "No",
          "No",
          "No",
          "No",
          "No",
          "No",
          "No",
          "No",
          "No",
          "No",
          "No",
          "No",
          "No",
          "No",
          "No",
          "No",
          "No",
          "No",
          "No",
          "No",
          "No",
          "No",
          "No",
          "No",
          "No",
          "No",
          "Yes",
          "No",
          "No",
          "No",
          "No",
          "No",
          "No",
          "No",
          "No",
          "No",
          "No",
          "No",
          "No",
          "No",
          "No",
          "No",
          "No",
          "No",
          "No",
          "No",
          "No",
          "Yes",
          "No",
          "No",
          "No",
          "No",
          "No",
          "No",
          "No",
          "No",
          "No",
          "No",
          "No",
          "Yes",
          "No",
          "No",
          "No",
          "No",
          "No",
          "No",
          "No",
          "No",
          "No",
          "No",
          "No",
          "No",
          "No",
          "No",
          "No",
          "No",
          "Yes",
          "No",
          "No",
          "No",
          "No",
          "No",
          "No",
          "No",
          "No",
          "No",
          "No",
          "No",
          "No",
          "No",
          "No",
          "Yes",
          "No",
          "No",
          "No",
          "No",
          "No",
          "No",
          "No",
          "Yes",
          "Yes",
          "No",
          "No",
          "Yes",
          "No",
          "No",
          "No",
          "No",
          "Yes",
          "No",
          "No",
          "No",
          "No",
          "No",
          "No",
          "No",
          "No",
          "No",
          "No",
          "No",
          "No",
          "No",
          "No",
          "No",
          "No",
          "No",
          "No",
          "No",
          "No",
          "No",
          "Yes",
          "No",
          "No",
          "No",
          "Yes",
          "No",
          "No",
          "No",
          "No",
          "No",
          "No",
          "No",
          "No",
          "No",
          "No",
          "No",
          "No",
          "No",
          "No",
          "No",
          "No",
          "No",
          "No",
          "Yes",
          "No",
          "No",
          "No",
          "No",
          "Yes",
          "No",
          "Yes",
          "No",
          "No",
          "No",
          "No",
          "No",
          "No",
          "No",
          "No",
          "No",
          "Yes",
          "No",
          "No",
          "No",
          "No",
          "No",
          "No",
          "No",
          "No",
          "No",
          "No",
          "No",
          "No",
          "No",
          "No",
          "Yes",
          "No",
          "Yes",
          "Yes",
          "No",
          "No",
          "No",
          "Yes",
          "No",
          "Yes",
          "No",
          "No",
          "No",
          "No",
          "No",
          "No",
          "No",
          "No",
          "No",
          "No",
          "No",
          "No",
          "No",
          "No",
          "No",
          "No",
          "No",
          "No",
          "No",
          "No",
          "Yes",
          "No",
          "No",
          "No",
          "No",
          "No",
          "No",
          "No",
          "Yes",
          "No",
          "No",
          "No",
          "No",
          "No",
          "No",
          "No",
          "No",
          "No",
          "No",
          "No",
          "Yes",
          "No",
          "No",
          "No",
          "No",
          "No",
          "No",
          "No",
          "No",
          "No",
          "No",
          "No",
          "No",
          "No",
          "Yes",
          "No",
          "No",
          "No",
          "No",
          "No",
          "No",
          "No",
          "No",
          "No",
          "No",
          "No",
          "No",
          "No",
          "No",
          "Yes",
          "No",
          "No",
          "No",
          "No",
          "Yes",
          "No",
          "No",
          "No",
          "No",
          "No",
          "No",
          "No",
          "No",
          "No",
          "Yes",
          "No",
          "No",
          "No",
          "No",
          "No",
          "No",
          "No",
          "No",
          "No",
          "No",
          "No",
          "No",
          "No",
          "No",
          "No",
          "No",
          "No",
          "No",
          "No",
          "No",
          "No",
          "No",
          "No",
          "No",
          "No",
          "No",
          "No",
          "No",
          "No",
          "No",
          "No",
          "No",
          "No",
          "No",
          "No",
          "No",
          "No",
          "No",
          "No",
          "No",
          "No",
          "No",
          "No",
          "No",
          "No",
          "No",
          "Yes",
          "No",
          "No",
          "No",
          "No",
          "Yes",
          "No",
          "No",
          "No",
          "No",
          "No",
          "No",
          "No",
          "Yes",
          "No",
          "No",
          "No",
          "Yes",
          "No",
          "No",
          "No",
          "No",
          "No",
          "No",
          "No",
          "Yes",
          "No",
          "No",
          "No",
          "No",
          "No",
          "No",
          "No",
          "No",
          "No",
          "No",
          "No",
          "No",
          "No",
          "No",
          "No",
          "No",
          "Yes",
          "No",
          "No",
          "No",
          "No",
          "No",
          "Yes",
          "No",
          "No",
          "No",
          "No",
          "No",
          "No",
          "No",
          "No",
          "No",
          "No",
          "No",
          "No",
          "No",
          "No",
          "No",
          "No",
          "No",
          "Yes",
          "No",
          "No",
          "No",
          "No",
          "No",
          "No",
          "No",
          "No",
          "No",
          "No",
          "No",
          "No",
          "No",
          "No",
          "No",
          "No",
          "No",
          "No",
          "No",
          "No",
          "No",
          "No",
          "No",
          "No",
          "No",
          "No",
          "No",
          "No",
          "Yes",
          "Yes",
          "No",
          "No",
          "No",
          "No",
          "No",
          "No",
          "No",
          "No",
          "No",
          "No",
          "No",
          "No",
          "No",
          "No",
          "No",
          "Yes",
          "Yes",
          "No",
          "No",
          "No",
          "No",
          "No",
          "No",
          "No",
          "No",
          "No",
          "No",
          "Yes",
          "No",
          "No",
          "No",
          "No",
          "Yes",
          "No",
          "No",
          "No",
          "No",
          "No",
          "No",
          "No",
          "No",
          "No",
          "No",
          "No",
          "No",
          "No",
          "No",
          "Yes",
          "No",
          "No",
          "No",
          "No",
          "Yes",
          "No",
          "No",
          "No",
          "No",
          "No",
          "No",
          "No",
          "No",
          "No",
          "No",
          "No",
          "Yes",
          "No",
          "No",
          "No",
          "No",
          "No",
          "No",
          "No",
          "No",
          "No",
          "No",
          "No",
          "No",
          "No",
          "No",
          "No",
          "No",
          "No",
          "No",
          "No",
          "No",
          "No",
          "No",
          "No",
          "No",
          "No",
          "No",
          "No",
          "No",
          "No",
          "No",
          "No",
          "No",
          "No",
          "No",
          "No",
          "No",
          "No",
          "No",
          "No",
          "No",
          "No",
          "No",
          "No",
          "No",
          "No",
          "No",
          "No",
          "No",
          "No",
          "Yes",
          "No",
          "No",
          "No",
          "No",
          "Yes",
          "No",
          "No",
          "No",
          "No",
          "No",
          "No",
          "No",
          "No",
          "No",
          "No",
          "Yes",
          "No",
          "No",
          "No",
          "No",
          "No",
          "No",
          "No",
          "No",
          "No",
          "No",
          "No",
          "No",
          "No",
          "Yes",
          "No",
          "No",
          "No",
          "No",
          "No",
          "No",
          "No",
          "No",
          "Yes",
          "No",
          "No",
          "No",
          "No",
          "No",
          "No",
          "No",
          "No",
          "No",
          "No",
          "No",
          "No",
          "No",
          "No",
          "No",
          "No",
          "Yes",
          "No",
          "No",
          "Yes",
          "No",
          "Yes",
          "No",
          "No",
          "No",
          "No",
          "No",
          "No",
          "No",
          "Yes",
          "No",
          "No",
          "Yes",
          "No",
          "No",
          "Yes",
          "No",
          "Yes",
          "No",
          "No",
          "No",
          "No",
          "No",
          "No",
          "No",
          "No",
          "No",
          "No",
          "No",
          "No",
          "No",
          "No",
          "No",
          "No",
          "No",
          "No",
          "Yes",
          "No",
          "No",
          "No",
          "No",
          "No",
          "No",
          "No",
          "No",
          "No",
          "No",
          "No",
          "No",
          "No",
          "No",
          "No",
          "No",
          "No",
          "Yes",
          "No",
          "No",
          "No",
          "No",
          "No",
          "No",
          "No",
          "No",
          "No",
          "No",
          "No",
          "No",
          "No",
          "No",
          "No",
          "No",
          "No",
          "No",
          "No",
          "No",
          "No",
          "No",
          "No",
          "No",
          "No",
          "No",
          "No",
          "Yes",
          "No",
          "No",
          "No",
          "No",
          "No",
          "No",
          "No",
          "No",
          "No",
          "Yes",
          "No",
          "No",
          "No",
          "No",
          "No",
          "No",
          "Yes",
          "No",
          "No",
          "No",
          "No",
          "No",
          "No",
          "No",
          "No",
          "No",
          "No",
          "No",
          "No",
          "No",
          "No",
          "No",
          "No",
          "No",
          "No",
          "No",
          "Yes",
          "No",
          "No",
          "No",
          "No",
          "No",
          "No",
          "No",
          "No",
          "Yes",
          "No",
          "No",
          "No",
          "No",
          "No",
          "No",
          "No",
          "No",
          "No",
          "No",
          "No",
          "No",
          "No",
          "No",
          "No",
          "No",
          "No",
          "No",
          "No",
          "No",
          "No",
          "No",
          "No",
          "Yes",
          "No",
          "No",
          "No",
          "No",
          "No",
          "Yes",
          "No",
          "No",
          "Yes",
          "No",
          "No",
          "No",
          "No",
          "No",
          "No",
          "No",
          "No",
          "Yes",
          "No",
          "No",
          "No",
          "No",
          "Yes",
          "No",
          "No",
          "Yes",
          "No",
          "No",
          "No",
          "No",
          "Yes",
          "No",
          "No",
          "No",
          "No",
          "No",
          "No",
          "No",
          "No",
          "No",
          "No",
          "No",
          "No",
          "No",
          "No",
          "Yes",
          "No",
          "No",
          "No",
          "No",
          "No",
          "No",
          "No",
          "No",
          "Yes",
          "Yes",
          "No",
          "No",
          "No",
          "No",
          "No",
          "No",
          "No",
          "No",
          "No",
          "No",
          "No",
          "No",
          "No",
          "No",
          "No",
          "No",
          "No",
          "No",
          "No",
          "Yes",
          "No",
          "Yes",
          "No",
          "No",
          "No",
          "No",
          "Yes",
          "No",
          "No",
          "No",
          "No",
          "No",
          "No",
          "No",
          "No",
          "No",
          "No",
          "Yes",
          "No",
          "Yes",
          "No",
          "No",
          "No",
          "No",
          "Yes",
          "No",
          "No",
          "No",
          "No",
          "No",
          "No",
          "No",
          "No",
          "No",
          "No",
          "No",
          "No",
          "No",
          "No",
          "No",
          "No",
          "No",
          "No",
          "No",
          "No",
          "No",
          "No",
          "No",
          "No",
          "No",
          "Yes",
          "No",
          "No",
          "No",
          "No",
          "No",
          "No",
          "No",
          "Yes",
          "No",
          "No",
          "No",
          "No",
          "No",
          "No",
          "No",
          "No",
          "No",
          "No",
          "No",
          "No",
          "No",
          "No",
          "No",
          "No",
          "No",
          "No",
          "No",
          "No",
          "No",
          "No",
          "Yes",
          "No",
          "No",
          "No",
          "No",
          "No",
          "No",
          "No",
          "No",
          "No",
          "No",
          "No",
          "No",
          "No",
          "No",
          "Yes",
          "No",
          "No",
          "No",
          "No",
          "No",
          "No",
          "Yes",
          "No",
          "No",
          "No",
          "No",
          "No",
          "No",
          "Yes",
          "No",
          "No",
          "No",
          "No",
          "No",
          "No",
          "No",
          "No",
          "No",
          "No",
          "No",
          "No",
          "No",
          "No",
          "No",
          "Yes",
          "No",
          "No",
          "No",
          "No",
          "No",
          "Yes",
          "No",
          "No",
          "No",
          "No",
          "No",
          "Yes",
          "Yes",
          "No",
          "No",
          "No",
          "No",
          "No",
          "No",
          "No",
          "No",
          "No",
          "No",
          "No",
          "No",
          "No",
          "No",
          "No",
          "No",
          "No",
          "No",
          "No",
          "No",
          "No",
          "Yes",
          "No",
          "No",
          "Yes",
          "Yes",
          "No",
          "No",
          "No",
          "No",
          "No",
          "No",
          "Yes",
          "No",
          "No",
          "No",
          "No",
          "No",
          "No",
          "No",
          "No",
          "No",
          "Yes",
          "No",
          "No",
          "No",
          "No",
          "No",
          "No",
          "No",
          "No",
          "Yes",
          "No",
          "No",
          "No",
          "No",
          "No",
          "No",
          "No",
          "No",
          "No",
          "No",
          "No",
          "No",
          "No",
          "No",
          "No",
          "No",
          "No",
          "No",
          "No",
          "No",
          "No",
          "Yes",
          "No",
          "No",
          "No",
          "No",
          "No",
          "No",
          "No",
          "No",
          "No",
          "No",
          "No",
          "No",
          "No",
          "No",
          "Yes",
          "Yes",
          "No",
          "No",
          "No",
          "No",
          "No",
          "No",
          "No",
          "No",
          "No",
          "No",
          "No",
          "No",
          "No",
          "Yes",
          "No",
          "No",
          "No",
          "Yes",
          "No",
          "No",
          "No",
          "No",
          "No",
          "No",
          "No",
          "No",
          "Yes",
          "No",
          "No",
          "No",
          "No",
          "No",
          "No",
          "No",
          "No",
          "No",
          "No",
          "No",
          "Yes",
          "No",
          "No",
          "Yes",
          "No",
          "No",
          "No",
          "No",
          "No",
          "No",
          "No",
          "Yes",
          "No",
          "No",
          "No",
          "No",
          "No",
          "No",
          "No",
          "No",
          "No",
          "No",
          "No",
          "No",
          "Yes",
          "No",
          "No",
          "No",
          "No",
          "No",
          "Yes",
          "No",
          "No",
          "No",
          "No",
          "No",
          "No",
          "No",
          "No",
          "No",
          "No",
          "No",
          "No",
          "No",
          "No",
          "No",
          "No",
          "No",
          "No",
          "No",
          "No",
          "No",
          "No",
          "No",
          "No",
          "Yes",
          "No",
          "No",
          "No",
          "No",
          "No",
          "No",
          "No",
          "No",
          "No",
          "No",
          "No",
          "No",
          "No",
          "No",
          "No",
          "No",
          "No",
          "No",
          "Yes",
          "No",
          "No",
          "No",
          "No",
          "No",
          "No",
          "No",
          "No",
          "No",
          "No",
          "No",
          "No",
          "No",
          "Yes",
          "No",
          "No",
          "No",
          "No",
          "No",
          "No",
          "No",
          "No",
          "No",
          "No",
          "No",
          "No",
          "No",
          "No",
          "No",
          "No",
          "No",
          "No",
          "No",
          "No",
          "No",
          "No",
          "No",
          "No",
          "No",
          "No",
          "No",
          "No",
          "No",
          "No",
          "No",
          "No",
          "Yes",
          "No",
          "No",
          "No",
          "No",
          "No",
          "No",
          "No",
          "Yes",
          "No",
          "No",
          "No",
          "No",
          "No",
          "No",
          "No",
          "Yes",
          "No",
          "No",
          "No",
          "No",
          "No",
          "No",
          "Yes",
          "No",
          "No",
          "No",
          "No",
          "No",
          "No",
          "No",
          "No",
          "No",
          "No",
          "No",
          "No",
          "No",
          "Yes",
          "No",
          "No",
          "No",
          "Yes",
          "No",
          "No",
          "No",
          "No",
          "No",
          "No",
          "No",
          "Yes",
          "No",
          "No",
          "No",
          "No",
          "No",
          "No",
          "No",
          "No",
          "No",
          "No",
          "No",
          "Yes",
          "No",
          "No",
          "No",
          "No",
          "No",
          "No",
          "No",
          "No",
          "No",
          "No",
          "No",
          "No",
          "No",
          "No",
          "No",
          "No",
          "No",
          "No",
          "No",
          "Yes",
          "No",
          "No",
          "No",
          "No",
          "No",
          "No",
          "No",
          "No",
          "No",
          "No",
          "No",
          "No",
          "No",
          "No",
          "No",
          "No",
          "No",
          "No",
          "No",
          "No",
          "No",
          "No",
          "No",
          "No",
          "Yes",
          "No",
          "No",
          "No",
          "No",
          "No",
          "No",
          "No",
          "No",
          "No",
          "No",
          "No",
          "Yes",
          "No",
          "Yes",
          "No",
          "No",
          "No",
          "No",
          "No",
          "No",
          "No",
          "No",
          "No",
          "No",
          "No",
          "No",
          "No",
          "No",
          "No",
          "No",
          "No",
          "No",
          "No",
          "No",
          "No",
          "No",
          "No",
          "No",
          "No",
          "No",
          "No",
          "No",
          "No",
          "No",
          "No",
          "No",
          "No",
          "No",
          "No",
          "No",
          "No",
          "No",
          "No",
          "No",
          "No",
          "No",
          "No",
          "No",
          "No",
          "No",
          "No",
          "No",
          "No",
          "No",
          "No",
          "No",
          "No",
          "No",
          "No",
          "No",
          "Yes",
          "No",
          "Yes",
          "Yes",
          "No",
          "No",
          "No",
          "No",
          "No",
          "No",
          "Yes",
          "No",
          "No",
          "No",
          "No",
          "No",
          "No",
          "No",
          "No",
          "No",
          "No",
          "No",
          "No",
          "No",
          "Yes",
          "No",
          "Yes",
          "No",
          "No",
          "No",
          "No",
          "No",
          "No",
          "Yes",
          "No",
          "No",
          "No",
          "No",
          "No",
          "No",
          "No",
          "No",
          "No",
          "No",
          "Yes",
          "No",
          "No",
          "No",
          "No",
          "Yes",
          "No",
          "No",
          "No",
          "No",
          "No",
          "No",
          "Yes",
          "No",
          "Yes",
          "Yes",
          "No",
          "No",
          "No",
          "No",
          "No",
          "No",
          "No",
          "No",
          "No",
          "No",
          "No",
          "No",
          "No",
          "No",
          "No",
          "No",
          "No",
          "No",
          "No",
          "No",
          "No",
          "No",
          "Yes",
          "No",
          "No",
          "Yes",
          "Yes",
          "No",
          "No",
          "No",
          "No",
          "No",
          "No",
          "No",
          "No",
          "No",
          "No",
          "No",
          "No",
          "No",
          "No",
          "No",
          "No",
          "No",
          "Yes",
          "No",
          "No",
          "No",
          "No",
          "No",
          "No",
          "No",
          "No",
          "No",
          "No",
          "No",
          "No",
          "No",
          "No",
          "No",
          "No",
          "No",
          "No",
          "No",
          "No",
          "No",
          "No",
          "No",
          "No",
          "No",
          "No",
          "No",
          "No",
          "No",
          "No",
          "No",
          "No",
          "No",
          "No",
          "No",
          "No",
          "No",
          "No",
          "No",
          "No",
          "No",
          "No",
          "No",
          "No",
          "No",
          "No",
          "No",
          "Yes",
          "No",
          "No",
          "No",
          "No",
          "No",
          "No",
          "No",
          "No",
          "No",
          "No",
          "No",
          "No",
          "No",
          "No",
          "No",
          "No",
          "No",
          "No",
          "No",
          "No",
          "No",
          "No",
          "No",
          "No",
          "No",
          "No",
          "No",
          "No",
          "Yes",
          "No",
          "No",
          "No",
          "No",
          "No",
          "No",
          "No",
          "Yes",
          "No",
          "No",
          "No",
          "No",
          "No",
          "No",
          "No",
          "No",
          "No",
          "No",
          "No",
          "No",
          "No",
          "No",
          "No",
          "No",
          "No",
          "No",
          "No",
          "No",
          "Yes",
          "No",
          "No",
          "No",
          "No",
          "No",
          "No",
          "No",
          "No",
          "No",
          "No",
          "No",
          "No",
          "No",
          "No",
          "No",
          "No",
          "No",
          "No",
          "Yes",
          "No",
          "No",
          "No",
          "No",
          "No",
          "No",
          "No",
          "No",
          "Yes",
          "No",
          "No",
          "No",
          "No",
          "No"
         ],
         "xaxis": "x",
         "yaxis": "y"
        }
       ],
       "layout": {
        "barmode": "relative",
        "legend": {
         "title": {
          "text": "variable"
         },
         "tracegroupgap": 0
        },
        "template": {
         "data": {
          "bar": [
           {
            "error_x": {
             "color": "#2a3f5f"
            },
            "error_y": {
             "color": "#2a3f5f"
            },
            "marker": {
             "line": {
              "color": "white",
              "width": 0.5
             },
             "pattern": {
              "fillmode": "overlay",
              "size": 10,
              "solidity": 0.2
             }
            },
            "type": "bar"
           }
          ],
          "barpolar": [
           {
            "marker": {
             "line": {
              "color": "white",
              "width": 0.5
             },
             "pattern": {
              "fillmode": "overlay",
              "size": 10,
              "solidity": 0.2
             }
            },
            "type": "barpolar"
           }
          ],
          "carpet": [
           {
            "aaxis": {
             "endlinecolor": "#2a3f5f",
             "gridcolor": "#C8D4E3",
             "linecolor": "#C8D4E3",
             "minorgridcolor": "#C8D4E3",
             "startlinecolor": "#2a3f5f"
            },
            "baxis": {
             "endlinecolor": "#2a3f5f",
             "gridcolor": "#C8D4E3",
             "linecolor": "#C8D4E3",
             "minorgridcolor": "#C8D4E3",
             "startlinecolor": "#2a3f5f"
            },
            "type": "carpet"
           }
          ],
          "choropleth": [
           {
            "colorbar": {
             "outlinewidth": 0,
             "ticks": ""
            },
            "type": "choropleth"
           }
          ],
          "contour": [
           {
            "colorbar": {
             "outlinewidth": 0,
             "ticks": ""
            },
            "colorscale": [
             [
              0,
              "#0d0887"
             ],
             [
              0.1111111111111111,
              "#46039f"
             ],
             [
              0.2222222222222222,
              "#7201a8"
             ],
             [
              0.3333333333333333,
              "#9c179e"
             ],
             [
              0.4444444444444444,
              "#bd3786"
             ],
             [
              0.5555555555555556,
              "#d8576b"
             ],
             [
              0.6666666666666666,
              "#ed7953"
             ],
             [
              0.7777777777777778,
              "#fb9f3a"
             ],
             [
              0.8888888888888888,
              "#fdca26"
             ],
             [
              1,
              "#f0f921"
             ]
            ],
            "type": "contour"
           }
          ],
          "contourcarpet": [
           {
            "colorbar": {
             "outlinewidth": 0,
             "ticks": ""
            },
            "type": "contourcarpet"
           }
          ],
          "heatmap": [
           {
            "colorbar": {
             "outlinewidth": 0,
             "ticks": ""
            },
            "colorscale": [
             [
              0,
              "#0d0887"
             ],
             [
              0.1111111111111111,
              "#46039f"
             ],
             [
              0.2222222222222222,
              "#7201a8"
             ],
             [
              0.3333333333333333,
              "#9c179e"
             ],
             [
              0.4444444444444444,
              "#bd3786"
             ],
             [
              0.5555555555555556,
              "#d8576b"
             ],
             [
              0.6666666666666666,
              "#ed7953"
             ],
             [
              0.7777777777777778,
              "#fb9f3a"
             ],
             [
              0.8888888888888888,
              "#fdca26"
             ],
             [
              1,
              "#f0f921"
             ]
            ],
            "type": "heatmap"
           }
          ],
          "heatmapgl": [
           {
            "colorbar": {
             "outlinewidth": 0,
             "ticks": ""
            },
            "colorscale": [
             [
              0,
              "#0d0887"
             ],
             [
              0.1111111111111111,
              "#46039f"
             ],
             [
              0.2222222222222222,
              "#7201a8"
             ],
             [
              0.3333333333333333,
              "#9c179e"
             ],
             [
              0.4444444444444444,
              "#bd3786"
             ],
             [
              0.5555555555555556,
              "#d8576b"
             ],
             [
              0.6666666666666666,
              "#ed7953"
             ],
             [
              0.7777777777777778,
              "#fb9f3a"
             ],
             [
              0.8888888888888888,
              "#fdca26"
             ],
             [
              1,
              "#f0f921"
             ]
            ],
            "type": "heatmapgl"
           }
          ],
          "histogram": [
           {
            "marker": {
             "pattern": {
              "fillmode": "overlay",
              "size": 10,
              "solidity": 0.2
             }
            },
            "type": "histogram"
           }
          ],
          "histogram2d": [
           {
            "colorbar": {
             "outlinewidth": 0,
             "ticks": ""
            },
            "colorscale": [
             [
              0,
              "#0d0887"
             ],
             [
              0.1111111111111111,
              "#46039f"
             ],
             [
              0.2222222222222222,
              "#7201a8"
             ],
             [
              0.3333333333333333,
              "#9c179e"
             ],
             [
              0.4444444444444444,
              "#bd3786"
             ],
             [
              0.5555555555555556,
              "#d8576b"
             ],
             [
              0.6666666666666666,
              "#ed7953"
             ],
             [
              0.7777777777777778,
              "#fb9f3a"
             ],
             [
              0.8888888888888888,
              "#fdca26"
             ],
             [
              1,
              "#f0f921"
             ]
            ],
            "type": "histogram2d"
           }
          ],
          "histogram2dcontour": [
           {
            "colorbar": {
             "outlinewidth": 0,
             "ticks": ""
            },
            "colorscale": [
             [
              0,
              "#0d0887"
             ],
             [
              0.1111111111111111,
              "#46039f"
             ],
             [
              0.2222222222222222,
              "#7201a8"
             ],
             [
              0.3333333333333333,
              "#9c179e"
             ],
             [
              0.4444444444444444,
              "#bd3786"
             ],
             [
              0.5555555555555556,
              "#d8576b"
             ],
             [
              0.6666666666666666,
              "#ed7953"
             ],
             [
              0.7777777777777778,
              "#fb9f3a"
             ],
             [
              0.8888888888888888,
              "#fdca26"
             ],
             [
              1,
              "#f0f921"
             ]
            ],
            "type": "histogram2dcontour"
           }
          ],
          "mesh3d": [
           {
            "colorbar": {
             "outlinewidth": 0,
             "ticks": ""
            },
            "type": "mesh3d"
           }
          ],
          "parcoords": [
           {
            "line": {
             "colorbar": {
              "outlinewidth": 0,
              "ticks": ""
             }
            },
            "type": "parcoords"
           }
          ],
          "pie": [
           {
            "automargin": true,
            "type": "pie"
           }
          ],
          "scatter": [
           {
            "marker": {
             "colorbar": {
              "outlinewidth": 0,
              "ticks": ""
             }
            },
            "type": "scatter"
           }
          ],
          "scatter3d": [
           {
            "line": {
             "colorbar": {
              "outlinewidth": 0,
              "ticks": ""
             }
            },
            "marker": {
             "colorbar": {
              "outlinewidth": 0,
              "ticks": ""
             }
            },
            "type": "scatter3d"
           }
          ],
          "scattercarpet": [
           {
            "marker": {
             "colorbar": {
              "outlinewidth": 0,
              "ticks": ""
             }
            },
            "type": "scattercarpet"
           }
          ],
          "scattergeo": [
           {
            "marker": {
             "colorbar": {
              "outlinewidth": 0,
              "ticks": ""
             }
            },
            "type": "scattergeo"
           }
          ],
          "scattergl": [
           {
            "marker": {
             "colorbar": {
              "outlinewidth": 0,
              "ticks": ""
             }
            },
            "type": "scattergl"
           }
          ],
          "scattermapbox": [
           {
            "marker": {
             "colorbar": {
              "outlinewidth": 0,
              "ticks": ""
             }
            },
            "type": "scattermapbox"
           }
          ],
          "scatterpolar": [
           {
            "marker": {
             "colorbar": {
              "outlinewidth": 0,
              "ticks": ""
             }
            },
            "type": "scatterpolar"
           }
          ],
          "scatterpolargl": [
           {
            "marker": {
             "colorbar": {
              "outlinewidth": 0,
              "ticks": ""
             }
            },
            "type": "scatterpolargl"
           }
          ],
          "scatterternary": [
           {
            "marker": {
             "colorbar": {
              "outlinewidth": 0,
              "ticks": ""
             }
            },
            "type": "scatterternary"
           }
          ],
          "surface": [
           {
            "colorbar": {
             "outlinewidth": 0,
             "ticks": ""
            },
            "colorscale": [
             [
              0,
              "#0d0887"
             ],
             [
              0.1111111111111111,
              "#46039f"
             ],
             [
              0.2222222222222222,
              "#7201a8"
             ],
             [
              0.3333333333333333,
              "#9c179e"
             ],
             [
              0.4444444444444444,
              "#bd3786"
             ],
             [
              0.5555555555555556,
              "#d8576b"
             ],
             [
              0.6666666666666666,
              "#ed7953"
             ],
             [
              0.7777777777777778,
              "#fb9f3a"
             ],
             [
              0.8888888888888888,
              "#fdca26"
             ],
             [
              1,
              "#f0f921"
             ]
            ],
            "type": "surface"
           }
          ],
          "table": [
           {
            "cells": {
             "fill": {
              "color": "#EBF0F8"
             },
             "line": {
              "color": "white"
             }
            },
            "header": {
             "fill": {
              "color": "#C8D4E3"
             },
             "line": {
              "color": "white"
             }
            },
            "type": "table"
           }
          ]
         },
         "layout": {
          "annotationdefaults": {
           "arrowcolor": "#2a3f5f",
           "arrowhead": 0,
           "arrowwidth": 1
          },
          "autotypenumbers": "strict",
          "coloraxis": {
           "colorbar": {
            "outlinewidth": 0,
            "ticks": ""
           }
          },
          "colorscale": {
           "diverging": [
            [
             0,
             "#8e0152"
            ],
            [
             0.1,
             "#c51b7d"
            ],
            [
             0.2,
             "#de77ae"
            ],
            [
             0.3,
             "#f1b6da"
            ],
            [
             0.4,
             "#fde0ef"
            ],
            [
             0.5,
             "#f7f7f7"
            ],
            [
             0.6,
             "#e6f5d0"
            ],
            [
             0.7,
             "#b8e186"
            ],
            [
             0.8,
             "#7fbc41"
            ],
            [
             0.9,
             "#4d9221"
            ],
            [
             1,
             "#276419"
            ]
           ],
           "sequential": [
            [
             0,
             "#0d0887"
            ],
            [
             0.1111111111111111,
             "#46039f"
            ],
            [
             0.2222222222222222,
             "#7201a8"
            ],
            [
             0.3333333333333333,
             "#9c179e"
            ],
            [
             0.4444444444444444,
             "#bd3786"
            ],
            [
             0.5555555555555556,
             "#d8576b"
            ],
            [
             0.6666666666666666,
             "#ed7953"
            ],
            [
             0.7777777777777778,
             "#fb9f3a"
            ],
            [
             0.8888888888888888,
             "#fdca26"
            ],
            [
             1,
             "#f0f921"
            ]
           ],
           "sequentialminus": [
            [
             0,
             "#0d0887"
            ],
            [
             0.1111111111111111,
             "#46039f"
            ],
            [
             0.2222222222222222,
             "#7201a8"
            ],
            [
             0.3333333333333333,
             "#9c179e"
            ],
            [
             0.4444444444444444,
             "#bd3786"
            ],
            [
             0.5555555555555556,
             "#d8576b"
            ],
            [
             0.6666666666666666,
             "#ed7953"
            ],
            [
             0.7777777777777778,
             "#fb9f3a"
            ],
            [
             0.8888888888888888,
             "#fdca26"
            ],
            [
             1,
             "#f0f921"
            ]
           ]
          },
          "colorway": [
           "#636efa",
           "#EF553B",
           "#00cc96",
           "#ab63fa",
           "#FFA15A",
           "#19d3f3",
           "#FF6692",
           "#B6E880",
           "#FF97FF",
           "#FECB52"
          ],
          "font": {
           "color": "#2a3f5f"
          },
          "geo": {
           "bgcolor": "white",
           "lakecolor": "white",
           "landcolor": "white",
           "showlakes": true,
           "showland": true,
           "subunitcolor": "#C8D4E3"
          },
          "hoverlabel": {
           "align": "left"
          },
          "hovermode": "closest",
          "mapbox": {
           "style": "light"
          },
          "paper_bgcolor": "white",
          "plot_bgcolor": "white",
          "polar": {
           "angularaxis": {
            "gridcolor": "#EBF0F8",
            "linecolor": "#EBF0F8",
            "ticks": ""
           },
           "bgcolor": "white",
           "radialaxis": {
            "gridcolor": "#EBF0F8",
            "linecolor": "#EBF0F8",
            "ticks": ""
           }
          },
          "scene": {
           "xaxis": {
            "backgroundcolor": "white",
            "gridcolor": "#DFE8F3",
            "gridwidth": 2,
            "linecolor": "#EBF0F8",
            "showbackground": true,
            "ticks": "",
            "zerolinecolor": "#EBF0F8"
           },
           "yaxis": {
            "backgroundcolor": "white",
            "gridcolor": "#DFE8F3",
            "gridwidth": 2,
            "linecolor": "#EBF0F8",
            "showbackground": true,
            "ticks": "",
            "zerolinecolor": "#EBF0F8"
           },
           "zaxis": {
            "backgroundcolor": "white",
            "gridcolor": "#DFE8F3",
            "gridwidth": 2,
            "linecolor": "#EBF0F8",
            "showbackground": true,
            "ticks": "",
            "zerolinecolor": "#EBF0F8"
           }
          },
          "shapedefaults": {
           "line": {
            "color": "#2a3f5f"
           }
          },
          "ternary": {
           "aaxis": {
            "gridcolor": "#DFE8F3",
            "linecolor": "#A2B1C6",
            "ticks": ""
           },
           "baxis": {
            "gridcolor": "#DFE8F3",
            "linecolor": "#A2B1C6",
            "ticks": ""
           },
           "bgcolor": "white",
           "caxis": {
            "gridcolor": "#DFE8F3",
            "linecolor": "#A2B1C6",
            "ticks": ""
           }
          },
          "title": {
           "x": 0.05
          },
          "xaxis": {
           "automargin": true,
           "gridcolor": "#EBF0F8",
           "linecolor": "#EBF0F8",
           "ticks": "",
           "title": {
            "standoff": 15
           },
           "zerolinecolor": "#EBF0F8",
           "zerolinewidth": 2
          },
          "yaxis": {
           "automargin": true,
           "gridcolor": "#EBF0F8",
           "linecolor": "#EBF0F8",
           "ticks": "",
           "title": {
            "standoff": 15
           },
           "zerolinecolor": "#EBF0F8",
           "zerolinewidth": 2
          }
         }
        },
        "title": {
         "text": "Distribution of ANSWER"
        },
        "xaxis": {
         "anchor": "y",
         "domain": [
          0,
          1
         ],
         "title": {
          "text": "ANSWER"
         }
        },
        "yaxis": {
         "anchor": "x",
         "domain": [
          0,
          1
         ],
         "title": {
          "text": "count"
         }
        }
       }
      }
     },
     "metadata": {},
     "output_type": "display_data"
    },
    {
     "data": {
      "application/vnd.plotly.v1+json": {
       "config": {
        "plotlyServerURL": "https://plot.ly"
       },
       "data": [
        {
         "alignmentgroup": "True",
         "bingroup": "x",
         "hovertemplate": "variable=matches<br>MATCHES=%{x}<br>count=%{y}<extra></extra>",
         "legendgroup": "matches",
         "marker": {
          "color": "red",
          "pattern": {
           "shape": ""
          }
         },
         "name": "matches",
         "offsetgroup": "matches",
         "orientation": "v",
         "showlegend": true,
         "type": "histogram",
         "x": [
          0,
          0,
          499.173606,
          0,
          455.925963,
          1091.176696,
          0,
          1,
          878.0804633,
          0,
          0,
          445.4963738,
          1118.156938,
          0,
          985.6569693,
          1411.022822,
          523.0411783,
          0,
          71,
          8.497077758,
          0,
          0,
          796.7761546,
          1774.392524,
          566.0816207,
          549.8374429,
          0,
          489.23807,
          0,
          823.6773447,
          8,
          26.12029246,
          544.8012092,
          4.900332844,
          0,
          0,
          507.7741982,
          4.36114724,
          525.2722908,
          796.2071312,
          3,
          415.3851487,
          0,
          0,
          795.9627904,
          0,
          755.8871411,
          1,
          1145.138425,
          934.0782407,
          0,
          4,
          0,
          1.592050731,
          0,
          794.4983226,
          508.3802654,
          4,
          594.8830073,
          359.2765414,
          1038.615984,
          967.757241,
          0,
          0,
          1,
          0,
          473.3165635,
          501.0077861,
          1.187603295,
          1158.464025,
          363.2985585,
          1.214880737,
          0,
          1032.156321,
          0,
          1085.050524,
          948.0113977,
          863.4787546,
          2,
          0,
          0,
          981.1740715,
          0,
          552.1788587,
          0,
          927.3925133,
          0,
          1,
          0,
          794.8597602,
          378.3847049,
          795.4515292,
          0,
          759.5265177,
          0,
          0,
          9,
          1.300610616,
          0,
          796.9117528,
          913.7096834,
          795.891113,
          0,
          342.0664556,
          2,
          76,
          5,
          831.9613099,
          430.0132338,
          1043.723245,
          817.5609584,
          23.24481972,
          1746.444941,
          1050.512779,
          1077.790668,
          957.2433861,
          1.827246039,
          0,
          971.2255402,
          0,
          14.07220725,
          551.8579312,
          0,
          536.6030615,
          0,
          1578.12925,
          1,
          0,
          0,
          796.9576541,
          1559.455978,
          795.6685134,
          3,
          0,
          0,
          0,
          886.6707716,
          432.4665857,
          1,
          1112.630258,
          888.6721176,
          0,
          921.3049095,
          1075.109821,
          0,
          1,
          517.6878008,
          824.4203415,
          13,
          463.473872,
          891.3250841,
          0,
          521.666364,
          1,
          0,
          929.6531545,
          796.9849601,
          0,
          804.7443952,
          0,
          2,
          0,
          794.9088174,
          1075.83813,
          1255.306004,
          0,
          628.266221,
          3,
          1035.326493,
          794.4131561,
          0,
          866.1448416,
          387.6669644,
          1556.581408,
          795.9469003,
          846.4606334,
          904.3640155,
          1,
          797,
          535.4126758,
          1046.163692,
          0,
          4,
          504.2544386,
          939.5182615,
          476.6260195,
          1.430426465,
          0,
          16,
          872.7944316,
          0,
          802.7631414,
          0,
          2,
          983.025736,
          796.9065016,
          0,
          1069.85561,
          1147.000012,
          0,
          962.2275182,
          574,
          510.5887939,
          834.7561457,
          821.1456797,
          1749.682595,
          510.0679796,
          547.6056299,
          0,
          0,
          1001.112553,
          928.3721694,
          935.9984071,
          934.8919248,
          1065.537129,
          1137.515925,
          794.7099947,
          1101.238283,
          0,
          0,
          728.2521847,
          508.6292868,
          492.9877189,
          794.6566074,
          1,
          0,
          34.63879439,
          0,
          1220.37122,
          501.694812,
          1,
          1071.988671,
          0,
          0,
          1051.079978,
          1123.883668,
          2,
          0,
          796.4712775,
          2,
          0,
          0,
          2,
          4,
          1118.627818,
          967.2570054,
          0,
          1,
          0,
          486.898108,
          794.1379958,
          1526.679497,
          7,
          0,
          0,
          0,
          884.3289025,
          796.6908933,
          796.2596974,
          953.9200517,
          1007.41858,
          491.6097794,
          851.4598268,
          853.2844346,
          0,
          0,
          1,
          927.3841427,
          1038.703651,
          1,
          0,
          0,
          0,
          1820.426668,
          0,
          796.6775521,
          7.267954146,
          545.1533033,
          0,
          0,
          806.9816765,
          1067.750342,
          0,
          0,
          0,
          1062.738667,
          24,
          544.2781015,
          0,
          503.3125777,
          0,
          0,
          797.8461911,
          505.3719898,
          3.865423019,
          0,
          499.8929621,
          531.1828583,
          0,
          1067.699843,
          763.9360928,
          0,
          0,
          483.0363015,
          1032.561637,
          796.2414266,
          931.3709608,
          1,
          0,
          0,
          796.6946242,
          44,
          0,
          988.4294502,
          795.8642386,
          0,
          8.774525352,
          834.5667797,
          511.7135291,
          1,
          1,
          0,
          796.7650675,
          3,
          0,
          0,
          0,
          492.5986362,
          2.84888983,
          527.6835948,
          1007.933705,
          476.2487667,
          795.8151824,
          654.7581679,
          1,
          0,
          1,
          980.1872679,
          795.9837375,
          0,
          378.5017259,
          37,
          1200.402473,
          0,
          0,
          0,
          562.6387805,
          927.3323124,
          0.723106249,
          449.0474387,
          0,
          12,
          1,
          534.8672148,
          1127.341018,
          855.9756191,
          1,
          0,
          1013.022624,
          0,
          1.25300576,
          0.152724677,
          831.7320952,
          3,
          0,
          449.7060021,
          3,
          995.6123772,
          23,
          1065.086436,
          1072.103989,
          1,
          1079.109392,
          1385.133549,
          794.6251286,
          570.3586919,
          537.5648427,
          769.3826949,
          795.0335935,
          0,
          805.7754452,
          828.8163376,
          69.85871926,
          934.8842015,
          374.3377539,
          2.341279953,
          1508.784107,
          0,
          881.935072,
          80.27082423,
          0,
          880.9113423,
          795.6012537,
          0,
          5,
          0,
          770.6767311,
          0,
          508.9385705,
          794.4255992,
          1653.44315,
          796.6946644,
          978.3160673,
          796.1045181,
          915.6824728,
          816.0873154,
          1,
          825.9491724,
          452.5335438,
          794.9671874,
          1952.190973,
          507.4629961,
          593.9485269,
          25,
          794.1794124,
          977.056616,
          889.7985687,
          3,
          1,
          965.7585502,
          2.97544169,
          760.3190842,
          1292.119664,
          1831.506159,
          0,
          972.7951461,
          926.3071908,
          1003.442686,
          841.4919386,
          1055.165539,
          5.170936158,
          495.853696,
          2,
          517.422589,
          11,
          0,
          669.4788687,
          551.6549756,
          0,
          0,
          816.8336567,
          942.6985122,
          0,
          796.533462,
          549.5344852,
          0,
          0,
          0.864281443,
          0.964489768,
          901.5151189,
          633.8456819,
          837.1766574,
          0,
          479.8073841,
          1,
          0,
          521.683657,
          0,
          1,
          1689.579635,
          1126.602545,
          794.9860345,
          487.4091195,
          435.8176472,
          472.6496804,
          810.912359,
          1036.152655,
          564.3614576,
          0.029763317,
          463.9900015,
          795.0386089,
          555.4804398,
          1009.181118,
          1058.103598,
          0,
          7,
          0,
          1,
          0,
          0,
          1436.721671,
          541.3932266,
          0,
          1,
          0,
          0,
          628.8825152,
          0,
          0,
          0,
          0,
          0,
          0,
          948.3291887,
          552.85581,
          0.825888048,
          1024.838537,
          29,
          0,
          534.5823646,
          10,
          0,
          1158.666093,
          795.3229288,
          1061.912139,
          0,
          0,
          531.8195054,
          861.9957225,
          8.14722024,
          568.5541208,
          517.2660139,
          1107.42661,
          1104.721224,
          501.9250837,
          516,
          0,
          471.1666815,
          506.1008714,
          0,
          0,
          794.4798014,
          554.8157439,
          476.0443465,
          3.774326669,
          805.5756873,
          1157.242403,
          1917.70476,
          1125.605175,
          0,
          1096.575004,
          1160.465535,
          2,
          0,
          1,
          6,
          427.428438,
          572.0917226,
          894.5972466,
          0.892049658,
          794.9167396,
          795.734768,
          0.356986313,
          949.5453478,
          3,
          571.3312125,
          1037.449299,
          0,
          505.2353378,
          796.0190235,
          1616.926883,
          476.6572835,
          575.9754118,
          1,
          1650.635817,
          540.7627178,
          5,
          572.0930256,
          2,
          0,
          0,
          743.9162942,
          1,
          903.7970622,
          1154.143553,
          1036.343068,
          0,
          1837.235184,
          0,
          1070.425138,
          0,
          924.363586,
          1101.120443,
          1081.433839,
          817.8190804,
          0,
          794.5659566,
          471.6231108,
          1695.431461,
          796.3210352,
          1008.372154,
          4.730442177,
          0,
          795.0760717,
          984.2543814,
          0,
          1,
          520.0859368,
          1,
          794.4943281,
          796.8697908,
          11.60039705,
          0,
          476.2526493,
          1054.804787,
          0,
          0,
          1017.049343,
          26,
          0,
          0,
          1831.500397,
          24,
          4.433939481,
          550.8192924,
          0,
          799.3882414,
          0,
          0,
          0,
          973.7777513,
          2,
          1915.079432,
          872.204802,
          451.3669921,
          542.7456268,
          0,
          0,
          935.4172984,
          871.0545242,
          0,
          794.9230596,
          1042.853953,
          738.053795,
          497.4388412,
          1055.801704,
          51,
          0,
          2,
          0,
          573.1261319,
          0,
          12,
          778.4973003,
          47,
          1061.353902,
          21.24699503,
          1163.640235,
          0,
          794.3051629,
          1162.344753,
          0,
          0,
          0,
          488.7814748,
          914.1418958,
          864.4335638,
          796.2725612,
          0,
          554.1071469,
          0,
          979.7201225,
          24,
          1795.912502,
          0,
          0,
          796.8807491,
          0,
          0,
          976.159949,
          0,
          0,
          1895.590604,
          1,
          3,
          0,
          0,
          482.8380008,
          1031.467736,
          1520.348955,
          1010.618092,
          1033.607689,
          674.7154217,
          0,
          863.6744723,
          2.1699951,
          796.3364007,
          1292.198843,
          0,
          939.094934,
          0,
          4.036422917,
          2,
          1,
          529.0969716,
          0,
          1001.220192,
          0,
          506.6551507,
          1730.569425,
          0,
          0,
          0,
          0,
          0,
          13.49286079,
          430.9175451,
          5,
          0,
          0,
          0,
          0,
          65.24140494,
          572.2643543,
          0,
          795.9702783,
          11.2406592,
          0,
          0,
          906.0737164,
          2,
          511.395185,
          0,
          854.7369041,
          552.2869238,
          0,
          559.0804578,
          1135.60891,
          0,
          342.5772689,
          0,
          495.8681081,
          493.1091703,
          795.9484128,
          0,
          866.6900573,
          14.91722272,
          949.8470629,
          532.6529172,
          1160.641906,
          5,
          0,
          796.1897845,
          1127.7768,
          1949.226399,
          1,
          797.1599677,
          0,
          1,
          1680.933767,
          1155.446998,
          1004.209193,
          329.7024118,
          0,
          3.967026965,
          562.3907027,
          530.7334634,
          13,
          0,
          893.0899924,
          0,
          887.3151018,
          494.4676719,
          0,
          400.5488715,
          0,
          524.4604689,
          854.5699446,
          0,
          525.7346151,
          564.9213867,
          0,
          562.8223573,
          422.434448,
          0,
          0,
          992.0603662,
          541.9343427,
          1,
          796.2852448,
          0,
          865.9833415,
          7,
          964.6808718,
          2,
          0,
          0,
          445.9822309,
          795.6190448,
          916.8416396,
          1067.366136,
          0,
          0,
          1,
          1612.163027,
          1170.407978,
          0.703494784,
          795.8957607,
          1,
          883.3752289,
          0,
          713.5259271,
          795.636007,
          0,
          1939.725233,
          0,
          1116.314926,
          0,
          0,
          903.8172788,
          529.8768732,
          920.3874592,
          0,
          794.2562738,
          1050.043981,
          1033.961599,
          0,
          0,
          0,
          1678.695276,
          796.610468,
          1012.434636,
          1161.328149,
          0,
          0,
          0,
          1764.41791,
          0,
          19,
          820.9944388,
          0,
          907.6862998,
          0,
          0,
          999.1522393,
          0,
          0,
          0,
          487.220395,
          1146.798638,
          814.018555,
          0,
          0,
          0,
          1052.488992,
          0,
          1,
          507.6221088,
          525.0859025,
          0,
          488.1452717,
          570.1683646,
          963.0282875,
          0,
          0,
          660.6739853,
          795.0874388,
          1.501491166,
          424.0540895,
          572.8152486,
          881.1990992,
          795.8349745,
          1116.904124,
          1.087740456,
          3,
          805.0982733,
          1.444350757,
          1,
          8,
          526.1617331,
          0,
          794.2546361,
          566.9866771,
          2.589507862,
          2,
          0,
          1,
          955.1711191,
          1008.964758,
          4,
          796.2720655,
          0,
          0,
          456.7825599,
          0.750844246,
          569.6907248,
          1078.282109,
          865.5215958,
          1073.976468,
          861.8001482,
          1024.700901,
          856.9446121,
          0,
          0,
          0,
          1150.988193,
          889.74697,
          0,
          804.5429296,
          1379.811268,
          0,
          0,
          1003.593715,
          14,
          796.0629767,
          887.1650763,
          1150.689904,
          487.8249345,
          540.6190345,
          1248.847364,
          887.5112567,
          0,
          2,
          0,
          0,
          1749.759784,
          960.3716815,
          0,
          858.9561649,
          0.016627974,
          887.169431,
          2.801787614,
          0,
          912.3857975,
          0,
          1038.765113,
          1567.459926,
          795.7891636,
          0,
          1658.373474,
          782.4866066,
          850.0577035,
          929.1155054,
          540.9107039,
          0,
          823.2697184,
          0,
          884.172683,
          507.4243558,
          0,
          3,
          1082.876232,
          0,
          794.5498775,
          1047.469436,
          566.4940844,
          1,
          796.3059156,
          0,
          3,
          796.4898956,
          966.2688613,
          1544.097083,
          683.6289432,
          0,
          873.4450183,
          0,
          1,
          8,
          0,
          4,
          1079.358045,
          18.29039703,
          533.2197073,
          1,
          0.679090616,
          0,
          1959.759831,
          0,
          999.9298822,
          17,
          797,
          1163.866729,
          795.7148518,
          1066.13411,
          0,
          815.4247067,
          8,
          526.6177622,
          833.9438801,
          0,
          0,
          0,
          902.6398492,
          1164.661928,
          458.8772601,
          0,
          0.487606537,
          474.4328708,
          571.4751859,
          0,
          1829.110458,
          496.3093017,
          990.7198229,
          489.1101669,
          0.43214805,
          0,
          0,
          32.89822245,
          937.2139591,
          982.3036662,
          799.3407057,
          805.5527388,
          1913.136232,
          905.505809,
          0,
          0,
          0,
          563.1442005,
          7,
          2.615160538,
          0,
          473.1332842,
          0,
          336.9616427,
          914.6183891,
          0,
          0,
          58,
          4,
          1923.810908,
          1125.892556,
          1110.320984,
          3.585971311,
          1172,
          2,
          1070.0436,
          0,
          0,
          0,
          962.2341109,
          1795.768231,
          1110.654394,
          1005.056092,
          5.165941791,
          0,
          1,
          0,
          498.095435,
          827.7155184,
          0,
          795.8041384,
          0.88533766,
          801.7842513,
          982.7539477,
          472,
          46,
          1,
          0,
          65,
          5.07603115,
          1,
          1031.340194,
          1437.98045,
          845.2608526,
          478.3664101,
          24,
          927.2640753,
          795.7386787,
          0,
          540.5130626,
          483.1391996,
          0,
          483.8202054,
          23.13435184,
          3,
          482.1957686,
          0,
          796.7745509,
          0,
          873.1528687,
          499.3974713,
          524.3081957,
          0,
          0,
          2.153694305,
          0,
          0,
          0,
          1969,
          492.9603412,
          671.4993633,
          812.3558922,
          1,
          0,
          1680.613947,
          923.658474,
          0,
          0,
          0,
          796.7786434,
          0,
          1.595683637,
          0.392954939,
          0,
          1,
          484.800827,
          2,
          546.346434,
          895.8861605,
          828.8691191,
          796.1683284,
          0.093581913,
          0,
          0,
          0,
          923.8916926,
          511.1262662,
          1076.619808,
          381.8635916,
          509.9609406,
          1383.709836,
          1687.69624,
          0,
          0,
          0,
          0,
          3,
          794.5910881,
          876.9368174,
          0,
          695.3346484,
          3.036960294,
          594.9236795,
          1329.186309,
          0,
          1090.45617,
          635.0513382,
          891.0259815,
          480.8160302,
          0,
          0,
          13,
          794.599654,
          1089.207958,
          503.1483684,
          509.9729951,
          0,
          888.2525568,
          2.426169913,
          534.4972049,
          56.19713878,
          0,
          3,
          0,
          1080.563839,
          0,
          0,
          2.354163148,
          49,
          533.0023753,
          0,
          909.5308048,
          796.6858979,
          1,
          744.5363858,
          1339.726243,
          0,
          838.1125933,
          551.2888909,
          1911.934973,
          0,
          1053.105909,
          2,
          1084.070478,
          12.22420957,
          504.0813071,
          0,
          913.5043118,
          0,
          1,
          0,
          1029.097571,
          568.0420702,
          0.042549144,
          0,
          35,
          4,
          963.7395264,
          532.7607343,
          334.4720105,
          0,
          8,
          0,
          0,
          1014.723423,
          3,
          6.188182396,
          0,
          1042.254353,
          0,
          825.959484,
          0,
          0,
          910.4300413,
          0.56921076,
          529.402063,
          499.4562521,
          1059.191028,
          1,
          519.4144764,
          1541.323328,
          847.1196732,
          915.1280652,
          3.975671189,
          960.4758649,
          0,
          1568.052442,
          1080.615356,
          0,
          869.4878354,
          648.1266929,
          472.8078541,
          361.9651768,
          809.2549858,
          934.3970414,
          0,
          1615.5264,
          0,
          477.0970079,
          1124.116759,
          1,
          0,
          17,
          22.39546474,
          0,
          818.1601,
          40.62806102,
          1.499973702,
          1,
          1068.588264,
          973.8315605,
          848.8361914,
          547.5121196,
          0,
          2,
          0,
          0,
          980.647725,
          0,
          0,
          534.1168387,
          0,
          0,
          684.8957724,
          325.5113206,
          1001.427545,
          0,
          3,
          0,
          480.9585423,
          0,
          888.0081653,
          0,
          0,
          472.910989,
          0,
          2.179324739,
          525.5204769,
          1122.061616,
          7,
          1,
          0,
          1817.941126,
          1035.629192,
          540.3650809,
          1116.320717,
          2.985032279,
          0,
          562.0771533,
          491.8651598,
          926.5164419,
          0,
          0,
          510.9378833,
          1054.363141,
          986.8794437,
          1,
          0,
          1012.434342,
          0,
          848.8950214,
          0,
          796.3387882,
          0,
          0,
          1,
          325,
          494.918491,
          0,
          0,
          63,
          0,
          884.7113538,
          0,
          1002.631104,
          420.4145152,
          6,
          1011.455151,
          481.5328646,
          1906.705465,
          474.7610364,
          519.9268721,
          0,
          963.3389648,
          0,
          531.1564058,
          1,
          95,
          2,
          1.120656991,
          971.9133813,
          1118.063988,
          1069.282385,
          803.1628023,
          2,
          506.1234547,
          0,
          1135.449242,
          20.56176213,
          451.798419,
          435.574176,
          1,
          795.5114216,
          0,
          1,
          557.8891269,
          0,
          523.4760531,
          0,
          867.0421206,
          1004.23314,
          0,
          1,
          1,
          0,
          796.5686145,
          560.8291297,
          0,
          2,
          486.5171686,
          1154.815778,
          2.379033772,
          1,
          0,
          0.907403835,
          551.2984118,
          1158.873242,
          0,
          1035.466882,
          0,
          844.4178623,
          0,
          0,
          1659.648045,
          0,
          0,
          1045.776075,
          1,
          1115.222961,
          794.1268645,
          938.5368577,
          1035.984244,
          34,
          0,
          338.562245,
          0,
          6.056302862,
          0,
          12,
          0,
          454.1384157,
          1137.25915,
          0,
          1360.925206,
          0,
          840.0472721,
          0,
          29,
          1369.750588,
          1053.904464,
          400.3303938,
          6,
          1110.560187,
          1.030452965,
          1954.893547,
          832.9895323,
          0,
          1.003719549,
          1,
          0,
          1,
          795.0348522,
          0,
          3,
          795.5183719,
          0,
          7,
          1092.297217,
          571.5266719,
          896.0343161,
          0,
          10.89757148,
          975.203497,
          0,
          0,
          0,
          2,
          0,
          1106.524695,
          1138.010441,
          712.4035946,
          1,
          0,
          1087.349248,
          1,
          474.5443619,
          0,
          794.9358888,
          1,
          936.6697886,
          0,
          0,
          0,
          1163.375978,
          1670.464312,
          0.790842971,
          564.7962361,
          0,
          1077.862221,
          0,
          1567.774735,
          4,
          989.3862235,
          0,
          0,
          0,
          1721.174979,
          0,
          570.2707795,
          0,
          848.9795275,
          0,
          1171.839035,
          0,
          7.05964124,
          454.5093474,
          0,
          487.8906668,
          348.5778498,
          487.6781642,
          877.2917505,
          3,
          646.0034888,
          795.3841999,
          607.036625,
          905.5554602,
          524.9692545,
          0,
          1131.160311,
          1050.540745,
          1321.96426,
          5,
          0,
          1015.661752,
          0,
          0,
          658.9222357,
          912.3327189,
          1061.604943,
          0,
          796.6870856,
          929.2899422,
          0,
          1931.269636,
          0,
          0,
          1122.194375,
          1615.893802,
          0,
          1105.042309,
          1362.693695,
          803.7477599,
          1409.198299,
          897.4055574,
          1.197735317,
          795.2684417,
          0,
          979.7179775,
          483.1595311,
          7.542537565,
          0,
          511.4205343,
          0,
          0,
          925.8575132,
          904.2870967,
          567.0135134,
          955.6245726,
          0,
          920.8979085,
          0,
          550.6087986,
          0,
          653.7555599,
          1574.072641,
          0,
          882.8163496,
          0,
          1111.652896,
          0,
          0,
          906.6687817,
          1488.288171,
          0,
          60,
          1050.330759,
          10,
          488.9504464,
          0,
          1,
          1,
          0,
          1,
          520.1963214,
          945.8755761,
          0,
          886.307008,
          0,
          930.7280026,
          0,
          980.2577274,
          942.3192965,
          1139.231491,
          0,
          1852.251302,
          794.6935093,
          0,
          0,
          0,
          870.8492993,
          0,
          0,
          550.6510829,
          421.2158334,
          556.8179415,
          1.507731758,
          982.3778797,
          796.0109089,
          0,
          0,
          468.8464892,
          0,
          0,
          914.526048,
          0,
          860.2320106,
          808.5953541,
          0,
          1,
          834.0478496,
          0,
          795.4950143,
          0,
          550.9430575,
          0,
          2,
          810.0914809,
          1313.795093,
          1107.153102,
          1061.622847,
          794.2786361,
          1000.152871,
          1042.653864,
          0,
          0,
          1,
          0,
          31,
          548.0077157,
          0.01742504,
          796.4787814,
          0,
          796.6622987,
          0,
          0,
          0,
          1066.169075,
          1081.011003,
          0,
          502.7726315,
          1,
          810.5091028,
          891.1553268,
          0,
          0,
          0,
          397.2639398,
          965.8540384,
          912.2795635,
          0,
          0,
          567.1318842,
          0,
          416.3565363,
          6.889823354,
          569.789348,
          2,
          959.2822948,
          0,
          794.3735727,
          789.7602391,
          0,
          0,
          2,
          454.3757089,
          1164.762273,
          977.8299819,
          540.3512005,
          0,
          796.829155,
          796.1710936,
          968.9772184,
          795.2482409,
          1,
          0,
          0,
          877.7260365,
          0,
          0,
          0,
          1213.428445,
          15,
          1,
          472.328606,
          1,
          0,
          1,
          0,
          794.2217785,
          0.433438974,
          968.5841012,
          4.351694538,
          0,
          4,
          0,
          0,
          824.4299601,
          1018.199516,
          991.1735551,
          0,
          1138.220611,
          0,
          0,
          35.76761168,
          952.0998579,
          949.9449082,
          3,
          1023.513481,
          0,
          644.3447392,
          1085.095515,
          0,
          538.0822962,
          1,
          1,
          514.486104,
          12,
          946.3405335,
          0,
          1466.451413,
          0,
          3,
          0,
          9,
          0,
          1096.259006,
          0,
          489.0860626,
          1113.971639,
          0,
          4,
          0,
          0,
          1778.995054,
          0,
          0,
          0,
          1.658269941,
          0,
          864.2920212,
          0,
          19,
          804.0660266,
          0,
          0,
          1081.4324,
          0,
          0,
          469.2252801,
          0,
          4.153664732,
          0,
          1104.938028,
          506.4805105,
          895.5955933,
          0,
          1073.732396,
          499.0352748,
          0,
          1313.940228,
          2,
          824.8635224,
          1411.609555,
          0,
          0,
          504.6892969,
          1134.968145,
          2,
          1919.030541,
          10,
          0,
          994.9769203,
          8,
          0,
          864.3313595,
          2.256403563,
          0,
          982.1972189,
          0,
          2,
          514.0877186,
          0,
          480.3491591,
          1222.695327,
          796.6955558,
          0,
          34.67221652,
          840.6065793,
          11.16635231,
          0,
          1,
          795.3732162,
          0,
          33,
          795.9655313,
          795.0786244,
          0.975869138,
          1,
          794.3936267,
          1,
          0,
          1533.111227,
          484.9735082,
          0.510451063,
          39.48671439,
          12,
          970.5101833,
          0,
          507.7171387,
          368.5983495,
          0,
          551.0364977,
          0,
          0,
          493.8071383,
          0,
          559.0045827,
          0,
          0.511193256,
          1550.098308,
          0,
          0,
          0,
          481.6347072,
          0,
          795.6655089,
          369.5178645,
          73.29876632,
          0,
          0,
          386.5053111,
          491.541342,
          0,
          0,
          0,
          912.351717,
          1110.566144,
          821.9451153,
          564.1342209,
          1055.722555,
          0,
          457.9507393,
          0,
          1028.373972,
          1,
          784.2175009,
          778.0447619,
          804.5457208,
          912.5263965,
          796.3540816,
          7,
          0,
          0,
          0,
          6,
          31.92284446,
          24,
          1541.753698,
          0,
          0,
          0,
          556.9982124,
          1056.163101,
          0,
          1198.972401,
          795.7605426,
          794.9267508,
          1087.142906,
          831.8744764,
          935.2274119,
          19,
          1435.219457,
          800.1029353,
          0,
          826.5685877,
          0,
          456.0951515,
          0,
          946.1640587,
          0,
          1,
          325.4556325,
          1076.571296,
          0,
          817.5223617,
          905.7327574,
          1411.716024,
          940.9526659,
          805.8042886,
          0,
          476.926077,
          0,
          1,
          479.3216915,
          999.3999394,
          0,
          796.6617289,
          0,
          35,
          3,
          0,
          1061.219542,
          11.44550079,
          482.4207397,
          0,
          796.1748889,
          794.1718771,
          2,
          0,
          794.8800354,
          3,
          1567.719016,
          1057.170767,
          8,
          0,
          897.2025813,
          3.061633019,
          667.880501,
          1708.327043,
          556.7006636,
          874.7004831,
          2,
          813.4950213,
          762.7410592,
          0,
          1036.371245,
          0,
          1,
          566.9095457,
          0,
          529.0407264,
          1070.865867,
          0,
          1534.811064,
          794.5289507,
          1634.685374,
          0,
          7,
          1061.458388,
          1527.459235,
          13,
          795.2849819,
          0,
          794.7838939,
          0.256165455,
          844.7849358,
          0,
          1.282775966,
          0,
          0,
          0,
          1203.190399,
          806.3788204,
          1149.529381,
          0
         ],
         "xaxis": "x",
         "yaxis": "y"
        }
       ],
       "layout": {
        "barmode": "relative",
        "legend": {
         "title": {
          "text": "variable"
         },
         "tracegroupgap": 0
        },
        "template": {
         "data": {
          "bar": [
           {
            "error_x": {
             "color": "#2a3f5f"
            },
            "error_y": {
             "color": "#2a3f5f"
            },
            "marker": {
             "line": {
              "color": "white",
              "width": 0.5
             },
             "pattern": {
              "fillmode": "overlay",
              "size": 10,
              "solidity": 0.2
             }
            },
            "type": "bar"
           }
          ],
          "barpolar": [
           {
            "marker": {
             "line": {
              "color": "white",
              "width": 0.5
             },
             "pattern": {
              "fillmode": "overlay",
              "size": 10,
              "solidity": 0.2
             }
            },
            "type": "barpolar"
           }
          ],
          "carpet": [
           {
            "aaxis": {
             "endlinecolor": "#2a3f5f",
             "gridcolor": "#C8D4E3",
             "linecolor": "#C8D4E3",
             "minorgridcolor": "#C8D4E3",
             "startlinecolor": "#2a3f5f"
            },
            "baxis": {
             "endlinecolor": "#2a3f5f",
             "gridcolor": "#C8D4E3",
             "linecolor": "#C8D4E3",
             "minorgridcolor": "#C8D4E3",
             "startlinecolor": "#2a3f5f"
            },
            "type": "carpet"
           }
          ],
          "choropleth": [
           {
            "colorbar": {
             "outlinewidth": 0,
             "ticks": ""
            },
            "type": "choropleth"
           }
          ],
          "contour": [
           {
            "colorbar": {
             "outlinewidth": 0,
             "ticks": ""
            },
            "colorscale": [
             [
              0,
              "#0d0887"
             ],
             [
              0.1111111111111111,
              "#46039f"
             ],
             [
              0.2222222222222222,
              "#7201a8"
             ],
             [
              0.3333333333333333,
              "#9c179e"
             ],
             [
              0.4444444444444444,
              "#bd3786"
             ],
             [
              0.5555555555555556,
              "#d8576b"
             ],
             [
              0.6666666666666666,
              "#ed7953"
             ],
             [
              0.7777777777777778,
              "#fb9f3a"
             ],
             [
              0.8888888888888888,
              "#fdca26"
             ],
             [
              1,
              "#f0f921"
             ]
            ],
            "type": "contour"
           }
          ],
          "contourcarpet": [
           {
            "colorbar": {
             "outlinewidth": 0,
             "ticks": ""
            },
            "type": "contourcarpet"
           }
          ],
          "heatmap": [
           {
            "colorbar": {
             "outlinewidth": 0,
             "ticks": ""
            },
            "colorscale": [
             [
              0,
              "#0d0887"
             ],
             [
              0.1111111111111111,
              "#46039f"
             ],
             [
              0.2222222222222222,
              "#7201a8"
             ],
             [
              0.3333333333333333,
              "#9c179e"
             ],
             [
              0.4444444444444444,
              "#bd3786"
             ],
             [
              0.5555555555555556,
              "#d8576b"
             ],
             [
              0.6666666666666666,
              "#ed7953"
             ],
             [
              0.7777777777777778,
              "#fb9f3a"
             ],
             [
              0.8888888888888888,
              "#fdca26"
             ],
             [
              1,
              "#f0f921"
             ]
            ],
            "type": "heatmap"
           }
          ],
          "heatmapgl": [
           {
            "colorbar": {
             "outlinewidth": 0,
             "ticks": ""
            },
            "colorscale": [
             [
              0,
              "#0d0887"
             ],
             [
              0.1111111111111111,
              "#46039f"
             ],
             [
              0.2222222222222222,
              "#7201a8"
             ],
             [
              0.3333333333333333,
              "#9c179e"
             ],
             [
              0.4444444444444444,
              "#bd3786"
             ],
             [
              0.5555555555555556,
              "#d8576b"
             ],
             [
              0.6666666666666666,
              "#ed7953"
             ],
             [
              0.7777777777777778,
              "#fb9f3a"
             ],
             [
              0.8888888888888888,
              "#fdca26"
             ],
             [
              1,
              "#f0f921"
             ]
            ],
            "type": "heatmapgl"
           }
          ],
          "histogram": [
           {
            "marker": {
             "pattern": {
              "fillmode": "overlay",
              "size": 10,
              "solidity": 0.2
             }
            },
            "type": "histogram"
           }
          ],
          "histogram2d": [
           {
            "colorbar": {
             "outlinewidth": 0,
             "ticks": ""
            },
            "colorscale": [
             [
              0,
              "#0d0887"
             ],
             [
              0.1111111111111111,
              "#46039f"
             ],
             [
              0.2222222222222222,
              "#7201a8"
             ],
             [
              0.3333333333333333,
              "#9c179e"
             ],
             [
              0.4444444444444444,
              "#bd3786"
             ],
             [
              0.5555555555555556,
              "#d8576b"
             ],
             [
              0.6666666666666666,
              "#ed7953"
             ],
             [
              0.7777777777777778,
              "#fb9f3a"
             ],
             [
              0.8888888888888888,
              "#fdca26"
             ],
             [
              1,
              "#f0f921"
             ]
            ],
            "type": "histogram2d"
           }
          ],
          "histogram2dcontour": [
           {
            "colorbar": {
             "outlinewidth": 0,
             "ticks": ""
            },
            "colorscale": [
             [
              0,
              "#0d0887"
             ],
             [
              0.1111111111111111,
              "#46039f"
             ],
             [
              0.2222222222222222,
              "#7201a8"
             ],
             [
              0.3333333333333333,
              "#9c179e"
             ],
             [
              0.4444444444444444,
              "#bd3786"
             ],
             [
              0.5555555555555556,
              "#d8576b"
             ],
             [
              0.6666666666666666,
              "#ed7953"
             ],
             [
              0.7777777777777778,
              "#fb9f3a"
             ],
             [
              0.8888888888888888,
              "#fdca26"
             ],
             [
              1,
              "#f0f921"
             ]
            ],
            "type": "histogram2dcontour"
           }
          ],
          "mesh3d": [
           {
            "colorbar": {
             "outlinewidth": 0,
             "ticks": ""
            },
            "type": "mesh3d"
           }
          ],
          "parcoords": [
           {
            "line": {
             "colorbar": {
              "outlinewidth": 0,
              "ticks": ""
             }
            },
            "type": "parcoords"
           }
          ],
          "pie": [
           {
            "automargin": true,
            "type": "pie"
           }
          ],
          "scatter": [
           {
            "marker": {
             "colorbar": {
              "outlinewidth": 0,
              "ticks": ""
             }
            },
            "type": "scatter"
           }
          ],
          "scatter3d": [
           {
            "line": {
             "colorbar": {
              "outlinewidth": 0,
              "ticks": ""
             }
            },
            "marker": {
             "colorbar": {
              "outlinewidth": 0,
              "ticks": ""
             }
            },
            "type": "scatter3d"
           }
          ],
          "scattercarpet": [
           {
            "marker": {
             "colorbar": {
              "outlinewidth": 0,
              "ticks": ""
             }
            },
            "type": "scattercarpet"
           }
          ],
          "scattergeo": [
           {
            "marker": {
             "colorbar": {
              "outlinewidth": 0,
              "ticks": ""
             }
            },
            "type": "scattergeo"
           }
          ],
          "scattergl": [
           {
            "marker": {
             "colorbar": {
              "outlinewidth": 0,
              "ticks": ""
             }
            },
            "type": "scattergl"
           }
          ],
          "scattermapbox": [
           {
            "marker": {
             "colorbar": {
              "outlinewidth": 0,
              "ticks": ""
             }
            },
            "type": "scattermapbox"
           }
          ],
          "scatterpolar": [
           {
            "marker": {
             "colorbar": {
              "outlinewidth": 0,
              "ticks": ""
             }
            },
            "type": "scatterpolar"
           }
          ],
          "scatterpolargl": [
           {
            "marker": {
             "colorbar": {
              "outlinewidth": 0,
              "ticks": ""
             }
            },
            "type": "scatterpolargl"
           }
          ],
          "scatterternary": [
           {
            "marker": {
             "colorbar": {
              "outlinewidth": 0,
              "ticks": ""
             }
            },
            "type": "scatterternary"
           }
          ],
          "surface": [
           {
            "colorbar": {
             "outlinewidth": 0,
             "ticks": ""
            },
            "colorscale": [
             [
              0,
              "#0d0887"
             ],
             [
              0.1111111111111111,
              "#46039f"
             ],
             [
              0.2222222222222222,
              "#7201a8"
             ],
             [
              0.3333333333333333,
              "#9c179e"
             ],
             [
              0.4444444444444444,
              "#bd3786"
             ],
             [
              0.5555555555555556,
              "#d8576b"
             ],
             [
              0.6666666666666666,
              "#ed7953"
             ],
             [
              0.7777777777777778,
              "#fb9f3a"
             ],
             [
              0.8888888888888888,
              "#fdca26"
             ],
             [
              1,
              "#f0f921"
             ]
            ],
            "type": "surface"
           }
          ],
          "table": [
           {
            "cells": {
             "fill": {
              "color": "#EBF0F8"
             },
             "line": {
              "color": "white"
             }
            },
            "header": {
             "fill": {
              "color": "#C8D4E3"
             },
             "line": {
              "color": "white"
             }
            },
            "type": "table"
           }
          ]
         },
         "layout": {
          "annotationdefaults": {
           "arrowcolor": "#2a3f5f",
           "arrowhead": 0,
           "arrowwidth": 1
          },
          "autotypenumbers": "strict",
          "coloraxis": {
           "colorbar": {
            "outlinewidth": 0,
            "ticks": ""
           }
          },
          "colorscale": {
           "diverging": [
            [
             0,
             "#8e0152"
            ],
            [
             0.1,
             "#c51b7d"
            ],
            [
             0.2,
             "#de77ae"
            ],
            [
             0.3,
             "#f1b6da"
            ],
            [
             0.4,
             "#fde0ef"
            ],
            [
             0.5,
             "#f7f7f7"
            ],
            [
             0.6,
             "#e6f5d0"
            ],
            [
             0.7,
             "#b8e186"
            ],
            [
             0.8,
             "#7fbc41"
            ],
            [
             0.9,
             "#4d9221"
            ],
            [
             1,
             "#276419"
            ]
           ],
           "sequential": [
            [
             0,
             "#0d0887"
            ],
            [
             0.1111111111111111,
             "#46039f"
            ],
            [
             0.2222222222222222,
             "#7201a8"
            ],
            [
             0.3333333333333333,
             "#9c179e"
            ],
            [
             0.4444444444444444,
             "#bd3786"
            ],
            [
             0.5555555555555556,
             "#d8576b"
            ],
            [
             0.6666666666666666,
             "#ed7953"
            ],
            [
             0.7777777777777778,
             "#fb9f3a"
            ],
            [
             0.8888888888888888,
             "#fdca26"
            ],
            [
             1,
             "#f0f921"
            ]
           ],
           "sequentialminus": [
            [
             0,
             "#0d0887"
            ],
            [
             0.1111111111111111,
             "#46039f"
            ],
            [
             0.2222222222222222,
             "#7201a8"
            ],
            [
             0.3333333333333333,
             "#9c179e"
            ],
            [
             0.4444444444444444,
             "#bd3786"
            ],
            [
             0.5555555555555556,
             "#d8576b"
            ],
            [
             0.6666666666666666,
             "#ed7953"
            ],
            [
             0.7777777777777778,
             "#fb9f3a"
            ],
            [
             0.8888888888888888,
             "#fdca26"
            ],
            [
             1,
             "#f0f921"
            ]
           ]
          },
          "colorway": [
           "#636efa",
           "#EF553B",
           "#00cc96",
           "#ab63fa",
           "#FFA15A",
           "#19d3f3",
           "#FF6692",
           "#B6E880",
           "#FF97FF",
           "#FECB52"
          ],
          "font": {
           "color": "#2a3f5f"
          },
          "geo": {
           "bgcolor": "white",
           "lakecolor": "white",
           "landcolor": "white",
           "showlakes": true,
           "showland": true,
           "subunitcolor": "#C8D4E3"
          },
          "hoverlabel": {
           "align": "left"
          },
          "hovermode": "closest",
          "mapbox": {
           "style": "light"
          },
          "paper_bgcolor": "white",
          "plot_bgcolor": "white",
          "polar": {
           "angularaxis": {
            "gridcolor": "#EBF0F8",
            "linecolor": "#EBF0F8",
            "ticks": ""
           },
           "bgcolor": "white",
           "radialaxis": {
            "gridcolor": "#EBF0F8",
            "linecolor": "#EBF0F8",
            "ticks": ""
           }
          },
          "scene": {
           "xaxis": {
            "backgroundcolor": "white",
            "gridcolor": "#DFE8F3",
            "gridwidth": 2,
            "linecolor": "#EBF0F8",
            "showbackground": true,
            "ticks": "",
            "zerolinecolor": "#EBF0F8"
           },
           "yaxis": {
            "backgroundcolor": "white",
            "gridcolor": "#DFE8F3",
            "gridwidth": 2,
            "linecolor": "#EBF0F8",
            "showbackground": true,
            "ticks": "",
            "zerolinecolor": "#EBF0F8"
           },
           "zaxis": {
            "backgroundcolor": "white",
            "gridcolor": "#DFE8F3",
            "gridwidth": 2,
            "linecolor": "#EBF0F8",
            "showbackground": true,
            "ticks": "",
            "zerolinecolor": "#EBF0F8"
           }
          },
          "shapedefaults": {
           "line": {
            "color": "#2a3f5f"
           }
          },
          "ternary": {
           "aaxis": {
            "gridcolor": "#DFE8F3",
            "linecolor": "#A2B1C6",
            "ticks": ""
           },
           "baxis": {
            "gridcolor": "#DFE8F3",
            "linecolor": "#A2B1C6",
            "ticks": ""
           },
           "bgcolor": "white",
           "caxis": {
            "gridcolor": "#DFE8F3",
            "linecolor": "#A2B1C6",
            "ticks": ""
           }
          },
          "title": {
           "x": 0.05
          },
          "xaxis": {
           "automargin": true,
           "gridcolor": "#EBF0F8",
           "linecolor": "#EBF0F8",
           "ticks": "",
           "title": {
            "standoff": 15
           },
           "zerolinecolor": "#EBF0F8",
           "zerolinewidth": 2
          },
          "yaxis": {
           "automargin": true,
           "gridcolor": "#EBF0F8",
           "linecolor": "#EBF0F8",
           "ticks": "",
           "title": {
            "standoff": 15
           },
           "zerolinecolor": "#EBF0F8",
           "zerolinewidth": 2
          }
         }
        },
        "title": {
         "text": "Distribution of MATCHES"
        },
        "xaxis": {
         "anchor": "y",
         "domain": [
          0,
          1
         ],
         "title": {
          "text": "MATCHES"
         }
        },
        "yaxis": {
         "anchor": "x",
         "domain": [
          0,
          1
         ],
         "title": {
          "text": "count"
         }
        }
       }
      }
     },
     "metadata": {},
     "output_type": "display_data"
    },
    {
     "data": {
      "application/vnd.plotly.v1+json": {
       "config": {
        "plotlyServerURL": "https://plot.ly"
       },
       "data": [
        {
         "alignmentgroup": "True",
         "bingroup": "x",
         "hovertemplate": "variable=percentage<br>PERCENTAGE=%{x}<br>count=%{y}<extra></extra>",
         "legendgroup": "percentage",
         "marker": {
          "color": "red",
          "pattern": {
           "shape": ""
          }
         },
         "name": "percentage",
         "offsetgroup": "percentage",
         "orientation": "v",
         "showlegend": true,
         "type": "histogram",
         "x": [
          0,
          0,
          0.225254764,
          0,
          0.211359792,
          0.519163319,
          0,
          0.333,
          0.22803111,
          0,
          0,
          0.271811915,
          0.434512318,
          0,
          0.507626495,
          0.366268718,
          0.308201621,
          0,
          0.563,
          0.193544549,
          0,
          0,
          0.228494171,
          0.46052161,
          0.266645332,
          0.282329365,
          0,
          0.252960981,
          0,
          0.466830299,
          0.32,
          0.279897696,
          0.287191936,
          0.5,
          0,
          0,
          0.309961158,
          0.323161887,
          0.306047443,
          0.283133154,
          0.5,
          0.253366819,
          0,
          0,
          0.306595346,
          0,
          0.444965328,
          0.091,
          0.48136026,
          0.39062563,
          0,
          0.444,
          0,
          0.97997324,
          0,
          0.44721704,
          0.29733607,
          0.364,
          0.280351236,
          0.201497606,
          0.269671723,
          0.505669458,
          0,
          0,
          0.5,
          0,
          0.216052034,
          0.280245322,
          0.017464754,
          0.300758587,
          0.221460374,
          0.928444715,
          0,
          0.301716367,
          0,
          0.377029667,
          0.503510579,
          0.224243636,
          0.5,
          0,
          0,
          0.254772114,
          0,
          0.280068688,
          0,
          0.395240481,
          0,
          0.083,
          0,
          0.412510937,
          0.203447419,
          0.355687871,
          0,
          0.448686305,
          0,
          0,
          0.818,
          0.185662165,
          0,
          0.215473706,
          0.395042471,
          0.313477979,
          0,
          0.199741475,
          1,
          0.551,
          0.114,
          0.216068463,
          0.208715636,
          0.314942719,
          0.470799674,
          0.625273829,
          0.453272408,
          0.310256215,
          0.291427541,
          0.248564837,
          0.609386554,
          0,
          0.252191608,
          0,
          0.297592336,
          0.280378549,
          0,
          0.295107389,
          0,
          0.40961373,
          0.5,
          0,
          0,
          0.211066159,
          0.404770151,
          0.334852524,
          0.75,
          0,
          0,
          0,
          0.230259313,
          0.208965978,
          0.071,
          0.424916346,
          0.421967392,
          0,
          0.239242912,
          0.35976963,
          0,
          0.103571513,
          0.313370399,
          0.489997957,
          0.206,
          0.282824309,
          0.420136171,
          0,
          0.235398556,
          0.125,
          0,
          0.393680064,
          0.208444165,
          0,
          0.479898844,
          0,
          0.333,
          0,
          0.407800348,
          0.292775289,
          0.325878008,
          0,
          0.314482952,
          0.3,
          0.51305703,
          0.455394929,
          0,
          0.432519613,
          0.204394588,
          0.404024529,
          0.308121147,
          0.451104041,
          0.411135995,
          0.25,
          0.207,
          0.241597873,
          0.30951048,
          0,
          0.8,
          0.227546119,
          0.243967194,
          0.223723954,
          0.856667987,
          0,
          0.139,
          0.226659989,
          0,
          0.487630103,
          0,
          0.286,
          0.255252409,
          0.215977941,
          0,
          0.296904748,
          0.484592533,
          0,
          0.371195477,
          0.259,
          0.230402789,
          0.216793403,
          0.467975212,
          0.454112209,
          0.301248498,
          0.247096657,
          0,
          0,
          0.344354922,
          0.241076058,
          0.37748081,
          0.242767189,
          0.276654682,
          0.468125318,
          0.426891776,
          0.405136465,
          0,
          0,
          0.416710754,
          0.22951909,
          0.261653348,
          0.432018157,
          1,
          0,
          0.321022625,
          0,
          0.316816426,
          0.281837973,
          0.053,
          0.517065428,
          0,
          0,
          0.272904704,
          0.444455637,
          0.667,
          0,
          0.257769202,
          1,
          0,
          0,
          0.4,
          0.571,
          0.290425646,
          0.251162227,
          0,
          1,
          0,
          0.219718755,
          0.481816485,
          0.396268402,
          0.778,
          0,
          0,
          0,
          0.418192084,
          0.236681161,
          0.27808562,
          0.376929739,
          0.340002162,
          0.300059394,
          0.444090184,
          0.442652544,
          0,
          0,
          0.167,
          0.501255333,
          0.296557615,
          0.25,
          0,
          0,
          0,
          0.472462207,
          0,
          0.237962213,
          0.697179465,
          0.286851983,
          0,
          0,
          0.478354552,
          0.346991369,
          0,
          0,
          0,
          0.301817246,
          0.222,
          0.245596007,
          0,
          0.227121359,
          0,
          0,
          0.20721949,
          0.29036234,
          0.878408066,
          0,
          0.277660958,
          0.300340689,
          0,
          0.298392774,
          0.45319475,
          0,
          0,
          0.217977156,
          0.301397012,
          0.279840028,
          0.241853901,
          1,
          0,
          0,
          0.236322916,
          0.647,
          0,
          0.353109486,
          0.316058526,
          0,
          0.57840603,
          0.216744284,
          0.305063181,
          1,
          0.5,
          0,
          0.22955878,
          1,
          0,
          0,
          0,
          0.260751384,
          0.237407486,
          0.238112209,
          0.261713179,
          0.222849414,
          0.320769021,
          0.341568889,
          0.111,
          0,
          0.077,
          0.342663661,
          0.304583953,
          0,
          0.230773309,
          0.343,
          0.311636819,
          0,
          0,
          0,
          0.253876313,
          0.384308972,
          0.723106249,
          0.273987174,
          0,
          0.182,
          1,
          0.296783379,
          0.450458632,
          0.444536283,
          0.5,
          0,
          0.263033172,
          0,
          0.183048614,
          0.050857318,
          0.459633996,
          0.167,
          0,
          0.210725102,
          0.429,
          0.330509957,
          0.235,
          0.276537779,
          0.278358031,
          0.5,
          0.290517287,
          0.359553412,
          0.435040829,
          0.262515746,
          0.242568458,
          0.458763473,
          0.395819052,
          0,
          0.209276225,
          0.463283088,
          0.541873374,
          0.390069312,
          0.203034465,
          0.585319988,
          0.391626594,
          0,
          0.420078224,
          0.537737967,
          0,
          0.427324299,
          0.341310958,
          0,
          0.192,
          0,
          0.460086523,
          0,
          0.298630323,
          0.454200113,
          0.429149077,
          0.236319056,
          0.254030789,
          0.292986316,
          0.393488077,
          0.471960782,
          0.2,
          0.464190459,
          0.276122642,
          0.402195524,
          0.506639979,
          0.295209673,
          0.279395803,
          0.275,
          0.477839563,
          0.253704105,
          0.231070618,
          0.375,
          0.5,
          0.250773549,
          0.424744301,
          0.449496642,
          0.335426944,
          0.475336068,
          0,
          0.348488038,
          0.240540432,
          0.324340324,
          0.218540571,
          0.307044629,
          0.117782435,
          0.268297204,
          0.667,
          0.313626466,
          0.786,
          0,
          0.356619651,
          0.248922832,
          0,
          0,
          0.471372727,
          0.384675453,
          0,
          0.251798093,
          0.282621876,
          0,
          0,
          0.10803518,
          0.964489768,
          0.234109724,
          0.320187513,
          0.491392648,
          0,
          0.231098936,
          0.25,
          0,
          0.235406355,
          0,
          0.374480941,
          0.438522363,
          0.523036545,
          0.400385777,
          0.248721141,
          0.265883061,
          0.288445092,
          0.475641382,
          0.320168349,
          0.268306179,
          0.029763317,
          0.283140472,
          0.395337464,
          0.276880955,
          0.26203674,
          0.330241733,
          0,
          0.226,
          0,
          1,
          0,
          0,
          0.372934631,
          0.290482402,
          0,
          0.5,
          0,
          0,
          0.315113065,
          0,
          0,
          0,
          0,
          0,
          0,
          0.246252622,
          0.249464385,
          0.103236006,
          0.511910347,
          0.21,
          0,
          0.241223419,
          0.385,
          0,
          0.504848344,
          0.368036383,
          0.3368545,
          0,
          0,
          0.299725995,
          0.223858959,
          0.151036929,
          0.26425809,
          0.313777642,
          0.520939976,
          0.520644187,
          0.282371785,
          0.315,
          0,
          0.287536658,
          0.228378824,
          0,
          0,
          0.448995489,
          0.27752273,
          0.214823921,
          0.538785132,
          0.20922441,
          0.502376392,
          0.49769475,
          0.292235472,
          0,
          0.397039617,
          0.507972714,
          0.667,
          0,
          0.5,
          0.353,
          0.260744122,
          0.260842475,
          0.410101483,
          0.892049658,
          0.407039645,
          0.328490599,
          0.029748859,
          0.366806947,
          1,
          0.26157676,
          0.29754594,
          0,
          0.290045556,
          0.301195712,
          0.41967728,
          0.215100344,
          0.261019704,
          0.5,
          0.428420895,
          0.291091169,
          0.625,
          0.260841217,
          1,
          0,
          0,
          0.432726077,
          1,
          0.498676479,
          0.299637918,
          0.298417558,
          0,
          0.476822096,
          0,
          0.296511628,
          0,
          0.39733121,
          0.285884483,
          0.370750019,
          0.47087399,
          0,
          0.440722668,
          0.212961542,
          0.440040242,
          0.272195827,
          0.261826907,
          0.496866497,
          0,
          0.391740191,
          0.355991344,
          0,
          0.125,
          0.311054958,
          1,
          0.447600602,
          0.219503002,
          0.227937039,
          0,
          0.214917861,
          0.273870866,
          0,
          0,
          0.264077645,
          0.356,
          0,
          0,
          0.475334574,
          0.2,
          0.17070667,
          0.281381373,
          0,
          0.207619476,
          0,
          0,
          0,
          0.363222881,
          0.133,
          0.497013777,
          0.226507048,
          0.275408053,
          0.289176636,
          0,
          0,
          0.242903463,
          0.434128007,
          0,
          0.406432782,
          0.303763782,
          0.426732131,
          0.271971859,
          0.274129452,
          0.264,
          0,
          0.5,
          0,
          0.259843735,
          0,
          0.122,
          0.468082442,
          0.244,
          0.302773086,
          0.307118155,
          0.513484944,
          0,
          0.465764695,
          0.511235599,
          0,
          0,
          0,
          0.25190251,
          0.237384929,
          0.438698152,
          0.27685041,
          0,
          0.278206893,
          0,
          0.343031732,
          0.32,
          0.466103584,
          0,
          0,
          0.218450755,
          0,
          0,
          0.345836853,
          0,
          0,
          0.491958655,
          1,
          0.429,
          0,
          0,
          0.217887726,
          0.512635139,
          0.39462635,
          0.337793686,
          0.321925022,
          0.361973615,
          0,
          0.434466058,
          0.43399902,
          0.270720391,
          0.335447482,
          0,
          0.243857389,
          0,
          0.545154029,
          0.5,
          1,
          0.238749615,
          0,
          0.25997179,
          0,
          0.228628793,
          0.449154526,
          0,
          0,
          0,
          0,
          0,
          0.5,
          0.208807913,
          0.5,
          0,
          0,
          0,
          0,
          0.567864825,
          0.260675796,
          0,
          0.305876341,
          0.37468864,
          0,
          0,
          0.235292159,
          0.111,
          0.304325202,
          0,
          0.221976125,
          0.279964349,
          0,
          0.273405075,
          0.464814169,
          0,
          0.208767228,
          0,
          0.268330614,
          0.261934895,
          0.307975915,
          0,
          0.437140599,
          0.429114542,
          0.36656922,
          0.298921321,
          0.508278947,
          0.5,
          0,
          0.284798827,
          0.451215279,
          0.505871011,
          0.469573344,
          0.207041493,
          0,
          0.333,
          0.436279748,
          0.299976013,
          0.342217454,
          0.200880535,
          0,
          0.396702696,
          0.253764435,
          0.300774587,
          0.241,
          0,
          0.231924367,
          0,
          0.422904077,
          0.265084149,
          0,
          0.244278628,
          0,
          0.306831271,
          0.445506556,
          0,
          0.237233258,
          0.254905723,
          0,
          0.269792207,
          0.257684976,
          0,
          0,
          0.333308646,
          0.289959945,
          1,
          0.2756325,
          0,
          0.22489329,
          0.586896602,
          0.354881412,
          0.667,
          0,
          0,
          0.272109534,
          0.339602615,
          0.238085203,
          0.298623117,
          0,
          0,
          0.25,
          0.418441604,
          0.303856677,
          0.064018025,
          0.313031696,
          0.111,
          0.425623591,
          0,
          0.401654311,
          0.337973871,
          0,
          0.503406545,
          0,
          0.289825715,
          0,
          0,
          0.402836864,
          0.30160164,
          0.389780939,
          0,
          0.470459145,
          0.316247825,
          0.512907802,
          0,
          0,
          0,
          0.435699116,
          0.244403789,
          0.510554187,
          0.50947047,
          0,
          0,
          0,
          0.457934339,
          0,
          0.209,
          0.213223813,
          0,
          0.23571044,
          0,
          0,
          0.32772084,
          0,
          0,
          0,
          0.248283643,
          0.484242887,
          0.473590793,
          0,
          0,
          0,
          0.320493096,
          0,
          0.25,
          0.295578525,
          0.306227404,
          0,
          0.250427675,
          0.257272008,
          0.250065358,
          0,
          0,
          0.347617348,
          0.390648694,
          0.937313604,
          0.20810756,
          0.260143898,
          0.420658109,
          0.318868535,
          0.289978544,
          0.362761442,
          0.429,
          0.479654579,
          0.5,
          0.091,
          0.308,
          0.305188672,
          0,
          0.470616401,
          0.265771484,
          0.794753931,
          0.143,
          0,
          0.333,
          0.504293376,
          0.510174814,
          0.4,
          0.276898009,
          0,
          0,
          0.2114472,
          0.093855531,
          0.26316068,
          0.279960547,
          0.437947134,
          0.35780179,
          0.22380823,
          0.26606235,
          0.443867432,
          0,
          0,
          0,
          0.49151721,
          0.231057235,
          0,
          0.208956528,
          0.358172889,
          0,
          0,
          0.509587579,
          0.163,
          0.296975213,
          0.415957415,
          0.49099929,
          0.220136735,
          0.291229898,
          0.324202729,
          0.415684654,
          0,
          0.333,
          0,
          0,
          0.454132231,
          0.358276696,
          0,
          0.223070541,
          0.016627974,
          0.423004627,
          0.377632844,
          0,
          0.405598928,
          0,
          0.318365089,
          0.406846261,
          0.323267404,
          0,
          0.430427932,
          0.472161194,
          0.448621149,
          0.394051178,
          0.244077376,
          0,
          0.466301646,
          0,
          0.425073145,
          0.295120098,
          0,
          0.25,
          0.281152197,
          0,
          0.442266616,
          0.312356895,
          0.266247091,
          0.25,
          0.273647639,
          0,
          0.3,
          0.255981441,
          0.250905916,
          0.400786274,
          0.371086991,
          0,
          0.226828742,
          0,
          0.5,
          0.267,
          0,
          0.667,
          0.517871146,
          0.684450254,
          0.240608888,
          0.167,
          0.679090616,
          0,
          0.508603233,
          0,
          0.345171266,
          0.227,
          0.487,
          0.527110762,
          0.330403003,
          0.27680953,
          0,
          0.211779105,
          0.444,
          0.23763154,
          0.491039198,
          0,
          0,
          0,
          0.234401463,
          0.51525891,
          0.280008583,
          0,
          0.162372977,
          0.218639837,
          0.257861358,
          0,
          0.474714658,
          0.269353381,
          0.351528547,
          0.252664478,
          0.43214805,
          0,
          0,
          0.2860715,
          0.376523056,
          0.357337834,
          0.207607146,
          0.209218458,
          0.496509739,
          0.401506442,
          0,
          0,
          0,
          0.254104247,
          0.28,
          0.903790134,
          0,
          0.215627159,
          0,
          0.199220576,
          0.237508524,
          0,
          0,
          0.537,
          0.571,
          0.499278597,
          0.292310015,
          0.420906754,
          0.873522494,
          0.528,
          0.603681646,
          0.296774986,
          0,
          0,
          0,
          0.371190926,
          0.466066162,
          0.421485653,
          0.341632879,
          0.488021914,
          0,
          1,
          0,
          0.273493963,
          0.49035823,
          0,
          0.321829489,
          0.110667207,
          0.208240966,
          0.357027025,
          0.213,
          0.4,
          0.2,
          0,
          0.542,
          0.195427199,
          0.333,
          0.267784487,
          0.373261141,
          0.451932195,
          0.227758496,
          0.201386842,
          0.240788634,
          0.328115082,
          0,
          0.243898048,
          0.23882269,
          0,
          0.29528777,
          0.235850371,
          0.429,
          0.217598092,
          0,
          0.228648161,
          0,
          0.432679617,
          0.225355722,
          0.306978294,
          0,
          0,
          0.139608855,
          0,
          0,
          0,
          0.511,
          0.222452703,
          0.358685448,
          0.474900833,
          1,
          0,
          0.436196792,
          0.239853393,
          0,
          0,
          0,
          0.228255194,
          0,
          0.425539545,
          0.035758899,
          0,
          1,
          0.242674644,
          0.4,
          0.246528784,
          0.232649653,
          0.461889783,
          0.286859097,
          0.093581913,
          0,
          0,
          0,
          0.239913886,
          0.303701799,
          0.27952937,
          0.203802407,
          0.301000362,
          0.359184121,
          0.438033837,
          0,
          0,
          0,
          0,
          0.75,
          0.438309481,
          0.227734465,
          0,
          0.383055156,
          0.430007168,
          0.28039282,
          0.3450415,
          0,
          0.386415488,
          0.321420202,
          0.412915343,
          0.233437161,
          0,
          0,
          0.5,
          0.437486955,
          0.282794556,
          0.285207581,
          0.301028307,
          0,
          0.422256995,
          1,
          0.29714063,
          0.612738997,
          0,
          0.273,
          0,
          0.280552395,
          0,
          0,
          0.72916737,
          0.57,
          0.298583913,
          0,
          0.236188878,
          0.237160839,
          0.1,
          0.433360072,
          0.347775408,
          0,
          0.217664017,
          0.248757735,
          0.49619815,
          0,
          0.273430202,
          1,
          0.287092877,
          0.113073939,
          0.22746804,
          0,
          0.404826868,
          0,
          0.217415431,
          0,
          0.304126408,
          0.264752484,
          0.042549144,
          0,
          0.479,
          0.444,
          0.505230188,
          0.2404019,
          0.198966532,
          0,
          0.308,
          0,
          0,
          0.263474335,
          0.375,
          0.527219413,
          0,
          0.270615464,
          0,
          0.214511675,
          0,
          0,
          0.236422127,
          0.056921076,
          0.302060077,
          0.276648584,
          0.515666219,
          0.25,
          0.311703264,
          0.400066802,
          0.450649136,
          0.403706066,
          0.397567119,
          0.504873361,
          0,
          0.406999951,
          0.289477789,
          0,
          0.225802305,
          0.334788726,
          0.214872753,
          0.201771957,
          0.47734409,
          0.502022077,
          0,
          0.419314015,
          0,
          0.291169371,
          0.522764766,
          0.25,
          0,
          0.25,
          0.223146097,
          0,
          0.4706386,
          0.601052614,
          0.316509651,
          0.333,
          0.348446253,
          0.363185739,
          0.449464302,
          0.284574505,
          0,
          0.667,
          0,
          0,
          0.254635587,
          0,
          0,
          0.241013476,
          0,
          0,
          0.372382225,
          0.198313217,
          0.509350745,
          0,
          0.25,
          0,
          0.23376753,
          0,
          0.230606214,
          0,
          0,
          0.213410838,
          0,
          0.311098607,
          0.237136686,
          0.441292008,
          0.103,
          0.167,
          0,
          0.471817493,
          0.268896992,
          0.291475094,
          0.521912398,
          0.250538838,
          0,
          0.270511714,
          0.259051052,
          0.240594708,
          0,
          0,
          0.303265093,
          0.27375631,
          0.354179385,
          0.2,
          0,
          0.336540012,
          0,
          0.449423695,
          0,
          0.27049114,
          0,
          0,
          1,
          0.198,
          0.266129229,
          0,
          0,
          0.643,
          0,
          0.417890744,
          0,
          0.260337761,
          0.207736175,
          0.231,
          0.318027168,
          0.217299135,
          0.494841691,
          0.214245173,
          0.311208537,
          0,
          0.505186393,
          0,
          0.300366229,
          0.333,
          0.492,
          0.333,
          0.200677205,
          0.252370024,
          0.522102996,
          0.277626148,
          0.482144224,
          0.5,
          0.292104372,
          0,
          0.524003784,
          0.454223011,
          0.27567233,
          0.265733919,
          0.333,
          0.349936853,
          0,
          0.25,
          0.274555326,
          0,
          0.307781742,
          0,
          0.436897585,
          0.50965749,
          0,
          0.5,
          1,
          0,
          0.248422666,
          0.271716702,
          0,
          0.25,
          0.246653436,
          0.498163043,
          0.576789962,
          0.111,
          0,
          0.100721826,
          0.280918775,
          0.505208016,
          0,
          0.268854891,
          0,
          0.452514072,
          0,
          0,
          0.430758537,
          0,
          0,
          0.271528948,
          0.25,
          0.429418055,
          0.482885338,
          0.243712632,
          0.298700282,
          0.453,
          0,
          0.199383903,
          0,
          0.439368216,
          0,
          0.222,
          0,
          0.211177389,
          0.46767948,
          0,
          0.353274115,
          0,
          0.491706502,
          0,
          0.537,
          0.355563293,
          0.322950779,
          0.205686775,
          0.375,
          0.421322082,
          0.984773518,
          0.507340988,
          0.460402523,
          0,
          0.167119305,
          1,
          0,
          0.25,
          0.395698191,
          0,
          0.176,
          0.349269471,
          0,
          0.389,
          0.389612097,
          0.257884578,
          0.416885604,
          0,
          0.444615653,
          0.253223433,
          0,
          0,
          0,
          1,
          0,
          0.414315259,
          0.29545322,
          0.400506814,
          0.810279292,
          0,
          0.38102094,
          0.5,
          0.214147457,
          0,
          0.405200893,
          1,
          0.388836804,
          0,
          0,
          0,
          0.513026114,
          0.433564122,
          0.790842971,
          0.254849283,
          0,
          0.291378151,
          0,
          0.406927918,
          0.8,
          0.256902229,
          0,
          0,
          0,
          0.446717742,
          0,
          0.257318195,
          0,
          0.449365364,
          0,
          0.527720517,
          0,
          0.610226657,
          0.277332951,
          0,
          0.249837455,
          0.200405903,
          0.249344835,
          0.423736775,
          0.188,
          0.332617917,
          0.362152991,
          0.292777357,
          0.410313596,
          0.30634003,
          0,
          0.457090068,
          0.317110356,
          0.343168204,
          0.385,
          0,
          0.334312279,
          0,
          0,
          0.345826322,
          0.405635565,
          0.302599804,
          0,
          0.237046785,
          0.393930773,
          0,
          0.501213285,
          0,
          0,
          0.522554585,
          0.419409314,
          0,
          0.411741393,
          0.353732836,
          0.481683326,
          0.365795463,
          0.233043762,
          0.399444728,
          0.373268366,
          0,
          0.254394424,
          0.238869822,
          0.699447774,
          0,
          0.304383966,
          0,
          0,
          0.396300021,
          0.402466686,
          0.255849232,
          0.24814494,
          0,
          0.239137341,
          0,
          0.248451027,
          0,
          0.340543801,
          0.408561504,
          0,
          0.229259531,
          0,
          0.423219353,
          0,
          0,
          0.23544651,
          0.386310242,
          0,
          0.556,
          0.310381855,
          0.4,
          0.252294217,
          0,
          0.2,
          0.5,
          0,
          0.25,
          0.310948379,
          0.24561619,
          0,
          0.416633502,
          0,
          0.241687127,
          0,
          0.358750051,
          0.244693742,
          0.52441731,
          0,
          0.480717061,
          0.428474751,
          0,
          0,
          0,
          0.434269665,
          0,
          0,
          0.248470096,
          0.256938495,
          0.275589574,
          0.830925324,
          0.340937641,
          0.301974894,
          0,
          0,
          0.212678213,
          0,
          0,
          0.394399244,
          0,
          0.437178432,
          0.477240704,
          0,
          1,
          0.216609681,
          0,
          0.351512328,
          0,
          0.281261876,
          0,
          0.4,
          0.488431335,
          0.341049239,
          0.287449269,
          0.275639373,
          0.468311866,
          0.509211381,
          0.303416368,
          0,
          0,
          1,
          0,
          0.492,
          0.284095999,
          0.01742504,
          0.257048657,
          0,
          0.239426882,
          0,
          0,
          0,
          0.299449393,
          0.51805187,
          0,
          0.226877853,
          1,
          0.488476995,
          0.420253347,
          0,
          0,
          0,
          0.205373871,
          0.250798317,
          0.396169287,
          0,
          0,
          0.255902614,
          0,
          0.207322096,
          0.627468673,
          0.263065457,
          0.2,
          0.249093701,
          0,
          0.459195824,
          0.479597913,
          0,
          0,
          0.2,
          0.211201603,
          0.527208675,
          0.360425812,
          0.291488496,
          0,
          0.223404943,
          0.286593572,
          0.366536468,
          0.375208097,
          1,
          0,
          0,
          0.495826047,
          0,
          0,
          0,
          0.315015569,
          0.577,
          0.167,
          0.213761768,
          0.25,
          0,
          1,
          0,
          0.473771464,
          0.433438974,
          0.366807819,
          0.25,
          0,
          0.364,
          0,
          0,
          0.465387472,
          0.332560577,
          0.351215357,
          0,
          0.469348863,
          0,
          0,
          0.31102271,
          0.24723068,
          0.246671717,
          0.75,
          0.26575435,
          0,
          0.330921975,
          0.28638534,
          0,
          0.293679162,
          0.5,
          1,
          0.31407264,
          0.387,
          0.245736794,
          0,
          0.3806461,
          0,
          0.429,
          0,
          0.5,
          0,
          0.396490948,
          0,
          0.2526086,
          0.427245385,
          0,
          0.8,
          0,
          0,
          0.461715441,
          0,
          0,
          0,
          0.236718034,
          0,
          0.224454586,
          0,
          0.288,
          0.208832826,
          0,
          0,
          0.288913821,
          0,
          0,
          0.286347423,
          0,
          0.837910105,
          0,
          0.28687471,
          0.292932092,
          0.409314868,
          0,
          0.29422878,
          0.275672682,
          0,
          0.341086885,
          0.5,
          0.214227398,
          0.366420908,
          0,
          0,
          0.308071454,
          0.463701608,
          0.5,
          0.498038639,
          0.213,
          0,
          0.258352375,
          0.471,
          0,
          0.433948486,
          0.18803363,
          0,
          0.255037504,
          0,
          0.4,
          0.231980736,
          0,
          0.232354869,
          0.317419266,
          0.236233463,
          0,
          0.516990205,
          0.455144826,
          0.656112083,
          0,
          1,
          0.363207664,
          0,
          0.239,
          0.306332157,
          0.39149508,
          0.325452358,
          0.2,
          0.457270197,
          0.25,
          0,
          0.3979367,
          0.243074951,
          0.510451063,
          0.541211247,
          0.632,
          0.365478333,
          0,
          0.229107729,
          0.224706842,
          0,
          0.281171657,
          0,
          0,
          0.263552912,
          0,
          0.252237361,
          0,
          0.127798314,
          0.402342906,
          0,
          0,
          0,
          0.217345064,
          0,
          0.335141024,
          0.225270105,
          0.502850617,
          0,
          0,
          0.235676028,
          0.258300384,
          0,
          0,
          0,
          0.236920582,
          0.421332425,
          0.213470405,
          0.26852558,
          0.306660146,
          0,
          0.279441029,
          0,
          0.325537617,
          0.25,
          0.473930898,
          0.467619757,
          0.48003598,
          0.236965891,
          0.269022624,
          0.389,
          0,
          0,
          0,
          0.5,
          0.295933396,
          0.222,
          0.400178434,
          0,
          0,
          0,
          0.251332527,
          0.274223193,
          0,
          0.311265879,
          0.326015662,
          0.406078345,
          0.284972121,
          0.459521812,
          0.242854209,
          0.302,
          0.372544979,
          0.207804857,
          0,
          0.464834607,
          0,
          0.27830436,
          0,
          0.503308604,
          0,
          0.5,
          0.198046493,
          0.362307188,
          0,
          0.212323206,
          0.235203719,
          0.366448525,
          0.373577266,
          0.479167249,
          0,
          0.224419542,
          0,
          1,
          0.216301939,
          0.259499643,
          0,
          0.239481598,
          0,
          0.53,
          0.5,
          0,
          0.302865828,
          0.515544992,
          0.237157169,
          0,
          0.286229144,
          0.478563117,
          1,
          0,
          0.41056407,
          0.75,
          0.406913465,
          0.305660512,
          0.308,
          0,
          0.408048696,
          0.806893707,
          0.354985445,
          0.443385172,
          0.275702808,
          0.43161137,
          0.286,
          0.473858689,
          0.451972921,
          0,
          0.26908947,
          0,
          0.5,
          0.265845956,
          0,
          0.238724249,
          0.27803688,
          0,
          0.398377614,
          0.444276058,
          0.424283578,
          0,
          0.538,
          0.302700964,
          0.396470655,
          0.12,
          0.371680132,
          0,
          0.4197958,
          0.085303096,
          0.452260698,
          0,
          0.973513318,
          0,
          0,
          0,
          0.312359967,
          0.488025418,
          0.488984275,
          0
         ],
         "xaxis": "x",
         "yaxis": "y"
        }
       ],
       "layout": {
        "barmode": "relative",
        "legend": {
         "title": {
          "text": "variable"
         },
         "tracegroupgap": 0
        },
        "template": {
         "data": {
          "bar": [
           {
            "error_x": {
             "color": "#2a3f5f"
            },
            "error_y": {
             "color": "#2a3f5f"
            },
            "marker": {
             "line": {
              "color": "white",
              "width": 0.5
             },
             "pattern": {
              "fillmode": "overlay",
              "size": 10,
              "solidity": 0.2
             }
            },
            "type": "bar"
           }
          ],
          "barpolar": [
           {
            "marker": {
             "line": {
              "color": "white",
              "width": 0.5
             },
             "pattern": {
              "fillmode": "overlay",
              "size": 10,
              "solidity": 0.2
             }
            },
            "type": "barpolar"
           }
          ],
          "carpet": [
           {
            "aaxis": {
             "endlinecolor": "#2a3f5f",
             "gridcolor": "#C8D4E3",
             "linecolor": "#C8D4E3",
             "minorgridcolor": "#C8D4E3",
             "startlinecolor": "#2a3f5f"
            },
            "baxis": {
             "endlinecolor": "#2a3f5f",
             "gridcolor": "#C8D4E3",
             "linecolor": "#C8D4E3",
             "minorgridcolor": "#C8D4E3",
             "startlinecolor": "#2a3f5f"
            },
            "type": "carpet"
           }
          ],
          "choropleth": [
           {
            "colorbar": {
             "outlinewidth": 0,
             "ticks": ""
            },
            "type": "choropleth"
           }
          ],
          "contour": [
           {
            "colorbar": {
             "outlinewidth": 0,
             "ticks": ""
            },
            "colorscale": [
             [
              0,
              "#0d0887"
             ],
             [
              0.1111111111111111,
              "#46039f"
             ],
             [
              0.2222222222222222,
              "#7201a8"
             ],
             [
              0.3333333333333333,
              "#9c179e"
             ],
             [
              0.4444444444444444,
              "#bd3786"
             ],
             [
              0.5555555555555556,
              "#d8576b"
             ],
             [
              0.6666666666666666,
              "#ed7953"
             ],
             [
              0.7777777777777778,
              "#fb9f3a"
             ],
             [
              0.8888888888888888,
              "#fdca26"
             ],
             [
              1,
              "#f0f921"
             ]
            ],
            "type": "contour"
           }
          ],
          "contourcarpet": [
           {
            "colorbar": {
             "outlinewidth": 0,
             "ticks": ""
            },
            "type": "contourcarpet"
           }
          ],
          "heatmap": [
           {
            "colorbar": {
             "outlinewidth": 0,
             "ticks": ""
            },
            "colorscale": [
             [
              0,
              "#0d0887"
             ],
             [
              0.1111111111111111,
              "#46039f"
             ],
             [
              0.2222222222222222,
              "#7201a8"
             ],
             [
              0.3333333333333333,
              "#9c179e"
             ],
             [
              0.4444444444444444,
              "#bd3786"
             ],
             [
              0.5555555555555556,
              "#d8576b"
             ],
             [
              0.6666666666666666,
              "#ed7953"
             ],
             [
              0.7777777777777778,
              "#fb9f3a"
             ],
             [
              0.8888888888888888,
              "#fdca26"
             ],
             [
              1,
              "#f0f921"
             ]
            ],
            "type": "heatmap"
           }
          ],
          "heatmapgl": [
           {
            "colorbar": {
             "outlinewidth": 0,
             "ticks": ""
            },
            "colorscale": [
             [
              0,
              "#0d0887"
             ],
             [
              0.1111111111111111,
              "#46039f"
             ],
             [
              0.2222222222222222,
              "#7201a8"
             ],
             [
              0.3333333333333333,
              "#9c179e"
             ],
             [
              0.4444444444444444,
              "#bd3786"
             ],
             [
              0.5555555555555556,
              "#d8576b"
             ],
             [
              0.6666666666666666,
              "#ed7953"
             ],
             [
              0.7777777777777778,
              "#fb9f3a"
             ],
             [
              0.8888888888888888,
              "#fdca26"
             ],
             [
              1,
              "#f0f921"
             ]
            ],
            "type": "heatmapgl"
           }
          ],
          "histogram": [
           {
            "marker": {
             "pattern": {
              "fillmode": "overlay",
              "size": 10,
              "solidity": 0.2
             }
            },
            "type": "histogram"
           }
          ],
          "histogram2d": [
           {
            "colorbar": {
             "outlinewidth": 0,
             "ticks": ""
            },
            "colorscale": [
             [
              0,
              "#0d0887"
             ],
             [
              0.1111111111111111,
              "#46039f"
             ],
             [
              0.2222222222222222,
              "#7201a8"
             ],
             [
              0.3333333333333333,
              "#9c179e"
             ],
             [
              0.4444444444444444,
              "#bd3786"
             ],
             [
              0.5555555555555556,
              "#d8576b"
             ],
             [
              0.6666666666666666,
              "#ed7953"
             ],
             [
              0.7777777777777778,
              "#fb9f3a"
             ],
             [
              0.8888888888888888,
              "#fdca26"
             ],
             [
              1,
              "#f0f921"
             ]
            ],
            "type": "histogram2d"
           }
          ],
          "histogram2dcontour": [
           {
            "colorbar": {
             "outlinewidth": 0,
             "ticks": ""
            },
            "colorscale": [
             [
              0,
              "#0d0887"
             ],
             [
              0.1111111111111111,
              "#46039f"
             ],
             [
              0.2222222222222222,
              "#7201a8"
             ],
             [
              0.3333333333333333,
              "#9c179e"
             ],
             [
              0.4444444444444444,
              "#bd3786"
             ],
             [
              0.5555555555555556,
              "#d8576b"
             ],
             [
              0.6666666666666666,
              "#ed7953"
             ],
             [
              0.7777777777777778,
              "#fb9f3a"
             ],
             [
              0.8888888888888888,
              "#fdca26"
             ],
             [
              1,
              "#f0f921"
             ]
            ],
            "type": "histogram2dcontour"
           }
          ],
          "mesh3d": [
           {
            "colorbar": {
             "outlinewidth": 0,
             "ticks": ""
            },
            "type": "mesh3d"
           }
          ],
          "parcoords": [
           {
            "line": {
             "colorbar": {
              "outlinewidth": 0,
              "ticks": ""
             }
            },
            "type": "parcoords"
           }
          ],
          "pie": [
           {
            "automargin": true,
            "type": "pie"
           }
          ],
          "scatter": [
           {
            "marker": {
             "colorbar": {
              "outlinewidth": 0,
              "ticks": ""
             }
            },
            "type": "scatter"
           }
          ],
          "scatter3d": [
           {
            "line": {
             "colorbar": {
              "outlinewidth": 0,
              "ticks": ""
             }
            },
            "marker": {
             "colorbar": {
              "outlinewidth": 0,
              "ticks": ""
             }
            },
            "type": "scatter3d"
           }
          ],
          "scattercarpet": [
           {
            "marker": {
             "colorbar": {
              "outlinewidth": 0,
              "ticks": ""
             }
            },
            "type": "scattercarpet"
           }
          ],
          "scattergeo": [
           {
            "marker": {
             "colorbar": {
              "outlinewidth": 0,
              "ticks": ""
             }
            },
            "type": "scattergeo"
           }
          ],
          "scattergl": [
           {
            "marker": {
             "colorbar": {
              "outlinewidth": 0,
              "ticks": ""
             }
            },
            "type": "scattergl"
           }
          ],
          "scattermapbox": [
           {
            "marker": {
             "colorbar": {
              "outlinewidth": 0,
              "ticks": ""
             }
            },
            "type": "scattermapbox"
           }
          ],
          "scatterpolar": [
           {
            "marker": {
             "colorbar": {
              "outlinewidth": 0,
              "ticks": ""
             }
            },
            "type": "scatterpolar"
           }
          ],
          "scatterpolargl": [
           {
            "marker": {
             "colorbar": {
              "outlinewidth": 0,
              "ticks": ""
             }
            },
            "type": "scatterpolargl"
           }
          ],
          "scatterternary": [
           {
            "marker": {
             "colorbar": {
              "outlinewidth": 0,
              "ticks": ""
             }
            },
            "type": "scatterternary"
           }
          ],
          "surface": [
           {
            "colorbar": {
             "outlinewidth": 0,
             "ticks": ""
            },
            "colorscale": [
             [
              0,
              "#0d0887"
             ],
             [
              0.1111111111111111,
              "#46039f"
             ],
             [
              0.2222222222222222,
              "#7201a8"
             ],
             [
              0.3333333333333333,
              "#9c179e"
             ],
             [
              0.4444444444444444,
              "#bd3786"
             ],
             [
              0.5555555555555556,
              "#d8576b"
             ],
             [
              0.6666666666666666,
              "#ed7953"
             ],
             [
              0.7777777777777778,
              "#fb9f3a"
             ],
             [
              0.8888888888888888,
              "#fdca26"
             ],
             [
              1,
              "#f0f921"
             ]
            ],
            "type": "surface"
           }
          ],
          "table": [
           {
            "cells": {
             "fill": {
              "color": "#EBF0F8"
             },
             "line": {
              "color": "white"
             }
            },
            "header": {
             "fill": {
              "color": "#C8D4E3"
             },
             "line": {
              "color": "white"
             }
            },
            "type": "table"
           }
          ]
         },
         "layout": {
          "annotationdefaults": {
           "arrowcolor": "#2a3f5f",
           "arrowhead": 0,
           "arrowwidth": 1
          },
          "autotypenumbers": "strict",
          "coloraxis": {
           "colorbar": {
            "outlinewidth": 0,
            "ticks": ""
           }
          },
          "colorscale": {
           "diverging": [
            [
             0,
             "#8e0152"
            ],
            [
             0.1,
             "#c51b7d"
            ],
            [
             0.2,
             "#de77ae"
            ],
            [
             0.3,
             "#f1b6da"
            ],
            [
             0.4,
             "#fde0ef"
            ],
            [
             0.5,
             "#f7f7f7"
            ],
            [
             0.6,
             "#e6f5d0"
            ],
            [
             0.7,
             "#b8e186"
            ],
            [
             0.8,
             "#7fbc41"
            ],
            [
             0.9,
             "#4d9221"
            ],
            [
             1,
             "#276419"
            ]
           ],
           "sequential": [
            [
             0,
             "#0d0887"
            ],
            [
             0.1111111111111111,
             "#46039f"
            ],
            [
             0.2222222222222222,
             "#7201a8"
            ],
            [
             0.3333333333333333,
             "#9c179e"
            ],
            [
             0.4444444444444444,
             "#bd3786"
            ],
            [
             0.5555555555555556,
             "#d8576b"
            ],
            [
             0.6666666666666666,
             "#ed7953"
            ],
            [
             0.7777777777777778,
             "#fb9f3a"
            ],
            [
             0.8888888888888888,
             "#fdca26"
            ],
            [
             1,
             "#f0f921"
            ]
           ],
           "sequentialminus": [
            [
             0,
             "#0d0887"
            ],
            [
             0.1111111111111111,
             "#46039f"
            ],
            [
             0.2222222222222222,
             "#7201a8"
            ],
            [
             0.3333333333333333,
             "#9c179e"
            ],
            [
             0.4444444444444444,
             "#bd3786"
            ],
            [
             0.5555555555555556,
             "#d8576b"
            ],
            [
             0.6666666666666666,
             "#ed7953"
            ],
            [
             0.7777777777777778,
             "#fb9f3a"
            ],
            [
             0.8888888888888888,
             "#fdca26"
            ],
            [
             1,
             "#f0f921"
            ]
           ]
          },
          "colorway": [
           "#636efa",
           "#EF553B",
           "#00cc96",
           "#ab63fa",
           "#FFA15A",
           "#19d3f3",
           "#FF6692",
           "#B6E880",
           "#FF97FF",
           "#FECB52"
          ],
          "font": {
           "color": "#2a3f5f"
          },
          "geo": {
           "bgcolor": "white",
           "lakecolor": "white",
           "landcolor": "white",
           "showlakes": true,
           "showland": true,
           "subunitcolor": "#C8D4E3"
          },
          "hoverlabel": {
           "align": "left"
          },
          "hovermode": "closest",
          "mapbox": {
           "style": "light"
          },
          "paper_bgcolor": "white",
          "plot_bgcolor": "white",
          "polar": {
           "angularaxis": {
            "gridcolor": "#EBF0F8",
            "linecolor": "#EBF0F8",
            "ticks": ""
           },
           "bgcolor": "white",
           "radialaxis": {
            "gridcolor": "#EBF0F8",
            "linecolor": "#EBF0F8",
            "ticks": ""
           }
          },
          "scene": {
           "xaxis": {
            "backgroundcolor": "white",
            "gridcolor": "#DFE8F3",
            "gridwidth": 2,
            "linecolor": "#EBF0F8",
            "showbackground": true,
            "ticks": "",
            "zerolinecolor": "#EBF0F8"
           },
           "yaxis": {
            "backgroundcolor": "white",
            "gridcolor": "#DFE8F3",
            "gridwidth": 2,
            "linecolor": "#EBF0F8",
            "showbackground": true,
            "ticks": "",
            "zerolinecolor": "#EBF0F8"
           },
           "zaxis": {
            "backgroundcolor": "white",
            "gridcolor": "#DFE8F3",
            "gridwidth": 2,
            "linecolor": "#EBF0F8",
            "showbackground": true,
            "ticks": "",
            "zerolinecolor": "#EBF0F8"
           }
          },
          "shapedefaults": {
           "line": {
            "color": "#2a3f5f"
           }
          },
          "ternary": {
           "aaxis": {
            "gridcolor": "#DFE8F3",
            "linecolor": "#A2B1C6",
            "ticks": ""
           },
           "baxis": {
            "gridcolor": "#DFE8F3",
            "linecolor": "#A2B1C6",
            "ticks": ""
           },
           "bgcolor": "white",
           "caxis": {
            "gridcolor": "#DFE8F3",
            "linecolor": "#A2B1C6",
            "ticks": ""
           }
          },
          "title": {
           "x": 0.05
          },
          "xaxis": {
           "automargin": true,
           "gridcolor": "#EBF0F8",
           "linecolor": "#EBF0F8",
           "ticks": "",
           "title": {
            "standoff": 15
           },
           "zerolinecolor": "#EBF0F8",
           "zerolinewidth": 2
          },
          "yaxis": {
           "automargin": true,
           "gridcolor": "#EBF0F8",
           "linecolor": "#EBF0F8",
           "ticks": "",
           "title": {
            "standoff": 15
           },
           "zerolinecolor": "#EBF0F8",
           "zerolinewidth": 2
          }
         }
        },
        "title": {
         "text": "Distribution of PERCENTAGE"
        },
        "xaxis": {
         "anchor": "y",
         "domain": [
          0,
          1
         ],
         "title": {
          "text": "PERCENTAGE"
         }
        },
        "yaxis": {
         "anchor": "x",
         "domain": [
          0,
          1
         ],
         "title": {
          "text": "count"
         }
        }
       }
      }
     },
     "metadata": {},
     "output_type": "display_data"
    },
    {
     "data": {
      "application/vnd.plotly.v1+json": {
       "config": {
        "plotlyServerURL": "https://plot.ly"
       },
       "data": [
        {
         "alignmentgroup": "True",
         "bingroup": "x",
         "hovertemplate": "variable=relationship<br>RELATIONSHIP=%{x}<br>count=%{y}<extra></extra>",
         "legendgroup": "relationship",
         "marker": {
          "color": "red",
          "pattern": {
           "shape": ""
          }
         },
         "name": "relationship",
         "offsetgroup": "relationship",
         "orientation": "v",
         "showlegend": true,
         "type": "histogram",
         "x": [
          0,
          0,
          0,
          0,
          0,
          0,
          0,
          0,
          0,
          0,
          0,
          0,
          0,
          0,
          0,
          0,
          0,
          0,
          0,
          1,
          0,
          0,
          1,
          0,
          0,
          0,
          0,
          0,
          0,
          1,
          0,
          1,
          0,
          1,
          0,
          0,
          0,
          1,
          0,
          1,
          0,
          0,
          0,
          1,
          1,
          0,
          0,
          0,
          0,
          1,
          0,
          1,
          0,
          1,
          0,
          1,
          0,
          0,
          0,
          0,
          1,
          0,
          1,
          0,
          0,
          0,
          0,
          0,
          1,
          0,
          0,
          1,
          1,
          1,
          0,
          0,
          0,
          1,
          1,
          0,
          0,
          0,
          0,
          0,
          0,
          1,
          0,
          0,
          0,
          1,
          0,
          1,
          0,
          0,
          0,
          0,
          0,
          1,
          0,
          1,
          1,
          1,
          0,
          0,
          1,
          1,
          0,
          1,
          0,
          1,
          1,
          1,
          0,
          1,
          1,
          1,
          1,
          0,
          1,
          0,
          1,
          0,
          0,
          0,
          0,
          0,
          1,
          1,
          0,
          1,
          0,
          1,
          0,
          0,
          0,
          0,
          1,
          0,
          0,
          0,
          1,
          0,
          1,
          0,
          0,
          1,
          0,
          0,
          0,
          0,
          1,
          0,
          0,
          0,
          0,
          1,
          1,
          0,
          1,
          0,
          1,
          1,
          1,
          1,
          0,
          0,
          0,
          0,
          0,
          1,
          0,
          1,
          0,
          0,
          1,
          1,
          1,
          1,
          1,
          0,
          0,
          0,
          0,
          0,
          1,
          0,
          1,
          0,
          0,
          1,
          0,
          0,
          1,
          1,
          1,
          1,
          0,
          1,
          0,
          0,
          1,
          0,
          0,
          1,
          1,
          0,
          0,
          0,
          0,
          0,
          1,
          1,
          1,
          1,
          0,
          0,
          1,
          0,
          0,
          0,
          0,
          0,
          0,
          1,
          0,
          0,
          1,
          0,
          0,
          0,
          0,
          0,
          0,
          1,
          1,
          0,
          1,
          0,
          1,
          0,
          0,
          0,
          1,
          0,
          0,
          1,
          0,
          1,
          1,
          0,
          1,
          0,
          0,
          0,
          0,
          0,
          1,
          1,
          1,
          1,
          1,
          0,
          1,
          1,
          0,
          1,
          0,
          0,
          1,
          0,
          0,
          0,
          0,
          0,
          0,
          1,
          1,
          0,
          0,
          0,
          1,
          0,
          0,
          0,
          0,
          1,
          0,
          0,
          0,
          0,
          0,
          0,
          0,
          0,
          1,
          0,
          0,
          0,
          0,
          1,
          0,
          0,
          0,
          0,
          1,
          1,
          1,
          0,
          0,
          0,
          1,
          0,
          0,
          1,
          1,
          0,
          1,
          1,
          0,
          0,
          0,
          0,
          1,
          0,
          0,
          0,
          0,
          0,
          1,
          0,
          0,
          0,
          1,
          0,
          0,
          0,
          0,
          1,
          1,
          0,
          0,
          1,
          0,
          0,
          0,
          0,
          0,
          1,
          1,
          0,
          0,
          0,
          1,
          0,
          0,
          1,
          0,
          0,
          1,
          1,
          1,
          1,
          1,
          0,
          0,
          0,
          0,
          1,
          0,
          1,
          1,
          1,
          1,
          0,
          1,
          0,
          0,
          0,
          1,
          0,
          1,
          1,
          1,
          1,
          0,
          1,
          0,
          0,
          1,
          1,
          1,
          1,
          1,
          0,
          0,
          0,
          0,
          0,
          0,
          1,
          0,
          1,
          1,
          1,
          1,
          1,
          0,
          1,
          0,
          1,
          0,
          0,
          0,
          0,
          1,
          1,
          1,
          0,
          1,
          1,
          1,
          0,
          0,
          0,
          0,
          1,
          1,
          1,
          1,
          1,
          1,
          0,
          0,
          0,
          0,
          0,
          0,
          0,
          0,
          0,
          1,
          1,
          0,
          1,
          0,
          0,
          0,
          1,
          1,
          1,
          0,
          0,
          0,
          0,
          0,
          0,
          0,
          0,
          1,
          0,
          0,
          1,
          0,
          0,
          0,
          1,
          1,
          0,
          1,
          0,
          1,
          0,
          1,
          0,
          0,
          0,
          0,
          1,
          0,
          0,
          0,
          0,
          0,
          0,
          0,
          0,
          0,
          0,
          0,
          0,
          0,
          0,
          0,
          1,
          0,
          1,
          0,
          0,
          0,
          0,
          0,
          0,
          0,
          1,
          0,
          0,
          1,
          0,
          1,
          1,
          0,
          0,
          0,
          0,
          0,
          0,
          0,
          0,
          0,
          0,
          0,
          1,
          0,
          0,
          1,
          1,
          0,
          0,
          0,
          1,
          0,
          0,
          0,
          0,
          1,
          0,
          0,
          0,
          1,
          1,
          1,
          1,
          1,
          1,
          1,
          0,
          1,
          0,
          0,
          1,
          0,
          0,
          0,
          0,
          0,
          0,
          0,
          0,
          0,
          0,
          0,
          0,
          0,
          0,
          0,
          1,
          0,
          0,
          0,
          1,
          0,
          1,
          0,
          0,
          1,
          0,
          1,
          0,
          0,
          1,
          1,
          1,
          0,
          1,
          1,
          0,
          1,
          0,
          1,
          1,
          1,
          1,
          0,
          0,
          1,
          0,
          0,
          1,
          0,
          1,
          0,
          0,
          1,
          1,
          0,
          0,
          0,
          0,
          0,
          0,
          1,
          1,
          0,
          0,
          0,
          0,
          0,
          0,
          0,
          1,
          0,
          1,
          0,
          0,
          0,
          0,
          0,
          0,
          1,
          0,
          0,
          0,
          0,
          0,
          0,
          1,
          1,
          0,
          0,
          1,
          0,
          0,
          0,
          0,
          0,
          1,
          1,
          1,
          1,
          0,
          0,
          1,
          0,
          0,
          0,
          0,
          1,
          0,
          0,
          1,
          0,
          0,
          0,
          1,
          0,
          1,
          0,
          0,
          0,
          0,
          1,
          1,
          0,
          0,
          1,
          1,
          1,
          0,
          0,
          1,
          0,
          1,
          0,
          1,
          0,
          0,
          1,
          0,
          0,
          0,
          0,
          0,
          1,
          0,
          0,
          1,
          0,
          1,
          1,
          0,
          0,
          0,
          1,
          0,
          0,
          1,
          1,
          0,
          0,
          1,
          0,
          0,
          0,
          1,
          0,
          1,
          0,
          0,
          0,
          0,
          0,
          0,
          0,
          1,
          0,
          1,
          1,
          1,
          0,
          0,
          1,
          0,
          1,
          0,
          0,
          1,
          1,
          0,
          0,
          0,
          0,
          1,
          0,
          0,
          1,
          0,
          0,
          1,
          0,
          1,
          0,
          1,
          0,
          0,
          0,
          0,
          0,
          1,
          0,
          0,
          0,
          0,
          0,
          0,
          0,
          0,
          1,
          0,
          1,
          1,
          0,
          1,
          1,
          1,
          0,
          0,
          0,
          0,
          1,
          1,
          1,
          0,
          0,
          0,
          0,
          0,
          1,
          1,
          1,
          1,
          0,
          0,
          1,
          1,
          0,
          0,
          0,
          1,
          0,
          1,
          0,
          1,
          0,
          1,
          0,
          0,
          0,
          0,
          0,
          0,
          1,
          0,
          0,
          1,
          0,
          0,
          0,
          0,
          0,
          0,
          0,
          1,
          0,
          0,
          1,
          0,
          0,
          0,
          0,
          0,
          1,
          0,
          0,
          0,
          0,
          0,
          0,
          0,
          0,
          1,
          0,
          0,
          0,
          0,
          0,
          0,
          1,
          1,
          0,
          0,
          1,
          1,
          0,
          1,
          0,
          1,
          1,
          1,
          0,
          0,
          0,
          1,
          0,
          1,
          0,
          0,
          0,
          0,
          0,
          0,
          1,
          0,
          1,
          0,
          1,
          0,
          1,
          1,
          0,
          1,
          1,
          1,
          0,
          0,
          0,
          0,
          1,
          0,
          1,
          0,
          1,
          0,
          0,
          0,
          1,
          1,
          0,
          0,
          0,
          0,
          1,
          0,
          0,
          0,
          0,
          0,
          1,
          1,
          1,
          1,
          1,
          1,
          0,
          1,
          0,
          1,
          0,
          1,
          0,
          0,
          0,
          1,
          1,
          0,
          1,
          1,
          0,
          1,
          0,
          0,
          1,
          1,
          0,
          1,
          1,
          0,
          0,
          1,
          0,
          0,
          1,
          1,
          0,
          0,
          0,
          1,
          0,
          0,
          0,
          0,
          1,
          0,
          1,
          0,
          0,
          1,
          0,
          0,
          0,
          1,
          1,
          1,
          0,
          1,
          1,
          0,
          1,
          1,
          0,
          0,
          0,
          0,
          0,
          1,
          0,
          0,
          0,
          1,
          0,
          0,
          0,
          0,
          0,
          1,
          0,
          1,
          0,
          0,
          1,
          1,
          1,
          1,
          1,
          0,
          1,
          0,
          0,
          0,
          0,
          0,
          1,
          0,
          0,
          0,
          0,
          1,
          0,
          0,
          0,
          1,
          0,
          0,
          0,
          1,
          0,
          1,
          1,
          0,
          1,
          0,
          1,
          0,
          0,
          1,
          1,
          0,
          1,
          1,
          0,
          0,
          0,
          1,
          1,
          1,
          1,
          1,
          1,
          0,
          0,
          0,
          1,
          0,
          1,
          0,
          1,
          0,
          1,
          1,
          1,
          0,
          0,
          0,
          0,
          0,
          1,
          0,
          0,
          0,
          1,
          0,
          1,
          0,
          0,
          0,
          1,
          1,
          0,
          0,
          0,
          0,
          0,
          0,
          1,
          1,
          0,
          0,
          1,
          0,
          0,
          0,
          1,
          0,
          1,
          1,
          0,
          1,
          0,
          0,
          0,
          1,
          1,
          1,
          1,
          0,
          0,
          0,
          1,
          0,
          1,
          0,
          0,
          0,
          0,
          1,
          0,
          1,
          0,
          0,
          1,
          1,
          0,
          0,
          1,
          0,
          0,
          0,
          0,
          0,
          1,
          0,
          0,
          0,
          1,
          1,
          1,
          0,
          0,
          0,
          1,
          1,
          0,
          1,
          0,
          0,
          0,
          1,
          0,
          0,
          1,
          0,
          0,
          0,
          0,
          1,
          0,
          0,
          0,
          0,
          1,
          0,
          0,
          0,
          0,
          0,
          1,
          1,
          0,
          0,
          1,
          0,
          1,
          0,
          1,
          0,
          1,
          0,
          0,
          0,
          0,
          0,
          0,
          0,
          0,
          0,
          0,
          1,
          0,
          1,
          0,
          1,
          0,
          1,
          0,
          0,
          1,
          1,
          0,
          0,
          0,
          0,
          0,
          0,
          1,
          1,
          1,
          0,
          0,
          0,
          1,
          0,
          1,
          0,
          0,
          0,
          1,
          0,
          1,
          0,
          0,
          0,
          0,
          0,
          1,
          1,
          1,
          1,
          1,
          1,
          1,
          0,
          0,
          1,
          1,
          0,
          1,
          1,
          0,
          0,
          1,
          0,
          0,
          0,
          0,
          0,
          0,
          0,
          0,
          0,
          1,
          0,
          0,
          0,
          0,
          0,
          0,
          0,
          0,
          1,
          0,
          0,
          0,
          0,
          0,
          0,
          0,
          0,
          0,
          1,
          0,
          0,
          0,
          1,
          0,
          0,
          0,
          1,
          1,
          0,
          1,
          1,
          0,
          1,
          0,
          1,
          0,
          0,
          1,
          0,
          0,
          0,
          0,
          1,
          0,
          1,
          0,
          1,
          0,
          0,
          1,
          0,
          0,
          0,
          0,
          0,
          0,
          0,
          0,
          0,
          1,
          1,
          1,
          1,
          0,
          1,
          1,
          1,
          0,
          0,
          0,
          1,
          0,
          0,
          0,
          1,
          0,
          0,
          0,
          0,
          0,
          0,
          1,
          0,
          0,
          1,
          0,
          0,
          1,
          0,
          0,
          0,
          0,
          0,
          1,
          1,
          0,
          1,
          0,
          0,
          0,
          1,
          0,
          1,
          1,
          0,
          0,
          0,
          0,
          1,
          0,
          0,
          1,
          0,
          1,
          0,
          1,
          0,
          0,
          1,
          0,
          0,
          0,
          0,
          0,
          0,
          0,
          0,
          0,
          0,
          0,
          0,
          0,
          0,
          0,
          0,
          1,
          0,
          1,
          0,
          1,
          1,
          0,
          0,
          1,
          1,
          1,
          1,
          0,
          0,
          0,
          0,
          1,
          0,
          1,
          1,
          1,
          0,
          0,
          0,
          1,
          0,
          0,
          0,
          1,
          1,
          0,
          0,
          0,
          0,
          1,
          1,
          1,
          0,
          0,
          0,
          0,
          0,
          1,
          0,
          0,
          1,
          0,
          0,
          0,
          1,
          0,
          0,
          0,
          0,
          0,
          0,
          0,
          1,
          0,
          0,
          0,
          1,
          0,
          0,
          0,
          0,
          0,
          1,
          0,
          0,
          1,
          0,
          1,
          0,
          0,
          0,
          0,
          0,
          0,
          0,
          1,
          0,
          0,
          0,
          1,
          1,
          0,
          1,
          1,
          0,
          0,
          0,
          0,
          0,
          0,
          0,
          0,
          0,
          1,
          0,
          1,
          1,
          1,
          0,
          1,
          0,
          1,
          0,
          0,
          0,
          0,
          1,
          1,
          0,
          1,
          0,
          1,
          1,
          0,
          0,
          0,
          0,
          0,
          1,
          0,
          0,
          0,
          0,
          1,
          0,
          0,
          0,
          1,
          1,
          0,
          0,
          0,
          0,
          0,
          0,
          0,
          1,
          1,
          1,
          0,
          1,
          0,
          1,
          1,
          0,
          1,
          0,
          1,
          0,
          0,
          0,
          1,
          0,
          0,
          0,
          0,
          0,
          1,
          1,
          1,
          0,
          0,
          0,
          0,
          0,
          1,
          0,
          1,
          1,
          0,
          1,
          1,
          0,
          1,
          0,
          0,
          0,
          0,
          0,
          0,
          0,
          1,
          1,
          0,
          0,
          0,
          0,
          0,
          0,
          0,
          0,
          1,
          1,
          0,
          1,
          0,
          0,
          1,
          1,
          0,
          0,
          0,
          0,
          0,
          1,
          0,
          0,
          0,
          0,
          1,
          1,
          0,
          0,
          0,
          0,
          0,
          1,
          0,
          0,
          1,
          0,
          1,
          0,
          0,
          0,
          0,
          0,
          0,
          1,
          0,
          0,
          1,
          1,
          1,
          1,
          1,
          0,
          0,
          0,
          0,
          0,
          0,
          0,
          0,
          0,
          0,
          0,
          0,
          1,
          0,
          1,
          1,
          1,
          1,
          0,
          0,
          0,
          0,
          1,
          1,
          1,
          0,
          0,
          0,
          0,
          1,
          1,
          1,
          1,
          1,
          0,
          0,
          1,
          0,
          0,
          0,
          0,
          0,
          0,
          1,
          0,
          0,
          0,
          0,
          0,
          0,
          0,
          0,
          0,
          0,
          0,
          0,
          1,
          0,
          0,
          0,
          0,
          1,
          0,
          1,
          0,
          0,
          0,
          0,
          1,
          0,
          1,
          1,
          0,
          0,
          0,
          0,
          1,
          0,
          0,
          0,
          1,
          1,
          1,
          0,
          0,
          0,
          0,
          0,
          0,
          0,
          0,
          0,
          0,
          0,
          0,
          1,
          1,
          1,
          0,
          0,
          1,
          1,
          0,
          1,
          0,
          0,
          0,
          0,
          0,
          0,
          1,
          0,
          1,
          1,
          1,
          0,
          1,
          1,
          0,
          0,
          1,
          1,
          1,
          0,
          1,
          0,
          0,
          0,
          0,
          1,
          1,
          0,
          1,
          0,
          0,
          0,
          0,
          0,
          0,
          0,
          0,
          1,
          0,
          0,
          1,
          0,
          0,
          0,
          0,
          0,
          0,
          1,
          0,
          1,
          0,
          0,
          0,
          0,
          0,
          0,
          0,
          1,
          0,
          1,
          0,
          1,
          0,
          0,
          0,
          1,
          0,
          0,
          0,
          1,
          1,
          1,
          0,
          0,
          0,
          0,
          0,
          1,
          1,
          0,
          0,
          0,
          0,
          0,
          1,
          1,
          0,
          1,
          1,
          1,
          1,
          1,
          1,
          0,
          1,
          0,
          1,
          0,
          0,
          0,
          0,
          0,
          0,
          0,
          0,
          0,
          1,
          1,
          0,
          1,
          1,
          0,
          0,
          0,
          0,
          0,
          1,
          0,
          1,
          0,
          0,
          0,
          0,
          1,
          1,
          0,
          0,
          1,
          1,
          0,
          0,
          1,
          0,
          0,
          1,
          0,
          0,
          1,
          1,
          0,
          0,
          0,
          1,
          0,
          1,
          0,
          0,
          1,
          0,
          1,
          0,
          0,
          0,
          1,
          0,
          0,
          1,
          0,
          0,
          1,
          1,
          0,
          0,
          1,
          1,
          1,
          1,
          1,
          0,
          1,
          0,
          0,
          0,
          0,
          0,
          0,
          0
         ],
         "xaxis": "x",
         "yaxis": "y"
        }
       ],
       "layout": {
        "barmode": "relative",
        "legend": {
         "title": {
          "text": "variable"
         },
         "tracegroupgap": 0
        },
        "template": {
         "data": {
          "bar": [
           {
            "error_x": {
             "color": "#2a3f5f"
            },
            "error_y": {
             "color": "#2a3f5f"
            },
            "marker": {
             "line": {
              "color": "white",
              "width": 0.5
             },
             "pattern": {
              "fillmode": "overlay",
              "size": 10,
              "solidity": 0.2
             }
            },
            "type": "bar"
           }
          ],
          "barpolar": [
           {
            "marker": {
             "line": {
              "color": "white",
              "width": 0.5
             },
             "pattern": {
              "fillmode": "overlay",
              "size": 10,
              "solidity": 0.2
             }
            },
            "type": "barpolar"
           }
          ],
          "carpet": [
           {
            "aaxis": {
             "endlinecolor": "#2a3f5f",
             "gridcolor": "#C8D4E3",
             "linecolor": "#C8D4E3",
             "minorgridcolor": "#C8D4E3",
             "startlinecolor": "#2a3f5f"
            },
            "baxis": {
             "endlinecolor": "#2a3f5f",
             "gridcolor": "#C8D4E3",
             "linecolor": "#C8D4E3",
             "minorgridcolor": "#C8D4E3",
             "startlinecolor": "#2a3f5f"
            },
            "type": "carpet"
           }
          ],
          "choropleth": [
           {
            "colorbar": {
             "outlinewidth": 0,
             "ticks": ""
            },
            "type": "choropleth"
           }
          ],
          "contour": [
           {
            "colorbar": {
             "outlinewidth": 0,
             "ticks": ""
            },
            "colorscale": [
             [
              0,
              "#0d0887"
             ],
             [
              0.1111111111111111,
              "#46039f"
             ],
             [
              0.2222222222222222,
              "#7201a8"
             ],
             [
              0.3333333333333333,
              "#9c179e"
             ],
             [
              0.4444444444444444,
              "#bd3786"
             ],
             [
              0.5555555555555556,
              "#d8576b"
             ],
             [
              0.6666666666666666,
              "#ed7953"
             ],
             [
              0.7777777777777778,
              "#fb9f3a"
             ],
             [
              0.8888888888888888,
              "#fdca26"
             ],
             [
              1,
              "#f0f921"
             ]
            ],
            "type": "contour"
           }
          ],
          "contourcarpet": [
           {
            "colorbar": {
             "outlinewidth": 0,
             "ticks": ""
            },
            "type": "contourcarpet"
           }
          ],
          "heatmap": [
           {
            "colorbar": {
             "outlinewidth": 0,
             "ticks": ""
            },
            "colorscale": [
             [
              0,
              "#0d0887"
             ],
             [
              0.1111111111111111,
              "#46039f"
             ],
             [
              0.2222222222222222,
              "#7201a8"
             ],
             [
              0.3333333333333333,
              "#9c179e"
             ],
             [
              0.4444444444444444,
              "#bd3786"
             ],
             [
              0.5555555555555556,
              "#d8576b"
             ],
             [
              0.6666666666666666,
              "#ed7953"
             ],
             [
              0.7777777777777778,
              "#fb9f3a"
             ],
             [
              0.8888888888888888,
              "#fdca26"
             ],
             [
              1,
              "#f0f921"
             ]
            ],
            "type": "heatmap"
           }
          ],
          "heatmapgl": [
           {
            "colorbar": {
             "outlinewidth": 0,
             "ticks": ""
            },
            "colorscale": [
             [
              0,
              "#0d0887"
             ],
             [
              0.1111111111111111,
              "#46039f"
             ],
             [
              0.2222222222222222,
              "#7201a8"
             ],
             [
              0.3333333333333333,
              "#9c179e"
             ],
             [
              0.4444444444444444,
              "#bd3786"
             ],
             [
              0.5555555555555556,
              "#d8576b"
             ],
             [
              0.6666666666666666,
              "#ed7953"
             ],
             [
              0.7777777777777778,
              "#fb9f3a"
             ],
             [
              0.8888888888888888,
              "#fdca26"
             ],
             [
              1,
              "#f0f921"
             ]
            ],
            "type": "heatmapgl"
           }
          ],
          "histogram": [
           {
            "marker": {
             "pattern": {
              "fillmode": "overlay",
              "size": 10,
              "solidity": 0.2
             }
            },
            "type": "histogram"
           }
          ],
          "histogram2d": [
           {
            "colorbar": {
             "outlinewidth": 0,
             "ticks": ""
            },
            "colorscale": [
             [
              0,
              "#0d0887"
             ],
             [
              0.1111111111111111,
              "#46039f"
             ],
             [
              0.2222222222222222,
              "#7201a8"
             ],
             [
              0.3333333333333333,
              "#9c179e"
             ],
             [
              0.4444444444444444,
              "#bd3786"
             ],
             [
              0.5555555555555556,
              "#d8576b"
             ],
             [
              0.6666666666666666,
              "#ed7953"
             ],
             [
              0.7777777777777778,
              "#fb9f3a"
             ],
             [
              0.8888888888888888,
              "#fdca26"
             ],
             [
              1,
              "#f0f921"
             ]
            ],
            "type": "histogram2d"
           }
          ],
          "histogram2dcontour": [
           {
            "colorbar": {
             "outlinewidth": 0,
             "ticks": ""
            },
            "colorscale": [
             [
              0,
              "#0d0887"
             ],
             [
              0.1111111111111111,
              "#46039f"
             ],
             [
              0.2222222222222222,
              "#7201a8"
             ],
             [
              0.3333333333333333,
              "#9c179e"
             ],
             [
              0.4444444444444444,
              "#bd3786"
             ],
             [
              0.5555555555555556,
              "#d8576b"
             ],
             [
              0.6666666666666666,
              "#ed7953"
             ],
             [
              0.7777777777777778,
              "#fb9f3a"
             ],
             [
              0.8888888888888888,
              "#fdca26"
             ],
             [
              1,
              "#f0f921"
             ]
            ],
            "type": "histogram2dcontour"
           }
          ],
          "mesh3d": [
           {
            "colorbar": {
             "outlinewidth": 0,
             "ticks": ""
            },
            "type": "mesh3d"
           }
          ],
          "parcoords": [
           {
            "line": {
             "colorbar": {
              "outlinewidth": 0,
              "ticks": ""
             }
            },
            "type": "parcoords"
           }
          ],
          "pie": [
           {
            "automargin": true,
            "type": "pie"
           }
          ],
          "scatter": [
           {
            "marker": {
             "colorbar": {
              "outlinewidth": 0,
              "ticks": ""
             }
            },
            "type": "scatter"
           }
          ],
          "scatter3d": [
           {
            "line": {
             "colorbar": {
              "outlinewidth": 0,
              "ticks": ""
             }
            },
            "marker": {
             "colorbar": {
              "outlinewidth": 0,
              "ticks": ""
             }
            },
            "type": "scatter3d"
           }
          ],
          "scattercarpet": [
           {
            "marker": {
             "colorbar": {
              "outlinewidth": 0,
              "ticks": ""
             }
            },
            "type": "scattercarpet"
           }
          ],
          "scattergeo": [
           {
            "marker": {
             "colorbar": {
              "outlinewidth": 0,
              "ticks": ""
             }
            },
            "type": "scattergeo"
           }
          ],
          "scattergl": [
           {
            "marker": {
             "colorbar": {
              "outlinewidth": 0,
              "ticks": ""
             }
            },
            "type": "scattergl"
           }
          ],
          "scattermapbox": [
           {
            "marker": {
             "colorbar": {
              "outlinewidth": 0,
              "ticks": ""
             }
            },
            "type": "scattermapbox"
           }
          ],
          "scatterpolar": [
           {
            "marker": {
             "colorbar": {
              "outlinewidth": 0,
              "ticks": ""
             }
            },
            "type": "scatterpolar"
           }
          ],
          "scatterpolargl": [
           {
            "marker": {
             "colorbar": {
              "outlinewidth": 0,
              "ticks": ""
             }
            },
            "type": "scatterpolargl"
           }
          ],
          "scatterternary": [
           {
            "marker": {
             "colorbar": {
              "outlinewidth": 0,
              "ticks": ""
             }
            },
            "type": "scatterternary"
           }
          ],
          "surface": [
           {
            "colorbar": {
             "outlinewidth": 0,
             "ticks": ""
            },
            "colorscale": [
             [
              0,
              "#0d0887"
             ],
             [
              0.1111111111111111,
              "#46039f"
             ],
             [
              0.2222222222222222,
              "#7201a8"
             ],
             [
              0.3333333333333333,
              "#9c179e"
             ],
             [
              0.4444444444444444,
              "#bd3786"
             ],
             [
              0.5555555555555556,
              "#d8576b"
             ],
             [
              0.6666666666666666,
              "#ed7953"
             ],
             [
              0.7777777777777778,
              "#fb9f3a"
             ],
             [
              0.8888888888888888,
              "#fdca26"
             ],
             [
              1,
              "#f0f921"
             ]
            ],
            "type": "surface"
           }
          ],
          "table": [
           {
            "cells": {
             "fill": {
              "color": "#EBF0F8"
             },
             "line": {
              "color": "white"
             }
            },
            "header": {
             "fill": {
              "color": "#C8D4E3"
             },
             "line": {
              "color": "white"
             }
            },
            "type": "table"
           }
          ]
         },
         "layout": {
          "annotationdefaults": {
           "arrowcolor": "#2a3f5f",
           "arrowhead": 0,
           "arrowwidth": 1
          },
          "autotypenumbers": "strict",
          "coloraxis": {
           "colorbar": {
            "outlinewidth": 0,
            "ticks": ""
           }
          },
          "colorscale": {
           "diverging": [
            [
             0,
             "#8e0152"
            ],
            [
             0.1,
             "#c51b7d"
            ],
            [
             0.2,
             "#de77ae"
            ],
            [
             0.3,
             "#f1b6da"
            ],
            [
             0.4,
             "#fde0ef"
            ],
            [
             0.5,
             "#f7f7f7"
            ],
            [
             0.6,
             "#e6f5d0"
            ],
            [
             0.7,
             "#b8e186"
            ],
            [
             0.8,
             "#7fbc41"
            ],
            [
             0.9,
             "#4d9221"
            ],
            [
             1,
             "#276419"
            ]
           ],
           "sequential": [
            [
             0,
             "#0d0887"
            ],
            [
             0.1111111111111111,
             "#46039f"
            ],
            [
             0.2222222222222222,
             "#7201a8"
            ],
            [
             0.3333333333333333,
             "#9c179e"
            ],
            [
             0.4444444444444444,
             "#bd3786"
            ],
            [
             0.5555555555555556,
             "#d8576b"
            ],
            [
             0.6666666666666666,
             "#ed7953"
            ],
            [
             0.7777777777777778,
             "#fb9f3a"
            ],
            [
             0.8888888888888888,
             "#fdca26"
            ],
            [
             1,
             "#f0f921"
            ]
           ],
           "sequentialminus": [
            [
             0,
             "#0d0887"
            ],
            [
             0.1111111111111111,
             "#46039f"
            ],
            [
             0.2222222222222222,
             "#7201a8"
            ],
            [
             0.3333333333333333,
             "#9c179e"
            ],
            [
             0.4444444444444444,
             "#bd3786"
            ],
            [
             0.5555555555555556,
             "#d8576b"
            ],
            [
             0.6666666666666666,
             "#ed7953"
            ],
            [
             0.7777777777777778,
             "#fb9f3a"
            ],
            [
             0.8888888888888888,
             "#fdca26"
            ],
            [
             1,
             "#f0f921"
            ]
           ]
          },
          "colorway": [
           "#636efa",
           "#EF553B",
           "#00cc96",
           "#ab63fa",
           "#FFA15A",
           "#19d3f3",
           "#FF6692",
           "#B6E880",
           "#FF97FF",
           "#FECB52"
          ],
          "font": {
           "color": "#2a3f5f"
          },
          "geo": {
           "bgcolor": "white",
           "lakecolor": "white",
           "landcolor": "white",
           "showlakes": true,
           "showland": true,
           "subunitcolor": "#C8D4E3"
          },
          "hoverlabel": {
           "align": "left"
          },
          "hovermode": "closest",
          "mapbox": {
           "style": "light"
          },
          "paper_bgcolor": "white",
          "plot_bgcolor": "white",
          "polar": {
           "angularaxis": {
            "gridcolor": "#EBF0F8",
            "linecolor": "#EBF0F8",
            "ticks": ""
           },
           "bgcolor": "white",
           "radialaxis": {
            "gridcolor": "#EBF0F8",
            "linecolor": "#EBF0F8",
            "ticks": ""
           }
          },
          "scene": {
           "xaxis": {
            "backgroundcolor": "white",
            "gridcolor": "#DFE8F3",
            "gridwidth": 2,
            "linecolor": "#EBF0F8",
            "showbackground": true,
            "ticks": "",
            "zerolinecolor": "#EBF0F8"
           },
           "yaxis": {
            "backgroundcolor": "white",
            "gridcolor": "#DFE8F3",
            "gridwidth": 2,
            "linecolor": "#EBF0F8",
            "showbackground": true,
            "ticks": "",
            "zerolinecolor": "#EBF0F8"
           },
           "zaxis": {
            "backgroundcolor": "white",
            "gridcolor": "#DFE8F3",
            "gridwidth": 2,
            "linecolor": "#EBF0F8",
            "showbackground": true,
            "ticks": "",
            "zerolinecolor": "#EBF0F8"
           }
          },
          "shapedefaults": {
           "line": {
            "color": "#2a3f5f"
           }
          },
          "ternary": {
           "aaxis": {
            "gridcolor": "#DFE8F3",
            "linecolor": "#A2B1C6",
            "ticks": ""
           },
           "baxis": {
            "gridcolor": "#DFE8F3",
            "linecolor": "#A2B1C6",
            "ticks": ""
           },
           "bgcolor": "white",
           "caxis": {
            "gridcolor": "#DFE8F3",
            "linecolor": "#A2B1C6",
            "ticks": ""
           }
          },
          "title": {
           "x": 0.05
          },
          "xaxis": {
           "automargin": true,
           "gridcolor": "#EBF0F8",
           "linecolor": "#EBF0F8",
           "ticks": "",
           "title": {
            "standoff": 15
           },
           "zerolinecolor": "#EBF0F8",
           "zerolinewidth": 2
          },
          "yaxis": {
           "automargin": true,
           "gridcolor": "#EBF0F8",
           "linecolor": "#EBF0F8",
           "ticks": "",
           "title": {
            "standoff": 15
           },
           "zerolinecolor": "#EBF0F8",
           "zerolinewidth": 2
          }
         }
        },
        "title": {
         "text": "Distribution of RELATIONSHIP"
        },
        "xaxis": {
         "anchor": "y",
         "domain": [
          0,
          1
         ],
         "title": {
          "text": "RELATIONSHIP"
         }
        },
        "yaxis": {
         "anchor": "x",
         "domain": [
          0,
          1
         ],
         "title": {
          "text": "count"
         }
        }
       }
      }
     },
     "metadata": {},
     "output_type": "display_data"
    }
   ],
   "source": [
    "columns = ['usage', 'answer', 'matches', 'percentage',\n",
    "       'relationship']\n",
    "for column in columns:\n",
    "    px.histogram(tinder[column], title='Distribution of '+ str.upper(column), labels={'value': str.upper(column)}, template='plotly_white', color_discrete_sequence=['red']).show()"
   ]
  },
  {
   "cell_type": "code",
   "execution_count": 47,
   "metadata": {},
   "outputs": [],
   "source": [
    "# columns = ['usage', 'answer', 'matches', 'percentage',\n",
    "#       'relationship']\n",
    "# for column in columns:\n",
    "#    convert_json(px.histogram(tinder[column], title='Distribution of '+ str.upper(column), labels={'value': str.upper(column)}, template='plotly_white', color_discrete_sequence=['red'])) "
   ]
  },
  {
   "cell_type": "code",
   "execution_count": 48,
   "metadata": {},
   "outputs": [],
   "source": [
    "# fig10 = px.histogram(tinder.relationship, title='Distribution of Relationship', labels={'value': 'Relationship'}, template='plotly_white', color_discrete_sequence=['red'])\n",
    "# fig10"
   ]
  },
  {
   "cell_type": "code",
   "execution_count": 49,
   "metadata": {},
   "outputs": [],
   "source": [
    "#  fig10.write_html('HTML/fig10.html')"
   ]
  },
  {
   "cell_type": "code",
   "execution_count": 50,
   "metadata": {},
   "outputs": [
    {
     "data": {
      "text/plain": [
       "148"
      ]
     },
     "execution_count": 50,
     "metadata": {},
     "output_type": "execute_result"
    }
   ],
   "source": [
    "# number of unique universities\n",
    "tinder.university.nunique()"
   ]
  },
  {
   "cell_type": "markdown",
   "metadata": {},
   "source": [
    "There are 148 different universities in the dataset"
   ]
  },
  {
   "cell_type": "code",
   "execution_count": 51,
   "metadata": {},
   "outputs": [
    {
     "data": {
      "text/plain": [
       "Meridian, Idaho                         1421\n",
       "Westport, CT                              14\n",
       "University of Pennsylvania                12\n",
       "University of Mississippi                 10\n",
       "University of Washington                  10\n",
       "University of Southern California          9\n",
       "Washington State University                8\n",
       "University of Tampa                        8\n",
       "Wesleyan University                        8\n",
       "University of Wisconsin, Eau Claire        8\n",
       "University of California, Santa Cruz       8\n",
       "University of California, Berkeley         8\n",
       "Williams College                           7\n",
       "Vassar College                             7\n",
       "Vanderbilt University                      7\n",
       "University of Buffalo                      7\n",
       "University of Oregon                       7\n",
       "Union College                              7\n",
       "Whatsgoodly University                     6\n",
       "University of Delaware                     6\n",
       "Name: university, dtype: int64"
      ]
     },
     "execution_count": 51,
     "metadata": {},
     "output_type": "execute_result"
    }
   ],
   "source": [
    "# The top 20 different universities\n",
    "tinder.university.value_counts().nlargest(20)"
   ]
  },
  {
   "cell_type": "markdown",
   "metadata": {},
   "source": [
    "##### Fig 11"
   ]
  },
  {
   "cell_type": "code",
   "execution_count": 52,
   "metadata": {},
   "outputs": [
    {
     "data": {
      "application/vnd.plotly.v1+json": {
       "config": {
        "plotlyServerURL": "https://plot.ly"
       },
       "data": [
        {
         "alignmentgroup": "True",
         "hovertemplate": "variable=university<br>index=%{x}<br>Universities=%{y}<extra></extra>",
         "legendgroup": "university",
         "marker": {
          "color": "red",
          "pattern": {
           "shape": ""
          }
         },
         "name": "university",
         "offsetgroup": "university",
         "orientation": "v",
         "showlegend": true,
         "textposition": "auto",
         "type": "bar",
         "x": [
          "Meridian, Idaho",
          "Westport, CT",
          "University of Pennsylvania",
          "University of Mississippi",
          "University of Washington",
          "University of Southern California",
          "Washington State University",
          "University of Tampa",
          "Wesleyan University",
          "University of Wisconsin, Eau Claire",
          "University of California, Santa Cruz",
          "University of California, Berkeley",
          "Williams College",
          "Vassar College",
          "Vanderbilt University",
          "University of Buffalo",
          "University of Oregon",
          "Union College",
          "Whatsgoodly University",
          "University of Delaware"
         ],
         "xaxis": "x",
         "y": [
          1421,
          14,
          12,
          10,
          10,
          9,
          8,
          8,
          8,
          8,
          8,
          8,
          7,
          7,
          7,
          7,
          7,
          7,
          6,
          6
         ],
         "yaxis": "y"
        }
       ],
       "layout": {
        "barmode": "relative",
        "legend": {
         "title": {
          "text": "variable"
         },
         "tracegroupgap": 0
        },
        "template": {
         "data": {
          "bar": [
           {
            "error_x": {
             "color": "#2a3f5f"
            },
            "error_y": {
             "color": "#2a3f5f"
            },
            "marker": {
             "line": {
              "color": "white",
              "width": 0.5
             },
             "pattern": {
              "fillmode": "overlay",
              "size": 10,
              "solidity": 0.2
             }
            },
            "type": "bar"
           }
          ],
          "barpolar": [
           {
            "marker": {
             "line": {
              "color": "white",
              "width": 0.5
             },
             "pattern": {
              "fillmode": "overlay",
              "size": 10,
              "solidity": 0.2
             }
            },
            "type": "barpolar"
           }
          ],
          "carpet": [
           {
            "aaxis": {
             "endlinecolor": "#2a3f5f",
             "gridcolor": "#C8D4E3",
             "linecolor": "#C8D4E3",
             "minorgridcolor": "#C8D4E3",
             "startlinecolor": "#2a3f5f"
            },
            "baxis": {
             "endlinecolor": "#2a3f5f",
             "gridcolor": "#C8D4E3",
             "linecolor": "#C8D4E3",
             "minorgridcolor": "#C8D4E3",
             "startlinecolor": "#2a3f5f"
            },
            "type": "carpet"
           }
          ],
          "choropleth": [
           {
            "colorbar": {
             "outlinewidth": 0,
             "ticks": ""
            },
            "type": "choropleth"
           }
          ],
          "contour": [
           {
            "colorbar": {
             "outlinewidth": 0,
             "ticks": ""
            },
            "colorscale": [
             [
              0,
              "#0d0887"
             ],
             [
              0.1111111111111111,
              "#46039f"
             ],
             [
              0.2222222222222222,
              "#7201a8"
             ],
             [
              0.3333333333333333,
              "#9c179e"
             ],
             [
              0.4444444444444444,
              "#bd3786"
             ],
             [
              0.5555555555555556,
              "#d8576b"
             ],
             [
              0.6666666666666666,
              "#ed7953"
             ],
             [
              0.7777777777777778,
              "#fb9f3a"
             ],
             [
              0.8888888888888888,
              "#fdca26"
             ],
             [
              1,
              "#f0f921"
             ]
            ],
            "type": "contour"
           }
          ],
          "contourcarpet": [
           {
            "colorbar": {
             "outlinewidth": 0,
             "ticks": ""
            },
            "type": "contourcarpet"
           }
          ],
          "heatmap": [
           {
            "colorbar": {
             "outlinewidth": 0,
             "ticks": ""
            },
            "colorscale": [
             [
              0,
              "#0d0887"
             ],
             [
              0.1111111111111111,
              "#46039f"
             ],
             [
              0.2222222222222222,
              "#7201a8"
             ],
             [
              0.3333333333333333,
              "#9c179e"
             ],
             [
              0.4444444444444444,
              "#bd3786"
             ],
             [
              0.5555555555555556,
              "#d8576b"
             ],
             [
              0.6666666666666666,
              "#ed7953"
             ],
             [
              0.7777777777777778,
              "#fb9f3a"
             ],
             [
              0.8888888888888888,
              "#fdca26"
             ],
             [
              1,
              "#f0f921"
             ]
            ],
            "type": "heatmap"
           }
          ],
          "heatmapgl": [
           {
            "colorbar": {
             "outlinewidth": 0,
             "ticks": ""
            },
            "colorscale": [
             [
              0,
              "#0d0887"
             ],
             [
              0.1111111111111111,
              "#46039f"
             ],
             [
              0.2222222222222222,
              "#7201a8"
             ],
             [
              0.3333333333333333,
              "#9c179e"
             ],
             [
              0.4444444444444444,
              "#bd3786"
             ],
             [
              0.5555555555555556,
              "#d8576b"
             ],
             [
              0.6666666666666666,
              "#ed7953"
             ],
             [
              0.7777777777777778,
              "#fb9f3a"
             ],
             [
              0.8888888888888888,
              "#fdca26"
             ],
             [
              1,
              "#f0f921"
             ]
            ],
            "type": "heatmapgl"
           }
          ],
          "histogram": [
           {
            "marker": {
             "pattern": {
              "fillmode": "overlay",
              "size": 10,
              "solidity": 0.2
             }
            },
            "type": "histogram"
           }
          ],
          "histogram2d": [
           {
            "colorbar": {
             "outlinewidth": 0,
             "ticks": ""
            },
            "colorscale": [
             [
              0,
              "#0d0887"
             ],
             [
              0.1111111111111111,
              "#46039f"
             ],
             [
              0.2222222222222222,
              "#7201a8"
             ],
             [
              0.3333333333333333,
              "#9c179e"
             ],
             [
              0.4444444444444444,
              "#bd3786"
             ],
             [
              0.5555555555555556,
              "#d8576b"
             ],
             [
              0.6666666666666666,
              "#ed7953"
             ],
             [
              0.7777777777777778,
              "#fb9f3a"
             ],
             [
              0.8888888888888888,
              "#fdca26"
             ],
             [
              1,
              "#f0f921"
             ]
            ],
            "type": "histogram2d"
           }
          ],
          "histogram2dcontour": [
           {
            "colorbar": {
             "outlinewidth": 0,
             "ticks": ""
            },
            "colorscale": [
             [
              0,
              "#0d0887"
             ],
             [
              0.1111111111111111,
              "#46039f"
             ],
             [
              0.2222222222222222,
              "#7201a8"
             ],
             [
              0.3333333333333333,
              "#9c179e"
             ],
             [
              0.4444444444444444,
              "#bd3786"
             ],
             [
              0.5555555555555556,
              "#d8576b"
             ],
             [
              0.6666666666666666,
              "#ed7953"
             ],
             [
              0.7777777777777778,
              "#fb9f3a"
             ],
             [
              0.8888888888888888,
              "#fdca26"
             ],
             [
              1,
              "#f0f921"
             ]
            ],
            "type": "histogram2dcontour"
           }
          ],
          "mesh3d": [
           {
            "colorbar": {
             "outlinewidth": 0,
             "ticks": ""
            },
            "type": "mesh3d"
           }
          ],
          "parcoords": [
           {
            "line": {
             "colorbar": {
              "outlinewidth": 0,
              "ticks": ""
             }
            },
            "type": "parcoords"
           }
          ],
          "pie": [
           {
            "automargin": true,
            "type": "pie"
           }
          ],
          "scatter": [
           {
            "marker": {
             "colorbar": {
              "outlinewidth": 0,
              "ticks": ""
             }
            },
            "type": "scatter"
           }
          ],
          "scatter3d": [
           {
            "line": {
             "colorbar": {
              "outlinewidth": 0,
              "ticks": ""
             }
            },
            "marker": {
             "colorbar": {
              "outlinewidth": 0,
              "ticks": ""
             }
            },
            "type": "scatter3d"
           }
          ],
          "scattercarpet": [
           {
            "marker": {
             "colorbar": {
              "outlinewidth": 0,
              "ticks": ""
             }
            },
            "type": "scattercarpet"
           }
          ],
          "scattergeo": [
           {
            "marker": {
             "colorbar": {
              "outlinewidth": 0,
              "ticks": ""
             }
            },
            "type": "scattergeo"
           }
          ],
          "scattergl": [
           {
            "marker": {
             "colorbar": {
              "outlinewidth": 0,
              "ticks": ""
             }
            },
            "type": "scattergl"
           }
          ],
          "scattermapbox": [
           {
            "marker": {
             "colorbar": {
              "outlinewidth": 0,
              "ticks": ""
             }
            },
            "type": "scattermapbox"
           }
          ],
          "scatterpolar": [
           {
            "marker": {
             "colorbar": {
              "outlinewidth": 0,
              "ticks": ""
             }
            },
            "type": "scatterpolar"
           }
          ],
          "scatterpolargl": [
           {
            "marker": {
             "colorbar": {
              "outlinewidth": 0,
              "ticks": ""
             }
            },
            "type": "scatterpolargl"
           }
          ],
          "scatterternary": [
           {
            "marker": {
             "colorbar": {
              "outlinewidth": 0,
              "ticks": ""
             }
            },
            "type": "scatterternary"
           }
          ],
          "surface": [
           {
            "colorbar": {
             "outlinewidth": 0,
             "ticks": ""
            },
            "colorscale": [
             [
              0,
              "#0d0887"
             ],
             [
              0.1111111111111111,
              "#46039f"
             ],
             [
              0.2222222222222222,
              "#7201a8"
             ],
             [
              0.3333333333333333,
              "#9c179e"
             ],
             [
              0.4444444444444444,
              "#bd3786"
             ],
             [
              0.5555555555555556,
              "#d8576b"
             ],
             [
              0.6666666666666666,
              "#ed7953"
             ],
             [
              0.7777777777777778,
              "#fb9f3a"
             ],
             [
              0.8888888888888888,
              "#fdca26"
             ],
             [
              1,
              "#f0f921"
             ]
            ],
            "type": "surface"
           }
          ],
          "table": [
           {
            "cells": {
             "fill": {
              "color": "#EBF0F8"
             },
             "line": {
              "color": "white"
             }
            },
            "header": {
             "fill": {
              "color": "#C8D4E3"
             },
             "line": {
              "color": "white"
             }
            },
            "type": "table"
           }
          ]
         },
         "layout": {
          "annotationdefaults": {
           "arrowcolor": "#2a3f5f",
           "arrowhead": 0,
           "arrowwidth": 1
          },
          "autotypenumbers": "strict",
          "coloraxis": {
           "colorbar": {
            "outlinewidth": 0,
            "ticks": ""
           }
          },
          "colorscale": {
           "diverging": [
            [
             0,
             "#8e0152"
            ],
            [
             0.1,
             "#c51b7d"
            ],
            [
             0.2,
             "#de77ae"
            ],
            [
             0.3,
             "#f1b6da"
            ],
            [
             0.4,
             "#fde0ef"
            ],
            [
             0.5,
             "#f7f7f7"
            ],
            [
             0.6,
             "#e6f5d0"
            ],
            [
             0.7,
             "#b8e186"
            ],
            [
             0.8,
             "#7fbc41"
            ],
            [
             0.9,
             "#4d9221"
            ],
            [
             1,
             "#276419"
            ]
           ],
           "sequential": [
            [
             0,
             "#0d0887"
            ],
            [
             0.1111111111111111,
             "#46039f"
            ],
            [
             0.2222222222222222,
             "#7201a8"
            ],
            [
             0.3333333333333333,
             "#9c179e"
            ],
            [
             0.4444444444444444,
             "#bd3786"
            ],
            [
             0.5555555555555556,
             "#d8576b"
            ],
            [
             0.6666666666666666,
             "#ed7953"
            ],
            [
             0.7777777777777778,
             "#fb9f3a"
            ],
            [
             0.8888888888888888,
             "#fdca26"
            ],
            [
             1,
             "#f0f921"
            ]
           ],
           "sequentialminus": [
            [
             0,
             "#0d0887"
            ],
            [
             0.1111111111111111,
             "#46039f"
            ],
            [
             0.2222222222222222,
             "#7201a8"
            ],
            [
             0.3333333333333333,
             "#9c179e"
            ],
            [
             0.4444444444444444,
             "#bd3786"
            ],
            [
             0.5555555555555556,
             "#d8576b"
            ],
            [
             0.6666666666666666,
             "#ed7953"
            ],
            [
             0.7777777777777778,
             "#fb9f3a"
            ],
            [
             0.8888888888888888,
             "#fdca26"
            ],
            [
             1,
             "#f0f921"
            ]
           ]
          },
          "colorway": [
           "#636efa",
           "#EF553B",
           "#00cc96",
           "#ab63fa",
           "#FFA15A",
           "#19d3f3",
           "#FF6692",
           "#B6E880",
           "#FF97FF",
           "#FECB52"
          ],
          "font": {
           "color": "#2a3f5f"
          },
          "geo": {
           "bgcolor": "white",
           "lakecolor": "white",
           "landcolor": "white",
           "showlakes": true,
           "showland": true,
           "subunitcolor": "#C8D4E3"
          },
          "hoverlabel": {
           "align": "left"
          },
          "hovermode": "closest",
          "mapbox": {
           "style": "light"
          },
          "paper_bgcolor": "white",
          "plot_bgcolor": "white",
          "polar": {
           "angularaxis": {
            "gridcolor": "#EBF0F8",
            "linecolor": "#EBF0F8",
            "ticks": ""
           },
           "bgcolor": "white",
           "radialaxis": {
            "gridcolor": "#EBF0F8",
            "linecolor": "#EBF0F8",
            "ticks": ""
           }
          },
          "scene": {
           "xaxis": {
            "backgroundcolor": "white",
            "gridcolor": "#DFE8F3",
            "gridwidth": 2,
            "linecolor": "#EBF0F8",
            "showbackground": true,
            "ticks": "",
            "zerolinecolor": "#EBF0F8"
           },
           "yaxis": {
            "backgroundcolor": "white",
            "gridcolor": "#DFE8F3",
            "gridwidth": 2,
            "linecolor": "#EBF0F8",
            "showbackground": true,
            "ticks": "",
            "zerolinecolor": "#EBF0F8"
           },
           "zaxis": {
            "backgroundcolor": "white",
            "gridcolor": "#DFE8F3",
            "gridwidth": 2,
            "linecolor": "#EBF0F8",
            "showbackground": true,
            "ticks": "",
            "zerolinecolor": "#EBF0F8"
           }
          },
          "shapedefaults": {
           "line": {
            "color": "#2a3f5f"
           }
          },
          "ternary": {
           "aaxis": {
            "gridcolor": "#DFE8F3",
            "linecolor": "#A2B1C6",
            "ticks": ""
           },
           "baxis": {
            "gridcolor": "#DFE8F3",
            "linecolor": "#A2B1C6",
            "ticks": ""
           },
           "bgcolor": "white",
           "caxis": {
            "gridcolor": "#DFE8F3",
            "linecolor": "#A2B1C6",
            "ticks": ""
           }
          },
          "title": {
           "x": 0.05
          },
          "xaxis": {
           "automargin": true,
           "gridcolor": "#EBF0F8",
           "linecolor": "#EBF0F8",
           "ticks": "",
           "title": {
            "standoff": 15
           },
           "zerolinecolor": "#EBF0F8",
           "zerolinewidth": 2
          },
          "yaxis": {
           "automargin": true,
           "gridcolor": "#EBF0F8",
           "linecolor": "#EBF0F8",
           "ticks": "",
           "title": {
            "standoff": 15
           },
           "zerolinecolor": "#EBF0F8",
           "zerolinewidth": 2
          }
         }
        },
        "title": {
         "text": "Distribution of Most Common Universities"
        },
        "xaxis": {
         "anchor": "y",
         "domain": [
          0,
          1
         ],
         "title": {
          "text": "index"
         }
        },
        "yaxis": {
         "anchor": "x",
         "domain": [
          0,
          1
         ],
         "title": {
          "text": "Universities"
         }
        }
       }
      }
     },
     "metadata": {},
     "output_type": "display_data"
    }
   ],
   "source": [
    "fig11 = px.bar(tinder.university.value_counts().nlargest(20), title='Distribution of Most Common Universities', labels={'value': 'Universities'}, template='plotly_white', color_discrete_sequence=['red'])\n",
    "fig11"
   ]
  },
  {
   "cell_type": "code",
   "execution_count": 53,
   "metadata": {},
   "outputs": [
    {
     "data": {
      "text/html": [
       "<div>\n",
       "<style scoped>\n",
       "    .dataframe tbody tr th:only-of-type {\n",
       "        vertical-align: middle;\n",
       "    }\n",
       "\n",
       "    .dataframe tbody tr th {\n",
       "        vertical-align: top;\n",
       "    }\n",
       "\n",
       "    .dataframe thead th {\n",
       "        text-align: right;\n",
       "    }\n",
       "</style>\n",
       "<table border=\"1\" class=\"dataframe\">\n",
       "  <thead>\n",
       "    <tr style=\"text-align: right;\">\n",
       "      <th></th>\n",
       "      <th>id</th>\n",
       "      <th>usage</th>\n",
       "      <th>university</th>\n",
       "      <th>answer</th>\n",
       "      <th>matches</th>\n",
       "      <th>percentage</th>\n",
       "      <th>relationship</th>\n",
       "    </tr>\n",
       "  </thead>\n",
       "  <tbody>\n",
       "    <tr>\n",
       "      <th>201</th>\n",
       "      <td>292897.0</td>\n",
       "      <td>gender</td>\n",
       "      <td>Male respondents</td>\n",
       "      <td>No</td>\n",
       "      <td>574.0</td>\n",
       "      <td>0.259</td>\n",
       "      <td>0</td>\n",
       "    </tr>\n",
       "    <tr>\n",
       "      <th>1014</th>\n",
       "      <td>292895.0</td>\n",
       "      <td>gender</td>\n",
       "      <td>Male respondents</td>\n",
       "      <td>No</td>\n",
       "      <td>1172.0</td>\n",
       "      <td>0.528</td>\n",
       "      <td>0</td>\n",
       "    </tr>\n",
       "    <tr>\n",
       "      <th>1035</th>\n",
       "      <td>292893.0</td>\n",
       "      <td>gender</td>\n",
       "      <td>Male respondents</td>\n",
       "      <td>Yes</td>\n",
       "      <td>472.0</td>\n",
       "      <td>0.213</td>\n",
       "      <td>1</td>\n",
       "    </tr>\n",
       "  </tbody>\n",
       "</table>\n",
       "</div>"
      ],
      "text/plain": [
       "            id   usage        university answer  matches  percentage  \\\n",
       "201   292897.0  gender  Male respondents     No    574.0       0.259   \n",
       "1014  292895.0  gender  Male respondents     No   1172.0       0.528   \n",
       "1035  292893.0  gender  Male respondents    Yes    472.0       0.213   \n",
       "\n",
       "      relationship  \n",
       "201              0  \n",
       "1014             0  \n",
       "1035             1  "
      ]
     },
     "execution_count": 53,
     "metadata": {},
     "output_type": "execute_result"
    }
   ],
   "source": [
    "# anomalies in data\n",
    "tinder.query(\"university=='Male respondents'\")"
   ]
  },
  {
   "cell_type": "code",
   "execution_count": 54,
   "metadata": {},
   "outputs": [
    {
     "data": {
      "text/html": [
       "<div>\n",
       "<style scoped>\n",
       "    .dataframe tbody tr th:only-of-type {\n",
       "        vertical-align: middle;\n",
       "    }\n",
       "\n",
       "    .dataframe tbody tr th {\n",
       "        vertical-align: top;\n",
       "    }\n",
       "\n",
       "    .dataframe thead th {\n",
       "        text-align: right;\n",
       "    }\n",
       "</style>\n",
       "<table border=\"1\" class=\"dataframe\">\n",
       "  <thead>\n",
       "    <tr style=\"text-align: right;\">\n",
       "      <th></th>\n",
       "      <th>id</th>\n",
       "      <th>usage</th>\n",
       "      <th>university</th>\n",
       "      <th>answer</th>\n",
       "      <th>matches</th>\n",
       "      <th>percentage</th>\n",
       "      <th>relationship</th>\n",
       "    </tr>\n",
       "  </thead>\n",
       "  <tbody>\n",
       "    <tr>\n",
       "      <th>515</th>\n",
       "      <td>292903.0</td>\n",
       "      <td>gender</td>\n",
       "      <td>Female respondents</td>\n",
       "      <td>No</td>\n",
       "      <td>516.0</td>\n",
       "      <td>0.315</td>\n",
       "      <td>0</td>\n",
       "    </tr>\n",
       "    <tr>\n",
       "      <th>961</th>\n",
       "      <td>292901.0</td>\n",
       "      <td>gender</td>\n",
       "      <td>Female respondents</td>\n",
       "      <td>No</td>\n",
       "      <td>797.0</td>\n",
       "      <td>0.487</td>\n",
       "      <td>1</td>\n",
       "    </tr>\n",
       "    <tr>\n",
       "      <th>1277</th>\n",
       "      <td>292899.0</td>\n",
       "      <td>gender</td>\n",
       "      <td>Female respondents</td>\n",
       "      <td>Yes</td>\n",
       "      <td>325.0</td>\n",
       "      <td>0.198</td>\n",
       "      <td>0</td>\n",
       "    </tr>\n",
       "  </tbody>\n",
       "</table>\n",
       "</div>"
      ],
      "text/plain": [
       "            id   usage          university answer  matches  percentage  \\\n",
       "515   292903.0  gender  Female respondents     No    516.0       0.315   \n",
       "961   292901.0  gender  Female respondents     No    797.0       0.487   \n",
       "1277  292899.0  gender  Female respondents    Yes    325.0       0.198   \n",
       "\n",
       "      relationship  \n",
       "515              0  \n",
       "961              1  \n",
       "1277             0  "
      ]
     },
     "execution_count": 54,
     "metadata": {},
     "output_type": "execute_result"
    }
   ],
   "source": [
    "# anomalies in data\n",
    "tinder.query(\"university=='Female respondents'\")"
   ]
  },
  {
   "cell_type": "code",
   "execution_count": 55,
   "metadata": {},
   "outputs": [],
   "source": [
    "# fig11.write_html('HTML/fig11.html')"
   ]
  },
  {
   "cell_type": "markdown",
   "metadata": {},
   "source": [
    "Most common university is Meridian in Ohio. The other universities make up a small percentage, roughly 15%  of the rest of the schools."
   ]
  },
  {
   "cell_type": "markdown",
   "metadata": {},
   "source": [
    "##### Fig 12, 13"
   ]
  },
  {
   "cell_type": "code",
   "execution_count": 56,
   "metadata": {},
   "outputs": [
    {
     "data": {
      "application/vnd.plotly.v1+json": {
       "config": {
        "plotlyServerURL": "https://plot.ly"
       },
       "data": [
        {
         "alignmentgroup": "True",
         "hovertemplate": "variable=%{x}<br>MATCHES=%{y}<extra></extra>",
         "legendgroup": "",
         "marker": {
          "color": "red"
         },
         "name": "",
         "notched": false,
         "offsetgroup": "",
         "orientation": "v",
         "showlegend": false,
         "type": "box",
         "x": [
          "matches",
          "matches",
          "matches",
          "matches",
          "matches",
          "matches",
          "matches",
          "matches",
          "matches",
          "matches",
          "matches",
          "matches",
          "matches",
          "matches",
          "matches",
          "matches",
          "matches",
          "matches",
          "matches",
          "matches",
          "matches",
          "matches",
          "matches",
          "matches",
          "matches",
          "matches",
          "matches",
          "matches",
          "matches",
          "matches",
          "matches",
          "matches",
          "matches",
          "matches",
          "matches",
          "matches",
          "matches",
          "matches",
          "matches",
          "matches",
          "matches",
          "matches",
          "matches",
          "matches",
          "matches",
          "matches",
          "matches",
          "matches",
          "matches",
          "matches",
          "matches",
          "matches",
          "matches",
          "matches",
          "matches",
          "matches",
          "matches",
          "matches",
          "matches",
          "matches",
          "matches",
          "matches",
          "matches",
          "matches",
          "matches",
          "matches",
          "matches",
          "matches",
          "matches",
          "matches",
          "matches",
          "matches",
          "matches",
          "matches",
          "matches",
          "matches",
          "matches",
          "matches",
          "matches",
          "matches",
          "matches",
          "matches",
          "matches",
          "matches",
          "matches",
          "matches",
          "matches",
          "matches",
          "matches",
          "matches",
          "matches",
          "matches",
          "matches",
          "matches",
          "matches",
          "matches",
          "matches",
          "matches",
          "matches",
          "matches",
          "matches",
          "matches",
          "matches",
          "matches",
          "matches",
          "matches",
          "matches",
          "matches",
          "matches",
          "matches",
          "matches",
          "matches",
          "matches",
          "matches",
          "matches",
          "matches",
          "matches",
          "matches",
          "matches",
          "matches",
          "matches",
          "matches",
          "matches",
          "matches",
          "matches",
          "matches",
          "matches",
          "matches",
          "matches",
          "matches",
          "matches",
          "matches",
          "matches",
          "matches",
          "matches",
          "matches",
          "matches",
          "matches",
          "matches",
          "matches",
          "matches",
          "matches",
          "matches",
          "matches",
          "matches",
          "matches",
          "matches",
          "matches",
          "matches",
          "matches",
          "matches",
          "matches",
          "matches",
          "matches",
          "matches",
          "matches",
          "matches",
          "matches",
          "matches",
          "matches",
          "matches",
          "matches",
          "matches",
          "matches",
          "matches",
          "matches",
          "matches",
          "matches",
          "matches",
          "matches",
          "matches",
          "matches",
          "matches",
          "matches",
          "matches",
          "matches",
          "matches",
          "matches",
          "matches",
          "matches",
          "matches",
          "matches",
          "matches",
          "matches",
          "matches",
          "matches",
          "matches",
          "matches",
          "matches",
          "matches",
          "matches",
          "matches",
          "matches",
          "matches",
          "matches",
          "matches",
          "matches",
          "matches",
          "matches",
          "matches",
          "matches",
          "matches",
          "matches",
          "matches",
          "matches",
          "matches",
          "matches",
          "matches",
          "matches",
          "matches",
          "matches",
          "matches",
          "matches",
          "matches",
          "matches",
          "matches",
          "matches",
          "matches",
          "matches",
          "matches",
          "matches",
          "matches",
          "matches",
          "matches",
          "matches",
          "matches",
          "matches",
          "matches",
          "matches",
          "matches",
          "matches",
          "matches",
          "matches",
          "matches",
          "matches",
          "matches",
          "matches",
          "matches",
          "matches",
          "matches",
          "matches",
          "matches",
          "matches",
          "matches",
          "matches",
          "matches",
          "matches",
          "matches",
          "matches",
          "matches",
          "matches",
          "matches",
          "matches",
          "matches",
          "matches",
          "matches",
          "matches",
          "matches",
          "matches",
          "matches",
          "matches",
          "matches",
          "matches",
          "matches",
          "matches",
          "matches",
          "matches",
          "matches",
          "matches",
          "matches",
          "matches",
          "matches",
          "matches",
          "matches",
          "matches",
          "matches",
          "matches",
          "matches",
          "matches",
          "matches",
          "matches",
          "matches",
          "matches",
          "matches",
          "matches",
          "matches",
          "matches",
          "matches",
          "matches",
          "matches",
          "matches",
          "matches",
          "matches",
          "matches",
          "matches",
          "matches",
          "matches",
          "matches",
          "matches",
          "matches",
          "matches",
          "matches",
          "matches",
          "matches",
          "matches",
          "matches",
          "matches",
          "matches",
          "matches",
          "matches",
          "matches",
          "matches",
          "matches",
          "matches",
          "matches",
          "matches",
          "matches",
          "matches",
          "matches",
          "matches",
          "matches",
          "matches",
          "matches",
          "matches",
          "matches",
          "matches",
          "matches",
          "matches",
          "matches",
          "matches",
          "matches",
          "matches",
          "matches",
          "matches",
          "matches",
          "matches",
          "matches",
          "matches",
          "matches",
          "matches",
          "matches",
          "matches",
          "matches",
          "matches",
          "matches",
          "matches",
          "matches",
          "matches",
          "matches",
          "matches",
          "matches",
          "matches",
          "matches",
          "matches",
          "matches",
          "matches",
          "matches",
          "matches",
          "matches",
          "matches",
          "matches",
          "matches",
          "matches",
          "matches",
          "matches",
          "matches",
          "matches",
          "matches",
          "matches",
          "matches",
          "matches",
          "matches",
          "matches",
          "matches",
          "matches",
          "matches",
          "matches",
          "matches",
          "matches",
          "matches",
          "matches",
          "matches",
          "matches",
          "matches",
          "matches",
          "matches",
          "matches",
          "matches",
          "matches",
          "matches",
          "matches",
          "matches",
          "matches",
          "matches",
          "matches",
          "matches",
          "matches",
          "matches",
          "matches",
          "matches",
          "matches",
          "matches",
          "matches",
          "matches",
          "matches",
          "matches",
          "matches",
          "matches",
          "matches",
          "matches",
          "matches",
          "matches",
          "matches",
          "matches",
          "matches",
          "matches",
          "matches",
          "matches",
          "matches",
          "matches",
          "matches",
          "matches",
          "matches",
          "matches",
          "matches",
          "matches",
          "matches",
          "matches",
          "matches",
          "matches",
          "matches",
          "matches",
          "matches",
          "matches",
          "matches",
          "matches",
          "matches",
          "matches",
          "matches",
          "matches",
          "matches",
          "matches",
          "matches",
          "matches",
          "matches",
          "matches",
          "matches",
          "matches",
          "matches",
          "matches",
          "matches",
          "matches",
          "matches",
          "matches",
          "matches",
          "matches",
          "matches",
          "matches",
          "matches",
          "matches",
          "matches",
          "matches",
          "matches",
          "matches",
          "matches",
          "matches",
          "matches",
          "matches",
          "matches",
          "matches",
          "matches",
          "matches",
          "matches",
          "matches",
          "matches",
          "matches",
          "matches",
          "matches",
          "matches",
          "matches",
          "matches",
          "matches",
          "matches",
          "matches",
          "matches",
          "matches",
          "matches",
          "matches",
          "matches",
          "matches",
          "matches",
          "matches",
          "matches",
          "matches",
          "matches",
          "matches",
          "matches",
          "matches",
          "matches",
          "matches",
          "matches",
          "matches",
          "matches",
          "matches",
          "matches",
          "matches",
          "matches",
          "matches",
          "matches",
          "matches",
          "matches",
          "matches",
          "matches",
          "matches",
          "matches",
          "matches",
          "matches",
          "matches",
          "matches",
          "matches",
          "matches",
          "matches",
          "matches",
          "matches",
          "matches",
          "matches",
          "matches",
          "matches",
          "matches",
          "matches",
          "matches",
          "matches",
          "matches",
          "matches",
          "matches",
          "matches",
          "matches",
          "matches",
          "matches",
          "matches",
          "matches",
          "matches",
          "matches",
          "matches",
          "matches",
          "matches",
          "matches",
          "matches",
          "matches",
          "matches",
          "matches",
          "matches",
          "matches",
          "matches",
          "matches",
          "matches",
          "matches",
          "matches",
          "matches",
          "matches",
          "matches",
          "matches",
          "matches",
          "matches",
          "matches",
          "matches",
          "matches",
          "matches",
          "matches",
          "matches",
          "matches",
          "matches",
          "matches",
          "matches",
          "matches",
          "matches",
          "matches",
          "matches",
          "matches",
          "matches",
          "matches",
          "matches",
          "matches",
          "matches",
          "matches",
          "matches",
          "matches",
          "matches",
          "matches",
          "matches",
          "matches",
          "matches",
          "matches",
          "matches",
          "matches",
          "matches",
          "matches",
          "matches",
          "matches",
          "matches",
          "matches",
          "matches",
          "matches",
          "matches",
          "matches",
          "matches",
          "matches",
          "matches",
          "matches",
          "matches",
          "matches",
          "matches",
          "matches",
          "matches",
          "matches",
          "matches",
          "matches",
          "matches",
          "matches",
          "matches",
          "matches",
          "matches",
          "matches",
          "matches",
          "matches",
          "matches",
          "matches",
          "matches",
          "matches",
          "matches",
          "matches",
          "matches",
          "matches",
          "matches",
          "matches",
          "matches",
          "matches",
          "matches",
          "matches",
          "matches",
          "matches",
          "matches",
          "matches",
          "matches",
          "matches",
          "matches",
          "matches",
          "matches",
          "matches",
          "matches",
          "matches",
          "matches",
          "matches",
          "matches",
          "matches",
          "matches",
          "matches",
          "matches",
          "matches",
          "matches",
          "matches",
          "matches",
          "matches",
          "matches",
          "matches",
          "matches",
          "matches",
          "matches",
          "matches",
          "matches",
          "matches",
          "matches",
          "matches",
          "matches",
          "matches",
          "matches",
          "matches",
          "matches",
          "matches",
          "matches",
          "matches",
          "matches",
          "matches",
          "matches",
          "matches",
          "matches",
          "matches",
          "matches",
          "matches",
          "matches",
          "matches",
          "matches",
          "matches",
          "matches",
          "matches",
          "matches",
          "matches",
          "matches",
          "matches",
          "matches",
          "matches",
          "matches",
          "matches",
          "matches",
          "matches",
          "matches",
          "matches",
          "matches",
          "matches",
          "matches",
          "matches",
          "matches",
          "matches",
          "matches",
          "matches",
          "matches",
          "matches",
          "matches",
          "matches",
          "matches",
          "matches",
          "matches",
          "matches",
          "matches",
          "matches",
          "matches",
          "matches",
          "matches",
          "matches",
          "matches",
          "matches",
          "matches",
          "matches",
          "matches",
          "matches",
          "matches",
          "matches",
          "matches",
          "matches",
          "matches",
          "matches",
          "matches",
          "matches",
          "matches",
          "matches",
          "matches",
          "matches",
          "matches",
          "matches",
          "matches",
          "matches",
          "matches",
          "matches",
          "matches",
          "matches",
          "matches",
          "matches",
          "matches",
          "matches",
          "matches",
          "matches",
          "matches",
          "matches",
          "matches",
          "matches",
          "matches",
          "matches",
          "matches",
          "matches",
          "matches",
          "matches",
          "matches",
          "matches",
          "matches",
          "matches",
          "matches",
          "matches",
          "matches",
          "matches",
          "matches",
          "matches",
          "matches",
          "matches",
          "matches",
          "matches",
          "matches",
          "matches",
          "matches",
          "matches",
          "matches",
          "matches",
          "matches",
          "matches",
          "matches",
          "matches",
          "matches",
          "matches",
          "matches",
          "matches",
          "matches",
          "matches",
          "matches",
          "matches",
          "matches",
          "matches",
          "matches",
          "matches",
          "matches",
          "matches",
          "matches",
          "matches",
          "matches",
          "matches",
          "matches",
          "matches",
          "matches",
          "matches",
          "matches",
          "matches",
          "matches",
          "matches",
          "matches",
          "matches",
          "matches",
          "matches",
          "matches",
          "matches",
          "matches",
          "matches",
          "matches",
          "matches",
          "matches",
          "matches",
          "matches",
          "matches",
          "matches",
          "matches",
          "matches",
          "matches",
          "matches",
          "matches",
          "matches",
          "matches",
          "matches",
          "matches",
          "matches",
          "matches",
          "matches",
          "matches",
          "matches",
          "matches",
          "matches",
          "matches",
          "matches",
          "matches",
          "matches",
          "matches",
          "matches",
          "matches",
          "matches",
          "matches",
          "matches",
          "matches",
          "matches",
          "matches",
          "matches",
          "matches",
          "matches",
          "matches",
          "matches",
          "matches",
          "matches",
          "matches",
          "matches",
          "matches",
          "matches",
          "matches",
          "matches",
          "matches",
          "matches",
          "matches",
          "matches",
          "matches",
          "matches",
          "matches",
          "matches",
          "matches",
          "matches",
          "matches",
          "matches",
          "matches",
          "matches",
          "matches",
          "matches",
          "matches",
          "matches",
          "matches",
          "matches",
          "matches",
          "matches",
          "matches",
          "matches",
          "matches",
          "matches",
          "matches",
          "matches",
          "matches",
          "matches",
          "matches",
          "matches",
          "matches",
          "matches",
          "matches",
          "matches",
          "matches",
          "matches",
          "matches",
          "matches",
          "matches",
          "matches",
          "matches",
          "matches",
          "matches",
          "matches",
          "matches",
          "matches",
          "matches",
          "matches",
          "matches",
          "matches",
          "matches",
          "matches",
          "matches",
          "matches",
          "matches",
          "matches",
          "matches",
          "matches",
          "matches",
          "matches",
          "matches",
          "matches",
          "matches",
          "matches",
          "matches",
          "matches",
          "matches",
          "matches",
          "matches",
          "matches",
          "matches",
          "matches",
          "matches",
          "matches",
          "matches",
          "matches",
          "matches",
          "matches",
          "matches",
          "matches",
          "matches",
          "matches",
          "matches",
          "matches",
          "matches",
          "matches",
          "matches",
          "matches",
          "matches",
          "matches",
          "matches",
          "matches",
          "matches",
          "matches",
          "matches",
          "matches",
          "matches",
          "matches",
          "matches",
          "matches",
          "matches",
          "matches",
          "matches",
          "matches",
          "matches",
          "matches",
          "matches",
          "matches",
          "matches",
          "matches",
          "matches",
          "matches",
          "matches",
          "matches",
          "matches",
          "matches",
          "matches",
          "matches",
          "matches",
          "matches",
          "matches",
          "matches",
          "matches",
          "matches",
          "matches",
          "matches",
          "matches",
          "matches",
          "matches",
          "matches",
          "matches",
          "matches",
          "matches",
          "matches",
          "matches",
          "matches",
          "matches",
          "matches",
          "matches",
          "matches",
          "matches",
          "matches",
          "matches",
          "matches",
          "matches",
          "matches",
          "matches",
          "matches",
          "matches",
          "matches",
          "matches",
          "matches",
          "matches",
          "matches",
          "matches",
          "matches",
          "matches",
          "matches",
          "matches",
          "matches",
          "matches",
          "matches",
          "matches",
          "matches",
          "matches",
          "matches",
          "matches",
          "matches",
          "matches",
          "matches",
          "matches",
          "matches",
          "matches",
          "matches",
          "matches",
          "matches",
          "matches",
          "matches",
          "matches",
          "matches",
          "matches",
          "matches",
          "matches",
          "matches",
          "matches",
          "matches",
          "matches",
          "matches",
          "matches",
          "matches",
          "matches",
          "matches",
          "matches",
          "matches",
          "matches",
          "matches",
          "matches",
          "matches",
          "matches",
          "matches",
          "matches",
          "matches",
          "matches",
          "matches",
          "matches",
          "matches",
          "matches",
          "matches",
          "matches",
          "matches",
          "matches",
          "matches",
          "matches",
          "matches",
          "matches",
          "matches",
          "matches",
          "matches",
          "matches",
          "matches",
          "matches",
          "matches",
          "matches",
          "matches",
          "matches",
          "matches",
          "matches",
          "matches",
          "matches",
          "matches",
          "matches",
          "matches",
          "matches",
          "matches",
          "matches",
          "matches",
          "matches",
          "matches",
          "matches",
          "matches",
          "matches",
          "matches",
          "matches",
          "matches",
          "matches",
          "matches",
          "matches",
          "matches",
          "matches",
          "matches",
          "matches",
          "matches",
          "matches",
          "matches",
          "matches",
          "matches",
          "matches",
          "matches",
          "matches",
          "matches",
          "matches",
          "matches",
          "matches",
          "matches",
          "matches",
          "matches",
          "matches",
          "matches",
          "matches",
          "matches",
          "matches",
          "matches",
          "matches",
          "matches",
          "matches",
          "matches",
          "matches",
          "matches",
          "matches",
          "matches",
          "matches",
          "matches",
          "matches",
          "matches",
          "matches",
          "matches",
          "matches",
          "matches",
          "matches",
          "matches",
          "matches",
          "matches",
          "matches",
          "matches",
          "matches",
          "matches",
          "matches",
          "matches",
          "matches",
          "matches",
          "matches",
          "matches",
          "matches",
          "matches",
          "matches",
          "matches",
          "matches",
          "matches",
          "matches",
          "matches",
          "matches",
          "matches",
          "matches",
          "matches",
          "matches",
          "matches",
          "matches",
          "matches",
          "matches",
          "matches",
          "matches",
          "matches",
          "matches",
          "matches",
          "matches",
          "matches",
          "matches",
          "matches",
          "matches",
          "matches",
          "matches",
          "matches",
          "matches",
          "matches",
          "matches",
          "matches",
          "matches",
          "matches",
          "matches",
          "matches",
          "matches",
          "matches",
          "matches",
          "matches",
          "matches",
          "matches",
          "matches",
          "matches",
          "matches",
          "matches",
          "matches",
          "matches",
          "matches",
          "matches",
          "matches",
          "matches",
          "matches",
          "matches",
          "matches",
          "matches",
          "matches",
          "matches",
          "matches",
          "matches",
          "matches",
          "matches",
          "matches",
          "matches",
          "matches",
          "matches",
          "matches",
          "matches",
          "matches",
          "matches",
          "matches",
          "matches",
          "matches",
          "matches",
          "matches",
          "matches",
          "matches",
          "matches",
          "matches",
          "matches",
          "matches",
          "matches",
          "matches",
          "matches",
          "matches",
          "matches",
          "matches",
          "matches",
          "matches",
          "matches",
          "matches",
          "matches",
          "matches",
          "matches",
          "matches",
          "matches",
          "matches",
          "matches",
          "matches",
          "matches",
          "matches",
          "matches",
          "matches",
          "matches",
          "matches",
          "matches",
          "matches",
          "matches",
          "matches",
          "matches",
          "matches",
          "matches",
          "matches",
          "matches",
          "matches",
          "matches",
          "matches",
          "matches",
          "matches",
          "matches",
          "matches",
          "matches",
          "matches",
          "matches",
          "matches",
          "matches",
          "matches",
          "matches",
          "matches",
          "matches",
          "matches",
          "matches",
          "matches",
          "matches",
          "matches",
          "matches",
          "matches",
          "matches",
          "matches",
          "matches",
          "matches",
          "matches",
          "matches",
          "matches",
          "matches",
          "matches",
          "matches",
          "matches",
          "matches",
          "matches",
          "matches",
          "matches",
          "matches",
          "matches",
          "matches",
          "matches",
          "matches",
          "matches",
          "matches",
          "matches",
          "matches",
          "matches",
          "matches",
          "matches",
          "matches",
          "matches",
          "matches",
          "matches",
          "matches",
          "matches",
          "matches",
          "matches",
          "matches",
          "matches",
          "matches",
          "matches",
          "matches",
          "matches",
          "matches",
          "matches",
          "matches",
          "matches",
          "matches",
          "matches",
          "matches",
          "matches",
          "matches",
          "matches",
          "matches",
          "matches",
          "matches",
          "matches",
          "matches",
          "matches",
          "matches",
          "matches",
          "matches",
          "matches",
          "matches",
          "matches",
          "matches",
          "matches",
          "matches",
          "matches",
          "matches",
          "matches",
          "matches",
          "matches",
          "matches",
          "matches",
          "matches",
          "matches",
          "matches",
          "matches",
          "matches",
          "matches",
          "matches",
          "matches",
          "matches",
          "matches",
          "matches",
          "matches",
          "matches",
          "matches",
          "matches",
          "matches",
          "matches",
          "matches",
          "matches",
          "matches",
          "matches",
          "matches",
          "matches",
          "matches",
          "matches",
          "matches",
          "matches",
          "matches",
          "matches",
          "matches",
          "matches",
          "matches",
          "matches",
          "matches",
          "matches",
          "matches",
          "matches",
          "matches",
          "matches",
          "matches",
          "matches",
          "matches",
          "matches",
          "matches",
          "matches",
          "matches",
          "matches",
          "matches",
          "matches",
          "matches",
          "matches",
          "matches",
          "matches",
          "matches",
          "matches",
          "matches",
          "matches",
          "matches",
          "matches",
          "matches",
          "matches",
          "matches",
          "matches",
          "matches",
          "matches",
          "matches",
          "matches",
          "matches",
          "matches",
          "matches",
          "matches",
          "matches",
          "matches",
          "matches",
          "matches",
          "matches",
          "matches",
          "matches",
          "matches",
          "matches",
          "matches",
          "matches",
          "matches",
          "matches",
          "matches",
          "matches",
          "matches",
          "matches",
          "matches",
          "matches",
          "matches",
          "matches",
          "matches",
          "matches",
          "matches",
          "matches",
          "matches",
          "matches",
          "matches",
          "matches",
          "matches",
          "matches",
          "matches",
          "matches",
          "matches",
          "matches",
          "matches",
          "matches",
          "matches",
          "matches",
          "matches",
          "matches",
          "matches",
          "matches",
          "matches",
          "matches",
          "matches",
          "matches",
          "matches",
          "matches",
          "matches",
          "matches",
          "matches",
          "matches",
          "matches",
          "matches",
          "matches",
          "matches",
          "matches",
          "matches",
          "matches",
          "matches",
          "matches",
          "matches",
          "matches",
          "matches",
          "matches",
          "matches",
          "matches",
          "matches",
          "matches",
          "matches",
          "matches",
          "matches",
          "matches",
          "matches",
          "matches",
          "matches",
          "matches",
          "matches",
          "matches",
          "matches",
          "matches",
          "matches",
          "matches",
          "matches",
          "matches",
          "matches",
          "matches",
          "matches",
          "matches",
          "matches",
          "matches",
          "matches",
          "matches",
          "matches",
          "matches",
          "matches",
          "matches",
          "matches",
          "matches",
          "matches",
          "matches",
          "matches",
          "matches",
          "matches",
          "matches",
          "matches",
          "matches",
          "matches",
          "matches",
          "matches",
          "matches",
          "matches",
          "matches",
          "matches",
          "matches",
          "matches",
          "matches",
          "matches",
          "matches",
          "matches",
          "matches",
          "matches",
          "matches",
          "matches",
          "matches",
          "matches",
          "matches",
          "matches",
          "matches",
          "matches",
          "matches",
          "matches",
          "matches",
          "matches",
          "matches",
          "matches",
          "matches",
          "matches",
          "matches",
          "matches",
          "matches",
          "matches",
          "matches",
          "matches",
          "matches",
          "matches",
          "matches",
          "matches",
          "matches",
          "matches",
          "matches",
          "matches",
          "matches",
          "matches",
          "matches",
          "matches",
          "matches",
          "matches",
          "matches",
          "matches",
          "matches",
          "matches",
          "matches",
          "matches",
          "matches",
          "matches",
          "matches",
          "matches",
          "matches",
          "matches",
          "matches",
          "matches",
          "matches",
          "matches",
          "matches",
          "matches",
          "matches",
          "matches",
          "matches",
          "matches",
          "matches",
          "matches",
          "matches",
          "matches",
          "matches",
          "matches",
          "matches",
          "matches",
          "matches",
          "matches",
          "matches",
          "matches",
          "matches",
          "matches",
          "matches",
          "matches",
          "matches",
          "matches",
          "matches",
          "matches",
          "matches",
          "matches",
          "matches",
          "matches",
          "matches",
          "matches",
          "matches",
          "matches",
          "matches",
          "matches",
          "matches",
          "matches",
          "matches",
          "matches",
          "matches",
          "matches",
          "matches",
          "matches",
          "matches",
          "matches",
          "matches",
          "matches",
          "matches",
          "matches",
          "matches",
          "matches",
          "matches",
          "matches",
          "matches",
          "matches",
          "matches",
          "matches",
          "matches",
          "matches",
          "matches",
          "matches",
          "matches",
          "matches",
          "matches",
          "matches",
          "matches",
          "matches",
          "matches",
          "matches",
          "matches",
          "matches",
          "matches",
          "matches",
          "matches",
          "matches",
          "matches",
          "matches",
          "matches",
          "matches",
          "matches",
          "matches",
          "matches",
          "matches",
          "matches",
          "matches",
          "matches",
          "matches",
          "matches",
          "matches",
          "matches",
          "matches",
          "matches",
          "matches",
          "matches",
          "matches",
          "matches",
          "matches",
          "matches",
          "matches",
          "matches",
          "matches",
          "matches",
          "matches",
          "matches",
          "matches",
          "matches",
          "matches",
          "matches",
          "matches",
          "matches",
          "matches",
          "matches",
          "matches",
          "matches",
          "matches",
          "matches",
          "matches",
          "matches",
          "matches",
          "matches",
          "matches",
          "matches",
          "matches",
          "matches",
          "matches",
          "matches",
          "matches",
          "matches",
          "matches",
          "matches",
          "matches",
          "matches",
          "matches",
          "matches",
          "matches",
          "matches",
          "matches",
          "matches",
          "matches",
          "matches",
          "matches",
          "matches",
          "matches",
          "matches",
          "matches",
          "matches",
          "matches",
          "matches",
          "matches",
          "matches",
          "matches",
          "matches",
          "matches",
          "matches",
          "matches",
          "matches",
          "matches",
          "matches",
          "matches",
          "matches",
          "matches",
          "matches",
          "matches",
          "matches",
          "matches",
          "matches",
          "matches",
          "matches",
          "matches",
          "matches",
          "matches",
          "matches",
          "matches",
          "matches",
          "matches",
          "matches",
          "matches",
          "matches",
          "matches",
          "matches",
          "matches",
          "matches",
          "matches",
          "matches",
          "matches",
          "matches",
          "matches",
          "matches",
          "matches",
          "matches",
          "matches",
          "matches",
          "matches",
          "matches",
          "matches",
          "matches",
          "matches",
          "matches",
          "matches",
          "matches",
          "matches",
          "matches",
          "matches",
          "matches",
          "matches",
          "matches",
          "matches",
          "matches",
          "matches",
          "matches",
          "matches",
          "matches",
          "matches",
          "matches",
          "matches",
          "matches",
          "matches",
          "matches",
          "matches",
          "matches",
          "matches",
          "matches",
          "matches",
          "matches",
          "matches",
          "matches",
          "matches",
          "matches",
          "matches",
          "matches",
          "matches",
          "matches",
          "matches",
          "matches",
          "matches",
          "matches",
          "matches",
          "matches",
          "matches",
          "matches",
          "matches",
          "matches",
          "matches",
          "matches",
          "matches",
          "matches",
          "matches",
          "matches",
          "matches",
          "matches",
          "matches",
          "matches",
          "matches",
          "matches",
          "matches"
         ],
         "x0": " ",
         "xaxis": "x",
         "y": [
          0,
          0,
          499.173606,
          0,
          455.925963,
          1091.176696,
          0,
          1,
          878.0804633,
          0,
          0,
          445.4963738,
          1118.156938,
          0,
          985.6569693,
          1411.022822,
          523.0411783,
          0,
          71,
          8.497077758,
          0,
          0,
          796.7761546,
          1774.392524,
          566.0816207,
          549.8374429,
          0,
          489.23807,
          0,
          823.6773447,
          8,
          26.12029246,
          544.8012092,
          4.900332844,
          0,
          0,
          507.7741982,
          4.36114724,
          525.2722908,
          796.2071312,
          3,
          415.3851487,
          0,
          0,
          795.9627904,
          0,
          755.8871411,
          1,
          1145.138425,
          934.0782407,
          0,
          4,
          0,
          1.592050731,
          0,
          794.4983226,
          508.3802654,
          4,
          594.8830073,
          359.2765414,
          1038.615984,
          967.757241,
          0,
          0,
          1,
          0,
          473.3165635,
          501.0077861,
          1.187603295,
          1158.464025,
          363.2985585,
          1.214880737,
          0,
          1032.156321,
          0,
          1085.050524,
          948.0113977,
          863.4787546,
          2,
          0,
          0,
          981.1740715,
          0,
          552.1788587,
          0,
          927.3925133,
          0,
          1,
          0,
          794.8597602,
          378.3847049,
          795.4515292,
          0,
          759.5265177,
          0,
          0,
          9,
          1.300610616,
          0,
          796.9117528,
          913.7096834,
          795.891113,
          0,
          342.0664556,
          2,
          76,
          5,
          831.9613099,
          430.0132338,
          1043.723245,
          817.5609584,
          23.24481972,
          1746.444941,
          1050.512779,
          1077.790668,
          957.2433861,
          1.827246039,
          0,
          971.2255402,
          0,
          14.07220725,
          551.8579312,
          0,
          536.6030615,
          0,
          1578.12925,
          1,
          0,
          0,
          796.9576541,
          1559.455978,
          795.6685134,
          3,
          0,
          0,
          0,
          886.6707716,
          432.4665857,
          1,
          1112.630258,
          888.6721176,
          0,
          921.3049095,
          1075.109821,
          0,
          1,
          517.6878008,
          824.4203415,
          13,
          463.473872,
          891.3250841,
          0,
          521.666364,
          1,
          0,
          929.6531545,
          796.9849601,
          0,
          804.7443952,
          0,
          2,
          0,
          794.9088174,
          1075.83813,
          1255.306004,
          0,
          628.266221,
          3,
          1035.326493,
          794.4131561,
          0,
          866.1448416,
          387.6669644,
          1556.581408,
          795.9469003,
          846.4606334,
          904.3640155,
          1,
          797,
          535.4126758,
          1046.163692,
          0,
          4,
          504.2544386,
          939.5182615,
          476.6260195,
          1.430426465,
          0,
          16,
          872.7944316,
          0,
          802.7631414,
          0,
          2,
          983.025736,
          796.9065016,
          0,
          1069.85561,
          1147.000012,
          0,
          962.2275182,
          574,
          510.5887939,
          834.7561457,
          821.1456797,
          1749.682595,
          510.0679796,
          547.6056299,
          0,
          0,
          1001.112553,
          928.3721694,
          935.9984071,
          934.8919248,
          1065.537129,
          1137.515925,
          794.7099947,
          1101.238283,
          0,
          0,
          728.2521847,
          508.6292868,
          492.9877189,
          794.6566074,
          1,
          0,
          34.63879439,
          0,
          1220.37122,
          501.694812,
          1,
          1071.988671,
          0,
          0,
          1051.079978,
          1123.883668,
          2,
          0,
          796.4712775,
          2,
          0,
          0,
          2,
          4,
          1118.627818,
          967.2570054,
          0,
          1,
          0,
          486.898108,
          794.1379958,
          1526.679497,
          7,
          0,
          0,
          0,
          884.3289025,
          796.6908933,
          796.2596974,
          953.9200517,
          1007.41858,
          491.6097794,
          851.4598268,
          853.2844346,
          0,
          0,
          1,
          927.3841427,
          1038.703651,
          1,
          0,
          0,
          0,
          1820.426668,
          0,
          796.6775521,
          7.267954146,
          545.1533033,
          0,
          0,
          806.9816765,
          1067.750342,
          0,
          0,
          0,
          1062.738667,
          24,
          544.2781015,
          0,
          503.3125777,
          0,
          0,
          797.8461911,
          505.3719898,
          3.865423019,
          0,
          499.8929621,
          531.1828583,
          0,
          1067.699843,
          763.9360928,
          0,
          0,
          483.0363015,
          1032.561637,
          796.2414266,
          931.3709608,
          1,
          0,
          0,
          796.6946242,
          44,
          0,
          988.4294502,
          795.8642386,
          0,
          8.774525352,
          834.5667797,
          511.7135291,
          1,
          1,
          0,
          796.7650675,
          3,
          0,
          0,
          0,
          492.5986362,
          2.84888983,
          527.6835948,
          1007.933705,
          476.2487667,
          795.8151824,
          654.7581679,
          1,
          0,
          1,
          980.1872679,
          795.9837375,
          0,
          378.5017259,
          37,
          1200.402473,
          0,
          0,
          0,
          562.6387805,
          927.3323124,
          0.723106249,
          449.0474387,
          0,
          12,
          1,
          534.8672148,
          1127.341018,
          855.9756191,
          1,
          0,
          1013.022624,
          0,
          1.25300576,
          0.152724677,
          831.7320952,
          3,
          0,
          449.7060021,
          3,
          995.6123772,
          23,
          1065.086436,
          1072.103989,
          1,
          1079.109392,
          1385.133549,
          794.6251286,
          570.3586919,
          537.5648427,
          769.3826949,
          795.0335935,
          0,
          805.7754452,
          828.8163376,
          69.85871926,
          934.8842015,
          374.3377539,
          2.341279953,
          1508.784107,
          0,
          881.935072,
          80.27082423,
          0,
          880.9113423,
          795.6012537,
          0,
          5,
          0,
          770.6767311,
          0,
          508.9385705,
          794.4255992,
          1653.44315,
          796.6946644,
          978.3160673,
          796.1045181,
          915.6824728,
          816.0873154,
          1,
          825.9491724,
          452.5335438,
          794.9671874,
          1952.190973,
          507.4629961,
          593.9485269,
          25,
          794.1794124,
          977.056616,
          889.7985687,
          3,
          1,
          965.7585502,
          2.97544169,
          760.3190842,
          1292.119664,
          1831.506159,
          0,
          972.7951461,
          926.3071908,
          1003.442686,
          841.4919386,
          1055.165539,
          5.170936158,
          495.853696,
          2,
          517.422589,
          11,
          0,
          669.4788687,
          551.6549756,
          0,
          0,
          816.8336567,
          942.6985122,
          0,
          796.533462,
          549.5344852,
          0,
          0,
          0.864281443,
          0.964489768,
          901.5151189,
          633.8456819,
          837.1766574,
          0,
          479.8073841,
          1,
          0,
          521.683657,
          0,
          1,
          1689.579635,
          1126.602545,
          794.9860345,
          487.4091195,
          435.8176472,
          472.6496804,
          810.912359,
          1036.152655,
          564.3614576,
          0.029763317,
          463.9900015,
          795.0386089,
          555.4804398,
          1009.181118,
          1058.103598,
          0,
          7,
          0,
          1,
          0,
          0,
          1436.721671,
          541.3932266,
          0,
          1,
          0,
          0,
          628.8825152,
          0,
          0,
          0,
          0,
          0,
          0,
          948.3291887,
          552.85581,
          0.825888048,
          1024.838537,
          29,
          0,
          534.5823646,
          10,
          0,
          1158.666093,
          795.3229288,
          1061.912139,
          0,
          0,
          531.8195054,
          861.9957225,
          8.14722024,
          568.5541208,
          517.2660139,
          1107.42661,
          1104.721224,
          501.9250837,
          516,
          0,
          471.1666815,
          506.1008714,
          0,
          0,
          794.4798014,
          554.8157439,
          476.0443465,
          3.774326669,
          805.5756873,
          1157.242403,
          1917.70476,
          1125.605175,
          0,
          1096.575004,
          1160.465535,
          2,
          0,
          1,
          6,
          427.428438,
          572.0917226,
          894.5972466,
          0.892049658,
          794.9167396,
          795.734768,
          0.356986313,
          949.5453478,
          3,
          571.3312125,
          1037.449299,
          0,
          505.2353378,
          796.0190235,
          1616.926883,
          476.6572835,
          575.9754118,
          1,
          1650.635817,
          540.7627178,
          5,
          572.0930256,
          2,
          0,
          0,
          743.9162942,
          1,
          903.7970622,
          1154.143553,
          1036.343068,
          0,
          1837.235184,
          0,
          1070.425138,
          0,
          924.363586,
          1101.120443,
          1081.433839,
          817.8190804,
          0,
          794.5659566,
          471.6231108,
          1695.431461,
          796.3210352,
          1008.372154,
          4.730442177,
          0,
          795.0760717,
          984.2543814,
          0,
          1,
          520.0859368,
          1,
          794.4943281,
          796.8697908,
          11.60039705,
          0,
          476.2526493,
          1054.804787,
          0,
          0,
          1017.049343,
          26,
          0,
          0,
          1831.500397,
          24,
          4.433939481,
          550.8192924,
          0,
          799.3882414,
          0,
          0,
          0,
          973.7777513,
          2,
          1915.079432,
          872.204802,
          451.3669921,
          542.7456268,
          0,
          0,
          935.4172984,
          871.0545242,
          0,
          794.9230596,
          1042.853953,
          738.053795,
          497.4388412,
          1055.801704,
          51,
          0,
          2,
          0,
          573.1261319,
          0,
          12,
          778.4973003,
          47,
          1061.353902,
          21.24699503,
          1163.640235,
          0,
          794.3051629,
          1162.344753,
          0,
          0,
          0,
          488.7814748,
          914.1418958,
          864.4335638,
          796.2725612,
          0,
          554.1071469,
          0,
          979.7201225,
          24,
          1795.912502,
          0,
          0,
          796.8807491,
          0,
          0,
          976.159949,
          0,
          0,
          1895.590604,
          1,
          3,
          0,
          0,
          482.8380008,
          1031.467736,
          1520.348955,
          1010.618092,
          1033.607689,
          674.7154217,
          0,
          863.6744723,
          2.1699951,
          796.3364007,
          1292.198843,
          0,
          939.094934,
          0,
          4.036422917,
          2,
          1,
          529.0969716,
          0,
          1001.220192,
          0,
          506.6551507,
          1730.569425,
          0,
          0,
          0,
          0,
          0,
          13.49286079,
          430.9175451,
          5,
          0,
          0,
          0,
          0,
          65.24140494,
          572.2643543,
          0,
          795.9702783,
          11.2406592,
          0,
          0,
          906.0737164,
          2,
          511.395185,
          0,
          854.7369041,
          552.2869238,
          0,
          559.0804578,
          1135.60891,
          0,
          342.5772689,
          0,
          495.8681081,
          493.1091703,
          795.9484128,
          0,
          866.6900573,
          14.91722272,
          949.8470629,
          532.6529172,
          1160.641906,
          5,
          0,
          796.1897845,
          1127.7768,
          1949.226399,
          1,
          797.1599677,
          0,
          1,
          1680.933767,
          1155.446998,
          1004.209193,
          329.7024118,
          0,
          3.967026965,
          562.3907027,
          530.7334634,
          13,
          0,
          893.0899924,
          0,
          887.3151018,
          494.4676719,
          0,
          400.5488715,
          0,
          524.4604689,
          854.5699446,
          0,
          525.7346151,
          564.9213867,
          0,
          562.8223573,
          422.434448,
          0,
          0,
          992.0603662,
          541.9343427,
          1,
          796.2852448,
          0,
          865.9833415,
          7,
          964.6808718,
          2,
          0,
          0,
          445.9822309,
          795.6190448,
          916.8416396,
          1067.366136,
          0,
          0,
          1,
          1612.163027,
          1170.407978,
          0.703494784,
          795.8957607,
          1,
          883.3752289,
          0,
          713.5259271,
          795.636007,
          0,
          1939.725233,
          0,
          1116.314926,
          0,
          0,
          903.8172788,
          529.8768732,
          920.3874592,
          0,
          794.2562738,
          1050.043981,
          1033.961599,
          0,
          0,
          0,
          1678.695276,
          796.610468,
          1012.434636,
          1161.328149,
          0,
          0,
          0,
          1764.41791,
          0,
          19,
          820.9944388,
          0,
          907.6862998,
          0,
          0,
          999.1522393,
          0,
          0,
          0,
          487.220395,
          1146.798638,
          814.018555,
          0,
          0,
          0,
          1052.488992,
          0,
          1,
          507.6221088,
          525.0859025,
          0,
          488.1452717,
          570.1683646,
          963.0282875,
          0,
          0,
          660.6739853,
          795.0874388,
          1.501491166,
          424.0540895,
          572.8152486,
          881.1990992,
          795.8349745,
          1116.904124,
          1.087740456,
          3,
          805.0982733,
          1.444350757,
          1,
          8,
          526.1617331,
          0,
          794.2546361,
          566.9866771,
          2.589507862,
          2,
          0,
          1,
          955.1711191,
          1008.964758,
          4,
          796.2720655,
          0,
          0,
          456.7825599,
          0.750844246,
          569.6907248,
          1078.282109,
          865.5215958,
          1073.976468,
          861.8001482,
          1024.700901,
          856.9446121,
          0,
          0,
          0,
          1150.988193,
          889.74697,
          0,
          804.5429296,
          1379.811268,
          0,
          0,
          1003.593715,
          14,
          796.0629767,
          887.1650763,
          1150.689904,
          487.8249345,
          540.6190345,
          1248.847364,
          887.5112567,
          0,
          2,
          0,
          0,
          1749.759784,
          960.3716815,
          0,
          858.9561649,
          0.016627974,
          887.169431,
          2.801787614,
          0,
          912.3857975,
          0,
          1038.765113,
          1567.459926,
          795.7891636,
          0,
          1658.373474,
          782.4866066,
          850.0577035,
          929.1155054,
          540.9107039,
          0,
          823.2697184,
          0,
          884.172683,
          507.4243558,
          0,
          3,
          1082.876232,
          0,
          794.5498775,
          1047.469436,
          566.4940844,
          1,
          796.3059156,
          0,
          3,
          796.4898956,
          966.2688613,
          1544.097083,
          683.6289432,
          0,
          873.4450183,
          0,
          1,
          8,
          0,
          4,
          1079.358045,
          18.29039703,
          533.2197073,
          1,
          0.679090616,
          0,
          1959.759831,
          0,
          999.9298822,
          17,
          797,
          1163.866729,
          795.7148518,
          1066.13411,
          0,
          815.4247067,
          8,
          526.6177622,
          833.9438801,
          0,
          0,
          0,
          902.6398492,
          1164.661928,
          458.8772601,
          0,
          0.487606537,
          474.4328708,
          571.4751859,
          0,
          1829.110458,
          496.3093017,
          990.7198229,
          489.1101669,
          0.43214805,
          0,
          0,
          32.89822245,
          937.2139591,
          982.3036662,
          799.3407057,
          805.5527388,
          1913.136232,
          905.505809,
          0,
          0,
          0,
          563.1442005,
          7,
          2.615160538,
          0,
          473.1332842,
          0,
          336.9616427,
          914.6183891,
          0,
          0,
          58,
          4,
          1923.810908,
          1125.892556,
          1110.320984,
          3.585971311,
          1172,
          2,
          1070.0436,
          0,
          0,
          0,
          962.2341109,
          1795.768231,
          1110.654394,
          1005.056092,
          5.165941791,
          0,
          1,
          0,
          498.095435,
          827.7155184,
          0,
          795.8041384,
          0.88533766,
          801.7842513,
          982.7539477,
          472,
          46,
          1,
          0,
          65,
          5.07603115,
          1,
          1031.340194,
          1437.98045,
          845.2608526,
          478.3664101,
          24,
          927.2640753,
          795.7386787,
          0,
          540.5130626,
          483.1391996,
          0,
          483.8202054,
          23.13435184,
          3,
          482.1957686,
          0,
          796.7745509,
          0,
          873.1528687,
          499.3974713,
          524.3081957,
          0,
          0,
          2.153694305,
          0,
          0,
          0,
          1969,
          492.9603412,
          671.4993633,
          812.3558922,
          1,
          0,
          1680.613947,
          923.658474,
          0,
          0,
          0,
          796.7786434,
          0,
          1.595683637,
          0.392954939,
          0,
          1,
          484.800827,
          2,
          546.346434,
          895.8861605,
          828.8691191,
          796.1683284,
          0.093581913,
          0,
          0,
          0,
          923.8916926,
          511.1262662,
          1076.619808,
          381.8635916,
          509.9609406,
          1383.709836,
          1687.69624,
          0,
          0,
          0,
          0,
          3,
          794.5910881,
          876.9368174,
          0,
          695.3346484,
          3.036960294,
          594.9236795,
          1329.186309,
          0,
          1090.45617,
          635.0513382,
          891.0259815,
          480.8160302,
          0,
          0,
          13,
          794.599654,
          1089.207958,
          503.1483684,
          509.9729951,
          0,
          888.2525568,
          2.426169913,
          534.4972049,
          56.19713878,
          0,
          3,
          0,
          1080.563839,
          0,
          0,
          2.354163148,
          49,
          533.0023753,
          0,
          909.5308048,
          796.6858979,
          1,
          744.5363858,
          1339.726243,
          0,
          838.1125933,
          551.2888909,
          1911.934973,
          0,
          1053.105909,
          2,
          1084.070478,
          12.22420957,
          504.0813071,
          0,
          913.5043118,
          0,
          1,
          0,
          1029.097571,
          568.0420702,
          0.042549144,
          0,
          35,
          4,
          963.7395264,
          532.7607343,
          334.4720105,
          0,
          8,
          0,
          0,
          1014.723423,
          3,
          6.188182396,
          0,
          1042.254353,
          0,
          825.959484,
          0,
          0,
          910.4300413,
          0.56921076,
          529.402063,
          499.4562521,
          1059.191028,
          1,
          519.4144764,
          1541.323328,
          847.1196732,
          915.1280652,
          3.975671189,
          960.4758649,
          0,
          1568.052442,
          1080.615356,
          0,
          869.4878354,
          648.1266929,
          472.8078541,
          361.9651768,
          809.2549858,
          934.3970414,
          0,
          1615.5264,
          0,
          477.0970079,
          1124.116759,
          1,
          0,
          17,
          22.39546474,
          0,
          818.1601,
          40.62806102,
          1.499973702,
          1,
          1068.588264,
          973.8315605,
          848.8361914,
          547.5121196,
          0,
          2,
          0,
          0,
          980.647725,
          0,
          0,
          534.1168387,
          0,
          0,
          684.8957724,
          325.5113206,
          1001.427545,
          0,
          3,
          0,
          480.9585423,
          0,
          888.0081653,
          0,
          0,
          472.910989,
          0,
          2.179324739,
          525.5204769,
          1122.061616,
          7,
          1,
          0,
          1817.941126,
          1035.629192,
          540.3650809,
          1116.320717,
          2.985032279,
          0,
          562.0771533,
          491.8651598,
          926.5164419,
          0,
          0,
          510.9378833,
          1054.363141,
          986.8794437,
          1,
          0,
          1012.434342,
          0,
          848.8950214,
          0,
          796.3387882,
          0,
          0,
          1,
          325,
          494.918491,
          0,
          0,
          63,
          0,
          884.7113538,
          0,
          1002.631104,
          420.4145152,
          6,
          1011.455151,
          481.5328646,
          1906.705465,
          474.7610364,
          519.9268721,
          0,
          963.3389648,
          0,
          531.1564058,
          1,
          95,
          2,
          1.120656991,
          971.9133813,
          1118.063988,
          1069.282385,
          803.1628023,
          2,
          506.1234547,
          0,
          1135.449242,
          20.56176213,
          451.798419,
          435.574176,
          1,
          795.5114216,
          0,
          1,
          557.8891269,
          0,
          523.4760531,
          0,
          867.0421206,
          1004.23314,
          0,
          1,
          1,
          0,
          796.5686145,
          560.8291297,
          0,
          2,
          486.5171686,
          1154.815778,
          2.379033772,
          1,
          0,
          0.907403835,
          551.2984118,
          1158.873242,
          0,
          1035.466882,
          0,
          844.4178623,
          0,
          0,
          1659.648045,
          0,
          0,
          1045.776075,
          1,
          1115.222961,
          794.1268645,
          938.5368577,
          1035.984244,
          34,
          0,
          338.562245,
          0,
          6.056302862,
          0,
          12,
          0,
          454.1384157,
          1137.25915,
          0,
          1360.925206,
          0,
          840.0472721,
          0,
          29,
          1369.750588,
          1053.904464,
          400.3303938,
          6,
          1110.560187,
          1.030452965,
          1954.893547,
          832.9895323,
          0,
          1.003719549,
          1,
          0,
          1,
          795.0348522,
          0,
          3,
          795.5183719,
          0,
          7,
          1092.297217,
          571.5266719,
          896.0343161,
          0,
          10.89757148,
          975.203497,
          0,
          0,
          0,
          2,
          0,
          1106.524695,
          1138.010441,
          712.4035946,
          1,
          0,
          1087.349248,
          1,
          474.5443619,
          0,
          794.9358888,
          1,
          936.6697886,
          0,
          0,
          0,
          1163.375978,
          1670.464312,
          0.790842971,
          564.7962361,
          0,
          1077.862221,
          0,
          1567.774735,
          4,
          989.3862235,
          0,
          0,
          0,
          1721.174979,
          0,
          570.2707795,
          0,
          848.9795275,
          0,
          1171.839035,
          0,
          7.05964124,
          454.5093474,
          0,
          487.8906668,
          348.5778498,
          487.6781642,
          877.2917505,
          3,
          646.0034888,
          795.3841999,
          607.036625,
          905.5554602,
          524.9692545,
          0,
          1131.160311,
          1050.540745,
          1321.96426,
          5,
          0,
          1015.661752,
          0,
          0,
          658.9222357,
          912.3327189,
          1061.604943,
          0,
          796.6870856,
          929.2899422,
          0,
          1931.269636,
          0,
          0,
          1122.194375,
          1615.893802,
          0,
          1105.042309,
          1362.693695,
          803.7477599,
          1409.198299,
          897.4055574,
          1.197735317,
          795.2684417,
          0,
          979.7179775,
          483.1595311,
          7.542537565,
          0,
          511.4205343,
          0,
          0,
          925.8575132,
          904.2870967,
          567.0135134,
          955.6245726,
          0,
          920.8979085,
          0,
          550.6087986,
          0,
          653.7555599,
          1574.072641,
          0,
          882.8163496,
          0,
          1111.652896,
          0,
          0,
          906.6687817,
          1488.288171,
          0,
          60,
          1050.330759,
          10,
          488.9504464,
          0,
          1,
          1,
          0,
          1,
          520.1963214,
          945.8755761,
          0,
          886.307008,
          0,
          930.7280026,
          0,
          980.2577274,
          942.3192965,
          1139.231491,
          0,
          1852.251302,
          794.6935093,
          0,
          0,
          0,
          870.8492993,
          0,
          0,
          550.6510829,
          421.2158334,
          556.8179415,
          1.507731758,
          982.3778797,
          796.0109089,
          0,
          0,
          468.8464892,
          0,
          0,
          914.526048,
          0,
          860.2320106,
          808.5953541,
          0,
          1,
          834.0478496,
          0,
          795.4950143,
          0,
          550.9430575,
          0,
          2,
          810.0914809,
          1313.795093,
          1107.153102,
          1061.622847,
          794.2786361,
          1000.152871,
          1042.653864,
          0,
          0,
          1,
          0,
          31,
          548.0077157,
          0.01742504,
          796.4787814,
          0,
          796.6622987,
          0,
          0,
          0,
          1066.169075,
          1081.011003,
          0,
          502.7726315,
          1,
          810.5091028,
          891.1553268,
          0,
          0,
          0,
          397.2639398,
          965.8540384,
          912.2795635,
          0,
          0,
          567.1318842,
          0,
          416.3565363,
          6.889823354,
          569.789348,
          2,
          959.2822948,
          0,
          794.3735727,
          789.7602391,
          0,
          0,
          2,
          454.3757089,
          1164.762273,
          977.8299819,
          540.3512005,
          0,
          796.829155,
          796.1710936,
          968.9772184,
          795.2482409,
          1,
          0,
          0,
          877.7260365,
          0,
          0,
          0,
          1213.428445,
          15,
          1,
          472.328606,
          1,
          0,
          1,
          0,
          794.2217785,
          0.433438974,
          968.5841012,
          4.351694538,
          0,
          4,
          0,
          0,
          824.4299601,
          1018.199516,
          991.1735551,
          0,
          1138.220611,
          0,
          0,
          35.76761168,
          952.0998579,
          949.9449082,
          3,
          1023.513481,
          0,
          644.3447392,
          1085.095515,
          0,
          538.0822962,
          1,
          1,
          514.486104,
          12,
          946.3405335,
          0,
          1466.451413,
          0,
          3,
          0,
          9,
          0,
          1096.259006,
          0,
          489.0860626,
          1113.971639,
          0,
          4,
          0,
          0,
          1778.995054,
          0,
          0,
          0,
          1.658269941,
          0,
          864.2920212,
          0,
          19,
          804.0660266,
          0,
          0,
          1081.4324,
          0,
          0,
          469.2252801,
          0,
          4.153664732,
          0,
          1104.938028,
          506.4805105,
          895.5955933,
          0,
          1073.732396,
          499.0352748,
          0,
          1313.940228,
          2,
          824.8635224,
          1411.609555,
          0,
          0,
          504.6892969,
          1134.968145,
          2,
          1919.030541,
          10,
          0,
          994.9769203,
          8,
          0,
          864.3313595,
          2.256403563,
          0,
          982.1972189,
          0,
          2,
          514.0877186,
          0,
          480.3491591,
          1222.695327,
          796.6955558,
          0,
          34.67221652,
          840.6065793,
          11.16635231,
          0,
          1,
          795.3732162,
          0,
          33,
          795.9655313,
          795.0786244,
          0.975869138,
          1,
          794.3936267,
          1,
          0,
          1533.111227,
          484.9735082,
          0.510451063,
          39.48671439,
          12,
          970.5101833,
          0,
          507.7171387,
          368.5983495,
          0,
          551.0364977,
          0,
          0,
          493.8071383,
          0,
          559.0045827,
          0,
          0.511193256,
          1550.098308,
          0,
          0,
          0,
          481.6347072,
          0,
          795.6655089,
          369.5178645,
          73.29876632,
          0,
          0,
          386.5053111,
          491.541342,
          0,
          0,
          0,
          912.351717,
          1110.566144,
          821.9451153,
          564.1342209,
          1055.722555,
          0,
          457.9507393,
          0,
          1028.373972,
          1,
          784.2175009,
          778.0447619,
          804.5457208,
          912.5263965,
          796.3540816,
          7,
          0,
          0,
          0,
          6,
          31.92284446,
          24,
          1541.753698,
          0,
          0,
          0,
          556.9982124,
          1056.163101,
          0,
          1198.972401,
          795.7605426,
          794.9267508,
          1087.142906,
          831.8744764,
          935.2274119,
          19,
          1435.219457,
          800.1029353,
          0,
          826.5685877,
          0,
          456.0951515,
          0,
          946.1640587,
          0,
          1,
          325.4556325,
          1076.571296,
          0,
          817.5223617,
          905.7327574,
          1411.716024,
          940.9526659,
          805.8042886,
          0,
          476.926077,
          0,
          1,
          479.3216915,
          999.3999394,
          0,
          796.6617289,
          0,
          35,
          3,
          0,
          1061.219542,
          11.44550079,
          482.4207397,
          0,
          796.1748889,
          794.1718771,
          2,
          0,
          794.8800354,
          3,
          1567.719016,
          1057.170767,
          8,
          0,
          897.2025813,
          3.061633019,
          667.880501,
          1708.327043,
          556.7006636,
          874.7004831,
          2,
          813.4950213,
          762.7410592,
          0,
          1036.371245,
          0,
          1,
          566.9095457,
          0,
          529.0407264,
          1070.865867,
          0,
          1534.811064,
          794.5289507,
          1634.685374,
          0,
          7,
          1061.458388,
          1527.459235,
          13,
          795.2849819,
          0,
          794.7838939,
          0.256165455,
          844.7849358,
          0,
          1.282775966,
          0,
          0,
          0,
          1203.190399,
          806.3788204,
          1149.529381,
          0
         ],
         "y0": " ",
         "yaxis": "y"
        }
       ],
       "layout": {
        "boxmode": "group",
        "legend": {
         "tracegroupgap": 0
        },
        "template": {
         "data": {
          "bar": [
           {
            "error_x": {
             "color": "#2a3f5f"
            },
            "error_y": {
             "color": "#2a3f5f"
            },
            "marker": {
             "line": {
              "color": "white",
              "width": 0.5
             },
             "pattern": {
              "fillmode": "overlay",
              "size": 10,
              "solidity": 0.2
             }
            },
            "type": "bar"
           }
          ],
          "barpolar": [
           {
            "marker": {
             "line": {
              "color": "white",
              "width": 0.5
             },
             "pattern": {
              "fillmode": "overlay",
              "size": 10,
              "solidity": 0.2
             }
            },
            "type": "barpolar"
           }
          ],
          "carpet": [
           {
            "aaxis": {
             "endlinecolor": "#2a3f5f",
             "gridcolor": "#C8D4E3",
             "linecolor": "#C8D4E3",
             "minorgridcolor": "#C8D4E3",
             "startlinecolor": "#2a3f5f"
            },
            "baxis": {
             "endlinecolor": "#2a3f5f",
             "gridcolor": "#C8D4E3",
             "linecolor": "#C8D4E3",
             "minorgridcolor": "#C8D4E3",
             "startlinecolor": "#2a3f5f"
            },
            "type": "carpet"
           }
          ],
          "choropleth": [
           {
            "colorbar": {
             "outlinewidth": 0,
             "ticks": ""
            },
            "type": "choropleth"
           }
          ],
          "contour": [
           {
            "colorbar": {
             "outlinewidth": 0,
             "ticks": ""
            },
            "colorscale": [
             [
              0,
              "#0d0887"
             ],
             [
              0.1111111111111111,
              "#46039f"
             ],
             [
              0.2222222222222222,
              "#7201a8"
             ],
             [
              0.3333333333333333,
              "#9c179e"
             ],
             [
              0.4444444444444444,
              "#bd3786"
             ],
             [
              0.5555555555555556,
              "#d8576b"
             ],
             [
              0.6666666666666666,
              "#ed7953"
             ],
             [
              0.7777777777777778,
              "#fb9f3a"
             ],
             [
              0.8888888888888888,
              "#fdca26"
             ],
             [
              1,
              "#f0f921"
             ]
            ],
            "type": "contour"
           }
          ],
          "contourcarpet": [
           {
            "colorbar": {
             "outlinewidth": 0,
             "ticks": ""
            },
            "type": "contourcarpet"
           }
          ],
          "heatmap": [
           {
            "colorbar": {
             "outlinewidth": 0,
             "ticks": ""
            },
            "colorscale": [
             [
              0,
              "#0d0887"
             ],
             [
              0.1111111111111111,
              "#46039f"
             ],
             [
              0.2222222222222222,
              "#7201a8"
             ],
             [
              0.3333333333333333,
              "#9c179e"
             ],
             [
              0.4444444444444444,
              "#bd3786"
             ],
             [
              0.5555555555555556,
              "#d8576b"
             ],
             [
              0.6666666666666666,
              "#ed7953"
             ],
             [
              0.7777777777777778,
              "#fb9f3a"
             ],
             [
              0.8888888888888888,
              "#fdca26"
             ],
             [
              1,
              "#f0f921"
             ]
            ],
            "type": "heatmap"
           }
          ],
          "heatmapgl": [
           {
            "colorbar": {
             "outlinewidth": 0,
             "ticks": ""
            },
            "colorscale": [
             [
              0,
              "#0d0887"
             ],
             [
              0.1111111111111111,
              "#46039f"
             ],
             [
              0.2222222222222222,
              "#7201a8"
             ],
             [
              0.3333333333333333,
              "#9c179e"
             ],
             [
              0.4444444444444444,
              "#bd3786"
             ],
             [
              0.5555555555555556,
              "#d8576b"
             ],
             [
              0.6666666666666666,
              "#ed7953"
             ],
             [
              0.7777777777777778,
              "#fb9f3a"
             ],
             [
              0.8888888888888888,
              "#fdca26"
             ],
             [
              1,
              "#f0f921"
             ]
            ],
            "type": "heatmapgl"
           }
          ],
          "histogram": [
           {
            "marker": {
             "pattern": {
              "fillmode": "overlay",
              "size": 10,
              "solidity": 0.2
             }
            },
            "type": "histogram"
           }
          ],
          "histogram2d": [
           {
            "colorbar": {
             "outlinewidth": 0,
             "ticks": ""
            },
            "colorscale": [
             [
              0,
              "#0d0887"
             ],
             [
              0.1111111111111111,
              "#46039f"
             ],
             [
              0.2222222222222222,
              "#7201a8"
             ],
             [
              0.3333333333333333,
              "#9c179e"
             ],
             [
              0.4444444444444444,
              "#bd3786"
             ],
             [
              0.5555555555555556,
              "#d8576b"
             ],
             [
              0.6666666666666666,
              "#ed7953"
             ],
             [
              0.7777777777777778,
              "#fb9f3a"
             ],
             [
              0.8888888888888888,
              "#fdca26"
             ],
             [
              1,
              "#f0f921"
             ]
            ],
            "type": "histogram2d"
           }
          ],
          "histogram2dcontour": [
           {
            "colorbar": {
             "outlinewidth": 0,
             "ticks": ""
            },
            "colorscale": [
             [
              0,
              "#0d0887"
             ],
             [
              0.1111111111111111,
              "#46039f"
             ],
             [
              0.2222222222222222,
              "#7201a8"
             ],
             [
              0.3333333333333333,
              "#9c179e"
             ],
             [
              0.4444444444444444,
              "#bd3786"
             ],
             [
              0.5555555555555556,
              "#d8576b"
             ],
             [
              0.6666666666666666,
              "#ed7953"
             ],
             [
              0.7777777777777778,
              "#fb9f3a"
             ],
             [
              0.8888888888888888,
              "#fdca26"
             ],
             [
              1,
              "#f0f921"
             ]
            ],
            "type": "histogram2dcontour"
           }
          ],
          "mesh3d": [
           {
            "colorbar": {
             "outlinewidth": 0,
             "ticks": ""
            },
            "type": "mesh3d"
           }
          ],
          "parcoords": [
           {
            "line": {
             "colorbar": {
              "outlinewidth": 0,
              "ticks": ""
             }
            },
            "type": "parcoords"
           }
          ],
          "pie": [
           {
            "automargin": true,
            "type": "pie"
           }
          ],
          "scatter": [
           {
            "marker": {
             "colorbar": {
              "outlinewidth": 0,
              "ticks": ""
             }
            },
            "type": "scatter"
           }
          ],
          "scatter3d": [
           {
            "line": {
             "colorbar": {
              "outlinewidth": 0,
              "ticks": ""
             }
            },
            "marker": {
             "colorbar": {
              "outlinewidth": 0,
              "ticks": ""
             }
            },
            "type": "scatter3d"
           }
          ],
          "scattercarpet": [
           {
            "marker": {
             "colorbar": {
              "outlinewidth": 0,
              "ticks": ""
             }
            },
            "type": "scattercarpet"
           }
          ],
          "scattergeo": [
           {
            "marker": {
             "colorbar": {
              "outlinewidth": 0,
              "ticks": ""
             }
            },
            "type": "scattergeo"
           }
          ],
          "scattergl": [
           {
            "marker": {
             "colorbar": {
              "outlinewidth": 0,
              "ticks": ""
             }
            },
            "type": "scattergl"
           }
          ],
          "scattermapbox": [
           {
            "marker": {
             "colorbar": {
              "outlinewidth": 0,
              "ticks": ""
             }
            },
            "type": "scattermapbox"
           }
          ],
          "scatterpolar": [
           {
            "marker": {
             "colorbar": {
              "outlinewidth": 0,
              "ticks": ""
             }
            },
            "type": "scatterpolar"
           }
          ],
          "scatterpolargl": [
           {
            "marker": {
             "colorbar": {
              "outlinewidth": 0,
              "ticks": ""
             }
            },
            "type": "scatterpolargl"
           }
          ],
          "scatterternary": [
           {
            "marker": {
             "colorbar": {
              "outlinewidth": 0,
              "ticks": ""
             }
            },
            "type": "scatterternary"
           }
          ],
          "surface": [
           {
            "colorbar": {
             "outlinewidth": 0,
             "ticks": ""
            },
            "colorscale": [
             [
              0,
              "#0d0887"
             ],
             [
              0.1111111111111111,
              "#46039f"
             ],
             [
              0.2222222222222222,
              "#7201a8"
             ],
             [
              0.3333333333333333,
              "#9c179e"
             ],
             [
              0.4444444444444444,
              "#bd3786"
             ],
             [
              0.5555555555555556,
              "#d8576b"
             ],
             [
              0.6666666666666666,
              "#ed7953"
             ],
             [
              0.7777777777777778,
              "#fb9f3a"
             ],
             [
              0.8888888888888888,
              "#fdca26"
             ],
             [
              1,
              "#f0f921"
             ]
            ],
            "type": "surface"
           }
          ],
          "table": [
           {
            "cells": {
             "fill": {
              "color": "#EBF0F8"
             },
             "line": {
              "color": "white"
             }
            },
            "header": {
             "fill": {
              "color": "#C8D4E3"
             },
             "line": {
              "color": "white"
             }
            },
            "type": "table"
           }
          ]
         },
         "layout": {
          "annotationdefaults": {
           "arrowcolor": "#2a3f5f",
           "arrowhead": 0,
           "arrowwidth": 1
          },
          "autotypenumbers": "strict",
          "coloraxis": {
           "colorbar": {
            "outlinewidth": 0,
            "ticks": ""
           }
          },
          "colorscale": {
           "diverging": [
            [
             0,
             "#8e0152"
            ],
            [
             0.1,
             "#c51b7d"
            ],
            [
             0.2,
             "#de77ae"
            ],
            [
             0.3,
             "#f1b6da"
            ],
            [
             0.4,
             "#fde0ef"
            ],
            [
             0.5,
             "#f7f7f7"
            ],
            [
             0.6,
             "#e6f5d0"
            ],
            [
             0.7,
             "#b8e186"
            ],
            [
             0.8,
             "#7fbc41"
            ],
            [
             0.9,
             "#4d9221"
            ],
            [
             1,
             "#276419"
            ]
           ],
           "sequential": [
            [
             0,
             "#0d0887"
            ],
            [
             0.1111111111111111,
             "#46039f"
            ],
            [
             0.2222222222222222,
             "#7201a8"
            ],
            [
             0.3333333333333333,
             "#9c179e"
            ],
            [
             0.4444444444444444,
             "#bd3786"
            ],
            [
             0.5555555555555556,
             "#d8576b"
            ],
            [
             0.6666666666666666,
             "#ed7953"
            ],
            [
             0.7777777777777778,
             "#fb9f3a"
            ],
            [
             0.8888888888888888,
             "#fdca26"
            ],
            [
             1,
             "#f0f921"
            ]
           ],
           "sequentialminus": [
            [
             0,
             "#0d0887"
            ],
            [
             0.1111111111111111,
             "#46039f"
            ],
            [
             0.2222222222222222,
             "#7201a8"
            ],
            [
             0.3333333333333333,
             "#9c179e"
            ],
            [
             0.4444444444444444,
             "#bd3786"
            ],
            [
             0.5555555555555556,
             "#d8576b"
            ],
            [
             0.6666666666666666,
             "#ed7953"
            ],
            [
             0.7777777777777778,
             "#fb9f3a"
            ],
            [
             0.8888888888888888,
             "#fdca26"
            ],
            [
             1,
             "#f0f921"
            ]
           ]
          },
          "colorway": [
           "#636efa",
           "#EF553B",
           "#00cc96",
           "#ab63fa",
           "#FFA15A",
           "#19d3f3",
           "#FF6692",
           "#B6E880",
           "#FF97FF",
           "#FECB52"
          ],
          "font": {
           "color": "#2a3f5f"
          },
          "geo": {
           "bgcolor": "white",
           "lakecolor": "white",
           "landcolor": "white",
           "showlakes": true,
           "showland": true,
           "subunitcolor": "#C8D4E3"
          },
          "hoverlabel": {
           "align": "left"
          },
          "hovermode": "closest",
          "mapbox": {
           "style": "light"
          },
          "paper_bgcolor": "white",
          "plot_bgcolor": "white",
          "polar": {
           "angularaxis": {
            "gridcolor": "#EBF0F8",
            "linecolor": "#EBF0F8",
            "ticks": ""
           },
           "bgcolor": "white",
           "radialaxis": {
            "gridcolor": "#EBF0F8",
            "linecolor": "#EBF0F8",
            "ticks": ""
           }
          },
          "scene": {
           "xaxis": {
            "backgroundcolor": "white",
            "gridcolor": "#DFE8F3",
            "gridwidth": 2,
            "linecolor": "#EBF0F8",
            "showbackground": true,
            "ticks": "",
            "zerolinecolor": "#EBF0F8"
           },
           "yaxis": {
            "backgroundcolor": "white",
            "gridcolor": "#DFE8F3",
            "gridwidth": 2,
            "linecolor": "#EBF0F8",
            "showbackground": true,
            "ticks": "",
            "zerolinecolor": "#EBF0F8"
           },
           "zaxis": {
            "backgroundcolor": "white",
            "gridcolor": "#DFE8F3",
            "gridwidth": 2,
            "linecolor": "#EBF0F8",
            "showbackground": true,
            "ticks": "",
            "zerolinecolor": "#EBF0F8"
           }
          },
          "shapedefaults": {
           "line": {
            "color": "#2a3f5f"
           }
          },
          "ternary": {
           "aaxis": {
            "gridcolor": "#DFE8F3",
            "linecolor": "#A2B1C6",
            "ticks": ""
           },
           "baxis": {
            "gridcolor": "#DFE8F3",
            "linecolor": "#A2B1C6",
            "ticks": ""
           },
           "bgcolor": "white",
           "caxis": {
            "gridcolor": "#DFE8F3",
            "linecolor": "#A2B1C6",
            "ticks": ""
           }
          },
          "title": {
           "x": 0.05
          },
          "xaxis": {
           "automargin": true,
           "gridcolor": "#EBF0F8",
           "linecolor": "#EBF0F8",
           "ticks": "",
           "title": {
            "standoff": 15
           },
           "zerolinecolor": "#EBF0F8",
           "zerolinewidth": 2
          },
          "yaxis": {
           "automargin": true,
           "gridcolor": "#EBF0F8",
           "linecolor": "#EBF0F8",
           "ticks": "",
           "title": {
            "standoff": 15
           },
           "zerolinecolor": "#EBF0F8",
           "zerolinewidth": 2
          }
         }
        },
        "title": {
         "text": "Distribution of MATCHES"
        },
        "xaxis": {
         "anchor": "y",
         "domain": [
          0,
          1
         ],
         "title": {
          "text": "variable"
         }
        },
        "yaxis": {
         "anchor": "x",
         "domain": [
          0,
          1
         ],
         "title": {
          "text": "MATCHES"
         }
        }
       }
      }
     },
     "metadata": {},
     "output_type": "display_data"
    },
    {
     "data": {
      "application/vnd.plotly.v1+json": {
       "config": {
        "plotlyServerURL": "https://plot.ly"
       },
       "data": [
        {
         "alignmentgroup": "True",
         "hovertemplate": "variable=%{x}<br>PERCENTAGE=%{y}<extra></extra>",
         "legendgroup": "",
         "marker": {
          "color": "red"
         },
         "name": "",
         "notched": false,
         "offsetgroup": "",
         "orientation": "v",
         "showlegend": false,
         "type": "box",
         "x": [
          "percentage",
          "percentage",
          "percentage",
          "percentage",
          "percentage",
          "percentage",
          "percentage",
          "percentage",
          "percentage",
          "percentage",
          "percentage",
          "percentage",
          "percentage",
          "percentage",
          "percentage",
          "percentage",
          "percentage",
          "percentage",
          "percentage",
          "percentage",
          "percentage",
          "percentage",
          "percentage",
          "percentage",
          "percentage",
          "percentage",
          "percentage",
          "percentage",
          "percentage",
          "percentage",
          "percentage",
          "percentage",
          "percentage",
          "percentage",
          "percentage",
          "percentage",
          "percentage",
          "percentage",
          "percentage",
          "percentage",
          "percentage",
          "percentage",
          "percentage",
          "percentage",
          "percentage",
          "percentage",
          "percentage",
          "percentage",
          "percentage",
          "percentage",
          "percentage",
          "percentage",
          "percentage",
          "percentage",
          "percentage",
          "percentage",
          "percentage",
          "percentage",
          "percentage",
          "percentage",
          "percentage",
          "percentage",
          "percentage",
          "percentage",
          "percentage",
          "percentage",
          "percentage",
          "percentage",
          "percentage",
          "percentage",
          "percentage",
          "percentage",
          "percentage",
          "percentage",
          "percentage",
          "percentage",
          "percentage",
          "percentage",
          "percentage",
          "percentage",
          "percentage",
          "percentage",
          "percentage",
          "percentage",
          "percentage",
          "percentage",
          "percentage",
          "percentage",
          "percentage",
          "percentage",
          "percentage",
          "percentage",
          "percentage",
          "percentage",
          "percentage",
          "percentage",
          "percentage",
          "percentage",
          "percentage",
          "percentage",
          "percentage",
          "percentage",
          "percentage",
          "percentage",
          "percentage",
          "percentage",
          "percentage",
          "percentage",
          "percentage",
          "percentage",
          "percentage",
          "percentage",
          "percentage",
          "percentage",
          "percentage",
          "percentage",
          "percentage",
          "percentage",
          "percentage",
          "percentage",
          "percentage",
          "percentage",
          "percentage",
          "percentage",
          "percentage",
          "percentage",
          "percentage",
          "percentage",
          "percentage",
          "percentage",
          "percentage",
          "percentage",
          "percentage",
          "percentage",
          "percentage",
          "percentage",
          "percentage",
          "percentage",
          "percentage",
          "percentage",
          "percentage",
          "percentage",
          "percentage",
          "percentage",
          "percentage",
          "percentage",
          "percentage",
          "percentage",
          "percentage",
          "percentage",
          "percentage",
          "percentage",
          "percentage",
          "percentage",
          "percentage",
          "percentage",
          "percentage",
          "percentage",
          "percentage",
          "percentage",
          "percentage",
          "percentage",
          "percentage",
          "percentage",
          "percentage",
          "percentage",
          "percentage",
          "percentage",
          "percentage",
          "percentage",
          "percentage",
          "percentage",
          "percentage",
          "percentage",
          "percentage",
          "percentage",
          "percentage",
          "percentage",
          "percentage",
          "percentage",
          "percentage",
          "percentage",
          "percentage",
          "percentage",
          "percentage",
          "percentage",
          "percentage",
          "percentage",
          "percentage",
          "percentage",
          "percentage",
          "percentage",
          "percentage",
          "percentage",
          "percentage",
          "percentage",
          "percentage",
          "percentage",
          "percentage",
          "percentage",
          "percentage",
          "percentage",
          "percentage",
          "percentage",
          "percentage",
          "percentage",
          "percentage",
          "percentage",
          "percentage",
          "percentage",
          "percentage",
          "percentage",
          "percentage",
          "percentage",
          "percentage",
          "percentage",
          "percentage",
          "percentage",
          "percentage",
          "percentage",
          "percentage",
          "percentage",
          "percentage",
          "percentage",
          "percentage",
          "percentage",
          "percentage",
          "percentage",
          "percentage",
          "percentage",
          "percentage",
          "percentage",
          "percentage",
          "percentage",
          "percentage",
          "percentage",
          "percentage",
          "percentage",
          "percentage",
          "percentage",
          "percentage",
          "percentage",
          "percentage",
          "percentage",
          "percentage",
          "percentage",
          "percentage",
          "percentage",
          "percentage",
          "percentage",
          "percentage",
          "percentage",
          "percentage",
          "percentage",
          "percentage",
          "percentage",
          "percentage",
          "percentage",
          "percentage",
          "percentage",
          "percentage",
          "percentage",
          "percentage",
          "percentage",
          "percentage",
          "percentage",
          "percentage",
          "percentage",
          "percentage",
          "percentage",
          "percentage",
          "percentage",
          "percentage",
          "percentage",
          "percentage",
          "percentage",
          "percentage",
          "percentage",
          "percentage",
          "percentage",
          "percentage",
          "percentage",
          "percentage",
          "percentage",
          "percentage",
          "percentage",
          "percentage",
          "percentage",
          "percentage",
          "percentage",
          "percentage",
          "percentage",
          "percentage",
          "percentage",
          "percentage",
          "percentage",
          "percentage",
          "percentage",
          "percentage",
          "percentage",
          "percentage",
          "percentage",
          "percentage",
          "percentage",
          "percentage",
          "percentage",
          "percentage",
          "percentage",
          "percentage",
          "percentage",
          "percentage",
          "percentage",
          "percentage",
          "percentage",
          "percentage",
          "percentage",
          "percentage",
          "percentage",
          "percentage",
          "percentage",
          "percentage",
          "percentage",
          "percentage",
          "percentage",
          "percentage",
          "percentage",
          "percentage",
          "percentage",
          "percentage",
          "percentage",
          "percentage",
          "percentage",
          "percentage",
          "percentage",
          "percentage",
          "percentage",
          "percentage",
          "percentage",
          "percentage",
          "percentage",
          "percentage",
          "percentage",
          "percentage",
          "percentage",
          "percentage",
          "percentage",
          "percentage",
          "percentage",
          "percentage",
          "percentage",
          "percentage",
          "percentage",
          "percentage",
          "percentage",
          "percentage",
          "percentage",
          "percentage",
          "percentage",
          "percentage",
          "percentage",
          "percentage",
          "percentage",
          "percentage",
          "percentage",
          "percentage",
          "percentage",
          "percentage",
          "percentage",
          "percentage",
          "percentage",
          "percentage",
          "percentage",
          "percentage",
          "percentage",
          "percentage",
          "percentage",
          "percentage",
          "percentage",
          "percentage",
          "percentage",
          "percentage",
          "percentage",
          "percentage",
          "percentage",
          "percentage",
          "percentage",
          "percentage",
          "percentage",
          "percentage",
          "percentage",
          "percentage",
          "percentage",
          "percentage",
          "percentage",
          "percentage",
          "percentage",
          "percentage",
          "percentage",
          "percentage",
          "percentage",
          "percentage",
          "percentage",
          "percentage",
          "percentage",
          "percentage",
          "percentage",
          "percentage",
          "percentage",
          "percentage",
          "percentage",
          "percentage",
          "percentage",
          "percentage",
          "percentage",
          "percentage",
          "percentage",
          "percentage",
          "percentage",
          "percentage",
          "percentage",
          "percentage",
          "percentage",
          "percentage",
          "percentage",
          "percentage",
          "percentage",
          "percentage",
          "percentage",
          "percentage",
          "percentage",
          "percentage",
          "percentage",
          "percentage",
          "percentage",
          "percentage",
          "percentage",
          "percentage",
          "percentage",
          "percentage",
          "percentage",
          "percentage",
          "percentage",
          "percentage",
          "percentage",
          "percentage",
          "percentage",
          "percentage",
          "percentage",
          "percentage",
          "percentage",
          "percentage",
          "percentage",
          "percentage",
          "percentage",
          "percentage",
          "percentage",
          "percentage",
          "percentage",
          "percentage",
          "percentage",
          "percentage",
          "percentage",
          "percentage",
          "percentage",
          "percentage",
          "percentage",
          "percentage",
          "percentage",
          "percentage",
          "percentage",
          "percentage",
          "percentage",
          "percentage",
          "percentage",
          "percentage",
          "percentage",
          "percentage",
          "percentage",
          "percentage",
          "percentage",
          "percentage",
          "percentage",
          "percentage",
          "percentage",
          "percentage",
          "percentage",
          "percentage",
          "percentage",
          "percentage",
          "percentage",
          "percentage",
          "percentage",
          "percentage",
          "percentage",
          "percentage",
          "percentage",
          "percentage",
          "percentage",
          "percentage",
          "percentage",
          "percentage",
          "percentage",
          "percentage",
          "percentage",
          "percentage",
          "percentage",
          "percentage",
          "percentage",
          "percentage",
          "percentage",
          "percentage",
          "percentage",
          "percentage",
          "percentage",
          "percentage",
          "percentage",
          "percentage",
          "percentage",
          "percentage",
          "percentage",
          "percentage",
          "percentage",
          "percentage",
          "percentage",
          "percentage",
          "percentage",
          "percentage",
          "percentage",
          "percentage",
          "percentage",
          "percentage",
          "percentage",
          "percentage",
          "percentage",
          "percentage",
          "percentage",
          "percentage",
          "percentage",
          "percentage",
          "percentage",
          "percentage",
          "percentage",
          "percentage",
          "percentage",
          "percentage",
          "percentage",
          "percentage",
          "percentage",
          "percentage",
          "percentage",
          "percentage",
          "percentage",
          "percentage",
          "percentage",
          "percentage",
          "percentage",
          "percentage",
          "percentage",
          "percentage",
          "percentage",
          "percentage",
          "percentage",
          "percentage",
          "percentage",
          "percentage",
          "percentage",
          "percentage",
          "percentage",
          "percentage",
          "percentage",
          "percentage",
          "percentage",
          "percentage",
          "percentage",
          "percentage",
          "percentage",
          "percentage",
          "percentage",
          "percentage",
          "percentage",
          "percentage",
          "percentage",
          "percentage",
          "percentage",
          "percentage",
          "percentage",
          "percentage",
          "percentage",
          "percentage",
          "percentage",
          "percentage",
          "percentage",
          "percentage",
          "percentage",
          "percentage",
          "percentage",
          "percentage",
          "percentage",
          "percentage",
          "percentage",
          "percentage",
          "percentage",
          "percentage",
          "percentage",
          "percentage",
          "percentage",
          "percentage",
          "percentage",
          "percentage",
          "percentage",
          "percentage",
          "percentage",
          "percentage",
          "percentage",
          "percentage",
          "percentage",
          "percentage",
          "percentage",
          "percentage",
          "percentage",
          "percentage",
          "percentage",
          "percentage",
          "percentage",
          "percentage",
          "percentage",
          "percentage",
          "percentage",
          "percentage",
          "percentage",
          "percentage",
          "percentage",
          "percentage",
          "percentage",
          "percentage",
          "percentage",
          "percentage",
          "percentage",
          "percentage",
          "percentage",
          "percentage",
          "percentage",
          "percentage",
          "percentage",
          "percentage",
          "percentage",
          "percentage",
          "percentage",
          "percentage",
          "percentage",
          "percentage",
          "percentage",
          "percentage",
          "percentage",
          "percentage",
          "percentage",
          "percentage",
          "percentage",
          "percentage",
          "percentage",
          "percentage",
          "percentage",
          "percentage",
          "percentage",
          "percentage",
          "percentage",
          "percentage",
          "percentage",
          "percentage",
          "percentage",
          "percentage",
          "percentage",
          "percentage",
          "percentage",
          "percentage",
          "percentage",
          "percentage",
          "percentage",
          "percentage",
          "percentage",
          "percentage",
          "percentage",
          "percentage",
          "percentage",
          "percentage",
          "percentage",
          "percentage",
          "percentage",
          "percentage",
          "percentage",
          "percentage",
          "percentage",
          "percentage",
          "percentage",
          "percentage",
          "percentage",
          "percentage",
          "percentage",
          "percentage",
          "percentage",
          "percentage",
          "percentage",
          "percentage",
          "percentage",
          "percentage",
          "percentage",
          "percentage",
          "percentage",
          "percentage",
          "percentage",
          "percentage",
          "percentage",
          "percentage",
          "percentage",
          "percentage",
          "percentage",
          "percentage",
          "percentage",
          "percentage",
          "percentage",
          "percentage",
          "percentage",
          "percentage",
          "percentage",
          "percentage",
          "percentage",
          "percentage",
          "percentage",
          "percentage",
          "percentage",
          "percentage",
          "percentage",
          "percentage",
          "percentage",
          "percentage",
          "percentage",
          "percentage",
          "percentage",
          "percentage",
          "percentage",
          "percentage",
          "percentage",
          "percentage",
          "percentage",
          "percentage",
          "percentage",
          "percentage",
          "percentage",
          "percentage",
          "percentage",
          "percentage",
          "percentage",
          "percentage",
          "percentage",
          "percentage",
          "percentage",
          "percentage",
          "percentage",
          "percentage",
          "percentage",
          "percentage",
          "percentage",
          "percentage",
          "percentage",
          "percentage",
          "percentage",
          "percentage",
          "percentage",
          "percentage",
          "percentage",
          "percentage",
          "percentage",
          "percentage",
          "percentage",
          "percentage",
          "percentage",
          "percentage",
          "percentage",
          "percentage",
          "percentage",
          "percentage",
          "percentage",
          "percentage",
          "percentage",
          "percentage",
          "percentage",
          "percentage",
          "percentage",
          "percentage",
          "percentage",
          "percentage",
          "percentage",
          "percentage",
          "percentage",
          "percentage",
          "percentage",
          "percentage",
          "percentage",
          "percentage",
          "percentage",
          "percentage",
          "percentage",
          "percentage",
          "percentage",
          "percentage",
          "percentage",
          "percentage",
          "percentage",
          "percentage",
          "percentage",
          "percentage",
          "percentage",
          "percentage",
          "percentage",
          "percentage",
          "percentage",
          "percentage",
          "percentage",
          "percentage",
          "percentage",
          "percentage",
          "percentage",
          "percentage",
          "percentage",
          "percentage",
          "percentage",
          "percentage",
          "percentage",
          "percentage",
          "percentage",
          "percentage",
          "percentage",
          "percentage",
          "percentage",
          "percentage",
          "percentage",
          "percentage",
          "percentage",
          "percentage",
          "percentage",
          "percentage",
          "percentage",
          "percentage",
          "percentage",
          "percentage",
          "percentage",
          "percentage",
          "percentage",
          "percentage",
          "percentage",
          "percentage",
          "percentage",
          "percentage",
          "percentage",
          "percentage",
          "percentage",
          "percentage",
          "percentage",
          "percentage",
          "percentage",
          "percentage",
          "percentage",
          "percentage",
          "percentage",
          "percentage",
          "percentage",
          "percentage",
          "percentage",
          "percentage",
          "percentage",
          "percentage",
          "percentage",
          "percentage",
          "percentage",
          "percentage",
          "percentage",
          "percentage",
          "percentage",
          "percentage",
          "percentage",
          "percentage",
          "percentage",
          "percentage",
          "percentage",
          "percentage",
          "percentage",
          "percentage",
          "percentage",
          "percentage",
          "percentage",
          "percentage",
          "percentage",
          "percentage",
          "percentage",
          "percentage",
          "percentage",
          "percentage",
          "percentage",
          "percentage",
          "percentage",
          "percentage",
          "percentage",
          "percentage",
          "percentage",
          "percentage",
          "percentage",
          "percentage",
          "percentage",
          "percentage",
          "percentage",
          "percentage",
          "percentage",
          "percentage",
          "percentage",
          "percentage",
          "percentage",
          "percentage",
          "percentage",
          "percentage",
          "percentage",
          "percentage",
          "percentage",
          "percentage",
          "percentage",
          "percentage",
          "percentage",
          "percentage",
          "percentage",
          "percentage",
          "percentage",
          "percentage",
          "percentage",
          "percentage",
          "percentage",
          "percentage",
          "percentage",
          "percentage",
          "percentage",
          "percentage",
          "percentage",
          "percentage",
          "percentage",
          "percentage",
          "percentage",
          "percentage",
          "percentage",
          "percentage",
          "percentage",
          "percentage",
          "percentage",
          "percentage",
          "percentage",
          "percentage",
          "percentage",
          "percentage",
          "percentage",
          "percentage",
          "percentage",
          "percentage",
          "percentage",
          "percentage",
          "percentage",
          "percentage",
          "percentage",
          "percentage",
          "percentage",
          "percentage",
          "percentage",
          "percentage",
          "percentage",
          "percentage",
          "percentage",
          "percentage",
          "percentage",
          "percentage",
          "percentage",
          "percentage",
          "percentage",
          "percentage",
          "percentage",
          "percentage",
          "percentage",
          "percentage",
          "percentage",
          "percentage",
          "percentage",
          "percentage",
          "percentage",
          "percentage",
          "percentage",
          "percentage",
          "percentage",
          "percentage",
          "percentage",
          "percentage",
          "percentage",
          "percentage",
          "percentage",
          "percentage",
          "percentage",
          "percentage",
          "percentage",
          "percentage",
          "percentage",
          "percentage",
          "percentage",
          "percentage",
          "percentage",
          "percentage",
          "percentage",
          "percentage",
          "percentage",
          "percentage",
          "percentage",
          "percentage",
          "percentage",
          "percentage",
          "percentage",
          "percentage",
          "percentage",
          "percentage",
          "percentage",
          "percentage",
          "percentage",
          "percentage",
          "percentage",
          "percentage",
          "percentage",
          "percentage",
          "percentage",
          "percentage",
          "percentage",
          "percentage",
          "percentage",
          "percentage",
          "percentage",
          "percentage",
          "percentage",
          "percentage",
          "percentage",
          "percentage",
          "percentage",
          "percentage",
          "percentage",
          "percentage",
          "percentage",
          "percentage",
          "percentage",
          "percentage",
          "percentage",
          "percentage",
          "percentage",
          "percentage",
          "percentage",
          "percentage",
          "percentage",
          "percentage",
          "percentage",
          "percentage",
          "percentage",
          "percentage",
          "percentage",
          "percentage",
          "percentage",
          "percentage",
          "percentage",
          "percentage",
          "percentage",
          "percentage",
          "percentage",
          "percentage",
          "percentage",
          "percentage",
          "percentage",
          "percentage",
          "percentage",
          "percentage",
          "percentage",
          "percentage",
          "percentage",
          "percentage",
          "percentage",
          "percentage",
          "percentage",
          "percentage",
          "percentage",
          "percentage",
          "percentage",
          "percentage",
          "percentage",
          "percentage",
          "percentage",
          "percentage",
          "percentage",
          "percentage",
          "percentage",
          "percentage",
          "percentage",
          "percentage",
          "percentage",
          "percentage",
          "percentage",
          "percentage",
          "percentage",
          "percentage",
          "percentage",
          "percentage",
          "percentage",
          "percentage",
          "percentage",
          "percentage",
          "percentage",
          "percentage",
          "percentage",
          "percentage",
          "percentage",
          "percentage",
          "percentage",
          "percentage",
          "percentage",
          "percentage",
          "percentage",
          "percentage",
          "percentage",
          "percentage",
          "percentage",
          "percentage",
          "percentage",
          "percentage",
          "percentage",
          "percentage",
          "percentage",
          "percentage",
          "percentage",
          "percentage",
          "percentage",
          "percentage",
          "percentage",
          "percentage",
          "percentage",
          "percentage",
          "percentage",
          "percentage",
          "percentage",
          "percentage",
          "percentage",
          "percentage",
          "percentage",
          "percentage",
          "percentage",
          "percentage",
          "percentage",
          "percentage",
          "percentage",
          "percentage",
          "percentage",
          "percentage",
          "percentage",
          "percentage",
          "percentage",
          "percentage",
          "percentage",
          "percentage",
          "percentage",
          "percentage",
          "percentage",
          "percentage",
          "percentage",
          "percentage",
          "percentage",
          "percentage",
          "percentage",
          "percentage",
          "percentage",
          "percentage",
          "percentage",
          "percentage",
          "percentage",
          "percentage",
          "percentage",
          "percentage",
          "percentage",
          "percentage",
          "percentage",
          "percentage",
          "percentage",
          "percentage",
          "percentage",
          "percentage",
          "percentage",
          "percentage",
          "percentage",
          "percentage",
          "percentage",
          "percentage",
          "percentage",
          "percentage",
          "percentage",
          "percentage",
          "percentage",
          "percentage",
          "percentage",
          "percentage",
          "percentage",
          "percentage",
          "percentage",
          "percentage",
          "percentage",
          "percentage",
          "percentage",
          "percentage",
          "percentage",
          "percentage",
          "percentage",
          "percentage",
          "percentage",
          "percentage",
          "percentage",
          "percentage",
          "percentage",
          "percentage",
          "percentage",
          "percentage",
          "percentage",
          "percentage",
          "percentage",
          "percentage",
          "percentage",
          "percentage",
          "percentage",
          "percentage",
          "percentage",
          "percentage",
          "percentage",
          "percentage",
          "percentage",
          "percentage",
          "percentage",
          "percentage",
          "percentage",
          "percentage",
          "percentage",
          "percentage",
          "percentage",
          "percentage",
          "percentage",
          "percentage",
          "percentage",
          "percentage",
          "percentage",
          "percentage",
          "percentage",
          "percentage",
          "percentage",
          "percentage",
          "percentage",
          "percentage",
          "percentage",
          "percentage",
          "percentage",
          "percentage",
          "percentage",
          "percentage",
          "percentage",
          "percentage",
          "percentage",
          "percentage",
          "percentage",
          "percentage",
          "percentage",
          "percentage",
          "percentage",
          "percentage",
          "percentage",
          "percentage",
          "percentage",
          "percentage",
          "percentage",
          "percentage",
          "percentage",
          "percentage",
          "percentage",
          "percentage",
          "percentage",
          "percentage",
          "percentage",
          "percentage",
          "percentage",
          "percentage",
          "percentage",
          "percentage",
          "percentage",
          "percentage",
          "percentage",
          "percentage",
          "percentage",
          "percentage",
          "percentage",
          "percentage",
          "percentage",
          "percentage",
          "percentage",
          "percentage",
          "percentage",
          "percentage",
          "percentage",
          "percentage",
          "percentage",
          "percentage",
          "percentage",
          "percentage",
          "percentage",
          "percentage",
          "percentage",
          "percentage",
          "percentage",
          "percentage",
          "percentage",
          "percentage",
          "percentage",
          "percentage",
          "percentage",
          "percentage",
          "percentage",
          "percentage",
          "percentage",
          "percentage",
          "percentage",
          "percentage",
          "percentage",
          "percentage",
          "percentage",
          "percentage",
          "percentage",
          "percentage",
          "percentage",
          "percentage",
          "percentage",
          "percentage",
          "percentage",
          "percentage",
          "percentage",
          "percentage",
          "percentage",
          "percentage",
          "percentage",
          "percentage",
          "percentage",
          "percentage",
          "percentage",
          "percentage",
          "percentage",
          "percentage",
          "percentage",
          "percentage",
          "percentage",
          "percentage",
          "percentage",
          "percentage",
          "percentage",
          "percentage",
          "percentage",
          "percentage",
          "percentage",
          "percentage",
          "percentage",
          "percentage",
          "percentage",
          "percentage",
          "percentage",
          "percentage",
          "percentage",
          "percentage",
          "percentage",
          "percentage",
          "percentage",
          "percentage",
          "percentage",
          "percentage",
          "percentage",
          "percentage",
          "percentage",
          "percentage",
          "percentage",
          "percentage",
          "percentage",
          "percentage",
          "percentage",
          "percentage",
          "percentage",
          "percentage",
          "percentage",
          "percentage",
          "percentage",
          "percentage",
          "percentage",
          "percentage",
          "percentage",
          "percentage",
          "percentage",
          "percentage",
          "percentage",
          "percentage",
          "percentage",
          "percentage",
          "percentage",
          "percentage",
          "percentage",
          "percentage",
          "percentage",
          "percentage",
          "percentage",
          "percentage",
          "percentage",
          "percentage",
          "percentage",
          "percentage",
          "percentage",
          "percentage",
          "percentage",
          "percentage",
          "percentage",
          "percentage",
          "percentage",
          "percentage",
          "percentage",
          "percentage",
          "percentage",
          "percentage",
          "percentage",
          "percentage",
          "percentage",
          "percentage",
          "percentage",
          "percentage",
          "percentage",
          "percentage",
          "percentage",
          "percentage",
          "percentage",
          "percentage",
          "percentage",
          "percentage",
          "percentage",
          "percentage",
          "percentage",
          "percentage",
          "percentage",
          "percentage",
          "percentage",
          "percentage",
          "percentage",
          "percentage",
          "percentage",
          "percentage",
          "percentage",
          "percentage",
          "percentage",
          "percentage",
          "percentage",
          "percentage",
          "percentage",
          "percentage",
          "percentage",
          "percentage",
          "percentage",
          "percentage",
          "percentage",
          "percentage",
          "percentage",
          "percentage",
          "percentage",
          "percentage",
          "percentage",
          "percentage",
          "percentage",
          "percentage",
          "percentage",
          "percentage",
          "percentage",
          "percentage",
          "percentage",
          "percentage",
          "percentage",
          "percentage",
          "percentage",
          "percentage",
          "percentage",
          "percentage",
          "percentage",
          "percentage",
          "percentage",
          "percentage",
          "percentage",
          "percentage",
          "percentage",
          "percentage",
          "percentage",
          "percentage",
          "percentage",
          "percentage",
          "percentage",
          "percentage",
          "percentage",
          "percentage",
          "percentage",
          "percentage",
          "percentage",
          "percentage",
          "percentage",
          "percentage",
          "percentage",
          "percentage",
          "percentage",
          "percentage",
          "percentage",
          "percentage",
          "percentage",
          "percentage",
          "percentage",
          "percentage",
          "percentage",
          "percentage",
          "percentage",
          "percentage",
          "percentage",
          "percentage",
          "percentage",
          "percentage",
          "percentage",
          "percentage",
          "percentage",
          "percentage",
          "percentage",
          "percentage",
          "percentage",
          "percentage",
          "percentage",
          "percentage",
          "percentage",
          "percentage",
          "percentage",
          "percentage",
          "percentage",
          "percentage",
          "percentage",
          "percentage",
          "percentage",
          "percentage",
          "percentage",
          "percentage",
          "percentage",
          "percentage",
          "percentage",
          "percentage",
          "percentage",
          "percentage",
          "percentage",
          "percentage",
          "percentage",
          "percentage",
          "percentage",
          "percentage",
          "percentage",
          "percentage",
          "percentage",
          "percentage",
          "percentage",
          "percentage",
          "percentage",
          "percentage",
          "percentage",
          "percentage",
          "percentage",
          "percentage",
          "percentage",
          "percentage",
          "percentage",
          "percentage",
          "percentage",
          "percentage",
          "percentage",
          "percentage",
          "percentage",
          "percentage",
          "percentage",
          "percentage",
          "percentage",
          "percentage",
          "percentage",
          "percentage",
          "percentage",
          "percentage",
          "percentage",
          "percentage",
          "percentage",
          "percentage",
          "percentage",
          "percentage",
          "percentage",
          "percentage",
          "percentage",
          "percentage",
          "percentage",
          "percentage",
          "percentage",
          "percentage",
          "percentage",
          "percentage",
          "percentage",
          "percentage",
          "percentage",
          "percentage",
          "percentage",
          "percentage",
          "percentage",
          "percentage",
          "percentage",
          "percentage",
          "percentage",
          "percentage",
          "percentage",
          "percentage",
          "percentage",
          "percentage",
          "percentage",
          "percentage",
          "percentage",
          "percentage",
          "percentage",
          "percentage",
          "percentage",
          "percentage",
          "percentage",
          "percentage",
          "percentage",
          "percentage",
          "percentage",
          "percentage",
          "percentage",
          "percentage",
          "percentage",
          "percentage",
          "percentage",
          "percentage",
          "percentage",
          "percentage",
          "percentage",
          "percentage",
          "percentage",
          "percentage",
          "percentage",
          "percentage",
          "percentage",
          "percentage",
          "percentage",
          "percentage",
          "percentage",
          "percentage",
          "percentage",
          "percentage",
          "percentage",
          "percentage",
          "percentage",
          "percentage",
          "percentage",
          "percentage",
          "percentage",
          "percentage",
          "percentage",
          "percentage",
          "percentage",
          "percentage",
          "percentage",
          "percentage",
          "percentage",
          "percentage",
          "percentage",
          "percentage",
          "percentage",
          "percentage",
          "percentage",
          "percentage",
          "percentage",
          "percentage",
          "percentage",
          "percentage",
          "percentage",
          "percentage",
          "percentage",
          "percentage",
          "percentage",
          "percentage",
          "percentage",
          "percentage",
          "percentage",
          "percentage",
          "percentage",
          "percentage",
          "percentage",
          "percentage",
          "percentage",
          "percentage",
          "percentage",
          "percentage",
          "percentage",
          "percentage",
          "percentage",
          "percentage",
          "percentage",
          "percentage",
          "percentage",
          "percentage",
          "percentage",
          "percentage",
          "percentage",
          "percentage",
          "percentage",
          "percentage",
          "percentage",
          "percentage",
          "percentage",
          "percentage",
          "percentage",
          "percentage",
          "percentage",
          "percentage",
          "percentage",
          "percentage",
          "percentage",
          "percentage",
          "percentage",
          "percentage",
          "percentage",
          "percentage",
          "percentage",
          "percentage",
          "percentage",
          "percentage",
          "percentage",
          "percentage",
          "percentage",
          "percentage",
          "percentage",
          "percentage",
          "percentage",
          "percentage",
          "percentage",
          "percentage",
          "percentage",
          "percentage",
          "percentage",
          "percentage",
          "percentage",
          "percentage",
          "percentage",
          "percentage",
          "percentage",
          "percentage",
          "percentage",
          "percentage",
          "percentage",
          "percentage",
          "percentage",
          "percentage",
          "percentage",
          "percentage",
          "percentage",
          "percentage",
          "percentage",
          "percentage",
          "percentage",
          "percentage",
          "percentage",
          "percentage",
          "percentage",
          "percentage",
          "percentage",
          "percentage",
          "percentage",
          "percentage",
          "percentage",
          "percentage",
          "percentage",
          "percentage",
          "percentage",
          "percentage",
          "percentage",
          "percentage",
          "percentage",
          "percentage",
          "percentage",
          "percentage",
          "percentage",
          "percentage",
          "percentage",
          "percentage",
          "percentage",
          "percentage",
          "percentage",
          "percentage",
          "percentage",
          "percentage",
          "percentage",
          "percentage",
          "percentage",
          "percentage",
          "percentage",
          "percentage",
          "percentage",
          "percentage",
          "percentage",
          "percentage",
          "percentage",
          "percentage",
          "percentage",
          "percentage",
          "percentage",
          "percentage",
          "percentage",
          "percentage",
          "percentage",
          "percentage",
          "percentage",
          "percentage",
          "percentage",
          "percentage",
          "percentage",
          "percentage",
          "percentage",
          "percentage",
          "percentage",
          "percentage",
          "percentage",
          "percentage",
          "percentage",
          "percentage",
          "percentage",
          "percentage",
          "percentage",
          "percentage",
          "percentage",
          "percentage",
          "percentage",
          "percentage",
          "percentage",
          "percentage",
          "percentage",
          "percentage",
          "percentage",
          "percentage",
          "percentage",
          "percentage",
          "percentage",
          "percentage",
          "percentage",
          "percentage",
          "percentage",
          "percentage",
          "percentage",
          "percentage",
          "percentage",
          "percentage",
          "percentage",
          "percentage",
          "percentage",
          "percentage",
          "percentage",
          "percentage",
          "percentage",
          "percentage",
          "percentage",
          "percentage",
          "percentage",
          "percentage",
          "percentage",
          "percentage",
          "percentage",
          "percentage",
          "percentage",
          "percentage",
          "percentage",
          "percentage",
          "percentage",
          "percentage",
          "percentage",
          "percentage",
          "percentage",
          "percentage",
          "percentage",
          "percentage",
          "percentage",
          "percentage",
          "percentage",
          "percentage",
          "percentage"
         ],
         "x0": " ",
         "xaxis": "x",
         "y": [
          0,
          0,
          0.225254764,
          0,
          0.211359792,
          0.519163319,
          0,
          0.333,
          0.22803111,
          0,
          0,
          0.271811915,
          0.434512318,
          0,
          0.507626495,
          0.366268718,
          0.308201621,
          0,
          0.563,
          0.193544549,
          0,
          0,
          0.228494171,
          0.46052161,
          0.266645332,
          0.282329365,
          0,
          0.252960981,
          0,
          0.466830299,
          0.32,
          0.279897696,
          0.287191936,
          0.5,
          0,
          0,
          0.309961158,
          0.323161887,
          0.306047443,
          0.283133154,
          0.5,
          0.253366819,
          0,
          0,
          0.306595346,
          0,
          0.444965328,
          0.091,
          0.48136026,
          0.39062563,
          0,
          0.444,
          0,
          0.97997324,
          0,
          0.44721704,
          0.29733607,
          0.364,
          0.280351236,
          0.201497606,
          0.269671723,
          0.505669458,
          0,
          0,
          0.5,
          0,
          0.216052034,
          0.280245322,
          0.017464754,
          0.300758587,
          0.221460374,
          0.928444715,
          0,
          0.301716367,
          0,
          0.377029667,
          0.503510579,
          0.224243636,
          0.5,
          0,
          0,
          0.254772114,
          0,
          0.280068688,
          0,
          0.395240481,
          0,
          0.083,
          0,
          0.412510937,
          0.203447419,
          0.355687871,
          0,
          0.448686305,
          0,
          0,
          0.818,
          0.185662165,
          0,
          0.215473706,
          0.395042471,
          0.313477979,
          0,
          0.199741475,
          1,
          0.551,
          0.114,
          0.216068463,
          0.208715636,
          0.314942719,
          0.470799674,
          0.625273829,
          0.453272408,
          0.310256215,
          0.291427541,
          0.248564837,
          0.609386554,
          0,
          0.252191608,
          0,
          0.297592336,
          0.280378549,
          0,
          0.295107389,
          0,
          0.40961373,
          0.5,
          0,
          0,
          0.211066159,
          0.404770151,
          0.334852524,
          0.75,
          0,
          0,
          0,
          0.230259313,
          0.208965978,
          0.071,
          0.424916346,
          0.421967392,
          0,
          0.239242912,
          0.35976963,
          0,
          0.103571513,
          0.313370399,
          0.489997957,
          0.206,
          0.282824309,
          0.420136171,
          0,
          0.235398556,
          0.125,
          0,
          0.393680064,
          0.208444165,
          0,
          0.479898844,
          0,
          0.333,
          0,
          0.407800348,
          0.292775289,
          0.325878008,
          0,
          0.314482952,
          0.3,
          0.51305703,
          0.455394929,
          0,
          0.432519613,
          0.204394588,
          0.404024529,
          0.308121147,
          0.451104041,
          0.411135995,
          0.25,
          0.207,
          0.241597873,
          0.30951048,
          0,
          0.8,
          0.227546119,
          0.243967194,
          0.223723954,
          0.856667987,
          0,
          0.139,
          0.226659989,
          0,
          0.487630103,
          0,
          0.286,
          0.255252409,
          0.215977941,
          0,
          0.296904748,
          0.484592533,
          0,
          0.371195477,
          0.259,
          0.230402789,
          0.216793403,
          0.467975212,
          0.454112209,
          0.301248498,
          0.247096657,
          0,
          0,
          0.344354922,
          0.241076058,
          0.37748081,
          0.242767189,
          0.276654682,
          0.468125318,
          0.426891776,
          0.405136465,
          0,
          0,
          0.416710754,
          0.22951909,
          0.261653348,
          0.432018157,
          1,
          0,
          0.321022625,
          0,
          0.316816426,
          0.281837973,
          0.053,
          0.517065428,
          0,
          0,
          0.272904704,
          0.444455637,
          0.667,
          0,
          0.257769202,
          1,
          0,
          0,
          0.4,
          0.571,
          0.290425646,
          0.251162227,
          0,
          1,
          0,
          0.219718755,
          0.481816485,
          0.396268402,
          0.778,
          0,
          0,
          0,
          0.418192084,
          0.236681161,
          0.27808562,
          0.376929739,
          0.340002162,
          0.300059394,
          0.444090184,
          0.442652544,
          0,
          0,
          0.167,
          0.501255333,
          0.296557615,
          0.25,
          0,
          0,
          0,
          0.472462207,
          0,
          0.237962213,
          0.697179465,
          0.286851983,
          0,
          0,
          0.478354552,
          0.346991369,
          0,
          0,
          0,
          0.301817246,
          0.222,
          0.245596007,
          0,
          0.227121359,
          0,
          0,
          0.20721949,
          0.29036234,
          0.878408066,
          0,
          0.277660958,
          0.300340689,
          0,
          0.298392774,
          0.45319475,
          0,
          0,
          0.217977156,
          0.301397012,
          0.279840028,
          0.241853901,
          1,
          0,
          0,
          0.236322916,
          0.647,
          0,
          0.353109486,
          0.316058526,
          0,
          0.57840603,
          0.216744284,
          0.305063181,
          1,
          0.5,
          0,
          0.22955878,
          1,
          0,
          0,
          0,
          0.260751384,
          0.237407486,
          0.238112209,
          0.261713179,
          0.222849414,
          0.320769021,
          0.341568889,
          0.111,
          0,
          0.077,
          0.342663661,
          0.304583953,
          0,
          0.230773309,
          0.343,
          0.311636819,
          0,
          0,
          0,
          0.253876313,
          0.384308972,
          0.723106249,
          0.273987174,
          0,
          0.182,
          1,
          0.296783379,
          0.450458632,
          0.444536283,
          0.5,
          0,
          0.263033172,
          0,
          0.183048614,
          0.050857318,
          0.459633996,
          0.167,
          0,
          0.210725102,
          0.429,
          0.330509957,
          0.235,
          0.276537779,
          0.278358031,
          0.5,
          0.290517287,
          0.359553412,
          0.435040829,
          0.262515746,
          0.242568458,
          0.458763473,
          0.395819052,
          0,
          0.209276225,
          0.463283088,
          0.541873374,
          0.390069312,
          0.203034465,
          0.585319988,
          0.391626594,
          0,
          0.420078224,
          0.537737967,
          0,
          0.427324299,
          0.341310958,
          0,
          0.192,
          0,
          0.460086523,
          0,
          0.298630323,
          0.454200113,
          0.429149077,
          0.236319056,
          0.254030789,
          0.292986316,
          0.393488077,
          0.471960782,
          0.2,
          0.464190459,
          0.276122642,
          0.402195524,
          0.506639979,
          0.295209673,
          0.279395803,
          0.275,
          0.477839563,
          0.253704105,
          0.231070618,
          0.375,
          0.5,
          0.250773549,
          0.424744301,
          0.449496642,
          0.335426944,
          0.475336068,
          0,
          0.348488038,
          0.240540432,
          0.324340324,
          0.218540571,
          0.307044629,
          0.117782435,
          0.268297204,
          0.667,
          0.313626466,
          0.786,
          0,
          0.356619651,
          0.248922832,
          0,
          0,
          0.471372727,
          0.384675453,
          0,
          0.251798093,
          0.282621876,
          0,
          0,
          0.10803518,
          0.964489768,
          0.234109724,
          0.320187513,
          0.491392648,
          0,
          0.231098936,
          0.25,
          0,
          0.235406355,
          0,
          0.374480941,
          0.438522363,
          0.523036545,
          0.400385777,
          0.248721141,
          0.265883061,
          0.288445092,
          0.475641382,
          0.320168349,
          0.268306179,
          0.029763317,
          0.283140472,
          0.395337464,
          0.276880955,
          0.26203674,
          0.330241733,
          0,
          0.226,
          0,
          1,
          0,
          0,
          0.372934631,
          0.290482402,
          0,
          0.5,
          0,
          0,
          0.315113065,
          0,
          0,
          0,
          0,
          0,
          0,
          0.246252622,
          0.249464385,
          0.103236006,
          0.511910347,
          0.21,
          0,
          0.241223419,
          0.385,
          0,
          0.504848344,
          0.368036383,
          0.3368545,
          0,
          0,
          0.299725995,
          0.223858959,
          0.151036929,
          0.26425809,
          0.313777642,
          0.520939976,
          0.520644187,
          0.282371785,
          0.315,
          0,
          0.287536658,
          0.228378824,
          0,
          0,
          0.448995489,
          0.27752273,
          0.214823921,
          0.538785132,
          0.20922441,
          0.502376392,
          0.49769475,
          0.292235472,
          0,
          0.397039617,
          0.507972714,
          0.667,
          0,
          0.5,
          0.353,
          0.260744122,
          0.260842475,
          0.410101483,
          0.892049658,
          0.407039645,
          0.328490599,
          0.029748859,
          0.366806947,
          1,
          0.26157676,
          0.29754594,
          0,
          0.290045556,
          0.301195712,
          0.41967728,
          0.215100344,
          0.261019704,
          0.5,
          0.428420895,
          0.291091169,
          0.625,
          0.260841217,
          1,
          0,
          0,
          0.432726077,
          1,
          0.498676479,
          0.299637918,
          0.298417558,
          0,
          0.476822096,
          0,
          0.296511628,
          0,
          0.39733121,
          0.285884483,
          0.370750019,
          0.47087399,
          0,
          0.440722668,
          0.212961542,
          0.440040242,
          0.272195827,
          0.261826907,
          0.496866497,
          0,
          0.391740191,
          0.355991344,
          0,
          0.125,
          0.311054958,
          1,
          0.447600602,
          0.219503002,
          0.227937039,
          0,
          0.214917861,
          0.273870866,
          0,
          0,
          0.264077645,
          0.356,
          0,
          0,
          0.475334574,
          0.2,
          0.17070667,
          0.281381373,
          0,
          0.207619476,
          0,
          0,
          0,
          0.363222881,
          0.133,
          0.497013777,
          0.226507048,
          0.275408053,
          0.289176636,
          0,
          0,
          0.242903463,
          0.434128007,
          0,
          0.406432782,
          0.303763782,
          0.426732131,
          0.271971859,
          0.274129452,
          0.264,
          0,
          0.5,
          0,
          0.259843735,
          0,
          0.122,
          0.468082442,
          0.244,
          0.302773086,
          0.307118155,
          0.513484944,
          0,
          0.465764695,
          0.511235599,
          0,
          0,
          0,
          0.25190251,
          0.237384929,
          0.438698152,
          0.27685041,
          0,
          0.278206893,
          0,
          0.343031732,
          0.32,
          0.466103584,
          0,
          0,
          0.218450755,
          0,
          0,
          0.345836853,
          0,
          0,
          0.491958655,
          1,
          0.429,
          0,
          0,
          0.217887726,
          0.512635139,
          0.39462635,
          0.337793686,
          0.321925022,
          0.361973615,
          0,
          0.434466058,
          0.43399902,
          0.270720391,
          0.335447482,
          0,
          0.243857389,
          0,
          0.545154029,
          0.5,
          1,
          0.238749615,
          0,
          0.25997179,
          0,
          0.228628793,
          0.449154526,
          0,
          0,
          0,
          0,
          0,
          0.5,
          0.208807913,
          0.5,
          0,
          0,
          0,
          0,
          0.567864825,
          0.260675796,
          0,
          0.305876341,
          0.37468864,
          0,
          0,
          0.235292159,
          0.111,
          0.304325202,
          0,
          0.221976125,
          0.279964349,
          0,
          0.273405075,
          0.464814169,
          0,
          0.208767228,
          0,
          0.268330614,
          0.261934895,
          0.307975915,
          0,
          0.437140599,
          0.429114542,
          0.36656922,
          0.298921321,
          0.508278947,
          0.5,
          0,
          0.284798827,
          0.451215279,
          0.505871011,
          0.469573344,
          0.207041493,
          0,
          0.333,
          0.436279748,
          0.299976013,
          0.342217454,
          0.200880535,
          0,
          0.396702696,
          0.253764435,
          0.300774587,
          0.241,
          0,
          0.231924367,
          0,
          0.422904077,
          0.265084149,
          0,
          0.244278628,
          0,
          0.306831271,
          0.445506556,
          0,
          0.237233258,
          0.254905723,
          0,
          0.269792207,
          0.257684976,
          0,
          0,
          0.333308646,
          0.289959945,
          1,
          0.2756325,
          0,
          0.22489329,
          0.586896602,
          0.354881412,
          0.667,
          0,
          0,
          0.272109534,
          0.339602615,
          0.238085203,
          0.298623117,
          0,
          0,
          0.25,
          0.418441604,
          0.303856677,
          0.064018025,
          0.313031696,
          0.111,
          0.425623591,
          0,
          0.401654311,
          0.337973871,
          0,
          0.503406545,
          0,
          0.289825715,
          0,
          0,
          0.402836864,
          0.30160164,
          0.389780939,
          0,
          0.470459145,
          0.316247825,
          0.512907802,
          0,
          0,
          0,
          0.435699116,
          0.244403789,
          0.510554187,
          0.50947047,
          0,
          0,
          0,
          0.457934339,
          0,
          0.209,
          0.213223813,
          0,
          0.23571044,
          0,
          0,
          0.32772084,
          0,
          0,
          0,
          0.248283643,
          0.484242887,
          0.473590793,
          0,
          0,
          0,
          0.320493096,
          0,
          0.25,
          0.295578525,
          0.306227404,
          0,
          0.250427675,
          0.257272008,
          0.250065358,
          0,
          0,
          0.347617348,
          0.390648694,
          0.937313604,
          0.20810756,
          0.260143898,
          0.420658109,
          0.318868535,
          0.289978544,
          0.362761442,
          0.429,
          0.479654579,
          0.5,
          0.091,
          0.308,
          0.305188672,
          0,
          0.470616401,
          0.265771484,
          0.794753931,
          0.143,
          0,
          0.333,
          0.504293376,
          0.510174814,
          0.4,
          0.276898009,
          0,
          0,
          0.2114472,
          0.093855531,
          0.26316068,
          0.279960547,
          0.437947134,
          0.35780179,
          0.22380823,
          0.26606235,
          0.443867432,
          0,
          0,
          0,
          0.49151721,
          0.231057235,
          0,
          0.208956528,
          0.358172889,
          0,
          0,
          0.509587579,
          0.163,
          0.296975213,
          0.415957415,
          0.49099929,
          0.220136735,
          0.291229898,
          0.324202729,
          0.415684654,
          0,
          0.333,
          0,
          0,
          0.454132231,
          0.358276696,
          0,
          0.223070541,
          0.016627974,
          0.423004627,
          0.377632844,
          0,
          0.405598928,
          0,
          0.318365089,
          0.406846261,
          0.323267404,
          0,
          0.430427932,
          0.472161194,
          0.448621149,
          0.394051178,
          0.244077376,
          0,
          0.466301646,
          0,
          0.425073145,
          0.295120098,
          0,
          0.25,
          0.281152197,
          0,
          0.442266616,
          0.312356895,
          0.266247091,
          0.25,
          0.273647639,
          0,
          0.3,
          0.255981441,
          0.250905916,
          0.400786274,
          0.371086991,
          0,
          0.226828742,
          0,
          0.5,
          0.267,
          0,
          0.667,
          0.517871146,
          0.684450254,
          0.240608888,
          0.167,
          0.679090616,
          0,
          0.508603233,
          0,
          0.345171266,
          0.227,
          0.487,
          0.527110762,
          0.330403003,
          0.27680953,
          0,
          0.211779105,
          0.444,
          0.23763154,
          0.491039198,
          0,
          0,
          0,
          0.234401463,
          0.51525891,
          0.280008583,
          0,
          0.162372977,
          0.218639837,
          0.257861358,
          0,
          0.474714658,
          0.269353381,
          0.351528547,
          0.252664478,
          0.43214805,
          0,
          0,
          0.2860715,
          0.376523056,
          0.357337834,
          0.207607146,
          0.209218458,
          0.496509739,
          0.401506442,
          0,
          0,
          0,
          0.254104247,
          0.28,
          0.903790134,
          0,
          0.215627159,
          0,
          0.199220576,
          0.237508524,
          0,
          0,
          0.537,
          0.571,
          0.499278597,
          0.292310015,
          0.420906754,
          0.873522494,
          0.528,
          0.603681646,
          0.296774986,
          0,
          0,
          0,
          0.371190926,
          0.466066162,
          0.421485653,
          0.341632879,
          0.488021914,
          0,
          1,
          0,
          0.273493963,
          0.49035823,
          0,
          0.321829489,
          0.110667207,
          0.208240966,
          0.357027025,
          0.213,
          0.4,
          0.2,
          0,
          0.542,
          0.195427199,
          0.333,
          0.267784487,
          0.373261141,
          0.451932195,
          0.227758496,
          0.201386842,
          0.240788634,
          0.328115082,
          0,
          0.243898048,
          0.23882269,
          0,
          0.29528777,
          0.235850371,
          0.429,
          0.217598092,
          0,
          0.228648161,
          0,
          0.432679617,
          0.225355722,
          0.306978294,
          0,
          0,
          0.139608855,
          0,
          0,
          0,
          0.511,
          0.222452703,
          0.358685448,
          0.474900833,
          1,
          0,
          0.436196792,
          0.239853393,
          0,
          0,
          0,
          0.228255194,
          0,
          0.425539545,
          0.035758899,
          0,
          1,
          0.242674644,
          0.4,
          0.246528784,
          0.232649653,
          0.461889783,
          0.286859097,
          0.093581913,
          0,
          0,
          0,
          0.239913886,
          0.303701799,
          0.27952937,
          0.203802407,
          0.301000362,
          0.359184121,
          0.438033837,
          0,
          0,
          0,
          0,
          0.75,
          0.438309481,
          0.227734465,
          0,
          0.383055156,
          0.430007168,
          0.28039282,
          0.3450415,
          0,
          0.386415488,
          0.321420202,
          0.412915343,
          0.233437161,
          0,
          0,
          0.5,
          0.437486955,
          0.282794556,
          0.285207581,
          0.301028307,
          0,
          0.422256995,
          1,
          0.29714063,
          0.612738997,
          0,
          0.273,
          0,
          0.280552395,
          0,
          0,
          0.72916737,
          0.57,
          0.298583913,
          0,
          0.236188878,
          0.237160839,
          0.1,
          0.433360072,
          0.347775408,
          0,
          0.217664017,
          0.248757735,
          0.49619815,
          0,
          0.273430202,
          1,
          0.287092877,
          0.113073939,
          0.22746804,
          0,
          0.404826868,
          0,
          0.217415431,
          0,
          0.304126408,
          0.264752484,
          0.042549144,
          0,
          0.479,
          0.444,
          0.505230188,
          0.2404019,
          0.198966532,
          0,
          0.308,
          0,
          0,
          0.263474335,
          0.375,
          0.527219413,
          0,
          0.270615464,
          0,
          0.214511675,
          0,
          0,
          0.236422127,
          0.056921076,
          0.302060077,
          0.276648584,
          0.515666219,
          0.25,
          0.311703264,
          0.400066802,
          0.450649136,
          0.403706066,
          0.397567119,
          0.504873361,
          0,
          0.406999951,
          0.289477789,
          0,
          0.225802305,
          0.334788726,
          0.214872753,
          0.201771957,
          0.47734409,
          0.502022077,
          0,
          0.419314015,
          0,
          0.291169371,
          0.522764766,
          0.25,
          0,
          0.25,
          0.223146097,
          0,
          0.4706386,
          0.601052614,
          0.316509651,
          0.333,
          0.348446253,
          0.363185739,
          0.449464302,
          0.284574505,
          0,
          0.667,
          0,
          0,
          0.254635587,
          0,
          0,
          0.241013476,
          0,
          0,
          0.372382225,
          0.198313217,
          0.509350745,
          0,
          0.25,
          0,
          0.23376753,
          0,
          0.230606214,
          0,
          0,
          0.213410838,
          0,
          0.311098607,
          0.237136686,
          0.441292008,
          0.103,
          0.167,
          0,
          0.471817493,
          0.268896992,
          0.291475094,
          0.521912398,
          0.250538838,
          0,
          0.270511714,
          0.259051052,
          0.240594708,
          0,
          0,
          0.303265093,
          0.27375631,
          0.354179385,
          0.2,
          0,
          0.336540012,
          0,
          0.449423695,
          0,
          0.27049114,
          0,
          0,
          1,
          0.198,
          0.266129229,
          0,
          0,
          0.643,
          0,
          0.417890744,
          0,
          0.260337761,
          0.207736175,
          0.231,
          0.318027168,
          0.217299135,
          0.494841691,
          0.214245173,
          0.311208537,
          0,
          0.505186393,
          0,
          0.300366229,
          0.333,
          0.492,
          0.333,
          0.200677205,
          0.252370024,
          0.522102996,
          0.277626148,
          0.482144224,
          0.5,
          0.292104372,
          0,
          0.524003784,
          0.454223011,
          0.27567233,
          0.265733919,
          0.333,
          0.349936853,
          0,
          0.25,
          0.274555326,
          0,
          0.307781742,
          0,
          0.436897585,
          0.50965749,
          0,
          0.5,
          1,
          0,
          0.248422666,
          0.271716702,
          0,
          0.25,
          0.246653436,
          0.498163043,
          0.576789962,
          0.111,
          0,
          0.100721826,
          0.280918775,
          0.505208016,
          0,
          0.268854891,
          0,
          0.452514072,
          0,
          0,
          0.430758537,
          0,
          0,
          0.271528948,
          0.25,
          0.429418055,
          0.482885338,
          0.243712632,
          0.298700282,
          0.453,
          0,
          0.199383903,
          0,
          0.439368216,
          0,
          0.222,
          0,
          0.211177389,
          0.46767948,
          0,
          0.353274115,
          0,
          0.491706502,
          0,
          0.537,
          0.355563293,
          0.322950779,
          0.205686775,
          0.375,
          0.421322082,
          0.984773518,
          0.507340988,
          0.460402523,
          0,
          0.167119305,
          1,
          0,
          0.25,
          0.395698191,
          0,
          0.176,
          0.349269471,
          0,
          0.389,
          0.389612097,
          0.257884578,
          0.416885604,
          0,
          0.444615653,
          0.253223433,
          0,
          0,
          0,
          1,
          0,
          0.414315259,
          0.29545322,
          0.400506814,
          0.810279292,
          0,
          0.38102094,
          0.5,
          0.214147457,
          0,
          0.405200893,
          1,
          0.388836804,
          0,
          0,
          0,
          0.513026114,
          0.433564122,
          0.790842971,
          0.254849283,
          0,
          0.291378151,
          0,
          0.406927918,
          0.8,
          0.256902229,
          0,
          0,
          0,
          0.446717742,
          0,
          0.257318195,
          0,
          0.449365364,
          0,
          0.527720517,
          0,
          0.610226657,
          0.277332951,
          0,
          0.249837455,
          0.200405903,
          0.249344835,
          0.423736775,
          0.188,
          0.332617917,
          0.362152991,
          0.292777357,
          0.410313596,
          0.30634003,
          0,
          0.457090068,
          0.317110356,
          0.343168204,
          0.385,
          0,
          0.334312279,
          0,
          0,
          0.345826322,
          0.405635565,
          0.302599804,
          0,
          0.237046785,
          0.393930773,
          0,
          0.501213285,
          0,
          0,
          0.522554585,
          0.419409314,
          0,
          0.411741393,
          0.353732836,
          0.481683326,
          0.365795463,
          0.233043762,
          0.399444728,
          0.373268366,
          0,
          0.254394424,
          0.238869822,
          0.699447774,
          0,
          0.304383966,
          0,
          0,
          0.396300021,
          0.402466686,
          0.255849232,
          0.24814494,
          0,
          0.239137341,
          0,
          0.248451027,
          0,
          0.340543801,
          0.408561504,
          0,
          0.229259531,
          0,
          0.423219353,
          0,
          0,
          0.23544651,
          0.386310242,
          0,
          0.556,
          0.310381855,
          0.4,
          0.252294217,
          0,
          0.2,
          0.5,
          0,
          0.25,
          0.310948379,
          0.24561619,
          0,
          0.416633502,
          0,
          0.241687127,
          0,
          0.358750051,
          0.244693742,
          0.52441731,
          0,
          0.480717061,
          0.428474751,
          0,
          0,
          0,
          0.434269665,
          0,
          0,
          0.248470096,
          0.256938495,
          0.275589574,
          0.830925324,
          0.340937641,
          0.301974894,
          0,
          0,
          0.212678213,
          0,
          0,
          0.394399244,
          0,
          0.437178432,
          0.477240704,
          0,
          1,
          0.216609681,
          0,
          0.351512328,
          0,
          0.281261876,
          0,
          0.4,
          0.488431335,
          0.341049239,
          0.287449269,
          0.275639373,
          0.468311866,
          0.509211381,
          0.303416368,
          0,
          0,
          1,
          0,
          0.492,
          0.284095999,
          0.01742504,
          0.257048657,
          0,
          0.239426882,
          0,
          0,
          0,
          0.299449393,
          0.51805187,
          0,
          0.226877853,
          1,
          0.488476995,
          0.420253347,
          0,
          0,
          0,
          0.205373871,
          0.250798317,
          0.396169287,
          0,
          0,
          0.255902614,
          0,
          0.207322096,
          0.627468673,
          0.263065457,
          0.2,
          0.249093701,
          0,
          0.459195824,
          0.479597913,
          0,
          0,
          0.2,
          0.211201603,
          0.527208675,
          0.360425812,
          0.291488496,
          0,
          0.223404943,
          0.286593572,
          0.366536468,
          0.375208097,
          1,
          0,
          0,
          0.495826047,
          0,
          0,
          0,
          0.315015569,
          0.577,
          0.167,
          0.213761768,
          0.25,
          0,
          1,
          0,
          0.473771464,
          0.433438974,
          0.366807819,
          0.25,
          0,
          0.364,
          0,
          0,
          0.465387472,
          0.332560577,
          0.351215357,
          0,
          0.469348863,
          0,
          0,
          0.31102271,
          0.24723068,
          0.246671717,
          0.75,
          0.26575435,
          0,
          0.330921975,
          0.28638534,
          0,
          0.293679162,
          0.5,
          1,
          0.31407264,
          0.387,
          0.245736794,
          0,
          0.3806461,
          0,
          0.429,
          0,
          0.5,
          0,
          0.396490948,
          0,
          0.2526086,
          0.427245385,
          0,
          0.8,
          0,
          0,
          0.461715441,
          0,
          0,
          0,
          0.236718034,
          0,
          0.224454586,
          0,
          0.288,
          0.208832826,
          0,
          0,
          0.288913821,
          0,
          0,
          0.286347423,
          0,
          0.837910105,
          0,
          0.28687471,
          0.292932092,
          0.409314868,
          0,
          0.29422878,
          0.275672682,
          0,
          0.341086885,
          0.5,
          0.214227398,
          0.366420908,
          0,
          0,
          0.308071454,
          0.463701608,
          0.5,
          0.498038639,
          0.213,
          0,
          0.258352375,
          0.471,
          0,
          0.433948486,
          0.18803363,
          0,
          0.255037504,
          0,
          0.4,
          0.231980736,
          0,
          0.232354869,
          0.317419266,
          0.236233463,
          0,
          0.516990205,
          0.455144826,
          0.656112083,
          0,
          1,
          0.363207664,
          0,
          0.239,
          0.306332157,
          0.39149508,
          0.325452358,
          0.2,
          0.457270197,
          0.25,
          0,
          0.3979367,
          0.243074951,
          0.510451063,
          0.541211247,
          0.632,
          0.365478333,
          0,
          0.229107729,
          0.224706842,
          0,
          0.281171657,
          0,
          0,
          0.263552912,
          0,
          0.252237361,
          0,
          0.127798314,
          0.402342906,
          0,
          0,
          0,
          0.217345064,
          0,
          0.335141024,
          0.225270105,
          0.502850617,
          0,
          0,
          0.235676028,
          0.258300384,
          0,
          0,
          0,
          0.236920582,
          0.421332425,
          0.213470405,
          0.26852558,
          0.306660146,
          0,
          0.279441029,
          0,
          0.325537617,
          0.25,
          0.473930898,
          0.467619757,
          0.48003598,
          0.236965891,
          0.269022624,
          0.389,
          0,
          0,
          0,
          0.5,
          0.295933396,
          0.222,
          0.400178434,
          0,
          0,
          0,
          0.251332527,
          0.274223193,
          0,
          0.311265879,
          0.326015662,
          0.406078345,
          0.284972121,
          0.459521812,
          0.242854209,
          0.302,
          0.372544979,
          0.207804857,
          0,
          0.464834607,
          0,
          0.27830436,
          0,
          0.503308604,
          0,
          0.5,
          0.198046493,
          0.362307188,
          0,
          0.212323206,
          0.235203719,
          0.366448525,
          0.373577266,
          0.479167249,
          0,
          0.224419542,
          0,
          1,
          0.216301939,
          0.259499643,
          0,
          0.239481598,
          0,
          0.53,
          0.5,
          0,
          0.302865828,
          0.515544992,
          0.237157169,
          0,
          0.286229144,
          0.478563117,
          1,
          0,
          0.41056407,
          0.75,
          0.406913465,
          0.305660512,
          0.308,
          0,
          0.408048696,
          0.806893707,
          0.354985445,
          0.443385172,
          0.275702808,
          0.43161137,
          0.286,
          0.473858689,
          0.451972921,
          0,
          0.26908947,
          0,
          0.5,
          0.265845956,
          0,
          0.238724249,
          0.27803688,
          0,
          0.398377614,
          0.444276058,
          0.424283578,
          0,
          0.538,
          0.302700964,
          0.396470655,
          0.12,
          0.371680132,
          0,
          0.4197958,
          0.085303096,
          0.452260698,
          0,
          0.973513318,
          0,
          0,
          0,
          0.312359967,
          0.488025418,
          0.488984275,
          0
         ],
         "y0": " ",
         "yaxis": "y"
        }
       ],
       "layout": {
        "boxmode": "group",
        "legend": {
         "tracegroupgap": 0
        },
        "template": {
         "data": {
          "bar": [
           {
            "error_x": {
             "color": "#2a3f5f"
            },
            "error_y": {
             "color": "#2a3f5f"
            },
            "marker": {
             "line": {
              "color": "white",
              "width": 0.5
             },
             "pattern": {
              "fillmode": "overlay",
              "size": 10,
              "solidity": 0.2
             }
            },
            "type": "bar"
           }
          ],
          "barpolar": [
           {
            "marker": {
             "line": {
              "color": "white",
              "width": 0.5
             },
             "pattern": {
              "fillmode": "overlay",
              "size": 10,
              "solidity": 0.2
             }
            },
            "type": "barpolar"
           }
          ],
          "carpet": [
           {
            "aaxis": {
             "endlinecolor": "#2a3f5f",
             "gridcolor": "#C8D4E3",
             "linecolor": "#C8D4E3",
             "minorgridcolor": "#C8D4E3",
             "startlinecolor": "#2a3f5f"
            },
            "baxis": {
             "endlinecolor": "#2a3f5f",
             "gridcolor": "#C8D4E3",
             "linecolor": "#C8D4E3",
             "minorgridcolor": "#C8D4E3",
             "startlinecolor": "#2a3f5f"
            },
            "type": "carpet"
           }
          ],
          "choropleth": [
           {
            "colorbar": {
             "outlinewidth": 0,
             "ticks": ""
            },
            "type": "choropleth"
           }
          ],
          "contour": [
           {
            "colorbar": {
             "outlinewidth": 0,
             "ticks": ""
            },
            "colorscale": [
             [
              0,
              "#0d0887"
             ],
             [
              0.1111111111111111,
              "#46039f"
             ],
             [
              0.2222222222222222,
              "#7201a8"
             ],
             [
              0.3333333333333333,
              "#9c179e"
             ],
             [
              0.4444444444444444,
              "#bd3786"
             ],
             [
              0.5555555555555556,
              "#d8576b"
             ],
             [
              0.6666666666666666,
              "#ed7953"
             ],
             [
              0.7777777777777778,
              "#fb9f3a"
             ],
             [
              0.8888888888888888,
              "#fdca26"
             ],
             [
              1,
              "#f0f921"
             ]
            ],
            "type": "contour"
           }
          ],
          "contourcarpet": [
           {
            "colorbar": {
             "outlinewidth": 0,
             "ticks": ""
            },
            "type": "contourcarpet"
           }
          ],
          "heatmap": [
           {
            "colorbar": {
             "outlinewidth": 0,
             "ticks": ""
            },
            "colorscale": [
             [
              0,
              "#0d0887"
             ],
             [
              0.1111111111111111,
              "#46039f"
             ],
             [
              0.2222222222222222,
              "#7201a8"
             ],
             [
              0.3333333333333333,
              "#9c179e"
             ],
             [
              0.4444444444444444,
              "#bd3786"
             ],
             [
              0.5555555555555556,
              "#d8576b"
             ],
             [
              0.6666666666666666,
              "#ed7953"
             ],
             [
              0.7777777777777778,
              "#fb9f3a"
             ],
             [
              0.8888888888888888,
              "#fdca26"
             ],
             [
              1,
              "#f0f921"
             ]
            ],
            "type": "heatmap"
           }
          ],
          "heatmapgl": [
           {
            "colorbar": {
             "outlinewidth": 0,
             "ticks": ""
            },
            "colorscale": [
             [
              0,
              "#0d0887"
             ],
             [
              0.1111111111111111,
              "#46039f"
             ],
             [
              0.2222222222222222,
              "#7201a8"
             ],
             [
              0.3333333333333333,
              "#9c179e"
             ],
             [
              0.4444444444444444,
              "#bd3786"
             ],
             [
              0.5555555555555556,
              "#d8576b"
             ],
             [
              0.6666666666666666,
              "#ed7953"
             ],
             [
              0.7777777777777778,
              "#fb9f3a"
             ],
             [
              0.8888888888888888,
              "#fdca26"
             ],
             [
              1,
              "#f0f921"
             ]
            ],
            "type": "heatmapgl"
           }
          ],
          "histogram": [
           {
            "marker": {
             "pattern": {
              "fillmode": "overlay",
              "size": 10,
              "solidity": 0.2
             }
            },
            "type": "histogram"
           }
          ],
          "histogram2d": [
           {
            "colorbar": {
             "outlinewidth": 0,
             "ticks": ""
            },
            "colorscale": [
             [
              0,
              "#0d0887"
             ],
             [
              0.1111111111111111,
              "#46039f"
             ],
             [
              0.2222222222222222,
              "#7201a8"
             ],
             [
              0.3333333333333333,
              "#9c179e"
             ],
             [
              0.4444444444444444,
              "#bd3786"
             ],
             [
              0.5555555555555556,
              "#d8576b"
             ],
             [
              0.6666666666666666,
              "#ed7953"
             ],
             [
              0.7777777777777778,
              "#fb9f3a"
             ],
             [
              0.8888888888888888,
              "#fdca26"
             ],
             [
              1,
              "#f0f921"
             ]
            ],
            "type": "histogram2d"
           }
          ],
          "histogram2dcontour": [
           {
            "colorbar": {
             "outlinewidth": 0,
             "ticks": ""
            },
            "colorscale": [
             [
              0,
              "#0d0887"
             ],
             [
              0.1111111111111111,
              "#46039f"
             ],
             [
              0.2222222222222222,
              "#7201a8"
             ],
             [
              0.3333333333333333,
              "#9c179e"
             ],
             [
              0.4444444444444444,
              "#bd3786"
             ],
             [
              0.5555555555555556,
              "#d8576b"
             ],
             [
              0.6666666666666666,
              "#ed7953"
             ],
             [
              0.7777777777777778,
              "#fb9f3a"
             ],
             [
              0.8888888888888888,
              "#fdca26"
             ],
             [
              1,
              "#f0f921"
             ]
            ],
            "type": "histogram2dcontour"
           }
          ],
          "mesh3d": [
           {
            "colorbar": {
             "outlinewidth": 0,
             "ticks": ""
            },
            "type": "mesh3d"
           }
          ],
          "parcoords": [
           {
            "line": {
             "colorbar": {
              "outlinewidth": 0,
              "ticks": ""
             }
            },
            "type": "parcoords"
           }
          ],
          "pie": [
           {
            "automargin": true,
            "type": "pie"
           }
          ],
          "scatter": [
           {
            "marker": {
             "colorbar": {
              "outlinewidth": 0,
              "ticks": ""
             }
            },
            "type": "scatter"
           }
          ],
          "scatter3d": [
           {
            "line": {
             "colorbar": {
              "outlinewidth": 0,
              "ticks": ""
             }
            },
            "marker": {
             "colorbar": {
              "outlinewidth": 0,
              "ticks": ""
             }
            },
            "type": "scatter3d"
           }
          ],
          "scattercarpet": [
           {
            "marker": {
             "colorbar": {
              "outlinewidth": 0,
              "ticks": ""
             }
            },
            "type": "scattercarpet"
           }
          ],
          "scattergeo": [
           {
            "marker": {
             "colorbar": {
              "outlinewidth": 0,
              "ticks": ""
             }
            },
            "type": "scattergeo"
           }
          ],
          "scattergl": [
           {
            "marker": {
             "colorbar": {
              "outlinewidth": 0,
              "ticks": ""
             }
            },
            "type": "scattergl"
           }
          ],
          "scattermapbox": [
           {
            "marker": {
             "colorbar": {
              "outlinewidth": 0,
              "ticks": ""
             }
            },
            "type": "scattermapbox"
           }
          ],
          "scatterpolar": [
           {
            "marker": {
             "colorbar": {
              "outlinewidth": 0,
              "ticks": ""
             }
            },
            "type": "scatterpolar"
           }
          ],
          "scatterpolargl": [
           {
            "marker": {
             "colorbar": {
              "outlinewidth": 0,
              "ticks": ""
             }
            },
            "type": "scatterpolargl"
           }
          ],
          "scatterternary": [
           {
            "marker": {
             "colorbar": {
              "outlinewidth": 0,
              "ticks": ""
             }
            },
            "type": "scatterternary"
           }
          ],
          "surface": [
           {
            "colorbar": {
             "outlinewidth": 0,
             "ticks": ""
            },
            "colorscale": [
             [
              0,
              "#0d0887"
             ],
             [
              0.1111111111111111,
              "#46039f"
             ],
             [
              0.2222222222222222,
              "#7201a8"
             ],
             [
              0.3333333333333333,
              "#9c179e"
             ],
             [
              0.4444444444444444,
              "#bd3786"
             ],
             [
              0.5555555555555556,
              "#d8576b"
             ],
             [
              0.6666666666666666,
              "#ed7953"
             ],
             [
              0.7777777777777778,
              "#fb9f3a"
             ],
             [
              0.8888888888888888,
              "#fdca26"
             ],
             [
              1,
              "#f0f921"
             ]
            ],
            "type": "surface"
           }
          ],
          "table": [
           {
            "cells": {
             "fill": {
              "color": "#EBF0F8"
             },
             "line": {
              "color": "white"
             }
            },
            "header": {
             "fill": {
              "color": "#C8D4E3"
             },
             "line": {
              "color": "white"
             }
            },
            "type": "table"
           }
          ]
         },
         "layout": {
          "annotationdefaults": {
           "arrowcolor": "#2a3f5f",
           "arrowhead": 0,
           "arrowwidth": 1
          },
          "autotypenumbers": "strict",
          "coloraxis": {
           "colorbar": {
            "outlinewidth": 0,
            "ticks": ""
           }
          },
          "colorscale": {
           "diverging": [
            [
             0,
             "#8e0152"
            ],
            [
             0.1,
             "#c51b7d"
            ],
            [
             0.2,
             "#de77ae"
            ],
            [
             0.3,
             "#f1b6da"
            ],
            [
             0.4,
             "#fde0ef"
            ],
            [
             0.5,
             "#f7f7f7"
            ],
            [
             0.6,
             "#e6f5d0"
            ],
            [
             0.7,
             "#b8e186"
            ],
            [
             0.8,
             "#7fbc41"
            ],
            [
             0.9,
             "#4d9221"
            ],
            [
             1,
             "#276419"
            ]
           ],
           "sequential": [
            [
             0,
             "#0d0887"
            ],
            [
             0.1111111111111111,
             "#46039f"
            ],
            [
             0.2222222222222222,
             "#7201a8"
            ],
            [
             0.3333333333333333,
             "#9c179e"
            ],
            [
             0.4444444444444444,
             "#bd3786"
            ],
            [
             0.5555555555555556,
             "#d8576b"
            ],
            [
             0.6666666666666666,
             "#ed7953"
            ],
            [
             0.7777777777777778,
             "#fb9f3a"
            ],
            [
             0.8888888888888888,
             "#fdca26"
            ],
            [
             1,
             "#f0f921"
            ]
           ],
           "sequentialminus": [
            [
             0,
             "#0d0887"
            ],
            [
             0.1111111111111111,
             "#46039f"
            ],
            [
             0.2222222222222222,
             "#7201a8"
            ],
            [
             0.3333333333333333,
             "#9c179e"
            ],
            [
             0.4444444444444444,
             "#bd3786"
            ],
            [
             0.5555555555555556,
             "#d8576b"
            ],
            [
             0.6666666666666666,
             "#ed7953"
            ],
            [
             0.7777777777777778,
             "#fb9f3a"
            ],
            [
             0.8888888888888888,
             "#fdca26"
            ],
            [
             1,
             "#f0f921"
            ]
           ]
          },
          "colorway": [
           "#636efa",
           "#EF553B",
           "#00cc96",
           "#ab63fa",
           "#FFA15A",
           "#19d3f3",
           "#FF6692",
           "#B6E880",
           "#FF97FF",
           "#FECB52"
          ],
          "font": {
           "color": "#2a3f5f"
          },
          "geo": {
           "bgcolor": "white",
           "lakecolor": "white",
           "landcolor": "white",
           "showlakes": true,
           "showland": true,
           "subunitcolor": "#C8D4E3"
          },
          "hoverlabel": {
           "align": "left"
          },
          "hovermode": "closest",
          "mapbox": {
           "style": "light"
          },
          "paper_bgcolor": "white",
          "plot_bgcolor": "white",
          "polar": {
           "angularaxis": {
            "gridcolor": "#EBF0F8",
            "linecolor": "#EBF0F8",
            "ticks": ""
           },
           "bgcolor": "white",
           "radialaxis": {
            "gridcolor": "#EBF0F8",
            "linecolor": "#EBF0F8",
            "ticks": ""
           }
          },
          "scene": {
           "xaxis": {
            "backgroundcolor": "white",
            "gridcolor": "#DFE8F3",
            "gridwidth": 2,
            "linecolor": "#EBF0F8",
            "showbackground": true,
            "ticks": "",
            "zerolinecolor": "#EBF0F8"
           },
           "yaxis": {
            "backgroundcolor": "white",
            "gridcolor": "#DFE8F3",
            "gridwidth": 2,
            "linecolor": "#EBF0F8",
            "showbackground": true,
            "ticks": "",
            "zerolinecolor": "#EBF0F8"
           },
           "zaxis": {
            "backgroundcolor": "white",
            "gridcolor": "#DFE8F3",
            "gridwidth": 2,
            "linecolor": "#EBF0F8",
            "showbackground": true,
            "ticks": "",
            "zerolinecolor": "#EBF0F8"
           }
          },
          "shapedefaults": {
           "line": {
            "color": "#2a3f5f"
           }
          },
          "ternary": {
           "aaxis": {
            "gridcolor": "#DFE8F3",
            "linecolor": "#A2B1C6",
            "ticks": ""
           },
           "baxis": {
            "gridcolor": "#DFE8F3",
            "linecolor": "#A2B1C6",
            "ticks": ""
           },
           "bgcolor": "white",
           "caxis": {
            "gridcolor": "#DFE8F3",
            "linecolor": "#A2B1C6",
            "ticks": ""
           }
          },
          "title": {
           "x": 0.05
          },
          "xaxis": {
           "automargin": true,
           "gridcolor": "#EBF0F8",
           "linecolor": "#EBF0F8",
           "ticks": "",
           "title": {
            "standoff": 15
           },
           "zerolinecolor": "#EBF0F8",
           "zerolinewidth": 2
          },
          "yaxis": {
           "automargin": true,
           "gridcolor": "#EBF0F8",
           "linecolor": "#EBF0F8",
           "ticks": "",
           "title": {
            "standoff": 15
           },
           "zerolinecolor": "#EBF0F8",
           "zerolinewidth": 2
          }
         }
        },
        "title": {
         "text": "Distribution of PERCENTAGE"
        },
        "xaxis": {
         "anchor": "y",
         "domain": [
          0,
          1
         ],
         "title": {
          "text": "variable"
         }
        },
        "yaxis": {
         "anchor": "x",
         "domain": [
          0,
          1
         ],
         "title": {
          "text": "PERCENTAGE"
         }
        }
       }
      }
     },
     "metadata": {},
     "output_type": "display_data"
    }
   ],
   "source": [
    "columns = ['matches', 'percentage']\n",
    "for column in columns:\n",
    "    px.box(tinder[column], title='Distribution of '+ str.upper(column), labels={'value': str.upper(column)}, template='plotly_white', color_discrete_sequence=['red']).show()"
   ]
  },
  {
   "cell_type": "code",
   "execution_count": 57,
   "metadata": {},
   "outputs": [],
   "source": [
    "# fig13.write_html('HTML/fig13.html')"
   ]
  },
  {
   "cell_type": "markdown",
   "metadata": {},
   "source": [
    "Average matches are around 400, with the max at 1969. The minimm amount of matches is 0, while the upper quartile is 846. Most people get matches on .25% of swipes, while the interquartile range is 0-0.4%.  "
   ]
  },
  {
   "cell_type": "markdown",
   "metadata": {},
   "source": [
    "##### Fig 14"
   ]
  },
  {
   "cell_type": "code",
   "execution_count": 58,
   "metadata": {},
   "outputs": [
    {
     "data": {
      "application/vnd.plotly.v1+json": {
       "config": {
        "plotlyServerURL": "https://plot.ly"
       },
       "data": [
        {
         "coloraxis": "coloraxis",
         "hovertemplate": "x: %{x}<br>y: %{y}<br>color: %{z}<extra></extra>",
         "name": "0",
         "texttemplate": "%{z}",
         "type": "heatmap",
         "x": [
          "id",
          "matches",
          "percentage",
          "relationship"
         ],
         "xaxis": "x",
         "y": [
          "id",
          "matches",
          "percentage",
          "relationship"
         ],
         "yaxis": "y",
         "z": [
          [
           1,
           -0.4297898603268318,
           0.1643018255911215,
           0.1677664324845543
          ],
          [
           -0.4297898603268318,
           1,
           0.41220002216610824,
           0.1861387389605767
          ],
          [
           0.1643018255911215,
           0.41220002216610824,
           1,
           0.3114289446763711
          ],
          [
           0.1677664324845543,
           0.1861387389605767,
           0.3114289446763711,
           1
          ]
         ]
        }
       ],
       "layout": {
        "coloraxis": {
         "colorscale": [
          [
           0,
           "rgb(0,0,0)"
          ],
          [
           0.3333333333333333,
           "rgb(230,0,0)"
          ],
          [
           0.6666666666666666,
           "rgb(255,210,0)"
          ],
          [
           1,
           "rgb(255,255,255)"
          ]
         ]
        },
        "height": 600,
        "template": {
         "data": {
          "bar": [
           {
            "error_x": {
             "color": "#2a3f5f"
            },
            "error_y": {
             "color": "#2a3f5f"
            },
            "marker": {
             "line": {
              "color": "white",
              "width": 0.5
             },
             "pattern": {
              "fillmode": "overlay",
              "size": 10,
              "solidity": 0.2
             }
            },
            "type": "bar"
           }
          ],
          "barpolar": [
           {
            "marker": {
             "line": {
              "color": "white",
              "width": 0.5
             },
             "pattern": {
              "fillmode": "overlay",
              "size": 10,
              "solidity": 0.2
             }
            },
            "type": "barpolar"
           }
          ],
          "carpet": [
           {
            "aaxis": {
             "endlinecolor": "#2a3f5f",
             "gridcolor": "#C8D4E3",
             "linecolor": "#C8D4E3",
             "minorgridcolor": "#C8D4E3",
             "startlinecolor": "#2a3f5f"
            },
            "baxis": {
             "endlinecolor": "#2a3f5f",
             "gridcolor": "#C8D4E3",
             "linecolor": "#C8D4E3",
             "minorgridcolor": "#C8D4E3",
             "startlinecolor": "#2a3f5f"
            },
            "type": "carpet"
           }
          ],
          "choropleth": [
           {
            "colorbar": {
             "outlinewidth": 0,
             "ticks": ""
            },
            "type": "choropleth"
           }
          ],
          "contour": [
           {
            "colorbar": {
             "outlinewidth": 0,
             "ticks": ""
            },
            "colorscale": [
             [
              0,
              "#0d0887"
             ],
             [
              0.1111111111111111,
              "#46039f"
             ],
             [
              0.2222222222222222,
              "#7201a8"
             ],
             [
              0.3333333333333333,
              "#9c179e"
             ],
             [
              0.4444444444444444,
              "#bd3786"
             ],
             [
              0.5555555555555556,
              "#d8576b"
             ],
             [
              0.6666666666666666,
              "#ed7953"
             ],
             [
              0.7777777777777778,
              "#fb9f3a"
             ],
             [
              0.8888888888888888,
              "#fdca26"
             ],
             [
              1,
              "#f0f921"
             ]
            ],
            "type": "contour"
           }
          ],
          "contourcarpet": [
           {
            "colorbar": {
             "outlinewidth": 0,
             "ticks": ""
            },
            "type": "contourcarpet"
           }
          ],
          "heatmap": [
           {
            "colorbar": {
             "outlinewidth": 0,
             "ticks": ""
            },
            "colorscale": [
             [
              0,
              "#0d0887"
             ],
             [
              0.1111111111111111,
              "#46039f"
             ],
             [
              0.2222222222222222,
              "#7201a8"
             ],
             [
              0.3333333333333333,
              "#9c179e"
             ],
             [
              0.4444444444444444,
              "#bd3786"
             ],
             [
              0.5555555555555556,
              "#d8576b"
             ],
             [
              0.6666666666666666,
              "#ed7953"
             ],
             [
              0.7777777777777778,
              "#fb9f3a"
             ],
             [
              0.8888888888888888,
              "#fdca26"
             ],
             [
              1,
              "#f0f921"
             ]
            ],
            "type": "heatmap"
           }
          ],
          "heatmapgl": [
           {
            "colorbar": {
             "outlinewidth": 0,
             "ticks": ""
            },
            "colorscale": [
             [
              0,
              "#0d0887"
             ],
             [
              0.1111111111111111,
              "#46039f"
             ],
             [
              0.2222222222222222,
              "#7201a8"
             ],
             [
              0.3333333333333333,
              "#9c179e"
             ],
             [
              0.4444444444444444,
              "#bd3786"
             ],
             [
              0.5555555555555556,
              "#d8576b"
             ],
             [
              0.6666666666666666,
              "#ed7953"
             ],
             [
              0.7777777777777778,
              "#fb9f3a"
             ],
             [
              0.8888888888888888,
              "#fdca26"
             ],
             [
              1,
              "#f0f921"
             ]
            ],
            "type": "heatmapgl"
           }
          ],
          "histogram": [
           {
            "marker": {
             "pattern": {
              "fillmode": "overlay",
              "size": 10,
              "solidity": 0.2
             }
            },
            "type": "histogram"
           }
          ],
          "histogram2d": [
           {
            "colorbar": {
             "outlinewidth": 0,
             "ticks": ""
            },
            "colorscale": [
             [
              0,
              "#0d0887"
             ],
             [
              0.1111111111111111,
              "#46039f"
             ],
             [
              0.2222222222222222,
              "#7201a8"
             ],
             [
              0.3333333333333333,
              "#9c179e"
             ],
             [
              0.4444444444444444,
              "#bd3786"
             ],
             [
              0.5555555555555556,
              "#d8576b"
             ],
             [
              0.6666666666666666,
              "#ed7953"
             ],
             [
              0.7777777777777778,
              "#fb9f3a"
             ],
             [
              0.8888888888888888,
              "#fdca26"
             ],
             [
              1,
              "#f0f921"
             ]
            ],
            "type": "histogram2d"
           }
          ],
          "histogram2dcontour": [
           {
            "colorbar": {
             "outlinewidth": 0,
             "ticks": ""
            },
            "colorscale": [
             [
              0,
              "#0d0887"
             ],
             [
              0.1111111111111111,
              "#46039f"
             ],
             [
              0.2222222222222222,
              "#7201a8"
             ],
             [
              0.3333333333333333,
              "#9c179e"
             ],
             [
              0.4444444444444444,
              "#bd3786"
             ],
             [
              0.5555555555555556,
              "#d8576b"
             ],
             [
              0.6666666666666666,
              "#ed7953"
             ],
             [
              0.7777777777777778,
              "#fb9f3a"
             ],
             [
              0.8888888888888888,
              "#fdca26"
             ],
             [
              1,
              "#f0f921"
             ]
            ],
            "type": "histogram2dcontour"
           }
          ],
          "mesh3d": [
           {
            "colorbar": {
             "outlinewidth": 0,
             "ticks": ""
            },
            "type": "mesh3d"
           }
          ],
          "parcoords": [
           {
            "line": {
             "colorbar": {
              "outlinewidth": 0,
              "ticks": ""
             }
            },
            "type": "parcoords"
           }
          ],
          "pie": [
           {
            "automargin": true,
            "type": "pie"
           }
          ],
          "scatter": [
           {
            "marker": {
             "colorbar": {
              "outlinewidth": 0,
              "ticks": ""
             }
            },
            "type": "scatter"
           }
          ],
          "scatter3d": [
           {
            "line": {
             "colorbar": {
              "outlinewidth": 0,
              "ticks": ""
             }
            },
            "marker": {
             "colorbar": {
              "outlinewidth": 0,
              "ticks": ""
             }
            },
            "type": "scatter3d"
           }
          ],
          "scattercarpet": [
           {
            "marker": {
             "colorbar": {
              "outlinewidth": 0,
              "ticks": ""
             }
            },
            "type": "scattercarpet"
           }
          ],
          "scattergeo": [
           {
            "marker": {
             "colorbar": {
              "outlinewidth": 0,
              "ticks": ""
             }
            },
            "type": "scattergeo"
           }
          ],
          "scattergl": [
           {
            "marker": {
             "colorbar": {
              "outlinewidth": 0,
              "ticks": ""
             }
            },
            "type": "scattergl"
           }
          ],
          "scattermapbox": [
           {
            "marker": {
             "colorbar": {
              "outlinewidth": 0,
              "ticks": ""
             }
            },
            "type": "scattermapbox"
           }
          ],
          "scatterpolar": [
           {
            "marker": {
             "colorbar": {
              "outlinewidth": 0,
              "ticks": ""
             }
            },
            "type": "scatterpolar"
           }
          ],
          "scatterpolargl": [
           {
            "marker": {
             "colorbar": {
              "outlinewidth": 0,
              "ticks": ""
             }
            },
            "type": "scatterpolargl"
           }
          ],
          "scatterternary": [
           {
            "marker": {
             "colorbar": {
              "outlinewidth": 0,
              "ticks": ""
             }
            },
            "type": "scatterternary"
           }
          ],
          "surface": [
           {
            "colorbar": {
             "outlinewidth": 0,
             "ticks": ""
            },
            "colorscale": [
             [
              0,
              "#0d0887"
             ],
             [
              0.1111111111111111,
              "#46039f"
             ],
             [
              0.2222222222222222,
              "#7201a8"
             ],
             [
              0.3333333333333333,
              "#9c179e"
             ],
             [
              0.4444444444444444,
              "#bd3786"
             ],
             [
              0.5555555555555556,
              "#d8576b"
             ],
             [
              0.6666666666666666,
              "#ed7953"
             ],
             [
              0.7777777777777778,
              "#fb9f3a"
             ],
             [
              0.8888888888888888,
              "#fdca26"
             ],
             [
              1,
              "#f0f921"
             ]
            ],
            "type": "surface"
           }
          ],
          "table": [
           {
            "cells": {
             "fill": {
              "color": "#EBF0F8"
             },
             "line": {
              "color": "white"
             }
            },
            "header": {
             "fill": {
              "color": "#C8D4E3"
             },
             "line": {
              "color": "white"
             }
            },
            "type": "table"
           }
          ]
         },
         "layout": {
          "annotationdefaults": {
           "arrowcolor": "#2a3f5f",
           "arrowhead": 0,
           "arrowwidth": 1
          },
          "autotypenumbers": "strict",
          "coloraxis": {
           "colorbar": {
            "outlinewidth": 0,
            "ticks": ""
           }
          },
          "colorscale": {
           "diverging": [
            [
             0,
             "#8e0152"
            ],
            [
             0.1,
             "#c51b7d"
            ],
            [
             0.2,
             "#de77ae"
            ],
            [
             0.3,
             "#f1b6da"
            ],
            [
             0.4,
             "#fde0ef"
            ],
            [
             0.5,
             "#f7f7f7"
            ],
            [
             0.6,
             "#e6f5d0"
            ],
            [
             0.7,
             "#b8e186"
            ],
            [
             0.8,
             "#7fbc41"
            ],
            [
             0.9,
             "#4d9221"
            ],
            [
             1,
             "#276419"
            ]
           ],
           "sequential": [
            [
             0,
             "#0d0887"
            ],
            [
             0.1111111111111111,
             "#46039f"
            ],
            [
             0.2222222222222222,
             "#7201a8"
            ],
            [
             0.3333333333333333,
             "#9c179e"
            ],
            [
             0.4444444444444444,
             "#bd3786"
            ],
            [
             0.5555555555555556,
             "#d8576b"
            ],
            [
             0.6666666666666666,
             "#ed7953"
            ],
            [
             0.7777777777777778,
             "#fb9f3a"
            ],
            [
             0.8888888888888888,
             "#fdca26"
            ],
            [
             1,
             "#f0f921"
            ]
           ],
           "sequentialminus": [
            [
             0,
             "#0d0887"
            ],
            [
             0.1111111111111111,
             "#46039f"
            ],
            [
             0.2222222222222222,
             "#7201a8"
            ],
            [
             0.3333333333333333,
             "#9c179e"
            ],
            [
             0.4444444444444444,
             "#bd3786"
            ],
            [
             0.5555555555555556,
             "#d8576b"
            ],
            [
             0.6666666666666666,
             "#ed7953"
            ],
            [
             0.7777777777777778,
             "#fb9f3a"
            ],
            [
             0.8888888888888888,
             "#fdca26"
            ],
            [
             1,
             "#f0f921"
            ]
           ]
          },
          "colorway": [
           "#636efa",
           "#EF553B",
           "#00cc96",
           "#ab63fa",
           "#FFA15A",
           "#19d3f3",
           "#FF6692",
           "#B6E880",
           "#FF97FF",
           "#FECB52"
          ],
          "font": {
           "color": "#2a3f5f"
          },
          "geo": {
           "bgcolor": "white",
           "lakecolor": "white",
           "landcolor": "white",
           "showlakes": true,
           "showland": true,
           "subunitcolor": "#C8D4E3"
          },
          "hoverlabel": {
           "align": "left"
          },
          "hovermode": "closest",
          "mapbox": {
           "style": "light"
          },
          "paper_bgcolor": "white",
          "plot_bgcolor": "white",
          "polar": {
           "angularaxis": {
            "gridcolor": "#EBF0F8",
            "linecolor": "#EBF0F8",
            "ticks": ""
           },
           "bgcolor": "white",
           "radialaxis": {
            "gridcolor": "#EBF0F8",
            "linecolor": "#EBF0F8",
            "ticks": ""
           }
          },
          "scene": {
           "xaxis": {
            "backgroundcolor": "white",
            "gridcolor": "#DFE8F3",
            "gridwidth": 2,
            "linecolor": "#EBF0F8",
            "showbackground": true,
            "ticks": "",
            "zerolinecolor": "#EBF0F8"
           },
           "yaxis": {
            "backgroundcolor": "white",
            "gridcolor": "#DFE8F3",
            "gridwidth": 2,
            "linecolor": "#EBF0F8",
            "showbackground": true,
            "ticks": "",
            "zerolinecolor": "#EBF0F8"
           },
           "zaxis": {
            "backgroundcolor": "white",
            "gridcolor": "#DFE8F3",
            "gridwidth": 2,
            "linecolor": "#EBF0F8",
            "showbackground": true,
            "ticks": "",
            "zerolinecolor": "#EBF0F8"
           }
          },
          "shapedefaults": {
           "line": {
            "color": "#2a3f5f"
           }
          },
          "ternary": {
           "aaxis": {
            "gridcolor": "#DFE8F3",
            "linecolor": "#A2B1C6",
            "ticks": ""
           },
           "baxis": {
            "gridcolor": "#DFE8F3",
            "linecolor": "#A2B1C6",
            "ticks": ""
           },
           "bgcolor": "white",
           "caxis": {
            "gridcolor": "#DFE8F3",
            "linecolor": "#A2B1C6",
            "ticks": ""
           }
          },
          "title": {
           "x": 0.05
          },
          "xaxis": {
           "automargin": true,
           "gridcolor": "#EBF0F8",
           "linecolor": "#EBF0F8",
           "ticks": "",
           "title": {
            "standoff": 15
           },
           "zerolinecolor": "#EBF0F8",
           "zerolinewidth": 2
          },
          "yaxis": {
           "automargin": true,
           "gridcolor": "#EBF0F8",
           "linecolor": "#EBF0F8",
           "ticks": "",
           "title": {
            "standoff": 15
           },
           "zerolinecolor": "#EBF0F8",
           "zerolinewidth": 2
          }
         }
        },
        "title": {
         "text": "Tinder Correlations"
        },
        "xaxis": {
         "anchor": "y",
         "constrain": "domain",
         "domain": [
          0,
          1
         ],
         "scaleanchor": "y"
        },
        "yaxis": {
         "anchor": "x",
         "autorange": "reversed",
         "constrain": "domain",
         "domain": [
          0,
          1
         ]
        }
       }
      }
     },
     "metadata": {},
     "output_type": "display_data"
    }
   ],
   "source": [
    "fig14 = px.imshow(tinder.corr(), text_auto=True, title='Tinder Correlations', template='plotly_white', aspect='equal', height=600, color_continuous_scale='hot')\n",
    "fig14"
   ]
  },
  {
   "attachments": {},
   "cell_type": "markdown",
   "metadata": {},
   "source": [
    "The greatest correlation with the target of a a relationship is match percentage. The second highest correlation is with matches. Since percentage represents the match percentage, it is intuitive that more mutual matches would be correlated with being in a relationship. "
   ]
  },
  {
   "cell_type": "code",
   "execution_count": 59,
   "metadata": {},
   "outputs": [],
   "source": [
    "# fig14.write_html('HTML/fig14.html')"
   ]
  },
  {
   "cell_type": "code",
   "execution_count": 60,
   "metadata": {},
   "outputs": [],
   "source": [
    "# convert_json(tinder)"
   ]
  },
  {
   "cell_type": "markdown",
   "metadata": {},
   "source": [
    "## Statistical Testing "
   ]
  },
  {
   "cell_type": "code",
   "execution_count": 61,
   "metadata": {},
   "outputs": [],
   "source": [
    "# filter dataset for only tinder users\n",
    "tinder_users = tinder.query(\"answer=='Yes'\")"
   ]
  },
  {
   "cell_type": "code",
   "execution_count": 62,
   "metadata": {},
   "outputs": [
    {
     "data": {
      "text/html": [
       "<div>\n",
       "<style scoped>\n",
       "    .dataframe tbody tr th:only-of-type {\n",
       "        vertical-align: middle;\n",
       "    }\n",
       "\n",
       "    .dataframe tbody tr th {\n",
       "        vertical-align: top;\n",
       "    }\n",
       "\n",
       "    .dataframe thead th {\n",
       "        text-align: right;\n",
       "    }\n",
       "</style>\n",
       "<table border=\"1\" class=\"dataframe\">\n",
       "  <thead>\n",
       "    <tr style=\"text-align: right;\">\n",
       "      <th></th>\n",
       "      <th>id</th>\n",
       "      <th>usage</th>\n",
       "      <th>university</th>\n",
       "      <th>answer</th>\n",
       "      <th>matches</th>\n",
       "      <th>percentage</th>\n",
       "      <th>relationship</th>\n",
       "    </tr>\n",
       "  </thead>\n",
       "  <tbody>\n",
       "    <tr>\n",
       "      <th>7</th>\n",
       "      <td>293223.0000</td>\n",
       "      <td>university</td>\n",
       "      <td>University of Iowa</td>\n",
       "      <td>Yes</td>\n",
       "      <td>1.000000</td>\n",
       "      <td>0.333000</td>\n",
       "      <td>0</td>\n",
       "    </tr>\n",
       "    <tr>\n",
       "      <th>19</th>\n",
       "      <td>292943.0117</td>\n",
       "      <td>university</td>\n",
       "      <td>University of California, Davis</td>\n",
       "      <td>Yes</td>\n",
       "      <td>8.497078</td>\n",
       "      <td>0.193545</td>\n",
       "      <td>1</td>\n",
       "    </tr>\n",
       "    <tr>\n",
       "      <th>30</th>\n",
       "      <td>293163.0000</td>\n",
       "      <td>university</td>\n",
       "      <td>Cal Poly San Luis Obispo</td>\n",
       "      <td>Yes</td>\n",
       "      <td>8.000000</td>\n",
       "      <td>0.320000</td>\n",
       "      <td>0</td>\n",
       "    </tr>\n",
       "    <tr>\n",
       "      <th>37</th>\n",
       "      <td>293272.2777</td>\n",
       "      <td>university</td>\n",
       "      <td>University of California, Santa Cruz</td>\n",
       "      <td>Yes</td>\n",
       "      <td>4.361147</td>\n",
       "      <td>0.323162</td>\n",
       "      <td>1</td>\n",
       "    </tr>\n",
       "    <tr>\n",
       "      <th>45</th>\n",
       "      <td>293661.0000</td>\n",
       "      <td>university</td>\n",
       "      <td>Morehead State University</td>\n",
       "      <td>Yes</td>\n",
       "      <td>0.000000</td>\n",
       "      <td>0.000000</td>\n",
       "      <td>0</td>\n",
       "    </tr>\n",
       "  </tbody>\n",
       "</table>\n",
       "</div>"
      ],
      "text/plain": [
       "             id       usage                            university answer  \\\n",
       "7   293223.0000  university                    University of Iowa    Yes   \n",
       "19  292943.0117  university       University of California, Davis    Yes   \n",
       "30  293163.0000  university              Cal Poly San Luis Obispo    Yes   \n",
       "37  293272.2777  university  University of California, Santa Cruz    Yes   \n",
       "45  293661.0000  university             Morehead State University    Yes   \n",
       "\n",
       "     matches  percentage  relationship  \n",
       "7   1.000000    0.333000             0  \n",
       "19  8.497078    0.193545             1  \n",
       "30  8.000000    0.320000             0  \n",
       "37  4.361147    0.323162             1  \n",
       "45  0.000000    0.000000             0  "
      ]
     },
     "execution_count": 62,
     "metadata": {},
     "output_type": "execute_result"
    }
   ],
   "source": [
    "# look at tinder users dataset\n",
    "tinder_users.head()"
   ]
  },
  {
   "cell_type": "code",
   "execution_count": 63,
   "metadata": {},
   "outputs": [
    {
     "data": {
      "text/plain": [
       "164"
      ]
     },
     "execution_count": 63,
     "metadata": {},
     "output_type": "execute_result"
    }
   ],
   "source": [
    "# count of rows\n",
    "tinder_users.id.count()"
   ]
  },
  {
   "cell_type": "code",
   "execution_count": 64,
   "metadata": {},
   "outputs": [],
   "source": [
    "# the targets of tinder users\n",
    "tinder_relat = tinder_users.relationship.to_list()"
   ]
  },
  {
   "cell_type": "code",
   "execution_count": 65,
   "metadata": {},
   "outputs": [],
   "source": [
    "# dataset of those that dont use tinder\n",
    "non_users = tinder.query(\"answer=='No'\")"
   ]
  },
  {
   "cell_type": "code",
   "execution_count": 66,
   "metadata": {},
   "outputs": [
    {
     "data": {
      "text/html": [
       "<div>\n",
       "<style scoped>\n",
       "    .dataframe tbody tr th:only-of-type {\n",
       "        vertical-align: middle;\n",
       "    }\n",
       "\n",
       "    .dataframe tbody tr th {\n",
       "        vertical-align: top;\n",
       "    }\n",
       "\n",
       "    .dataframe thead th {\n",
       "        text-align: right;\n",
       "    }\n",
       "</style>\n",
       "<table border=\"1\" class=\"dataframe\">\n",
       "  <thead>\n",
       "    <tr style=\"text-align: right;\">\n",
       "      <th></th>\n",
       "      <th>id</th>\n",
       "      <th>usage</th>\n",
       "      <th>university</th>\n",
       "      <th>answer</th>\n",
       "      <th>matches</th>\n",
       "      <th>percentage</th>\n",
       "      <th>relationship</th>\n",
       "    </tr>\n",
       "  </thead>\n",
       "  <tbody>\n",
       "    <tr>\n",
       "      <th>0</th>\n",
       "      <td>292890.8970</td>\n",
       "      <td>web</td>\n",
       "      <td>Meridian, Idaho</td>\n",
       "      <td>No</td>\n",
       "      <td>0.000000</td>\n",
       "      <td>0.000000</td>\n",
       "      <td>0</td>\n",
       "    </tr>\n",
       "    <tr>\n",
       "      <th>1</th>\n",
       "      <td>292887.9870</td>\n",
       "      <td>web</td>\n",
       "      <td>Meridian, Idaho</td>\n",
       "      <td>No</td>\n",
       "      <td>0.000000</td>\n",
       "      <td>0.000000</td>\n",
       "      <td>0</td>\n",
       "    </tr>\n",
       "    <tr>\n",
       "      <th>2</th>\n",
       "      <td>292894.0656</td>\n",
       "      <td>gender</td>\n",
       "      <td>Meridian, Idaho</td>\n",
       "      <td>No</td>\n",
       "      <td>499.173606</td>\n",
       "      <td>0.225255</td>\n",
       "      <td>0</td>\n",
       "    </tr>\n",
       "    <tr>\n",
       "      <th>3</th>\n",
       "      <td>292887.1180</td>\n",
       "      <td>web</td>\n",
       "      <td>Meridian, Idaho</td>\n",
       "      <td>No</td>\n",
       "      <td>0.000000</td>\n",
       "      <td>0.000000</td>\n",
       "      <td>0</td>\n",
       "    </tr>\n",
       "    <tr>\n",
       "      <th>4</th>\n",
       "      <td>292893.6561</td>\n",
       "      <td>gender</td>\n",
       "      <td>Meridian, Idaho</td>\n",
       "      <td>No</td>\n",
       "      <td>455.925963</td>\n",
       "      <td>0.211360</td>\n",
       "      <td>0</td>\n",
       "    </tr>\n",
       "  </tbody>\n",
       "</table>\n",
       "</div>"
      ],
      "text/plain": [
       "            id   usage       university answer     matches  percentage  \\\n",
       "0  292890.8970     web  Meridian, Idaho     No    0.000000    0.000000   \n",
       "1  292887.9870     web  Meridian, Idaho     No    0.000000    0.000000   \n",
       "2  292894.0656  gender  Meridian, Idaho     No  499.173606    0.225255   \n",
       "3  292887.1180     web  Meridian, Idaho     No    0.000000    0.000000   \n",
       "4  292893.6561  gender  Meridian, Idaho     No  455.925963    0.211360   \n",
       "\n",
       "   relationship  \n",
       "0             0  \n",
       "1             0  \n",
       "2             0  \n",
       "3             0  \n",
       "4             0  "
      ]
     },
     "execution_count": 66,
     "metadata": {},
     "output_type": "execute_result"
    }
   ],
   "source": [
    "# look at non user dataset\n",
    "non_users.head()"
   ]
  },
  {
   "cell_type": "code",
   "execution_count": 67,
   "metadata": {},
   "outputs": [
    {
     "data": {
      "text/plain": [
       "1732"
      ]
     },
     "execution_count": 67,
     "metadata": {},
     "output_type": "execute_result"
    }
   ],
   "source": [
    "# count of rows\n",
    "non_users.id.count()"
   ]
  },
  {
   "cell_type": "code",
   "execution_count": 68,
   "metadata": {},
   "outputs": [],
   "source": [
    "# list of non users relationship target\n",
    "non_relat = non_users.relationship.to_list()"
   ]
  },
  {
   "attachments": {},
   "cell_type": "markdown",
   "metadata": {},
   "source": [
    "### Proportions Z-test"
   ]
  },
  {
   "cell_type": "markdown",
   "metadata": {},
   "source": [
    "Null Hypothesis"
   ]
  },
  {
   "attachments": {},
   "cell_type": "markdown",
   "metadata": {},
   "source": [
    "    * Null Hypothesis that there is no difference in the proportion of successes between Tinder users and non Tinder users datasets"
   ]
  },
  {
   "cell_type": "code",
   "execution_count": 69,
   "metadata": {},
   "outputs": [
    {
     "name": "stdout",
     "output_type": "stream",
     "text": [
      "Proportions Z-Test:\n",
      "Z-statistic: 4.88\n",
      "P-value: 0.0000\n",
      "Reject null hypothesis: there is a significant difference in proportions.\n"
     ]
    }
   ],
   "source": [
    "import statsmodels.stats.proportion as smp\n",
    "\n",
    "# define sample sizes and successes\n",
    "tinder_use, non_use = 164, 1732\n",
    "successes1, successes2 = 86, 579\n",
    "\n",
    "# calculate sample proportions\n",
    "prop1 = successes1 / tinder_use\n",
    "prop2 = successes2 / non_use\n",
    "\n",
    "# conduct the test\n",
    "z_stat, p_value = smp.proportions_ztest([successes1, successes2], [tinder_use, non_use], alternative='two-sided')\n",
    "\n",
    "# print the test results\n",
    "print('Proportions Z-Test:')\n",
    "print('Z-statistic: {:.2f}'.format(z_stat))\n",
    "print('P-value: {:.4f}'.format(p_value))\n",
    "if p_value < 0.05:\n",
    "    print('Reject null hypothesis: there is a significant difference in proportions.')\n",
    "else:\n",
    "    print('Fail to reject null hypothesis: there is no significant difference in proportions.')\n"
   ]
  },
  {
   "cell_type": "markdown",
   "metadata": {},
   "source": [
    "Statistical testing confirms that the separate datasets are not likely to be the same. Therefore, there seems to be a difference in the relationship rates using tinder, and not using tinder. "
   ]
  },
  {
   "cell_type": "markdown",
   "metadata": {},
   "source": [
    "# Looking for Love in All the Wrong Places?"
   ]
  },
  {
   "cell_type": "markdown",
   "metadata": {},
   "source": [
    "* Are you looking for love? What are your chances of finding it on tinder, and what are your chances of finding it by yourself? \n",
    "* Can we predict your chances on tinder based on your school and average stats?\n"
   ]
  },
  {
   "cell_type": "markdown",
   "metadata": {},
   "source": [
    "## ML Predicting Relationship"
   ]
  },
  {
   "cell_type": "code",
   "execution_count": 70,
   "metadata": {},
   "outputs": [
    {
     "data": {
      "text/plain": [
       "Index(['id', 'usage', 'university', 'answer', 'matches', 'percentage',\n",
       "       'relationship'],\n",
       "      dtype='object')"
      ]
     },
     "execution_count": 70,
     "metadata": {},
     "output_type": "execute_result"
    }
   ],
   "source": [
    "# looking at tinder columns\n",
    "tinder.columns"
   ]
  },
  {
   "cell_type": "code",
   "execution_count": 71,
   "metadata": {},
   "outputs": [],
   "source": [
    "# encoding categorical columns\n",
    "encoder = OrdinalEncoder()\n",
    "columns_to_encode = ['usage', 'university', 'answer']\n",
    "data_ordinal = pd.DataFrame(encoder.fit_transform(tinder[columns_to_encode]), columns=columns_to_encode)\n",
    "tinder.update(data_ordinal)\n"
   ]
  },
  {
   "cell_type": "code",
   "execution_count": 72,
   "metadata": {},
   "outputs": [],
   "source": [
    "# reset index after dropping rows\n",
    "tinder_users.reset_index(inplace=True, drop=True)\n",
    "non_users.reset_index(inplace=True, drop=True)"
   ]
  },
  {
   "cell_type": "code",
   "execution_count": 73,
   "metadata": {},
   "outputs": [
    {
     "name": "stderr",
     "output_type": "stream",
     "text": [
      "C:\\Users\\XIX\\AppData\\Local\\Temp\\ipykernel_1864\\3215945174.py:5: SettingWithCopyWarning:\n",
      "\n",
      "\n",
      "A value is trying to be set on a copy of a slice from a DataFrame.\n",
      "Try using .loc[row_indexer,col_indexer] = value instead\n",
      "\n",
      "See the caveats in the documentation: https://pandas.pydata.org/pandas-docs/stable/user_guide/indexing.html#returning-a-view-versus-a-copy\n",
      "\n"
     ]
    }
   ],
   "source": [
    "# label encoding tinder users dataset\n",
    "encoder = OrdinalEncoder()\n",
    "columns_to_encode1 = ['usage', 'university', 'answer']\n",
    "data_ordinal3 = pd.DataFrame(encoder.fit_transform(tinder_users[columns_to_encode1]), columns=columns_to_encode1)\n",
    "tinder_users.loc[:, columns_to_encode1] = data_ordinal3"
   ]
  },
  {
   "cell_type": "code",
   "execution_count": 74,
   "metadata": {},
   "outputs": [
    {
     "data": {
      "text/html": [
       "<div>\n",
       "<style scoped>\n",
       "    .dataframe tbody tr th:only-of-type {\n",
       "        vertical-align: middle;\n",
       "    }\n",
       "\n",
       "    .dataframe tbody tr th {\n",
       "        vertical-align: top;\n",
       "    }\n",
       "\n",
       "    .dataframe thead th {\n",
       "        text-align: right;\n",
       "    }\n",
       "</style>\n",
       "<table border=\"1\" class=\"dataframe\">\n",
       "  <thead>\n",
       "    <tr style=\"text-align: right;\">\n",
       "      <th></th>\n",
       "      <th>id</th>\n",
       "      <th>usage</th>\n",
       "      <th>university</th>\n",
       "      <th>answer</th>\n",
       "      <th>matches</th>\n",
       "      <th>percentage</th>\n",
       "      <th>relationship</th>\n",
       "    </tr>\n",
       "  </thead>\n",
       "  <tbody>\n",
       "    <tr>\n",
       "      <th>0</th>\n",
       "      <td>293223.0000</td>\n",
       "      <td>2.0</td>\n",
       "      <td>88.0</td>\n",
       "      <td>0.0</td>\n",
       "      <td>1.000000</td>\n",
       "      <td>0.333000</td>\n",
       "      <td>0</td>\n",
       "    </tr>\n",
       "    <tr>\n",
       "      <th>1</th>\n",
       "      <td>292943.0117</td>\n",
       "      <td>2.0</td>\n",
       "      <td>73.0</td>\n",
       "      <td>0.0</td>\n",
       "      <td>8.497078</td>\n",
       "      <td>0.193545</td>\n",
       "      <td>1</td>\n",
       "    </tr>\n",
       "    <tr>\n",
       "      <th>2</th>\n",
       "      <td>293163.0000</td>\n",
       "      <td>2.0</td>\n",
       "      <td>9.0</td>\n",
       "      <td>0.0</td>\n",
       "      <td>8.000000</td>\n",
       "      <td>0.320000</td>\n",
       "      <td>0</td>\n",
       "    </tr>\n",
       "    <tr>\n",
       "      <th>3</th>\n",
       "      <td>293272.2777</td>\n",
       "      <td>2.0</td>\n",
       "      <td>77.0</td>\n",
       "      <td>0.0</td>\n",
       "      <td>4.361147</td>\n",
       "      <td>0.323162</td>\n",
       "      <td>1</td>\n",
       "    </tr>\n",
       "    <tr>\n",
       "      <th>4</th>\n",
       "      <td>293661.0000</td>\n",
       "      <td>2.0</td>\n",
       "      <td>45.0</td>\n",
       "      <td>0.0</td>\n",
       "      <td>0.000000</td>\n",
       "      <td>0.000000</td>\n",
       "      <td>0</td>\n",
       "    </tr>\n",
       "  </tbody>\n",
       "</table>\n",
       "</div>"
      ],
      "text/plain": [
       "            id  usage  university  answer   matches  percentage  relationship\n",
       "0  293223.0000    2.0        88.0     0.0  1.000000    0.333000             0\n",
       "1  292943.0117    2.0        73.0     0.0  8.497078    0.193545             1\n",
       "2  293163.0000    2.0         9.0     0.0  8.000000    0.320000             0\n",
       "3  293272.2777    2.0        77.0     0.0  4.361147    0.323162             1\n",
       "4  293661.0000    2.0        45.0     0.0  0.000000    0.000000             0"
      ]
     },
     "execution_count": 74,
     "metadata": {},
     "output_type": "execute_result"
    }
   ],
   "source": [
    "# looking at tinder users dataset after encoding\n",
    "tinder_users.head()"
   ]
  },
  {
   "cell_type": "code",
   "execution_count": 75,
   "metadata": {},
   "outputs": [],
   "source": [
    "# convert_json(tinder_users)"
   ]
  },
  {
   "cell_type": "code",
   "execution_count": 76,
   "metadata": {},
   "outputs": [
    {
     "name": "stderr",
     "output_type": "stream",
     "text": [
      "C:\\Users\\XIX\\AppData\\Local\\Temp\\ipykernel_1864\\1093344357.py:5: SettingWithCopyWarning:\n",
      "\n",
      "\n",
      "A value is trying to be set on a copy of a slice from a DataFrame.\n",
      "Try using .loc[row_indexer,col_indexer] = value instead\n",
      "\n",
      "See the caveats in the documentation: https://pandas.pydata.org/pandas-docs/stable/user_guide/indexing.html#returning-a-view-versus-a-copy\n",
      "\n"
     ]
    }
   ],
   "source": [
    "# label encoding tinder users dataset\n",
    "encoder = OrdinalEncoder()\n",
    "columns_to_encode = ['usage', 'university', 'answer']\n",
    "data_ordinal4 = pd.DataFrame(encoder.fit_transform(non_users[columns_to_encode]), columns=columns_to_encode)\n",
    "non_users.update(data_ordinal4)"
   ]
  },
  {
   "cell_type": "code",
   "execution_count": 77,
   "metadata": {},
   "outputs": [
    {
     "data": {
      "text/html": [
       "<div>\n",
       "<style scoped>\n",
       "    .dataframe tbody tr th:only-of-type {\n",
       "        vertical-align: middle;\n",
       "    }\n",
       "\n",
       "    .dataframe tbody tr th {\n",
       "        vertical-align: top;\n",
       "    }\n",
       "\n",
       "    .dataframe thead th {\n",
       "        text-align: right;\n",
       "    }\n",
       "</style>\n",
       "<table border=\"1\" class=\"dataframe\">\n",
       "  <thead>\n",
       "    <tr style=\"text-align: right;\">\n",
       "      <th></th>\n",
       "      <th>id</th>\n",
       "      <th>usage</th>\n",
       "      <th>university</th>\n",
       "      <th>answer</th>\n",
       "      <th>matches</th>\n",
       "      <th>percentage</th>\n",
       "      <th>relationship</th>\n",
       "    </tr>\n",
       "  </thead>\n",
       "  <tbody>\n",
       "    <tr>\n",
       "      <th>0</th>\n",
       "      <td>292890.8970</td>\n",
       "      <td>3.0</td>\n",
       "      <td>41.0</td>\n",
       "      <td>0.0</td>\n",
       "      <td>0.000000</td>\n",
       "      <td>0.000000</td>\n",
       "      <td>0</td>\n",
       "    </tr>\n",
       "    <tr>\n",
       "      <th>1</th>\n",
       "      <td>292887.9870</td>\n",
       "      <td>3.0</td>\n",
       "      <td>41.0</td>\n",
       "      <td>0.0</td>\n",
       "      <td>0.000000</td>\n",
       "      <td>0.000000</td>\n",
       "      <td>0</td>\n",
       "    </tr>\n",
       "    <tr>\n",
       "      <th>2</th>\n",
       "      <td>292894.0656</td>\n",
       "      <td>0.0</td>\n",
       "      <td>41.0</td>\n",
       "      <td>0.0</td>\n",
       "      <td>499.173606</td>\n",
       "      <td>0.225255</td>\n",
       "      <td>0</td>\n",
       "    </tr>\n",
       "    <tr>\n",
       "      <th>3</th>\n",
       "      <td>292887.1180</td>\n",
       "      <td>3.0</td>\n",
       "      <td>41.0</td>\n",
       "      <td>0.0</td>\n",
       "      <td>0.000000</td>\n",
       "      <td>0.000000</td>\n",
       "      <td>0</td>\n",
       "    </tr>\n",
       "    <tr>\n",
       "      <th>4</th>\n",
       "      <td>292893.6561</td>\n",
       "      <td>0.0</td>\n",
       "      <td>41.0</td>\n",
       "      <td>0.0</td>\n",
       "      <td>455.925963</td>\n",
       "      <td>0.211360</td>\n",
       "      <td>0</td>\n",
       "    </tr>\n",
       "  </tbody>\n",
       "</table>\n",
       "</div>"
      ],
      "text/plain": [
       "            id usage university answer     matches  percentage  relationship\n",
       "0  292890.8970   3.0       41.0    0.0    0.000000    0.000000             0\n",
       "1  292887.9870   3.0       41.0    0.0    0.000000    0.000000             0\n",
       "2  292894.0656   0.0       41.0    0.0  499.173606    0.225255             0\n",
       "3  292887.1180   3.0       41.0    0.0    0.000000    0.000000             0\n",
       "4  292893.6561   0.0       41.0    0.0  455.925963    0.211360             0"
      ]
     },
     "execution_count": 77,
     "metadata": {},
     "output_type": "execute_result"
    }
   ],
   "source": [
    "# look at non users\n",
    "non_users.head()"
   ]
  },
  {
   "cell_type": "code",
   "execution_count": 78,
   "metadata": {},
   "outputs": [],
   "source": [
    "# convert_json(non_users)"
   ]
  },
  {
   "cell_type": "code",
   "execution_count": 79,
   "metadata": {},
   "outputs": [],
   "source": [
    "# full dataset features and target\n",
    "X = tinder.drop(columns=['relationship', 'id'])\n",
    "y = tinder.relationship"
   ]
  },
  {
   "cell_type": "code",
   "execution_count": 80,
   "metadata": {},
   "outputs": [
    {
     "data": {
      "text/plain": [
       "0    1231\n",
       "1     665\n",
       "Name: relationship, dtype: int64"
      ]
     },
     "execution_count": 80,
     "metadata": {},
     "output_type": "execute_result"
    }
   ],
   "source": [
    "# looking at target balance\n",
    "y.value_counts()"
   ]
  },
  {
   "cell_type": "markdown",
   "metadata": {},
   "source": [
    "Target values are not balanced"
   ]
  },
  {
   "cell_type": "code",
   "execution_count": 81,
   "metadata": {},
   "outputs": [],
   "source": [
    "# tinder dataset\n",
    "X3 = tinder_users.drop(columns=['relationship', 'id'])\n",
    "y3 = tinder_users.relationship"
   ]
  },
  {
   "cell_type": "code",
   "execution_count": 82,
   "metadata": {},
   "outputs": [
    {
     "data": {
      "text/plain": [
       "1    86\n",
       "0    78\n",
       "Name: relationship, dtype: int64"
      ]
     },
     "execution_count": 82,
     "metadata": {},
     "output_type": "execute_result"
    }
   ],
   "source": [
    "# target balance of tinder users\n",
    "y3.value_counts()"
   ]
  },
  {
   "cell_type": "markdown",
   "metadata": {},
   "source": [
    "Target values are balanced"
   ]
  },
  {
   "cell_type": "code",
   "execution_count": 83,
   "metadata": {},
   "outputs": [],
   "source": [
    "# Non Tinder dataset\n",
    "X4 = non_users.drop(columns=['relationship', 'id'])\n",
    "y4 = non_users.relationship"
   ]
  },
  {
   "cell_type": "code",
   "execution_count": 84,
   "metadata": {},
   "outputs": [
    {
     "data": {
      "text/plain": [
       "0    1153\n",
       "1     579\n",
       "Name: relationship, dtype: int64"
      ]
     },
     "execution_count": 84,
     "metadata": {},
     "output_type": "execute_result"
    }
   ],
   "source": [
    "# target values\n",
    "y4.value_counts()"
   ]
  },
  {
   "cell_type": "markdown",
   "metadata": {},
   "source": [
    "Targets are not ballanced"
   ]
  },
  {
   "cell_type": "code",
   "execution_count": 85,
   "metadata": {},
   "outputs": [
    {
     "data": {
      "text/html": [
       "<div>\n",
       "<style scoped>\n",
       "    .dataframe tbody tr th:only-of-type {\n",
       "        vertical-align: middle;\n",
       "    }\n",
       "\n",
       "    .dataframe tbody tr th {\n",
       "        vertical-align: top;\n",
       "    }\n",
       "\n",
       "    .dataframe thead th {\n",
       "        text-align: right;\n",
       "    }\n",
       "</style>\n",
       "<table border=\"1\" class=\"dataframe\">\n",
       "  <thead>\n",
       "    <tr style=\"text-align: right;\">\n",
       "      <th></th>\n",
       "      <th>usage</th>\n",
       "      <th>university</th>\n",
       "      <th>answer</th>\n",
       "      <th>matches</th>\n",
       "      <th>percentage</th>\n",
       "    </tr>\n",
       "  </thead>\n",
       "  <tbody>\n",
       "    <tr>\n",
       "      <th>0</th>\n",
       "      <td>3.0</td>\n",
       "      <td>46.0</td>\n",
       "      <td>0.0</td>\n",
       "      <td>0.000000</td>\n",
       "      <td>0.000000</td>\n",
       "    </tr>\n",
       "    <tr>\n",
       "      <th>1</th>\n",
       "      <td>3.0</td>\n",
       "      <td>46.0</td>\n",
       "      <td>0.0</td>\n",
       "      <td>0.000000</td>\n",
       "      <td>0.000000</td>\n",
       "    </tr>\n",
       "    <tr>\n",
       "      <th>2</th>\n",
       "      <td>0.0</td>\n",
       "      <td>46.0</td>\n",
       "      <td>0.0</td>\n",
       "      <td>499.173606</td>\n",
       "      <td>0.225255</td>\n",
       "    </tr>\n",
       "    <tr>\n",
       "      <th>3</th>\n",
       "      <td>3.0</td>\n",
       "      <td>46.0</td>\n",
       "      <td>0.0</td>\n",
       "      <td>0.000000</td>\n",
       "      <td>0.000000</td>\n",
       "    </tr>\n",
       "    <tr>\n",
       "      <th>4</th>\n",
       "      <td>0.0</td>\n",
       "      <td>46.0</td>\n",
       "      <td>0.0</td>\n",
       "      <td>455.925963</td>\n",
       "      <td>0.211360</td>\n",
       "    </tr>\n",
       "  </tbody>\n",
       "</table>\n",
       "</div>"
      ],
      "text/plain": [
       "  usage university answer     matches  percentage\n",
       "0   3.0       46.0    0.0    0.000000    0.000000\n",
       "1   3.0       46.0    0.0    0.000000    0.000000\n",
       "2   0.0       46.0    0.0  499.173606    0.225255\n",
       "3   3.0       46.0    0.0    0.000000    0.000000\n",
       "4   0.0       46.0    0.0  455.925963    0.211360"
      ]
     },
     "execution_count": 85,
     "metadata": {},
     "output_type": "execute_result"
    }
   ],
   "source": [
    "# looking at full dataset features\n",
    "X.head()"
   ]
  },
  {
   "cell_type": "code",
   "execution_count": 86,
   "metadata": {},
   "outputs": [],
   "source": [
    "# convert_json(X)\n",
    "# convert_json(y)"
   ]
  },
  {
   "cell_type": "code",
   "execution_count": 87,
   "metadata": {},
   "outputs": [
    {
     "data": {
      "text/html": [
       "<div>\n",
       "<style scoped>\n",
       "    .dataframe tbody tr th:only-of-type {\n",
       "        vertical-align: middle;\n",
       "    }\n",
       "\n",
       "    .dataframe tbody tr th {\n",
       "        vertical-align: top;\n",
       "    }\n",
       "\n",
       "    .dataframe thead th {\n",
       "        text-align: right;\n",
       "    }\n",
       "</style>\n",
       "<table border=\"1\" class=\"dataframe\">\n",
       "  <thead>\n",
       "    <tr style=\"text-align: right;\">\n",
       "      <th></th>\n",
       "      <th>usage</th>\n",
       "      <th>university</th>\n",
       "      <th>answer</th>\n",
       "      <th>matches</th>\n",
       "      <th>percentage</th>\n",
       "    </tr>\n",
       "  </thead>\n",
       "  <tbody>\n",
       "    <tr>\n",
       "      <th>0</th>\n",
       "      <td>2.0</td>\n",
       "      <td>88.0</td>\n",
       "      <td>0.0</td>\n",
       "      <td>1.000000</td>\n",
       "      <td>0.333000</td>\n",
       "    </tr>\n",
       "    <tr>\n",
       "      <th>1</th>\n",
       "      <td>2.0</td>\n",
       "      <td>73.0</td>\n",
       "      <td>0.0</td>\n",
       "      <td>8.497078</td>\n",
       "      <td>0.193545</td>\n",
       "    </tr>\n",
       "    <tr>\n",
       "      <th>2</th>\n",
       "      <td>2.0</td>\n",
       "      <td>9.0</td>\n",
       "      <td>0.0</td>\n",
       "      <td>8.000000</td>\n",
       "      <td>0.320000</td>\n",
       "    </tr>\n",
       "    <tr>\n",
       "      <th>3</th>\n",
       "      <td>2.0</td>\n",
       "      <td>77.0</td>\n",
       "      <td>0.0</td>\n",
       "      <td>4.361147</td>\n",
       "      <td>0.323162</td>\n",
       "    </tr>\n",
       "    <tr>\n",
       "      <th>4</th>\n",
       "      <td>2.0</td>\n",
       "      <td>45.0</td>\n",
       "      <td>0.0</td>\n",
       "      <td>0.000000</td>\n",
       "      <td>0.000000</td>\n",
       "    </tr>\n",
       "  </tbody>\n",
       "</table>\n",
       "</div>"
      ],
      "text/plain": [
       "   usage  university  answer   matches  percentage\n",
       "0    2.0        88.0     0.0  1.000000    0.333000\n",
       "1    2.0        73.0     0.0  8.497078    0.193545\n",
       "2    2.0         9.0     0.0  8.000000    0.320000\n",
       "3    2.0        77.0     0.0  4.361147    0.323162\n",
       "4    2.0        45.0     0.0  0.000000    0.000000"
      ]
     },
     "execution_count": 87,
     "metadata": {},
     "output_type": "execute_result"
    }
   ],
   "source": [
    "# looking at tinder users dataset\n",
    "X3.head()"
   ]
  },
  {
   "cell_type": "code",
   "execution_count": 88,
   "metadata": {},
   "outputs": [],
   "source": [
    "# convert_json(X3)"
   ]
  },
  {
   "cell_type": "code",
   "execution_count": 89,
   "metadata": {},
   "outputs": [
    {
     "data": {
      "text/html": [
       "<div>\n",
       "<style scoped>\n",
       "    .dataframe tbody tr th:only-of-type {\n",
       "        vertical-align: middle;\n",
       "    }\n",
       "\n",
       "    .dataframe tbody tr th {\n",
       "        vertical-align: top;\n",
       "    }\n",
       "\n",
       "    .dataframe thead th {\n",
       "        text-align: right;\n",
       "    }\n",
       "</style>\n",
       "<table border=\"1\" class=\"dataframe\">\n",
       "  <thead>\n",
       "    <tr style=\"text-align: right;\">\n",
       "      <th></th>\n",
       "      <th>usage</th>\n",
       "      <th>university</th>\n",
       "      <th>answer</th>\n",
       "      <th>matches</th>\n",
       "      <th>percentage</th>\n",
       "    </tr>\n",
       "  </thead>\n",
       "  <tbody>\n",
       "    <tr>\n",
       "      <th>0</th>\n",
       "      <td>3.0</td>\n",
       "      <td>41.0</td>\n",
       "      <td>0.0</td>\n",
       "      <td>0.000000</td>\n",
       "      <td>0.000000</td>\n",
       "    </tr>\n",
       "    <tr>\n",
       "      <th>1</th>\n",
       "      <td>3.0</td>\n",
       "      <td>41.0</td>\n",
       "      <td>0.0</td>\n",
       "      <td>0.000000</td>\n",
       "      <td>0.000000</td>\n",
       "    </tr>\n",
       "    <tr>\n",
       "      <th>2</th>\n",
       "      <td>0.0</td>\n",
       "      <td>41.0</td>\n",
       "      <td>0.0</td>\n",
       "      <td>499.173606</td>\n",
       "      <td>0.225255</td>\n",
       "    </tr>\n",
       "    <tr>\n",
       "      <th>3</th>\n",
       "      <td>3.0</td>\n",
       "      <td>41.0</td>\n",
       "      <td>0.0</td>\n",
       "      <td>0.000000</td>\n",
       "      <td>0.000000</td>\n",
       "    </tr>\n",
       "    <tr>\n",
       "      <th>4</th>\n",
       "      <td>0.0</td>\n",
       "      <td>41.0</td>\n",
       "      <td>0.0</td>\n",
       "      <td>455.925963</td>\n",
       "      <td>0.211360</td>\n",
       "    </tr>\n",
       "  </tbody>\n",
       "</table>\n",
       "</div>"
      ],
      "text/plain": [
       "  usage university answer     matches  percentage\n",
       "0   3.0       41.0    0.0    0.000000    0.000000\n",
       "1   3.0       41.0    0.0    0.000000    0.000000\n",
       "2   0.0       41.0    0.0  499.173606    0.225255\n",
       "3   3.0       41.0    0.0    0.000000    0.000000\n",
       "4   0.0       41.0    0.0  455.925963    0.211360"
      ]
     },
     "execution_count": 89,
     "metadata": {},
     "output_type": "execute_result"
    }
   ],
   "source": [
    "# looking at non user dataset\n",
    "X4.head()"
   ]
  },
  {
   "cell_type": "code",
   "execution_count": 90,
   "metadata": {},
   "outputs": [],
   "source": [
    "# convert_json(X4)"
   ]
  },
  {
   "cell_type": "markdown",
   "metadata": {},
   "source": [
    "#### Usage Map"
   ]
  },
  {
   "cell_type": "code",
   "execution_count": 91,
   "metadata": {},
   "outputs": [
    {
     "data": {
      "text/html": [
       "<div>\n",
       "<style scoped>\n",
       "    .dataframe tbody tr th:only-of-type {\n",
       "        vertical-align: middle;\n",
       "    }\n",
       "\n",
       "    .dataframe tbody tr th {\n",
       "        vertical-align: top;\n",
       "    }\n",
       "\n",
       "    .dataframe thead th {\n",
       "        text-align: right;\n",
       "    }\n",
       "</style>\n",
       "<table border=\"1\" class=\"dataframe\">\n",
       "  <thead>\n",
       "    <tr style=\"text-align: right;\">\n",
       "      <th></th>\n",
       "      <th>usage</th>\n",
       "      <th>values</th>\n",
       "    </tr>\n",
       "  </thead>\n",
       "  <tbody>\n",
       "    <tr>\n",
       "      <th>0</th>\n",
       "      <td>Gender</td>\n",
       "      <td>0</td>\n",
       "    </tr>\n",
       "    <tr>\n",
       "      <th>1</th>\n",
       "      <td>Mobile</td>\n",
       "      <td>1</td>\n",
       "    </tr>\n",
       "    <tr>\n",
       "      <th>2</th>\n",
       "      <td>University</td>\n",
       "      <td>2</td>\n",
       "    </tr>\n",
       "    <tr>\n",
       "      <th>3</th>\n",
       "      <td>Web</td>\n",
       "      <td>3</td>\n",
       "    </tr>\n",
       "  </tbody>\n",
       "</table>\n",
       "</div>"
      ],
      "text/plain": [
       "        usage  values\n",
       "0      Gender       0\n",
       "1      Mobile       1\n",
       "2  University       2\n",
       "3         Web       3"
      ]
     },
     "execution_count": 91,
     "metadata": {},
     "output_type": "execute_result"
    }
   ],
   "source": [
    "# What is your medium of usage?\n",
    "usage = pd.DataFrame({'usage':['Gender', 'Mobile', 'University', 'Web'], 'values': [0, 1 , 2 ,3]})\n",
    "usage"
   ]
  },
  {
   "cell_type": "code",
   "execution_count": 92,
   "metadata": {},
   "outputs": [],
   "source": [
    "# convert_json(usage)"
   ]
  },
  {
   "cell_type": "code",
   "execution_count": 93,
   "metadata": {},
   "outputs": [
    {
     "data": {
      "text/plain": [
       "0.0    488\n",
       "1.0    483\n",
       "2.0    464\n",
       "3.0    461\n",
       "Name: usage, dtype: int64"
      ]
     },
     "execution_count": 93,
     "metadata": {},
     "output_type": "execute_result"
    }
   ],
   "source": [
    "# show  map of coded values\n",
    "tinder.usage.value_counts()"
   ]
  },
  {
   "cell_type": "code",
   "execution_count": 94,
   "metadata": {},
   "outputs": [
    {
     "data": {
      "text/plain": [
       "0.0    488\n",
       "1.0    483\n",
       "2.0    464\n",
       "3.0    461\n",
       "Name: usage, dtype: int64"
      ]
     },
     "execution_count": 94,
     "metadata": {},
     "output_type": "execute_result"
    }
   ],
   "source": [
    "# label encoded values\n",
    "X.usage.value_counts()"
   ]
  },
  {
   "cell_type": "markdown",
   "metadata": {},
   "source": [
    "#### University Map"
   ]
  },
  {
   "cell_type": "code",
   "execution_count": 95,
   "metadata": {},
   "outputs": [
    {
     "data": {
      "text/html": [
       "<div>\n",
       "<style scoped>\n",
       "    .dataframe tbody tr th:only-of-type {\n",
       "        vertical-align: middle;\n",
       "    }\n",
       "\n",
       "    .dataframe tbody tr th {\n",
       "        vertical-align: top;\n",
       "    }\n",
       "\n",
       "    .dataframe thead th {\n",
       "        text-align: right;\n",
       "    }\n",
       "</style>\n",
       "<table border=\"1\" class=\"dataframe\">\n",
       "  <thead>\n",
       "    <tr style=\"text-align: right;\">\n",
       "      <th></th>\n",
       "      <th>university</th>\n",
       "      <th>values</th>\n",
       "    </tr>\n",
       "  </thead>\n",
       "  <tbody>\n",
       "    <tr>\n",
       "      <th>0</th>\n",
       "      <td>Meridian, Idaho</td>\n",
       "      <td>46.0</td>\n",
       "    </tr>\n",
       "    <tr>\n",
       "      <th>1</th>\n",
       "      <td>Westport, CT</td>\n",
       "      <td>144.0</td>\n",
       "    </tr>\n",
       "    <tr>\n",
       "      <th>2</th>\n",
       "      <td>University of Pennsylvania</td>\n",
       "      <td>123.0</td>\n",
       "    </tr>\n",
       "    <tr>\n",
       "      <th>3</th>\n",
       "      <td>University of Mississippi</td>\n",
       "      <td>117.0</td>\n",
       "    </tr>\n",
       "    <tr>\n",
       "      <th>4</th>\n",
       "      <td>University of Washington</td>\n",
       "      <td>133.0</td>\n",
       "    </tr>\n",
       "    <tr>\n",
       "      <th>5</th>\n",
       "      <td>University of Southern California</td>\n",
       "      <td>127.0</td>\n",
       "    </tr>\n",
       "    <tr>\n",
       "      <th>6</th>\n",
       "      <td>Washington State University</td>\n",
       "      <td>140.0</td>\n",
       "    </tr>\n",
       "    <tr>\n",
       "      <th>7</th>\n",
       "      <td>University of Tampa</td>\n",
       "      <td>129.0</td>\n",
       "    </tr>\n",
       "    <tr>\n",
       "      <th>8</th>\n",
       "      <td>Wesleyan University</td>\n",
       "      <td>143.0</td>\n",
       "    </tr>\n",
       "    <tr>\n",
       "      <th>9</th>\n",
       "      <td>University of Wisconsin, Eau Claire</td>\n",
       "      <td>134.0</td>\n",
       "    </tr>\n",
       "    <tr>\n",
       "      <th>10</th>\n",
       "      <td>University of California, Santa Cruz</td>\n",
       "      <td>97.0</td>\n",
       "    </tr>\n",
       "    <tr>\n",
       "      <th>11</th>\n",
       "      <td>University of California, Berkeley</td>\n",
       "      <td>92.0</td>\n",
       "    </tr>\n",
       "    <tr>\n",
       "      <th>12</th>\n",
       "      <td>Williams College</td>\n",
       "      <td>146.0</td>\n",
       "    </tr>\n",
       "    <tr>\n",
       "      <th>13</th>\n",
       "      <td>Vassar College</td>\n",
       "      <td>139.0</td>\n",
       "    </tr>\n",
       "    <tr>\n",
       "      <th>14</th>\n",
       "      <td>Vanderbilt University</td>\n",
       "      <td>138.0</td>\n",
       "    </tr>\n",
       "    <tr>\n",
       "      <th>15</th>\n",
       "      <td>University of Buffalo</td>\n",
       "      <td>91.0</td>\n",
       "    </tr>\n",
       "    <tr>\n",
       "      <th>16</th>\n",
       "      <td>University of Oregon</td>\n",
       "      <td>122.0</td>\n",
       "    </tr>\n",
       "    <tr>\n",
       "      <th>17</th>\n",
       "      <td>Union College</td>\n",
       "      <td>86.0</td>\n",
       "    </tr>\n",
       "    <tr>\n",
       "      <th>18</th>\n",
       "      <td>Whatsgoodly University</td>\n",
       "      <td>145.0</td>\n",
       "    </tr>\n",
       "    <tr>\n",
       "      <th>19</th>\n",
       "      <td>University of Delaware</td>\n",
       "      <td>104.0</td>\n",
       "    </tr>\n",
       "  </tbody>\n",
       "</table>\n",
       "</div>"
      ],
      "text/plain": [
       "                              university  values\n",
       "0                        Meridian, Idaho    46.0\n",
       "1                           Westport, CT   144.0\n",
       "2             University of Pennsylvania   123.0\n",
       "3              University of Mississippi   117.0\n",
       "4               University of Washington   133.0\n",
       "5      University of Southern California   127.0\n",
       "6            Washington State University   140.0\n",
       "7                    University of Tampa   129.0\n",
       "8                    Wesleyan University   143.0\n",
       "9    University of Wisconsin, Eau Claire   134.0\n",
       "10  University of California, Santa Cruz    97.0\n",
       "11    University of California, Berkeley    92.0\n",
       "12                      Williams College   146.0\n",
       "13                        Vassar College   139.0\n",
       "14                 Vanderbilt University   138.0\n",
       "15                 University of Buffalo    91.0\n",
       "16                  University of Oregon   122.0\n",
       "17                         Union College    86.0\n",
       "18                Whatsgoodly University   145.0\n",
       "19                University of Delaware   104.0"
      ]
     },
     "execution_count": 95,
     "metadata": {},
     "output_type": "execute_result"
    }
   ],
   "source": [
    "# What University do you attend?\n",
    "uni = pd.DataFrame({'university':['Meridian, Idaho', 'Westport, CT', 'University of Pennsylvania', 'University of Mississippi', 'University of Washington', 'University of Southern California', 'Washington State University', 'University of Tampa', 'Wesleyan University', 'University of Wisconsin, Eau Claire', 'University of California, Santa Cruz', 'University of California, Berkeley', 'Williams College', 'Vassar College', 'Vanderbilt University', 'University of Buffalo', 'University of Oregon', 'Union College', 'Whatsgoodly University', 'University of Delaware']\n",
    ", 'values': [46.0, 144.0, 123.0, 117.0, 133.0, 127.0, 140.0, 129.0, 143.0, 134.0, 97.0, 92.0, 146.0, 139.0, 138.0, 91.0, 122.0, 86.0, 145.0, 104.0]})\n",
    "uni"
   ]
  },
  {
   "cell_type": "code",
   "execution_count": 96,
   "metadata": {},
   "outputs": [],
   "source": [
    "# convert_json(uni)"
   ]
  },
  {
   "cell_type": "code",
   "execution_count": 97,
   "metadata": {},
   "outputs": [
    {
     "data": {
      "text/plain": [
       "46.0     1421\n",
       "144.0      14\n",
       "123.0      12\n",
       "117.0      10\n",
       "133.0      10\n",
       "127.0       9\n",
       "140.0       8\n",
       "129.0       8\n",
       "143.0       8\n",
       "134.0       8\n",
       "97.0        8\n",
       "92.0        8\n",
       "146.0       7\n",
       "139.0       7\n",
       "138.0       7\n",
       "91.0        7\n",
       "122.0       7\n",
       "86.0        7\n",
       "145.0       6\n",
       "104.0       6\n",
       "Name: university, dtype: int64"
      ]
     },
     "execution_count": 97,
     "metadata": {},
     "output_type": "execute_result"
    }
   ],
   "source": [
    "# show  map of coded values\n",
    "tinder.university.value_counts().nlargest(20)"
   ]
  },
  {
   "cell_type": "code",
   "execution_count": 98,
   "metadata": {},
   "outputs": [
    {
     "data": {
      "text/plain": [
       "46.0     1421\n",
       "144.0      14\n",
       "123.0      12\n",
       "117.0      10\n",
       "133.0      10\n",
       "127.0       9\n",
       "140.0       8\n",
       "129.0       8\n",
       "143.0       8\n",
       "134.0       8\n",
       "97.0        8\n",
       "92.0        8\n",
       "146.0       7\n",
       "139.0       7\n",
       "138.0       7\n",
       "91.0        7\n",
       "122.0       7\n",
       "86.0        7\n",
       "145.0       6\n",
       "104.0       6\n",
       "Name: university, dtype: int64"
      ]
     },
     "execution_count": 98,
     "metadata": {},
     "output_type": "execute_result"
    }
   ],
   "source": [
    "# coded values\n",
    "X.university.value_counts().nlargest(20)"
   ]
  },
  {
   "cell_type": "markdown",
   "metadata": {},
   "source": [
    "May be easier to assume Meridian, as it is the most prevalent, or at least one of the top 20 universities."
   ]
  },
  {
   "cell_type": "markdown",
   "metadata": {},
   "source": [
    "##### Answer Map"
   ]
  },
  {
   "cell_type": "code",
   "execution_count": 99,
   "metadata": {},
   "outputs": [
    {
     "data": {
      "text/html": [
       "<div>\n",
       "<style scoped>\n",
       "    .dataframe tbody tr th:only-of-type {\n",
       "        vertical-align: middle;\n",
       "    }\n",
       "\n",
       "    .dataframe tbody tr th {\n",
       "        vertical-align: top;\n",
       "    }\n",
       "\n",
       "    .dataframe thead th {\n",
       "        text-align: right;\n",
       "    }\n",
       "</style>\n",
       "<table border=\"1\" class=\"dataframe\">\n",
       "  <thead>\n",
       "    <tr style=\"text-align: right;\">\n",
       "      <th></th>\n",
       "      <th>answer</th>\n",
       "      <th>values</th>\n",
       "    </tr>\n",
       "  </thead>\n",
       "  <tbody>\n",
       "    <tr>\n",
       "      <th>0</th>\n",
       "      <td>No</td>\n",
       "      <td>0</td>\n",
       "    </tr>\n",
       "    <tr>\n",
       "      <th>1</th>\n",
       "      <td>Yes</td>\n",
       "      <td>1</td>\n",
       "    </tr>\n",
       "  </tbody>\n",
       "</table>\n",
       "</div>"
      ],
      "text/plain": [
       "  answer  values\n",
       "0     No       0\n",
       "1    Yes       1"
      ]
     },
     "execution_count": 99,
     "metadata": {},
     "output_type": "execute_result"
    }
   ],
   "source": [
    "# Do you use Tinder?\n",
    "answer = pd.DataFrame({'answer':['No', 'Yes'], 'values': [0, 1 ]})\n",
    "answer"
   ]
  },
  {
   "cell_type": "code",
   "execution_count": 100,
   "metadata": {},
   "outputs": [],
   "source": [
    "# convert_json(answer)"
   ]
  },
  {
   "cell_type": "code",
   "execution_count": 101,
   "metadata": {},
   "outputs": [
    {
     "data": {
      "text/plain": [
       "0.0    1732\n",
       "1.0     164\n",
       "Name: answer, dtype: int64"
      ]
     },
     "execution_count": 101,
     "metadata": {},
     "output_type": "execute_result"
    }
   ],
   "source": [
    "# map of coded values\n",
    "tinder.answer.value_counts()"
   ]
  },
  {
   "cell_type": "code",
   "execution_count": 102,
   "metadata": {},
   "outputs": [
    {
     "data": {
      "text/plain": [
       "0.0    1732\n",
       "1.0     164\n",
       "Name: answer, dtype: int64"
      ]
     },
     "execution_count": 102,
     "metadata": {},
     "output_type": "execute_result"
    }
   ],
   "source": [
    "# coded values\n",
    "X.answer.value_counts()"
   ]
  },
  {
   "cell_type": "code",
   "execution_count": 103,
   "metadata": {},
   "outputs": [],
   "source": [
    "# new data to make predictions\n",
    "new_data = pd.DataFrame(index=['usage', 'university', 'answer', 'matches', 'percentage'], data=[2, 46, 0, 400, 0.25])\n",
    "new_data = new_data.T"
   ]
  },
  {
   "cell_type": "code",
   "execution_count": 104,
   "metadata": {},
   "outputs": [
    {
     "data": {
      "text/html": [
       "<div>\n",
       "<style scoped>\n",
       "    .dataframe tbody tr th:only-of-type {\n",
       "        vertical-align: middle;\n",
       "    }\n",
       "\n",
       "    .dataframe tbody tr th {\n",
       "        vertical-align: top;\n",
       "    }\n",
       "\n",
       "    .dataframe thead th {\n",
       "        text-align: right;\n",
       "    }\n",
       "</style>\n",
       "<table border=\"1\" class=\"dataframe\">\n",
       "  <thead>\n",
       "    <tr style=\"text-align: right;\">\n",
       "      <th></th>\n",
       "      <th>usage</th>\n",
       "      <th>university</th>\n",
       "      <th>answer</th>\n",
       "      <th>matches</th>\n",
       "      <th>percentage</th>\n",
       "    </tr>\n",
       "  </thead>\n",
       "  <tbody>\n",
       "    <tr>\n",
       "      <th>0</th>\n",
       "      <td>2.0</td>\n",
       "      <td>46.0</td>\n",
       "      <td>0.0</td>\n",
       "      <td>400.0</td>\n",
       "      <td>0.25</td>\n",
       "    </tr>\n",
       "  </tbody>\n",
       "</table>\n",
       "</div>"
      ],
      "text/plain": [
       "   usage  university  answer  matches  percentage\n",
       "0    2.0        46.0     0.0    400.0        0.25"
      ]
     },
     "execution_count": 104,
     "metadata": {},
     "output_type": "execute_result"
    }
   ],
   "source": [
    "# looking at new testing dataset\n",
    "new_data"
   ]
  },
  {
   "cell_type": "code",
   "execution_count": 105,
   "metadata": {},
   "outputs": [],
   "source": [
    "# convert_json(new_data)"
   ]
  },
  {
   "cell_type": "code",
   "execution_count": 111,
   "metadata": {},
   "outputs": [
    {
     "name": "stdout",
     "output_type": "stream",
     "text": [
      "Logistic Regression Cross-Validation Accuracy: 0.71\n",
      "Decision Tree Cross-Validation Accuracy: 0.85\n",
      "Random Forest Cross-Validation Accuracy: 0.86\n",
      "SVM Cross-Validation Accuracy: 0.81\n",
      "Naive-Bayes Cross-Validation Accuracy: 0.68\n",
      "KNN Cross-Validation Accuracy: 0.86\n",
      "XG Boost Cross-Validation Accuracy: 0.86\n",
      "LGBM Cross-Validation Accuracy: 0.87\n",
      "\n",
      "Classifier with the best F1 Score: LGBM\n"
     ]
    }
   ],
   "source": [
    "# Classifier pipeline for Full dataset\n",
    "pipe_lr = make_pipeline(StandardScaler(), SMOTE(random_state=19), LogisticRegression(random_state=19, max_iter=1000))\n",
    "pipe_dt = make_pipeline(StandardScaler(), SMOTE(random_state=19), DecisionTreeClassifier(random_state=19))\n",
    "pipe_rf = make_pipeline(StandardScaler(), SMOTE(random_state=19), RandomForestClassifier(random_state=19))\n",
    "pipe_sv = make_pipeline(StandardScaler(), SMOTE(random_state=19), svm.SVC(random_state=19))\n",
    "pipe_nb = make_pipeline(StandardScaler(), SMOTE(random_state=19), GaussianNB())\n",
    "pipe_kn = make_pipeline(StandardScaler(), SMOTE(random_state=19), KNeighborsClassifier(n_neighbors=3))\n",
    "pipe_xg = make_pipeline(StandardScaler(), SMOTE(random_state=19), XGBClassifier(max_depth=5, learning_rate=0.1, n_estimators=100, random_state=19))\n",
    "pipe_lb = make_pipeline(StandardScaler(), SMOTE(random_state=19), lightgbm.LGBMClassifier(objective='binary', metric='f1', boosting_type='gbdt', random_state=19))\n",
    "\n",
    "pipelines = [pipe_lr, pipe_dt, pipe_rf, pipe_sv, pipe_nb, pipe_kn, pipe_xg, pipe_lb]\n",
    "\n",
    "best_accuracy = 0\n",
    "best_classifier = 0\n",
    "best_pipeline = \"\"\n",
    "\n",
    "pipe_dict = {0: 'Logistic Regression', 1: 'Decision Tree', 2: 'Random Forest', 3: 'SVM', 4: 'Naive-Bayes', 5: 'KNN', 6:'XG Boost', 7:'LGBM'}\n",
    "\n",
    "# Use cross-validation to evaluate the models\n",
    "for i, model in enumerate(pipelines):\n",
    "    scores = cross_val_score(model, X, y, cv=5, scoring='f1')\n",
    "    print('{} Cross-Validation Accuracy: {:.2f}'.format(pipe_dict[i], scores.mean()))\n",
    "    if scores.mean() > best_accuracy:\n",
    "        best_accuracy = scores.mean()\n",
    "        best_pipeline = model\n",
    "        best_classifier = i\n",
    "\n",
    "# Print the best classifier\n",
    "print('\\nClassifier with the best F1 Score: {}'.format(pipe_dict[best_classifier]))\n"
   ]
  },
  {
   "cell_type": "code",
   "execution_count": 112,
   "metadata": {},
   "outputs": [
    {
     "name": "stdout",
     "output_type": "stream",
     "text": [
      "Logistic Regression Cross-Validation Accuracy: 0.63\n",
      "Decision Tree Cross-Validation Accuracy: 0.72\n",
      "Random Forest Cross-Validation Accuracy: 0.68\n",
      "SVM Cross-Validation Accuracy: 0.67\n",
      "Naive-Bayes Cross-Validation Accuracy: 0.28\n",
      "KNN Cross-Validation Accuracy: 0.67\n",
      "XG Boost Cross-Validation Accuracy: 0.73\n",
      "LGBM Cross-Validation Accuracy: 0.66\n",
      "\n",
      "Classifier with the best F1 Score: XG Boost\n"
     ]
    }
   ],
   "source": [
    "# Classifier pipeline for Tinder Dataset\n",
    "pipe_lr2 = make_pipeline(StandardScaler(), SMOTE(random_state=19), LogisticRegression(random_state=19, max_iter=1000))\n",
    "pipe_dt2 = make_pipeline(StandardScaler(), SMOTE(random_state=19), DecisionTreeClassifier(random_state=19))\n",
    "pipe_rf2 = make_pipeline(StandardScaler(), SMOTE(random_state=19), RandomForestClassifier(random_state=19))\n",
    "pipe_sv2 = make_pipeline(StandardScaler(), SMOTE(random_state=19), svm.SVC(random_state=19))\n",
    "pipe_nb2 = make_pipeline(StandardScaler(), SMOTE(random_state=19), GaussianNB())\n",
    "pipe_kn2 = make_pipeline(StandardScaler(), SMOTE(random_state=19), KNeighborsClassifier(n_neighbors=3))\n",
    "pipe_xg2 = make_pipeline(StandardScaler(), SMOTE(random_state=19), XGBClassifier(random_state=19, max_depth=2, learning_rate=0.2, n_estimators=50))\n",
    "pipe_lb2 = make_pipeline(StandardScaler(), SMOTE(random_state=19), lightgbm.LGBMClassifier(objective='binary', metric='f1', boosting_type='gbdt', random_state=19))\n",
    "\n",
    "pipelines = [pipe_lr2, pipe_dt2, pipe_rf2, pipe_sv2, pipe_nb2, pipe_kn2, pipe_xg2, pipe_lb2]\n",
    "\n",
    "best_accuracy = 0\n",
    "best_classifier = 0\n",
    "best_pipeline = \"\"\n",
    "\n",
    "pipe_dict = {0: 'Logistic Regression', 1: 'Decision Tree', 2: 'Random Forest', 3: 'SVM', 4: 'Naive-Bayes', 5: 'KNN', 6:'XG Boost', 7:'LGBM'}\n",
    "# Use cross-validation to evaluate the models\n",
    "for i, model in enumerate(pipelines):\n",
    "    scores = cross_val_score(model, X3, y3, cv=5, scoring='f1')\n",
    "    print('{} Cross-Validation Accuracy: {:.2f}'.format(pipe_dict[i], scores.mean()))\n",
    "    if scores.mean() > best_accuracy:\n",
    "        best_accuracy = scores.mean()\n",
    "        best_pipeline = model\n",
    "        best_classifier = i\n",
    "\n",
    "# Print the best classifier\n",
    "print('\\nClassifier with the best F1 Score: {}'.format(pipe_dict[best_classifier]))\n",
    "\n"
   ]
  },
  {
   "cell_type": "code",
   "execution_count": 113,
   "metadata": {},
   "outputs": [
    {
     "name": "stdout",
     "output_type": "stream",
     "text": [
      "Logistic Regression Cross-Validation Accuracy: 0.73\n",
      "Decision Tree Cross-Validation Accuracy: 0.88\n",
      "Random Forest Cross-Validation Accuracy: 0.88\n",
      "SVM Cross-Validation Accuracy: 0.84\n",
      "Naive-Bayes Cross-Validation Accuracy: 0.74\n",
      "KNN Cross-Validation Accuracy: 0.88\n",
      "XG Boost Cross-Validation Accuracy: 0.89\n",
      "LGBM Cross-Validation Accuracy: 0.89\n",
      "\n",
      "Classifier with the best F1 Score: LGBM\n"
     ]
    }
   ],
   "source": [
    "# Classifier pipeline for non user Dataset\n",
    "pipe_lr3 = make_pipeline(StandardScaler(), SMOTE(random_state=19), LogisticRegression(random_state=19, max_iter=1000))\n",
    "pipe_dt3 = make_pipeline(StandardScaler(), SMOTE(random_state=19), DecisionTreeClassifier(random_state=19))\n",
    "pipe_rf3 = make_pipeline(StandardScaler(), SMOTE(random_state=19), RandomForestClassifier(random_state=19))\n",
    "pipe_sv3 = make_pipeline(StandardScaler(), SMOTE(random_state=19), svm.SVC(random_state=19))\n",
    "pipe_nb3 = make_pipeline(StandardScaler(), SMOTE(random_state=19), GaussianNB())\n",
    "pipe_kn3 = make_pipeline(StandardScaler(), SMOTE(random_state=19), KNeighborsClassifier(n_neighbors=3))\n",
    "pipe_xg3 = make_pipeline(StandardScaler(), SMOTE(random_state=19), XGBClassifier(random_state=19, max_depth=3, learning_rate=0.1, n_estimators=100))\n",
    "pipe_lb3 = make_pipeline(StandardScaler(), SMOTE(random_state=19), lightgbm.LGBMClassifier(objective='binary', metric='f1', boosting_type='gbdt', random_state=19))\n",
    "\n",
    "pipelines = [pipe_lr3, pipe_dt3, pipe_rf3, pipe_sv3, pipe_nb3, pipe_kn3, pipe_xg3, pipe_lb3]\n",
    "\n",
    "best_accuracy = 0\n",
    "best_classifier = 0\n",
    "best_pipeline = \"\"\n",
    "\n",
    "pipe_dict = {0: 'Logistic Regression', 1: 'Decision Tree', 2: 'Random Forest', 3: 'SVM', 4: 'Naive-Bayes', 5: 'KNN', 6:'XG Boost', 7:'LGBM'}\n",
    "\n",
    "# Use cross-validation to evaluate the models\n",
    "for i, model in enumerate(pipelines):\n",
    "    scores = cross_val_score(model, X4, y4, cv=5, scoring='f1')\n",
    "    print('{} Cross-Validation Accuracy: {:.2f}'.format(pipe_dict[i], scores.mean()))\n",
    "    if scores.mean() > best_accuracy:\n",
    "        best_accuracy = scores.mean()\n",
    "        best_pipeline = model\n",
    "        best_classifier = i\n",
    "\n",
    "# Print the best classifier\n",
    "print('\\nClassifier with the best F1 Score: {}'.format(pipe_dict[best_classifier]))\n"
   ]
  },
  {
   "cell_type": "markdown",
   "metadata": {},
   "source": [
    "##### Why evaluate on f1 score"
   ]
  },
  {
   "cell_type": "markdown",
   "metadata": {},
   "source": [
    "The F1 score is a commonly used evaluation metric in machine learning that combines precision and recall. When working with imbalanced datasets, where the number of samples in each class is unequal, accuracy may not be a reliable metric to evaluate the performance of a model. For example, if the majority of the samples belong to the negative class, a model that always predicts the negative class will have high accuracy, even though it is not predicting the positive class correctly.\n",
    "\n",
    "In such scenarios, the F1 score can be a better metric to use, as it takes into account both precision and recall, which are important factors in assessing a model's performance in such situations. The F1 score balances precision and recall and gives a single metric that summarizes the performance of a binary classification model.\n",
    "\n",
    "Moreover, in situations where the dataset is imbalanced, the F1 score is less sensitive to false negatives than other metrics such as precision or recall. In other words, the F1 score is less likely to be biased towards the majority class, and it provides a more accurate representation of the model's performance on both classes."
   ]
  },
  {
   "cell_type": "markdown",
   "metadata": {},
   "source": [
    "#### Full Dataset Final Model"
   ]
  },
  {
   "cell_type": "code",
   "execution_count": 114,
   "metadata": {},
   "outputs": [],
   "source": [
    "# split into train and test set\n",
    "X_train, X_test, y_train, y_test = train_test_split(\n",
    "    X, y, test_size=0.20, random_state=19)"
   ]
  },
  {
   "cell_type": "code",
   "execution_count": 115,
   "metadata": {},
   "outputs": [
    {
     "data": {
      "text/plain": [
       "Pipeline(steps=[('standardscaler', StandardScaler()),\n",
       "                ('smote', SMOTE(random_state=19)),\n",
       "                ('lgbmclassifier',\n",
       "                 LGBMClassifier(metric='f1', objective='binary',\n",
       "                                random_state=19))])"
      ]
     },
     "execution_count": 115,
     "metadata": {},
     "output_type": "execute_result"
    }
   ],
   "source": [
    "# Fit data on training set\n",
    "pipe_lb.fit(X_train, y_train)"
   ]
  },
  {
   "cell_type": "code",
   "execution_count": 116,
   "metadata": {},
   "outputs": [],
   "source": [
    "# make predictions on test set\n",
    "pred = pipe_lb.predict(X_test)"
   ]
  },
  {
   "cell_type": "code",
   "execution_count": 117,
   "metadata": {},
   "outputs": [
    {
     "data": {
      "text/plain": [
       "0.8929889298892989"
      ]
     },
     "execution_count": 117,
     "metadata": {},
     "output_type": "execute_result"
    }
   ],
   "source": [
    "# f1 score on test set\n",
    "f1_score(y_test, pred)"
   ]
  },
  {
   "cell_type": "code",
   "execution_count": 118,
   "metadata": {},
   "outputs": [
    {
     "name": "stdout",
     "output_type": "stream",
     "text": [
      "              precision    recall  f1-score   support\n",
      "\n",
      "           0       0.96      0.92      0.94       250\n",
      "           1       0.86      0.93      0.89       130\n",
      "\n",
      "    accuracy                           0.92       380\n",
      "   macro avg       0.91      0.93      0.92       380\n",
      "weighted avg       0.93      0.92      0.92       380\n",
      "\n"
     ]
    }
   ],
   "source": [
    "# classification report \n",
    "print(classification_report(y_test, pred))"
   ]
  },
  {
   "attachments": {},
   "cell_type": "markdown",
   "metadata": {},
   "source": [
    "The classification report shows high accuracy and precision with the negative class, with an overall high F1 score. The positive class has good precision, and very good recall, with the F1 score being fairly high. "
   ]
  },
  {
   "cell_type": "code",
   "execution_count": 119,
   "metadata": {},
   "outputs": [
    {
     "data": {
      "text/plain": [
       "array([[230,  20],\n",
       "       [  9, 121]], dtype=int64)"
      ]
     },
     "execution_count": 119,
     "metadata": {},
     "output_type": "execute_result"
    }
   ],
   "source": [
    "# confusion matrix\n",
    "confusion_matrix(y_test, pred)"
   ]
  },
  {
   "cell_type": "code",
   "execution_count": 120,
   "metadata": {},
   "outputs": [
    {
     "data": {
      "application/vnd.plotly.v1+json": {
       "config": {
        "plotlyServerURL": "https://plot.ly"
       },
       "data": [
        {
         "coloraxis": "coloraxis",
         "hovertemplate": "Actual: %{x}<br>Predictions: %{y}<br>Count: %{z}<extra></extra>",
         "name": "0",
         "texttemplate": "%{z}",
         "type": "heatmap",
         "x": [
          "Relationship",
          "Single"
         ],
         "xaxis": "x",
         "y": [
          "Relationship",
          "Single"
         ],
         "yaxis": "y",
         "z": [
          [
           230,
           20
          ],
          [
           9,
           121
          ]
         ]
        }
       ],
       "layout": {
        "coloraxis": {
         "colorbar": {
          "title": {
           "text": "Count"
          }
         },
         "colorscale": [
          [
           0,
           "#0d0887"
          ],
          [
           0.1111111111111111,
           "#46039f"
          ],
          [
           0.2222222222222222,
           "#7201a8"
          ],
          [
           0.3333333333333333,
           "#9c179e"
          ],
          [
           0.4444444444444444,
           "#bd3786"
          ],
          [
           0.5555555555555556,
           "#d8576b"
          ],
          [
           0.6666666666666666,
           "#ed7953"
          ],
          [
           0.7777777777777778,
           "#fb9f3a"
          ],
          [
           0.8888888888888888,
           "#fdca26"
          ],
          [
           1,
           "#f0f921"
          ]
         ]
        },
        "margin": {
         "t": 60
        },
        "template": {
         "data": {
          "bar": [
           {
            "error_x": {
             "color": "#2a3f5f"
            },
            "error_y": {
             "color": "#2a3f5f"
            },
            "marker": {
             "line": {
              "color": "#E5ECF6",
              "width": 0.5
             },
             "pattern": {
              "fillmode": "overlay",
              "size": 10,
              "solidity": 0.2
             }
            },
            "type": "bar"
           }
          ],
          "barpolar": [
           {
            "marker": {
             "line": {
              "color": "#E5ECF6",
              "width": 0.5
             },
             "pattern": {
              "fillmode": "overlay",
              "size": 10,
              "solidity": 0.2
             }
            },
            "type": "barpolar"
           }
          ],
          "carpet": [
           {
            "aaxis": {
             "endlinecolor": "#2a3f5f",
             "gridcolor": "white",
             "linecolor": "white",
             "minorgridcolor": "white",
             "startlinecolor": "#2a3f5f"
            },
            "baxis": {
             "endlinecolor": "#2a3f5f",
             "gridcolor": "white",
             "linecolor": "white",
             "minorgridcolor": "white",
             "startlinecolor": "#2a3f5f"
            },
            "type": "carpet"
           }
          ],
          "choropleth": [
           {
            "colorbar": {
             "outlinewidth": 0,
             "ticks": ""
            },
            "type": "choropleth"
           }
          ],
          "contour": [
           {
            "colorbar": {
             "outlinewidth": 0,
             "ticks": ""
            },
            "colorscale": [
             [
              0,
              "#0d0887"
             ],
             [
              0.1111111111111111,
              "#46039f"
             ],
             [
              0.2222222222222222,
              "#7201a8"
             ],
             [
              0.3333333333333333,
              "#9c179e"
             ],
             [
              0.4444444444444444,
              "#bd3786"
             ],
             [
              0.5555555555555556,
              "#d8576b"
             ],
             [
              0.6666666666666666,
              "#ed7953"
             ],
             [
              0.7777777777777778,
              "#fb9f3a"
             ],
             [
              0.8888888888888888,
              "#fdca26"
             ],
             [
              1,
              "#f0f921"
             ]
            ],
            "type": "contour"
           }
          ],
          "contourcarpet": [
           {
            "colorbar": {
             "outlinewidth": 0,
             "ticks": ""
            },
            "type": "contourcarpet"
           }
          ],
          "heatmap": [
           {
            "colorbar": {
             "outlinewidth": 0,
             "ticks": ""
            },
            "colorscale": [
             [
              0,
              "#0d0887"
             ],
             [
              0.1111111111111111,
              "#46039f"
             ],
             [
              0.2222222222222222,
              "#7201a8"
             ],
             [
              0.3333333333333333,
              "#9c179e"
             ],
             [
              0.4444444444444444,
              "#bd3786"
             ],
             [
              0.5555555555555556,
              "#d8576b"
             ],
             [
              0.6666666666666666,
              "#ed7953"
             ],
             [
              0.7777777777777778,
              "#fb9f3a"
             ],
             [
              0.8888888888888888,
              "#fdca26"
             ],
             [
              1,
              "#f0f921"
             ]
            ],
            "type": "heatmap"
           }
          ],
          "heatmapgl": [
           {
            "colorbar": {
             "outlinewidth": 0,
             "ticks": ""
            },
            "colorscale": [
             [
              0,
              "#0d0887"
             ],
             [
              0.1111111111111111,
              "#46039f"
             ],
             [
              0.2222222222222222,
              "#7201a8"
             ],
             [
              0.3333333333333333,
              "#9c179e"
             ],
             [
              0.4444444444444444,
              "#bd3786"
             ],
             [
              0.5555555555555556,
              "#d8576b"
             ],
             [
              0.6666666666666666,
              "#ed7953"
             ],
             [
              0.7777777777777778,
              "#fb9f3a"
             ],
             [
              0.8888888888888888,
              "#fdca26"
             ],
             [
              1,
              "#f0f921"
             ]
            ],
            "type": "heatmapgl"
           }
          ],
          "histogram": [
           {
            "marker": {
             "pattern": {
              "fillmode": "overlay",
              "size": 10,
              "solidity": 0.2
             }
            },
            "type": "histogram"
           }
          ],
          "histogram2d": [
           {
            "colorbar": {
             "outlinewidth": 0,
             "ticks": ""
            },
            "colorscale": [
             [
              0,
              "#0d0887"
             ],
             [
              0.1111111111111111,
              "#46039f"
             ],
             [
              0.2222222222222222,
              "#7201a8"
             ],
             [
              0.3333333333333333,
              "#9c179e"
             ],
             [
              0.4444444444444444,
              "#bd3786"
             ],
             [
              0.5555555555555556,
              "#d8576b"
             ],
             [
              0.6666666666666666,
              "#ed7953"
             ],
             [
              0.7777777777777778,
              "#fb9f3a"
             ],
             [
              0.8888888888888888,
              "#fdca26"
             ],
             [
              1,
              "#f0f921"
             ]
            ],
            "type": "histogram2d"
           }
          ],
          "histogram2dcontour": [
           {
            "colorbar": {
             "outlinewidth": 0,
             "ticks": ""
            },
            "colorscale": [
             [
              0,
              "#0d0887"
             ],
             [
              0.1111111111111111,
              "#46039f"
             ],
             [
              0.2222222222222222,
              "#7201a8"
             ],
             [
              0.3333333333333333,
              "#9c179e"
             ],
             [
              0.4444444444444444,
              "#bd3786"
             ],
             [
              0.5555555555555556,
              "#d8576b"
             ],
             [
              0.6666666666666666,
              "#ed7953"
             ],
             [
              0.7777777777777778,
              "#fb9f3a"
             ],
             [
              0.8888888888888888,
              "#fdca26"
             ],
             [
              1,
              "#f0f921"
             ]
            ],
            "type": "histogram2dcontour"
           }
          ],
          "mesh3d": [
           {
            "colorbar": {
             "outlinewidth": 0,
             "ticks": ""
            },
            "type": "mesh3d"
           }
          ],
          "parcoords": [
           {
            "line": {
             "colorbar": {
              "outlinewidth": 0,
              "ticks": ""
             }
            },
            "type": "parcoords"
           }
          ],
          "pie": [
           {
            "automargin": true,
            "type": "pie"
           }
          ],
          "scatter": [
           {
            "marker": {
             "colorbar": {
              "outlinewidth": 0,
              "ticks": ""
             }
            },
            "type": "scatter"
           }
          ],
          "scatter3d": [
           {
            "line": {
             "colorbar": {
              "outlinewidth": 0,
              "ticks": ""
             }
            },
            "marker": {
             "colorbar": {
              "outlinewidth": 0,
              "ticks": ""
             }
            },
            "type": "scatter3d"
           }
          ],
          "scattercarpet": [
           {
            "marker": {
             "colorbar": {
              "outlinewidth": 0,
              "ticks": ""
             }
            },
            "type": "scattercarpet"
           }
          ],
          "scattergeo": [
           {
            "marker": {
             "colorbar": {
              "outlinewidth": 0,
              "ticks": ""
             }
            },
            "type": "scattergeo"
           }
          ],
          "scattergl": [
           {
            "marker": {
             "colorbar": {
              "outlinewidth": 0,
              "ticks": ""
             }
            },
            "type": "scattergl"
           }
          ],
          "scattermapbox": [
           {
            "marker": {
             "colorbar": {
              "outlinewidth": 0,
              "ticks": ""
             }
            },
            "type": "scattermapbox"
           }
          ],
          "scatterpolar": [
           {
            "marker": {
             "colorbar": {
              "outlinewidth": 0,
              "ticks": ""
             }
            },
            "type": "scatterpolar"
           }
          ],
          "scatterpolargl": [
           {
            "marker": {
             "colorbar": {
              "outlinewidth": 0,
              "ticks": ""
             }
            },
            "type": "scatterpolargl"
           }
          ],
          "scatterternary": [
           {
            "marker": {
             "colorbar": {
              "outlinewidth": 0,
              "ticks": ""
             }
            },
            "type": "scatterternary"
           }
          ],
          "surface": [
           {
            "colorbar": {
             "outlinewidth": 0,
             "ticks": ""
            },
            "colorscale": [
             [
              0,
              "#0d0887"
             ],
             [
              0.1111111111111111,
              "#46039f"
             ],
             [
              0.2222222222222222,
              "#7201a8"
             ],
             [
              0.3333333333333333,
              "#9c179e"
             ],
             [
              0.4444444444444444,
              "#bd3786"
             ],
             [
              0.5555555555555556,
              "#d8576b"
             ],
             [
              0.6666666666666666,
              "#ed7953"
             ],
             [
              0.7777777777777778,
              "#fb9f3a"
             ],
             [
              0.8888888888888888,
              "#fdca26"
             ],
             [
              1,
              "#f0f921"
             ]
            ],
            "type": "surface"
           }
          ],
          "table": [
           {
            "cells": {
             "fill": {
              "color": "#EBF0F8"
             },
             "line": {
              "color": "white"
             }
            },
            "header": {
             "fill": {
              "color": "#C8D4E3"
             },
             "line": {
              "color": "white"
             }
            },
            "type": "table"
           }
          ]
         },
         "layout": {
          "annotationdefaults": {
           "arrowcolor": "#2a3f5f",
           "arrowhead": 0,
           "arrowwidth": 1
          },
          "autotypenumbers": "strict",
          "coloraxis": {
           "colorbar": {
            "outlinewidth": 0,
            "ticks": ""
           }
          },
          "colorscale": {
           "diverging": [
            [
             0,
             "#8e0152"
            ],
            [
             0.1,
             "#c51b7d"
            ],
            [
             0.2,
             "#de77ae"
            ],
            [
             0.3,
             "#f1b6da"
            ],
            [
             0.4,
             "#fde0ef"
            ],
            [
             0.5,
             "#f7f7f7"
            ],
            [
             0.6,
             "#e6f5d0"
            ],
            [
             0.7,
             "#b8e186"
            ],
            [
             0.8,
             "#7fbc41"
            ],
            [
             0.9,
             "#4d9221"
            ],
            [
             1,
             "#276419"
            ]
           ],
           "sequential": [
            [
             0,
             "#0d0887"
            ],
            [
             0.1111111111111111,
             "#46039f"
            ],
            [
             0.2222222222222222,
             "#7201a8"
            ],
            [
             0.3333333333333333,
             "#9c179e"
            ],
            [
             0.4444444444444444,
             "#bd3786"
            ],
            [
             0.5555555555555556,
             "#d8576b"
            ],
            [
             0.6666666666666666,
             "#ed7953"
            ],
            [
             0.7777777777777778,
             "#fb9f3a"
            ],
            [
             0.8888888888888888,
             "#fdca26"
            ],
            [
             1,
             "#f0f921"
            ]
           ],
           "sequentialminus": [
            [
             0,
             "#0d0887"
            ],
            [
             0.1111111111111111,
             "#46039f"
            ],
            [
             0.2222222222222222,
             "#7201a8"
            ],
            [
             0.3333333333333333,
             "#9c179e"
            ],
            [
             0.4444444444444444,
             "#bd3786"
            ],
            [
             0.5555555555555556,
             "#d8576b"
            ],
            [
             0.6666666666666666,
             "#ed7953"
            ],
            [
             0.7777777777777778,
             "#fb9f3a"
            ],
            [
             0.8888888888888888,
             "#fdca26"
            ],
            [
             1,
             "#f0f921"
            ]
           ]
          },
          "colorway": [
           "#636efa",
           "#EF553B",
           "#00cc96",
           "#ab63fa",
           "#FFA15A",
           "#19d3f3",
           "#FF6692",
           "#B6E880",
           "#FF97FF",
           "#FECB52"
          ],
          "font": {
           "color": "#2a3f5f"
          },
          "geo": {
           "bgcolor": "white",
           "lakecolor": "white",
           "landcolor": "#E5ECF6",
           "showlakes": true,
           "showland": true,
           "subunitcolor": "white"
          },
          "hoverlabel": {
           "align": "left"
          },
          "hovermode": "closest",
          "mapbox": {
           "style": "light"
          },
          "paper_bgcolor": "white",
          "plot_bgcolor": "#E5ECF6",
          "polar": {
           "angularaxis": {
            "gridcolor": "white",
            "linecolor": "white",
            "ticks": ""
           },
           "bgcolor": "#E5ECF6",
           "radialaxis": {
            "gridcolor": "white",
            "linecolor": "white",
            "ticks": ""
           }
          },
          "scene": {
           "xaxis": {
            "backgroundcolor": "#E5ECF6",
            "gridcolor": "white",
            "gridwidth": 2,
            "linecolor": "white",
            "showbackground": true,
            "ticks": "",
            "zerolinecolor": "white"
           },
           "yaxis": {
            "backgroundcolor": "#E5ECF6",
            "gridcolor": "white",
            "gridwidth": 2,
            "linecolor": "white",
            "showbackground": true,
            "ticks": "",
            "zerolinecolor": "white"
           },
           "zaxis": {
            "backgroundcolor": "#E5ECF6",
            "gridcolor": "white",
            "gridwidth": 2,
            "linecolor": "white",
            "showbackground": true,
            "ticks": "",
            "zerolinecolor": "white"
           }
          },
          "shapedefaults": {
           "line": {
            "color": "#2a3f5f"
           }
          },
          "ternary": {
           "aaxis": {
            "gridcolor": "white",
            "linecolor": "white",
            "ticks": ""
           },
           "baxis": {
            "gridcolor": "white",
            "linecolor": "white",
            "ticks": ""
           },
           "bgcolor": "#E5ECF6",
           "caxis": {
            "gridcolor": "white",
            "linecolor": "white",
            "ticks": ""
           }
          },
          "title": {
           "x": 0.05
          },
          "xaxis": {
           "automargin": true,
           "gridcolor": "white",
           "linecolor": "white",
           "ticks": "",
           "title": {
            "standoff": 15
           },
           "zerolinecolor": "white",
           "zerolinewidth": 2
          },
          "yaxis": {
           "automargin": true,
           "gridcolor": "white",
           "linecolor": "white",
           "ticks": "",
           "title": {
            "standoff": 15
           },
           "zerolinecolor": "white",
           "zerolinewidth": 2
          }
         }
        },
        "xaxis": {
         "anchor": "y",
         "constrain": "domain",
         "domain": [
          0,
          1
         ],
         "scaleanchor": "y",
         "title": {
          "text": "Actual"
         }
        },
        "yaxis": {
         "anchor": "x",
         "autorange": "reversed",
         "constrain": "domain",
         "domain": [
          0,
          1
         ],
         "title": {
          "text": "Predictions"
         }
        }
       }
      }
     },
     "metadata": {},
     "output_type": "display_data"
    }
   ],
   "source": [
    "# Full dataset confusion matrix\n",
    "px.imshow(confusion_matrix(y_test, pred), text_auto=True, labels=dict(x=\"Actual\", y=\"Predictions\", color=\"Count\"),\n",
    "                x=['Relationship', 'Single'],\n",
    "                y=['Relationship', 'Single'])"
   ]
  },
  {
   "attachments": {},
   "cell_type": "markdown",
   "metadata": {},
   "source": [
    "The confusion matrix illustrates 230 True Positives, 20 False Positives, 121 True Negatives, and 9 False Negatives. "
   ]
  },
  {
   "cell_type": "code",
   "execution_count": 121,
   "metadata": {},
   "outputs": [
    {
     "data": {
      "text/plain": [
       "array([[0.06000515, 0.93999485]])"
      ]
     },
     "execution_count": 121,
     "metadata": {},
     "output_type": "execute_result"
    }
   ],
   "source": [
    "# make predictions of new data\n",
    "pipe_lb.predict_proba(new_data)"
   ]
  },
  {
   "cell_type": "code",
   "execution_count": 122,
   "metadata": {},
   "outputs": [
    {
     "data": {
      "text/plain": [
       "array([1], dtype=int64)"
      ]
     },
     "execution_count": 122,
     "metadata": {},
     "output_type": "execute_result"
    }
   ],
   "source": [
    "# class result of prediction\n",
    "pipe_lb.predict(new_data)"
   ]
  },
  {
   "attachments": {},
   "cell_type": "markdown",
   "metadata": {},
   "source": [
    "Predicting target of a relationship with a 94% probability, based on the model trained on the full dataset, and the new data. The F1 score on the test set is good, so these results have a good amount of credibility. "
   ]
  },
  {
   "cell_type": "markdown",
   "metadata": {},
   "source": [
    "#### Tinder Users Final Model"
   ]
  },
  {
   "cell_type": "code",
   "execution_count": 123,
   "metadata": {},
   "outputs": [
    {
     "data": {
      "text/html": [
       "<div>\n",
       "<style scoped>\n",
       "    .dataframe tbody tr th:only-of-type {\n",
       "        vertical-align: middle;\n",
       "    }\n",
       "\n",
       "    .dataframe tbody tr th {\n",
       "        vertical-align: top;\n",
       "    }\n",
       "\n",
       "    .dataframe thead th {\n",
       "        text-align: right;\n",
       "    }\n",
       "</style>\n",
       "<table border=\"1\" class=\"dataframe\">\n",
       "  <thead>\n",
       "    <tr style=\"text-align: right;\">\n",
       "      <th></th>\n",
       "      <th>usage</th>\n",
       "      <th>university</th>\n",
       "      <th>answer</th>\n",
       "      <th>matches</th>\n",
       "      <th>percentage</th>\n",
       "    </tr>\n",
       "  </thead>\n",
       "  <tbody>\n",
       "    <tr>\n",
       "      <th>0</th>\n",
       "      <td>2.0</td>\n",
       "      <td>88.0</td>\n",
       "      <td>0.0</td>\n",
       "      <td>1.000000</td>\n",
       "      <td>0.333000</td>\n",
       "    </tr>\n",
       "    <tr>\n",
       "      <th>1</th>\n",
       "      <td>2.0</td>\n",
       "      <td>73.0</td>\n",
       "      <td>0.0</td>\n",
       "      <td>8.497078</td>\n",
       "      <td>0.193545</td>\n",
       "    </tr>\n",
       "    <tr>\n",
       "      <th>2</th>\n",
       "      <td>2.0</td>\n",
       "      <td>9.0</td>\n",
       "      <td>0.0</td>\n",
       "      <td>8.000000</td>\n",
       "      <td>0.320000</td>\n",
       "    </tr>\n",
       "    <tr>\n",
       "      <th>3</th>\n",
       "      <td>2.0</td>\n",
       "      <td>77.0</td>\n",
       "      <td>0.0</td>\n",
       "      <td>4.361147</td>\n",
       "      <td>0.323162</td>\n",
       "    </tr>\n",
       "    <tr>\n",
       "      <th>4</th>\n",
       "      <td>2.0</td>\n",
       "      <td>45.0</td>\n",
       "      <td>0.0</td>\n",
       "      <td>0.000000</td>\n",
       "      <td>0.000000</td>\n",
       "    </tr>\n",
       "  </tbody>\n",
       "</table>\n",
       "</div>"
      ],
      "text/plain": [
       "   usage  university  answer   matches  percentage\n",
       "0    2.0        88.0     0.0  1.000000    0.333000\n",
       "1    2.0        73.0     0.0  8.497078    0.193545\n",
       "2    2.0         9.0     0.0  8.000000    0.320000\n",
       "3    2.0        77.0     0.0  4.361147    0.323162\n",
       "4    2.0        45.0     0.0  0.000000    0.000000"
      ]
     },
     "execution_count": 123,
     "metadata": {},
     "output_type": "execute_result"
    }
   ],
   "source": [
    "# look at dataset\n",
    "X3.head()"
   ]
  },
  {
   "cell_type": "code",
   "execution_count": 124,
   "metadata": {},
   "outputs": [],
   "source": [
    "# split into train and test set\n",
    "X3_train, X3_test, y3_train, y3_test = train_test_split(\n",
    "    X3, y3, test_size=0.20, random_state=19)"
   ]
  },
  {
   "cell_type": "code",
   "execution_count": 125,
   "metadata": {},
   "outputs": [
    {
     "data": {
      "text/plain": [
       "Pipeline(steps=[('standardscaler', StandardScaler()),\n",
       "                ('smote', SMOTE(random_state=19)),\n",
       "                ('xgbclassifier',\n",
       "                 XGBClassifier(base_score=0.5, booster='gbtree', callbacks=None,\n",
       "                               colsample_bylevel=1, colsample_bynode=1,\n",
       "                               colsample_bytree=1, early_stopping_rounds=None,\n",
       "                               enable_categorical=False, eval_metric=None,\n",
       "                               feature_types=None, gamma=0, gpu_id=-1,\n",
       "                               grow_policy='depthwise', importance_type=None,\n",
       "                               interaction_constraints='', learning_rate=0.2,\n",
       "                               max_bin=256, max_cat_threshold=64,\n",
       "                               max_cat_to_onehot=4, max_delta_step=0,\n",
       "                               max_depth=2, max_leaves=0, min_child_weight=1,\n",
       "                               missing=nan, monotone_constraints='()',\n",
       "                               n_estimators=50, n_jobs=0, num_parallel_tree=1,\n",
       "                               predictor='auto', random_state=19, ...))])"
      ]
     },
     "execution_count": 125,
     "metadata": {},
     "output_type": "execute_result"
    }
   ],
   "source": [
    "# Fit data on training set\n",
    "pipe_xg2.fit(X3_train, y3_train)"
   ]
  },
  {
   "cell_type": "code",
   "execution_count": 126,
   "metadata": {},
   "outputs": [],
   "source": [
    "# make predictions on test set\n",
    "pred2 = pipe_xg2.predict(X3_test)"
   ]
  },
  {
   "cell_type": "code",
   "execution_count": 127,
   "metadata": {},
   "outputs": [
    {
     "data": {
      "text/plain": [
       "0.5714285714285715"
      ]
     },
     "execution_count": 127,
     "metadata": {},
     "output_type": "execute_result"
    }
   ],
   "source": [
    "# f1 score on test set\n",
    "f1_score(y3_test, pred2)"
   ]
  },
  {
   "cell_type": "code",
   "execution_count": 128,
   "metadata": {},
   "outputs": [
    {
     "name": "stdout",
     "output_type": "stream",
     "text": [
      "              precision    recall  f1-score   support\n",
      "\n",
      "           0       0.62      0.44      0.52        18\n",
      "           1       0.50      0.67      0.57        15\n",
      "\n",
      "    accuracy                           0.55        33\n",
      "   macro avg       0.56      0.56      0.54        33\n",
      "weighted avg       0.56      0.55      0.54        33\n",
      "\n"
     ]
    }
   ],
   "source": [
    "# classification report \n",
    "print(classification_report(y3_test, pred2))"
   ]
  },
  {
   "attachments": {},
   "cell_type": "markdown",
   "metadata": {},
   "source": [
    "The classification report shows mediocre accuracy and precision with the negative class, with an overall mediocre F1 score. The positive class also has mediocre precision and recall, with the F1 score being mediocre as well. This is likely due to the small size of the dataset, and subsequently, the test set. We would need a larger subset of tinder users to create a better model. "
   ]
  },
  {
   "cell_type": "code",
   "execution_count": 129,
   "metadata": {},
   "outputs": [
    {
     "data": {
      "text/plain": [
       "array([[ 8, 10],\n",
       "       [ 5, 10]], dtype=int64)"
      ]
     },
     "execution_count": 129,
     "metadata": {},
     "output_type": "execute_result"
    }
   ],
   "source": [
    "# confusion matrix\n",
    "confusion_matrix(y3_test, pred2)"
   ]
  },
  {
   "cell_type": "code",
   "execution_count": 130,
   "metadata": {},
   "outputs": [
    {
     "data": {
      "application/vnd.plotly.v1+json": {
       "config": {
        "plotlyServerURL": "https://plot.ly"
       },
       "data": [
        {
         "coloraxis": "coloraxis",
         "hovertemplate": "Actual: %{x}<br>Predictions: %{y}<br>Count: %{z}<extra></extra>",
         "name": "0",
         "texttemplate": "%{z}",
         "type": "heatmap",
         "x": [
          "Relationship",
          "Single"
         ],
         "xaxis": "x",
         "y": [
          "Relationship",
          "Single"
         ],
         "yaxis": "y",
         "z": [
          [
           8,
           10
          ],
          [
           5,
           10
          ]
         ]
        }
       ],
       "layout": {
        "coloraxis": {
         "colorbar": {
          "title": {
           "text": "Count"
          }
         },
         "colorscale": [
          [
           0,
           "#0d0887"
          ],
          [
           0.1111111111111111,
           "#46039f"
          ],
          [
           0.2222222222222222,
           "#7201a8"
          ],
          [
           0.3333333333333333,
           "#9c179e"
          ],
          [
           0.4444444444444444,
           "#bd3786"
          ],
          [
           0.5555555555555556,
           "#d8576b"
          ],
          [
           0.6666666666666666,
           "#ed7953"
          ],
          [
           0.7777777777777778,
           "#fb9f3a"
          ],
          [
           0.8888888888888888,
           "#fdca26"
          ],
          [
           1,
           "#f0f921"
          ]
         ]
        },
        "margin": {
         "t": 60
        },
        "template": {
         "data": {
          "bar": [
           {
            "error_x": {
             "color": "#2a3f5f"
            },
            "error_y": {
             "color": "#2a3f5f"
            },
            "marker": {
             "line": {
              "color": "#E5ECF6",
              "width": 0.5
             },
             "pattern": {
              "fillmode": "overlay",
              "size": 10,
              "solidity": 0.2
             }
            },
            "type": "bar"
           }
          ],
          "barpolar": [
           {
            "marker": {
             "line": {
              "color": "#E5ECF6",
              "width": 0.5
             },
             "pattern": {
              "fillmode": "overlay",
              "size": 10,
              "solidity": 0.2
             }
            },
            "type": "barpolar"
           }
          ],
          "carpet": [
           {
            "aaxis": {
             "endlinecolor": "#2a3f5f",
             "gridcolor": "white",
             "linecolor": "white",
             "minorgridcolor": "white",
             "startlinecolor": "#2a3f5f"
            },
            "baxis": {
             "endlinecolor": "#2a3f5f",
             "gridcolor": "white",
             "linecolor": "white",
             "minorgridcolor": "white",
             "startlinecolor": "#2a3f5f"
            },
            "type": "carpet"
           }
          ],
          "choropleth": [
           {
            "colorbar": {
             "outlinewidth": 0,
             "ticks": ""
            },
            "type": "choropleth"
           }
          ],
          "contour": [
           {
            "colorbar": {
             "outlinewidth": 0,
             "ticks": ""
            },
            "colorscale": [
             [
              0,
              "#0d0887"
             ],
             [
              0.1111111111111111,
              "#46039f"
             ],
             [
              0.2222222222222222,
              "#7201a8"
             ],
             [
              0.3333333333333333,
              "#9c179e"
             ],
             [
              0.4444444444444444,
              "#bd3786"
             ],
             [
              0.5555555555555556,
              "#d8576b"
             ],
             [
              0.6666666666666666,
              "#ed7953"
             ],
             [
              0.7777777777777778,
              "#fb9f3a"
             ],
             [
              0.8888888888888888,
              "#fdca26"
             ],
             [
              1,
              "#f0f921"
             ]
            ],
            "type": "contour"
           }
          ],
          "contourcarpet": [
           {
            "colorbar": {
             "outlinewidth": 0,
             "ticks": ""
            },
            "type": "contourcarpet"
           }
          ],
          "heatmap": [
           {
            "colorbar": {
             "outlinewidth": 0,
             "ticks": ""
            },
            "colorscale": [
             [
              0,
              "#0d0887"
             ],
             [
              0.1111111111111111,
              "#46039f"
             ],
             [
              0.2222222222222222,
              "#7201a8"
             ],
             [
              0.3333333333333333,
              "#9c179e"
             ],
             [
              0.4444444444444444,
              "#bd3786"
             ],
             [
              0.5555555555555556,
              "#d8576b"
             ],
             [
              0.6666666666666666,
              "#ed7953"
             ],
             [
              0.7777777777777778,
              "#fb9f3a"
             ],
             [
              0.8888888888888888,
              "#fdca26"
             ],
             [
              1,
              "#f0f921"
             ]
            ],
            "type": "heatmap"
           }
          ],
          "heatmapgl": [
           {
            "colorbar": {
             "outlinewidth": 0,
             "ticks": ""
            },
            "colorscale": [
             [
              0,
              "#0d0887"
             ],
             [
              0.1111111111111111,
              "#46039f"
             ],
             [
              0.2222222222222222,
              "#7201a8"
             ],
             [
              0.3333333333333333,
              "#9c179e"
             ],
             [
              0.4444444444444444,
              "#bd3786"
             ],
             [
              0.5555555555555556,
              "#d8576b"
             ],
             [
              0.6666666666666666,
              "#ed7953"
             ],
             [
              0.7777777777777778,
              "#fb9f3a"
             ],
             [
              0.8888888888888888,
              "#fdca26"
             ],
             [
              1,
              "#f0f921"
             ]
            ],
            "type": "heatmapgl"
           }
          ],
          "histogram": [
           {
            "marker": {
             "pattern": {
              "fillmode": "overlay",
              "size": 10,
              "solidity": 0.2
             }
            },
            "type": "histogram"
           }
          ],
          "histogram2d": [
           {
            "colorbar": {
             "outlinewidth": 0,
             "ticks": ""
            },
            "colorscale": [
             [
              0,
              "#0d0887"
             ],
             [
              0.1111111111111111,
              "#46039f"
             ],
             [
              0.2222222222222222,
              "#7201a8"
             ],
             [
              0.3333333333333333,
              "#9c179e"
             ],
             [
              0.4444444444444444,
              "#bd3786"
             ],
             [
              0.5555555555555556,
              "#d8576b"
             ],
             [
              0.6666666666666666,
              "#ed7953"
             ],
             [
              0.7777777777777778,
              "#fb9f3a"
             ],
             [
              0.8888888888888888,
              "#fdca26"
             ],
             [
              1,
              "#f0f921"
             ]
            ],
            "type": "histogram2d"
           }
          ],
          "histogram2dcontour": [
           {
            "colorbar": {
             "outlinewidth": 0,
             "ticks": ""
            },
            "colorscale": [
             [
              0,
              "#0d0887"
             ],
             [
              0.1111111111111111,
              "#46039f"
             ],
             [
              0.2222222222222222,
              "#7201a8"
             ],
             [
              0.3333333333333333,
              "#9c179e"
             ],
             [
              0.4444444444444444,
              "#bd3786"
             ],
             [
              0.5555555555555556,
              "#d8576b"
             ],
             [
              0.6666666666666666,
              "#ed7953"
             ],
             [
              0.7777777777777778,
              "#fb9f3a"
             ],
             [
              0.8888888888888888,
              "#fdca26"
             ],
             [
              1,
              "#f0f921"
             ]
            ],
            "type": "histogram2dcontour"
           }
          ],
          "mesh3d": [
           {
            "colorbar": {
             "outlinewidth": 0,
             "ticks": ""
            },
            "type": "mesh3d"
           }
          ],
          "parcoords": [
           {
            "line": {
             "colorbar": {
              "outlinewidth": 0,
              "ticks": ""
             }
            },
            "type": "parcoords"
           }
          ],
          "pie": [
           {
            "automargin": true,
            "type": "pie"
           }
          ],
          "scatter": [
           {
            "marker": {
             "colorbar": {
              "outlinewidth": 0,
              "ticks": ""
             }
            },
            "type": "scatter"
           }
          ],
          "scatter3d": [
           {
            "line": {
             "colorbar": {
              "outlinewidth": 0,
              "ticks": ""
             }
            },
            "marker": {
             "colorbar": {
              "outlinewidth": 0,
              "ticks": ""
             }
            },
            "type": "scatter3d"
           }
          ],
          "scattercarpet": [
           {
            "marker": {
             "colorbar": {
              "outlinewidth": 0,
              "ticks": ""
             }
            },
            "type": "scattercarpet"
           }
          ],
          "scattergeo": [
           {
            "marker": {
             "colorbar": {
              "outlinewidth": 0,
              "ticks": ""
             }
            },
            "type": "scattergeo"
           }
          ],
          "scattergl": [
           {
            "marker": {
             "colorbar": {
              "outlinewidth": 0,
              "ticks": ""
             }
            },
            "type": "scattergl"
           }
          ],
          "scattermapbox": [
           {
            "marker": {
             "colorbar": {
              "outlinewidth": 0,
              "ticks": ""
             }
            },
            "type": "scattermapbox"
           }
          ],
          "scatterpolar": [
           {
            "marker": {
             "colorbar": {
              "outlinewidth": 0,
              "ticks": ""
             }
            },
            "type": "scatterpolar"
           }
          ],
          "scatterpolargl": [
           {
            "marker": {
             "colorbar": {
              "outlinewidth": 0,
              "ticks": ""
             }
            },
            "type": "scatterpolargl"
           }
          ],
          "scatterternary": [
           {
            "marker": {
             "colorbar": {
              "outlinewidth": 0,
              "ticks": ""
             }
            },
            "type": "scatterternary"
           }
          ],
          "surface": [
           {
            "colorbar": {
             "outlinewidth": 0,
             "ticks": ""
            },
            "colorscale": [
             [
              0,
              "#0d0887"
             ],
             [
              0.1111111111111111,
              "#46039f"
             ],
             [
              0.2222222222222222,
              "#7201a8"
             ],
             [
              0.3333333333333333,
              "#9c179e"
             ],
             [
              0.4444444444444444,
              "#bd3786"
             ],
             [
              0.5555555555555556,
              "#d8576b"
             ],
             [
              0.6666666666666666,
              "#ed7953"
             ],
             [
              0.7777777777777778,
              "#fb9f3a"
             ],
             [
              0.8888888888888888,
              "#fdca26"
             ],
             [
              1,
              "#f0f921"
             ]
            ],
            "type": "surface"
           }
          ],
          "table": [
           {
            "cells": {
             "fill": {
              "color": "#EBF0F8"
             },
             "line": {
              "color": "white"
             }
            },
            "header": {
             "fill": {
              "color": "#C8D4E3"
             },
             "line": {
              "color": "white"
             }
            },
            "type": "table"
           }
          ]
         },
         "layout": {
          "annotationdefaults": {
           "arrowcolor": "#2a3f5f",
           "arrowhead": 0,
           "arrowwidth": 1
          },
          "autotypenumbers": "strict",
          "coloraxis": {
           "colorbar": {
            "outlinewidth": 0,
            "ticks": ""
           }
          },
          "colorscale": {
           "diverging": [
            [
             0,
             "#8e0152"
            ],
            [
             0.1,
             "#c51b7d"
            ],
            [
             0.2,
             "#de77ae"
            ],
            [
             0.3,
             "#f1b6da"
            ],
            [
             0.4,
             "#fde0ef"
            ],
            [
             0.5,
             "#f7f7f7"
            ],
            [
             0.6,
             "#e6f5d0"
            ],
            [
             0.7,
             "#b8e186"
            ],
            [
             0.8,
             "#7fbc41"
            ],
            [
             0.9,
             "#4d9221"
            ],
            [
             1,
             "#276419"
            ]
           ],
           "sequential": [
            [
             0,
             "#0d0887"
            ],
            [
             0.1111111111111111,
             "#46039f"
            ],
            [
             0.2222222222222222,
             "#7201a8"
            ],
            [
             0.3333333333333333,
             "#9c179e"
            ],
            [
             0.4444444444444444,
             "#bd3786"
            ],
            [
             0.5555555555555556,
             "#d8576b"
            ],
            [
             0.6666666666666666,
             "#ed7953"
            ],
            [
             0.7777777777777778,
             "#fb9f3a"
            ],
            [
             0.8888888888888888,
             "#fdca26"
            ],
            [
             1,
             "#f0f921"
            ]
           ],
           "sequentialminus": [
            [
             0,
             "#0d0887"
            ],
            [
             0.1111111111111111,
             "#46039f"
            ],
            [
             0.2222222222222222,
             "#7201a8"
            ],
            [
             0.3333333333333333,
             "#9c179e"
            ],
            [
             0.4444444444444444,
             "#bd3786"
            ],
            [
             0.5555555555555556,
             "#d8576b"
            ],
            [
             0.6666666666666666,
             "#ed7953"
            ],
            [
             0.7777777777777778,
             "#fb9f3a"
            ],
            [
             0.8888888888888888,
             "#fdca26"
            ],
            [
             1,
             "#f0f921"
            ]
           ]
          },
          "colorway": [
           "#636efa",
           "#EF553B",
           "#00cc96",
           "#ab63fa",
           "#FFA15A",
           "#19d3f3",
           "#FF6692",
           "#B6E880",
           "#FF97FF",
           "#FECB52"
          ],
          "font": {
           "color": "#2a3f5f"
          },
          "geo": {
           "bgcolor": "white",
           "lakecolor": "white",
           "landcolor": "#E5ECF6",
           "showlakes": true,
           "showland": true,
           "subunitcolor": "white"
          },
          "hoverlabel": {
           "align": "left"
          },
          "hovermode": "closest",
          "mapbox": {
           "style": "light"
          },
          "paper_bgcolor": "white",
          "plot_bgcolor": "#E5ECF6",
          "polar": {
           "angularaxis": {
            "gridcolor": "white",
            "linecolor": "white",
            "ticks": ""
           },
           "bgcolor": "#E5ECF6",
           "radialaxis": {
            "gridcolor": "white",
            "linecolor": "white",
            "ticks": ""
           }
          },
          "scene": {
           "xaxis": {
            "backgroundcolor": "#E5ECF6",
            "gridcolor": "white",
            "gridwidth": 2,
            "linecolor": "white",
            "showbackground": true,
            "ticks": "",
            "zerolinecolor": "white"
           },
           "yaxis": {
            "backgroundcolor": "#E5ECF6",
            "gridcolor": "white",
            "gridwidth": 2,
            "linecolor": "white",
            "showbackground": true,
            "ticks": "",
            "zerolinecolor": "white"
           },
           "zaxis": {
            "backgroundcolor": "#E5ECF6",
            "gridcolor": "white",
            "gridwidth": 2,
            "linecolor": "white",
            "showbackground": true,
            "ticks": "",
            "zerolinecolor": "white"
           }
          },
          "shapedefaults": {
           "line": {
            "color": "#2a3f5f"
           }
          },
          "ternary": {
           "aaxis": {
            "gridcolor": "white",
            "linecolor": "white",
            "ticks": ""
           },
           "baxis": {
            "gridcolor": "white",
            "linecolor": "white",
            "ticks": ""
           },
           "bgcolor": "#E5ECF6",
           "caxis": {
            "gridcolor": "white",
            "linecolor": "white",
            "ticks": ""
           }
          },
          "title": {
           "x": 0.05
          },
          "xaxis": {
           "automargin": true,
           "gridcolor": "white",
           "linecolor": "white",
           "ticks": "",
           "title": {
            "standoff": 15
           },
           "zerolinecolor": "white",
           "zerolinewidth": 2
          },
          "yaxis": {
           "automargin": true,
           "gridcolor": "white",
           "linecolor": "white",
           "ticks": "",
           "title": {
            "standoff": 15
           },
           "zerolinecolor": "white",
           "zerolinewidth": 2
          }
         }
        },
        "xaxis": {
         "anchor": "y",
         "constrain": "domain",
         "domain": [
          0,
          1
         ],
         "scaleanchor": "y",
         "title": {
          "text": "Actual"
         }
        },
        "yaxis": {
         "anchor": "x",
         "autorange": "reversed",
         "constrain": "domain",
         "domain": [
          0,
          1
         ],
         "title": {
          "text": "Predictions"
         }
        }
       }
      }
     },
     "metadata": {},
     "output_type": "display_data"
    }
   ],
   "source": [
    "# Tinder dataset confusion matrix\n",
    "px.imshow(confusion_matrix(y3_test, pred2), text_auto=True, labels=dict(x=\"Actual\", y=\"Predictions\", color=\"Count\"),\n",
    "                x=['Relationship', 'Single'],\n",
    "                y=['Relationship', 'Single'])"
   ]
  },
  {
   "attachments": {},
   "cell_type": "markdown",
   "metadata": {},
   "source": [
    "The confusion matrix illustrates 8 True Positives, 10 False Positives, 10 True Negatives, and 5 False Negatives. This explains why the F1 score is mediocre, as there are more False Positives than True Positives."
   ]
  },
  {
   "cell_type": "code",
   "execution_count": 131,
   "metadata": {},
   "outputs": [
    {
     "data": {
      "text/plain": [
       "array([[0.9685164 , 0.03148358]], dtype=float32)"
      ]
     },
     "execution_count": 131,
     "metadata": {},
     "output_type": "execute_result"
    }
   ],
   "source": [
    "# make predictions of new data\n",
    "pipe_xg2.predict_proba(new_data)"
   ]
  },
  {
   "cell_type": "code",
   "execution_count": 132,
   "metadata": {},
   "outputs": [
    {
     "data": {
      "text/plain": [
       "array([0])"
      ]
     },
     "execution_count": 132,
     "metadata": {},
     "output_type": "execute_result"
    }
   ],
   "source": [
    "# class result of prediction\n",
    "pipe_xg2.predict(new_data)"
   ]
  },
  {
   "attachments": {},
   "cell_type": "markdown",
   "metadata": {},
   "source": [
    "Predicting target of not a relationship with a 96.8% probability, based on the model trained on the tinder dataset, and the new data. The overall F1 score of the model is average, so the results are not expected to be the best. "
   ]
  },
  {
   "cell_type": "markdown",
   "metadata": {},
   "source": [
    "#### Non Tinder Final Model"
   ]
  },
  {
   "cell_type": "code",
   "execution_count": 133,
   "metadata": {},
   "outputs": [
    {
     "data": {
      "text/html": [
       "<div>\n",
       "<style scoped>\n",
       "    .dataframe tbody tr th:only-of-type {\n",
       "        vertical-align: middle;\n",
       "    }\n",
       "\n",
       "    .dataframe tbody tr th {\n",
       "        vertical-align: top;\n",
       "    }\n",
       "\n",
       "    .dataframe thead th {\n",
       "        text-align: right;\n",
       "    }\n",
       "</style>\n",
       "<table border=\"1\" class=\"dataframe\">\n",
       "  <thead>\n",
       "    <tr style=\"text-align: right;\">\n",
       "      <th></th>\n",
       "      <th>usage</th>\n",
       "      <th>university</th>\n",
       "      <th>answer</th>\n",
       "      <th>matches</th>\n",
       "      <th>percentage</th>\n",
       "    </tr>\n",
       "  </thead>\n",
       "  <tbody>\n",
       "    <tr>\n",
       "      <th>0</th>\n",
       "      <td>3.0</td>\n",
       "      <td>41.0</td>\n",
       "      <td>0.0</td>\n",
       "      <td>0.000000</td>\n",
       "      <td>0.000000</td>\n",
       "    </tr>\n",
       "    <tr>\n",
       "      <th>1</th>\n",
       "      <td>3.0</td>\n",
       "      <td>41.0</td>\n",
       "      <td>0.0</td>\n",
       "      <td>0.000000</td>\n",
       "      <td>0.000000</td>\n",
       "    </tr>\n",
       "    <tr>\n",
       "      <th>2</th>\n",
       "      <td>0.0</td>\n",
       "      <td>41.0</td>\n",
       "      <td>0.0</td>\n",
       "      <td>499.173606</td>\n",
       "      <td>0.225255</td>\n",
       "    </tr>\n",
       "    <tr>\n",
       "      <th>3</th>\n",
       "      <td>3.0</td>\n",
       "      <td>41.0</td>\n",
       "      <td>0.0</td>\n",
       "      <td>0.000000</td>\n",
       "      <td>0.000000</td>\n",
       "    </tr>\n",
       "    <tr>\n",
       "      <th>4</th>\n",
       "      <td>0.0</td>\n",
       "      <td>41.0</td>\n",
       "      <td>0.0</td>\n",
       "      <td>455.925963</td>\n",
       "      <td>0.211360</td>\n",
       "    </tr>\n",
       "  </tbody>\n",
       "</table>\n",
       "</div>"
      ],
      "text/plain": [
       "  usage university answer     matches  percentage\n",
       "0   3.0       41.0    0.0    0.000000    0.000000\n",
       "1   3.0       41.0    0.0    0.000000    0.000000\n",
       "2   0.0       41.0    0.0  499.173606    0.225255\n",
       "3   3.0       41.0    0.0    0.000000    0.000000\n",
       "4   0.0       41.0    0.0  455.925963    0.211360"
      ]
     },
     "execution_count": 133,
     "metadata": {},
     "output_type": "execute_result"
    }
   ],
   "source": [
    "# look at dataset\n",
    "X4.head()"
   ]
  },
  {
   "cell_type": "code",
   "execution_count": 134,
   "metadata": {},
   "outputs": [],
   "source": [
    "# split into train and test set\n",
    "X4_train, X4_test, y4_train, y4_test = train_test_split(\n",
    "    X4, y4, test_size=0.20, random_state=19)"
   ]
  },
  {
   "cell_type": "code",
   "execution_count": 135,
   "metadata": {},
   "outputs": [
    {
     "data": {
      "text/plain": [
       "Pipeline(steps=[('standardscaler', StandardScaler()),\n",
       "                ('smote', SMOTE(random_state=19)),\n",
       "                ('lgbmclassifier',\n",
       "                 LGBMClassifier(metric='f1', objective='binary',\n",
       "                                random_state=19))])"
      ]
     },
     "execution_count": 135,
     "metadata": {},
     "output_type": "execute_result"
    }
   ],
   "source": [
    "# Fit data on training set\n",
    "pipe_lb3.fit(X4_train, y4_train)"
   ]
  },
  {
   "cell_type": "code",
   "execution_count": 136,
   "metadata": {},
   "outputs": [],
   "source": [
    "# make predictions on test set\n",
    "pred3 = pipe_lb3.predict(X4_test)"
   ]
  },
  {
   "cell_type": "code",
   "execution_count": 137,
   "metadata": {},
   "outputs": [
    {
     "data": {
      "text/plain": [
       "0.8861788617886179"
      ]
     },
     "execution_count": 137,
     "metadata": {},
     "output_type": "execute_result"
    }
   ],
   "source": [
    "# f1 score on test set\n",
    "f1_score(y4_test, pred3)"
   ]
  },
  {
   "cell_type": "code",
   "execution_count": 138,
   "metadata": {},
   "outputs": [
    {
     "name": "stdout",
     "output_type": "stream",
     "text": [
      "              precision    recall  f1-score   support\n",
      "\n",
      "           0       0.95      0.93      0.94       227\n",
      "           1       0.87      0.91      0.89       120\n",
      "\n",
      "    accuracy                           0.92       347\n",
      "   macro avg       0.91      0.92      0.91       347\n",
      "weighted avg       0.92      0.92      0.92       347\n",
      "\n"
     ]
    }
   ],
   "source": [
    "# classification report \n",
    "print(classification_report(y4_test, pred3))"
   ]
  },
  {
   "attachments": {},
   "cell_type": "markdown",
   "metadata": {},
   "source": [
    "The classification report shows high accuracy and precision with the negative class, with an overall high F1 score. The positive class also has high precision and recall, with the F1 score being high as well. "
   ]
  },
  {
   "cell_type": "code",
   "execution_count": 139,
   "metadata": {},
   "outputs": [
    {
     "data": {
      "text/plain": [
       "array([[210,  17],\n",
       "       [ 11, 109]], dtype=int64)"
      ]
     },
     "execution_count": 139,
     "metadata": {},
     "output_type": "execute_result"
    }
   ],
   "source": [
    "# confusion matrix\n",
    "confusion_matrix(y4_test, pred3)"
   ]
  },
  {
   "cell_type": "code",
   "execution_count": 140,
   "metadata": {},
   "outputs": [
    {
     "data": {
      "application/vnd.plotly.v1+json": {
       "config": {
        "plotlyServerURL": "https://plot.ly"
       },
       "data": [
        {
         "coloraxis": "coloraxis",
         "hovertemplate": "Actual: %{x}<br>Predictions: %{y}<br>Count: %{z}<extra></extra>",
         "name": "0",
         "texttemplate": "%{z}",
         "type": "heatmap",
         "x": [
          "Relationship",
          "Single"
         ],
         "xaxis": "x",
         "y": [
          "Relationship",
          "Single"
         ],
         "yaxis": "y",
         "z": [
          [
           210,
           17
          ],
          [
           11,
           109
          ]
         ]
        }
       ],
       "layout": {
        "coloraxis": {
         "colorbar": {
          "title": {
           "text": "Count"
          }
         },
         "colorscale": [
          [
           0,
           "#0d0887"
          ],
          [
           0.1111111111111111,
           "#46039f"
          ],
          [
           0.2222222222222222,
           "#7201a8"
          ],
          [
           0.3333333333333333,
           "#9c179e"
          ],
          [
           0.4444444444444444,
           "#bd3786"
          ],
          [
           0.5555555555555556,
           "#d8576b"
          ],
          [
           0.6666666666666666,
           "#ed7953"
          ],
          [
           0.7777777777777778,
           "#fb9f3a"
          ],
          [
           0.8888888888888888,
           "#fdca26"
          ],
          [
           1,
           "#f0f921"
          ]
         ]
        },
        "margin": {
         "t": 60
        },
        "template": {
         "data": {
          "bar": [
           {
            "error_x": {
             "color": "#2a3f5f"
            },
            "error_y": {
             "color": "#2a3f5f"
            },
            "marker": {
             "line": {
              "color": "#E5ECF6",
              "width": 0.5
             },
             "pattern": {
              "fillmode": "overlay",
              "size": 10,
              "solidity": 0.2
             }
            },
            "type": "bar"
           }
          ],
          "barpolar": [
           {
            "marker": {
             "line": {
              "color": "#E5ECF6",
              "width": 0.5
             },
             "pattern": {
              "fillmode": "overlay",
              "size": 10,
              "solidity": 0.2
             }
            },
            "type": "barpolar"
           }
          ],
          "carpet": [
           {
            "aaxis": {
             "endlinecolor": "#2a3f5f",
             "gridcolor": "white",
             "linecolor": "white",
             "minorgridcolor": "white",
             "startlinecolor": "#2a3f5f"
            },
            "baxis": {
             "endlinecolor": "#2a3f5f",
             "gridcolor": "white",
             "linecolor": "white",
             "minorgridcolor": "white",
             "startlinecolor": "#2a3f5f"
            },
            "type": "carpet"
           }
          ],
          "choropleth": [
           {
            "colorbar": {
             "outlinewidth": 0,
             "ticks": ""
            },
            "type": "choropleth"
           }
          ],
          "contour": [
           {
            "colorbar": {
             "outlinewidth": 0,
             "ticks": ""
            },
            "colorscale": [
             [
              0,
              "#0d0887"
             ],
             [
              0.1111111111111111,
              "#46039f"
             ],
             [
              0.2222222222222222,
              "#7201a8"
             ],
             [
              0.3333333333333333,
              "#9c179e"
             ],
             [
              0.4444444444444444,
              "#bd3786"
             ],
             [
              0.5555555555555556,
              "#d8576b"
             ],
             [
              0.6666666666666666,
              "#ed7953"
             ],
             [
              0.7777777777777778,
              "#fb9f3a"
             ],
             [
              0.8888888888888888,
              "#fdca26"
             ],
             [
              1,
              "#f0f921"
             ]
            ],
            "type": "contour"
           }
          ],
          "contourcarpet": [
           {
            "colorbar": {
             "outlinewidth": 0,
             "ticks": ""
            },
            "type": "contourcarpet"
           }
          ],
          "heatmap": [
           {
            "colorbar": {
             "outlinewidth": 0,
             "ticks": ""
            },
            "colorscale": [
             [
              0,
              "#0d0887"
             ],
             [
              0.1111111111111111,
              "#46039f"
             ],
             [
              0.2222222222222222,
              "#7201a8"
             ],
             [
              0.3333333333333333,
              "#9c179e"
             ],
             [
              0.4444444444444444,
              "#bd3786"
             ],
             [
              0.5555555555555556,
              "#d8576b"
             ],
             [
              0.6666666666666666,
              "#ed7953"
             ],
             [
              0.7777777777777778,
              "#fb9f3a"
             ],
             [
              0.8888888888888888,
              "#fdca26"
             ],
             [
              1,
              "#f0f921"
             ]
            ],
            "type": "heatmap"
           }
          ],
          "heatmapgl": [
           {
            "colorbar": {
             "outlinewidth": 0,
             "ticks": ""
            },
            "colorscale": [
             [
              0,
              "#0d0887"
             ],
             [
              0.1111111111111111,
              "#46039f"
             ],
             [
              0.2222222222222222,
              "#7201a8"
             ],
             [
              0.3333333333333333,
              "#9c179e"
             ],
             [
              0.4444444444444444,
              "#bd3786"
             ],
             [
              0.5555555555555556,
              "#d8576b"
             ],
             [
              0.6666666666666666,
              "#ed7953"
             ],
             [
              0.7777777777777778,
              "#fb9f3a"
             ],
             [
              0.8888888888888888,
              "#fdca26"
             ],
             [
              1,
              "#f0f921"
             ]
            ],
            "type": "heatmapgl"
           }
          ],
          "histogram": [
           {
            "marker": {
             "pattern": {
              "fillmode": "overlay",
              "size": 10,
              "solidity": 0.2
             }
            },
            "type": "histogram"
           }
          ],
          "histogram2d": [
           {
            "colorbar": {
             "outlinewidth": 0,
             "ticks": ""
            },
            "colorscale": [
             [
              0,
              "#0d0887"
             ],
             [
              0.1111111111111111,
              "#46039f"
             ],
             [
              0.2222222222222222,
              "#7201a8"
             ],
             [
              0.3333333333333333,
              "#9c179e"
             ],
             [
              0.4444444444444444,
              "#bd3786"
             ],
             [
              0.5555555555555556,
              "#d8576b"
             ],
             [
              0.6666666666666666,
              "#ed7953"
             ],
             [
              0.7777777777777778,
              "#fb9f3a"
             ],
             [
              0.8888888888888888,
              "#fdca26"
             ],
             [
              1,
              "#f0f921"
             ]
            ],
            "type": "histogram2d"
           }
          ],
          "histogram2dcontour": [
           {
            "colorbar": {
             "outlinewidth": 0,
             "ticks": ""
            },
            "colorscale": [
             [
              0,
              "#0d0887"
             ],
             [
              0.1111111111111111,
              "#46039f"
             ],
             [
              0.2222222222222222,
              "#7201a8"
             ],
             [
              0.3333333333333333,
              "#9c179e"
             ],
             [
              0.4444444444444444,
              "#bd3786"
             ],
             [
              0.5555555555555556,
              "#d8576b"
             ],
             [
              0.6666666666666666,
              "#ed7953"
             ],
             [
              0.7777777777777778,
              "#fb9f3a"
             ],
             [
              0.8888888888888888,
              "#fdca26"
             ],
             [
              1,
              "#f0f921"
             ]
            ],
            "type": "histogram2dcontour"
           }
          ],
          "mesh3d": [
           {
            "colorbar": {
             "outlinewidth": 0,
             "ticks": ""
            },
            "type": "mesh3d"
           }
          ],
          "parcoords": [
           {
            "line": {
             "colorbar": {
              "outlinewidth": 0,
              "ticks": ""
             }
            },
            "type": "parcoords"
           }
          ],
          "pie": [
           {
            "automargin": true,
            "type": "pie"
           }
          ],
          "scatter": [
           {
            "marker": {
             "colorbar": {
              "outlinewidth": 0,
              "ticks": ""
             }
            },
            "type": "scatter"
           }
          ],
          "scatter3d": [
           {
            "line": {
             "colorbar": {
              "outlinewidth": 0,
              "ticks": ""
             }
            },
            "marker": {
             "colorbar": {
              "outlinewidth": 0,
              "ticks": ""
             }
            },
            "type": "scatter3d"
           }
          ],
          "scattercarpet": [
           {
            "marker": {
             "colorbar": {
              "outlinewidth": 0,
              "ticks": ""
             }
            },
            "type": "scattercarpet"
           }
          ],
          "scattergeo": [
           {
            "marker": {
             "colorbar": {
              "outlinewidth": 0,
              "ticks": ""
             }
            },
            "type": "scattergeo"
           }
          ],
          "scattergl": [
           {
            "marker": {
             "colorbar": {
              "outlinewidth": 0,
              "ticks": ""
             }
            },
            "type": "scattergl"
           }
          ],
          "scattermapbox": [
           {
            "marker": {
             "colorbar": {
              "outlinewidth": 0,
              "ticks": ""
             }
            },
            "type": "scattermapbox"
           }
          ],
          "scatterpolar": [
           {
            "marker": {
             "colorbar": {
              "outlinewidth": 0,
              "ticks": ""
             }
            },
            "type": "scatterpolar"
           }
          ],
          "scatterpolargl": [
           {
            "marker": {
             "colorbar": {
              "outlinewidth": 0,
              "ticks": ""
             }
            },
            "type": "scatterpolargl"
           }
          ],
          "scatterternary": [
           {
            "marker": {
             "colorbar": {
              "outlinewidth": 0,
              "ticks": ""
             }
            },
            "type": "scatterternary"
           }
          ],
          "surface": [
           {
            "colorbar": {
             "outlinewidth": 0,
             "ticks": ""
            },
            "colorscale": [
             [
              0,
              "#0d0887"
             ],
             [
              0.1111111111111111,
              "#46039f"
             ],
             [
              0.2222222222222222,
              "#7201a8"
             ],
             [
              0.3333333333333333,
              "#9c179e"
             ],
             [
              0.4444444444444444,
              "#bd3786"
             ],
             [
              0.5555555555555556,
              "#d8576b"
             ],
             [
              0.6666666666666666,
              "#ed7953"
             ],
             [
              0.7777777777777778,
              "#fb9f3a"
             ],
             [
              0.8888888888888888,
              "#fdca26"
             ],
             [
              1,
              "#f0f921"
             ]
            ],
            "type": "surface"
           }
          ],
          "table": [
           {
            "cells": {
             "fill": {
              "color": "#EBF0F8"
             },
             "line": {
              "color": "white"
             }
            },
            "header": {
             "fill": {
              "color": "#C8D4E3"
             },
             "line": {
              "color": "white"
             }
            },
            "type": "table"
           }
          ]
         },
         "layout": {
          "annotationdefaults": {
           "arrowcolor": "#2a3f5f",
           "arrowhead": 0,
           "arrowwidth": 1
          },
          "autotypenumbers": "strict",
          "coloraxis": {
           "colorbar": {
            "outlinewidth": 0,
            "ticks": ""
           }
          },
          "colorscale": {
           "diverging": [
            [
             0,
             "#8e0152"
            ],
            [
             0.1,
             "#c51b7d"
            ],
            [
             0.2,
             "#de77ae"
            ],
            [
             0.3,
             "#f1b6da"
            ],
            [
             0.4,
             "#fde0ef"
            ],
            [
             0.5,
             "#f7f7f7"
            ],
            [
             0.6,
             "#e6f5d0"
            ],
            [
             0.7,
             "#b8e186"
            ],
            [
             0.8,
             "#7fbc41"
            ],
            [
             0.9,
             "#4d9221"
            ],
            [
             1,
             "#276419"
            ]
           ],
           "sequential": [
            [
             0,
             "#0d0887"
            ],
            [
             0.1111111111111111,
             "#46039f"
            ],
            [
             0.2222222222222222,
             "#7201a8"
            ],
            [
             0.3333333333333333,
             "#9c179e"
            ],
            [
             0.4444444444444444,
             "#bd3786"
            ],
            [
             0.5555555555555556,
             "#d8576b"
            ],
            [
             0.6666666666666666,
             "#ed7953"
            ],
            [
             0.7777777777777778,
             "#fb9f3a"
            ],
            [
             0.8888888888888888,
             "#fdca26"
            ],
            [
             1,
             "#f0f921"
            ]
           ],
           "sequentialminus": [
            [
             0,
             "#0d0887"
            ],
            [
             0.1111111111111111,
             "#46039f"
            ],
            [
             0.2222222222222222,
             "#7201a8"
            ],
            [
             0.3333333333333333,
             "#9c179e"
            ],
            [
             0.4444444444444444,
             "#bd3786"
            ],
            [
             0.5555555555555556,
             "#d8576b"
            ],
            [
             0.6666666666666666,
             "#ed7953"
            ],
            [
             0.7777777777777778,
             "#fb9f3a"
            ],
            [
             0.8888888888888888,
             "#fdca26"
            ],
            [
             1,
             "#f0f921"
            ]
           ]
          },
          "colorway": [
           "#636efa",
           "#EF553B",
           "#00cc96",
           "#ab63fa",
           "#FFA15A",
           "#19d3f3",
           "#FF6692",
           "#B6E880",
           "#FF97FF",
           "#FECB52"
          ],
          "font": {
           "color": "#2a3f5f"
          },
          "geo": {
           "bgcolor": "white",
           "lakecolor": "white",
           "landcolor": "#E5ECF6",
           "showlakes": true,
           "showland": true,
           "subunitcolor": "white"
          },
          "hoverlabel": {
           "align": "left"
          },
          "hovermode": "closest",
          "mapbox": {
           "style": "light"
          },
          "paper_bgcolor": "white",
          "plot_bgcolor": "#E5ECF6",
          "polar": {
           "angularaxis": {
            "gridcolor": "white",
            "linecolor": "white",
            "ticks": ""
           },
           "bgcolor": "#E5ECF6",
           "radialaxis": {
            "gridcolor": "white",
            "linecolor": "white",
            "ticks": ""
           }
          },
          "scene": {
           "xaxis": {
            "backgroundcolor": "#E5ECF6",
            "gridcolor": "white",
            "gridwidth": 2,
            "linecolor": "white",
            "showbackground": true,
            "ticks": "",
            "zerolinecolor": "white"
           },
           "yaxis": {
            "backgroundcolor": "#E5ECF6",
            "gridcolor": "white",
            "gridwidth": 2,
            "linecolor": "white",
            "showbackground": true,
            "ticks": "",
            "zerolinecolor": "white"
           },
           "zaxis": {
            "backgroundcolor": "#E5ECF6",
            "gridcolor": "white",
            "gridwidth": 2,
            "linecolor": "white",
            "showbackground": true,
            "ticks": "",
            "zerolinecolor": "white"
           }
          },
          "shapedefaults": {
           "line": {
            "color": "#2a3f5f"
           }
          },
          "ternary": {
           "aaxis": {
            "gridcolor": "white",
            "linecolor": "white",
            "ticks": ""
           },
           "baxis": {
            "gridcolor": "white",
            "linecolor": "white",
            "ticks": ""
           },
           "bgcolor": "#E5ECF6",
           "caxis": {
            "gridcolor": "white",
            "linecolor": "white",
            "ticks": ""
           }
          },
          "title": {
           "x": 0.05
          },
          "xaxis": {
           "automargin": true,
           "gridcolor": "white",
           "linecolor": "white",
           "ticks": "",
           "title": {
            "standoff": 15
           },
           "zerolinecolor": "white",
           "zerolinewidth": 2
          },
          "yaxis": {
           "automargin": true,
           "gridcolor": "white",
           "linecolor": "white",
           "ticks": "",
           "title": {
            "standoff": 15
           },
           "zerolinecolor": "white",
           "zerolinewidth": 2
          }
         }
        },
        "xaxis": {
         "anchor": "y",
         "constrain": "domain",
         "domain": [
          0,
          1
         ],
         "scaleanchor": "y",
         "title": {
          "text": "Actual"
         }
        },
        "yaxis": {
         "anchor": "x",
         "autorange": "reversed",
         "constrain": "domain",
         "domain": [
          0,
          1
         ],
         "title": {
          "text": "Predictions"
         }
        }
       }
      }
     },
     "metadata": {},
     "output_type": "display_data"
    }
   ],
   "source": [
    "# non users dataset confusion matrix\n",
    "px.imshow(confusion_matrix(y4_test, pred3), text_auto=True, labels=dict(x=\"Actual\", y=\"Predictions\", color=\"Count\"),\n",
    "                x=['Relationship', 'Single'],\n",
    "                y=['Relationship', 'Single'])"
   ]
  },
  {
   "attachments": {},
   "cell_type": "markdown",
   "metadata": {},
   "source": [
    "The confusion matrix illustrates 210 True Positives, 17 False Positives, 109 True Negatives, and 11 False Negatives. This explains why the F1 score is high, as there are more correct predictions of the correct class."
   ]
  },
  {
   "cell_type": "code",
   "execution_count": 141,
   "metadata": {},
   "outputs": [
    {
     "data": {
      "text/plain": [
       "array([[0.03448091, 0.96551909]])"
      ]
     },
     "execution_count": 141,
     "metadata": {},
     "output_type": "execute_result"
    }
   ],
   "source": [
    "# make predictions of new data\n",
    "pipe_lb3.predict_proba(new_data)"
   ]
  },
  {
   "cell_type": "code",
   "execution_count": 142,
   "metadata": {},
   "outputs": [
    {
     "data": {
      "text/plain": [
       "array([1], dtype=int64)"
      ]
     },
     "execution_count": 142,
     "metadata": {},
     "output_type": "execute_result"
    }
   ],
   "source": [
    "# class result of prediction\n",
    "pipe_lb3.predict(new_data)"
   ]
  },
  {
   "attachments": {},
   "cell_type": "markdown",
   "metadata": {},
   "source": [
    "Predicting target of a relationship with a 96.6% probability, based on the model trained on the non tinder user dataset, and the new data. The overall F1 score of the model is good, so the results have good credibility. "
   ]
  },
  {
   "cell_type": "markdown",
   "metadata": {},
   "source": [
    "## Save model to JSON"
   ]
  },
  {
   "cell_type": "markdown",
   "metadata": {},
   "source": [
    "# Save model as json \n",
    "tinder_users_json = xgbc5.to_json()\n",
    "with open(\"model.json\", \"w\") as json_file:\n",
    "    json_file.write(tinder_users_json)"
   ]
  },
  {
   "cell_type": "code",
   "execution_count": 143,
   "metadata": {},
   "outputs": [],
   "source": [
    "# Save the pipeline as a binary file\n",
    "# joblib.dump(pipe_lb, 'full_model.joblib')"
   ]
  },
  {
   "cell_type": "code",
   "execution_count": 144,
   "metadata": {},
   "outputs": [],
   "source": [
    "# Save the pipeline as a binary file\n",
    "# joblib.dump(pipe_xg2, 'tinder_users_model.joblib')\n"
   ]
  },
  {
   "cell_type": "code",
   "execution_count": 145,
   "metadata": {},
   "outputs": [],
   "source": [
    "# Save the pipeline as a binary file\n",
    "# joblib.dump(pipe_lb3, 'non_users_model.joblib')"
   ]
  },
  {
   "cell_type": "code",
   "execution_count": 146,
   "metadata": {},
   "outputs": [],
   "source": [
    "# Load the pipeline from the binary file\n",
    "full_model = joblib.load('ML Models/full_model.joblib')\n",
    "tinder_user_model = joblib.load('ML Models/tinder_users_model.joblib')\n",
    "non_user_model = joblib.load('ML Models/non_users_model.joblib')"
   ]
  },
  {
   "cell_type": "markdown",
   "metadata": {},
   "source": [
    "## Conclusion"
   ]
  },
  {
   "attachments": {},
   "cell_type": "markdown",
   "metadata": {},
   "source": [
    "We conducted EDA on the tinder dataset and highlighted some trends. We found more relationships with those that used tinder, compared to those that did not use tinder. This occurrence was confirmed with hypothesis testing, which suggested the relationship occurrences were different among tinder users and non users. \n",
    "\n",
    "We then created a machine learning model to predict the relationship status of an individual, based on a few self reported features, and two average features set by values extracted from the dataset. Initially, the dataset was split into three groups: the full dataset, tinder users, and non users. The full dataset model had the best F1 score, while the non users model came a close second. A good F1 score suggests the model has good precision and recall, in other words, good at predicting both positive and negative classes. The tinder users model had an average F1 score, so the model does not accurately predict both the positive and negative classes. This was due to the small nature of the tinder dataset, which also left very little data to test the model. "
   ]
  }
 ],
 "metadata": {
  "kernelspec": {
   "display_name": "base",
   "language": "python",
   "name": "python3"
  },
  "language_info": {
   "codemirror_mode": {
    "name": "ipython",
    "version": 3
   },
   "file_extension": ".py",
   "mimetype": "text/x-python",
   "name": "python",
   "nbconvert_exporter": "python",
   "pygments_lexer": "ipython3",
   "version": "3.9.12"
  },
  "orig_nbformat": 4,
  "vscode": {
   "interpreter": {
    "hash": "4f2b0cfe12c109b58467a02dc33230d9e6228c23b43020d2941c37e2a7dfdd3f"
   }
  }
 },
 "nbformat": 4,
 "nbformat_minor": 2
}
